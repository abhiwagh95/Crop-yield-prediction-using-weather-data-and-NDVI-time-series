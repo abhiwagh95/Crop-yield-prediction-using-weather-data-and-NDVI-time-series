{
 "cells": [
  {
   "cell_type": "code",
   "execution_count": 115,
   "metadata": {},
   "outputs": [],
   "source": [
    "#Importing Packages\n",
    "import pandas as pd\n",
    "import numpy as np\n",
    "import matplotlib.pyplot as plt\n",
    "import seaborn as sns\n",
    "%matplotlib inline\n",
    "from sklearn.metrics import mean_squared_error,r2_score"
   ]
  },
  {
   "cell_type": "code",
   "execution_count": 116,
   "metadata": {},
   "outputs": [],
   "source": [
    "#Importing Dataset\n",
    "maxw=pd.read_csv(\"C:/Users/Abhishek Wagh/Desktop/MTech_Project/Sugarcane/Phase1/csv/MaxWind/MaxWind.csv\")"
   ]
  },
  {
   "cell_type": "code",
   "execution_count": 117,
   "metadata": {},
   "outputs": [
    {
     "data": {
      "text/html": [
       "<div>\n",
       "<style scoped>\n",
       "    .dataframe tbody tr th:only-of-type {\n",
       "        vertical-align: middle;\n",
       "    }\n",
       "\n",
       "    .dataframe tbody tr th {\n",
       "        vertical-align: top;\n",
       "    }\n",
       "\n",
       "    .dataframe thead th {\n",
       "        text-align: right;\n",
       "    }\n",
       "</style>\n",
       "<table border=\"1\" class=\"dataframe\">\n",
       "  <thead>\n",
       "    <tr style=\"text-align: right;\">\n",
       "      <th></th>\n",
       "      <th>Year</th>\n",
       "      <th>Month</th>\n",
       "      <th>maxws_past</th>\n",
       "      <th>maxws_pasttopast</th>\n",
       "      <th>MaxWindSpeed</th>\n",
       "    </tr>\n",
       "  </thead>\n",
       "  <tbody>\n",
       "    <tr>\n",
       "      <td>0</td>\n",
       "      <td>2002</td>\n",
       "      <td>1</td>\n",
       "      <td>4.07</td>\n",
       "      <td>4.99</td>\n",
       "      <td>5.08</td>\n",
       "    </tr>\n",
       "    <tr>\n",
       "      <td>1</td>\n",
       "      <td>2002</td>\n",
       "      <td>2</td>\n",
       "      <td>4.04</td>\n",
       "      <td>4.85</td>\n",
       "      <td>4.31</td>\n",
       "    </tr>\n",
       "    <tr>\n",
       "      <td>2</td>\n",
       "      <td>2002</td>\n",
       "      <td>3</td>\n",
       "      <td>5.69</td>\n",
       "      <td>4.93</td>\n",
       "      <td>5.04</td>\n",
       "    </tr>\n",
       "    <tr>\n",
       "      <td>3</td>\n",
       "      <td>2002</td>\n",
       "      <td>4</td>\n",
       "      <td>5.00</td>\n",
       "      <td>6.02</td>\n",
       "      <td>5.22</td>\n",
       "    </tr>\n",
       "    <tr>\n",
       "      <td>4</td>\n",
       "      <td>2002</td>\n",
       "      <td>5</td>\n",
       "      <td>7.74</td>\n",
       "      <td>7.13</td>\n",
       "      <td>7.42</td>\n",
       "    </tr>\n",
       "    <tr>\n",
       "      <td>...</td>\n",
       "      <td>...</td>\n",
       "      <td>...</td>\n",
       "      <td>...</td>\n",
       "      <td>...</td>\n",
       "      <td>...</td>\n",
       "    </tr>\n",
       "    <tr>\n",
       "      <td>211</td>\n",
       "      <td>2019</td>\n",
       "      <td>8</td>\n",
       "      <td>10.20</td>\n",
       "      <td>7.80</td>\n",
       "      <td>7.80</td>\n",
       "    </tr>\n",
       "    <tr>\n",
       "      <td>212</td>\n",
       "      <td>2019</td>\n",
       "      <td>9</td>\n",
       "      <td>5.46</td>\n",
       "      <td>4.55</td>\n",
       "      <td>4.55</td>\n",
       "    </tr>\n",
       "    <tr>\n",
       "      <td>213</td>\n",
       "      <td>2019</td>\n",
       "      <td>10</td>\n",
       "      <td>4.46</td>\n",
       "      <td>3.56</td>\n",
       "      <td>3.56</td>\n",
       "    </tr>\n",
       "    <tr>\n",
       "      <td>214</td>\n",
       "      <td>2019</td>\n",
       "      <td>11</td>\n",
       "      <td>4.48</td>\n",
       "      <td>4.24</td>\n",
       "      <td>4.24</td>\n",
       "    </tr>\n",
       "    <tr>\n",
       "      <td>215</td>\n",
       "      <td>2019</td>\n",
       "      <td>12</td>\n",
       "      <td>4.64</td>\n",
       "      <td>4.96</td>\n",
       "      <td>4.96</td>\n",
       "    </tr>\n",
       "  </tbody>\n",
       "</table>\n",
       "<p>216 rows × 5 columns</p>\n",
       "</div>"
      ],
      "text/plain": [
       "     Year  Month  maxws_past  maxws_pasttopast  MaxWindSpeed\n",
       "0    2002      1        4.07              4.99          5.08\n",
       "1    2002      2        4.04              4.85          4.31\n",
       "2    2002      3        5.69              4.93          5.04\n",
       "3    2002      4        5.00              6.02          5.22\n",
       "4    2002      5        7.74              7.13          7.42\n",
       "..    ...    ...         ...               ...           ...\n",
       "211  2019      8       10.20              7.80          7.80\n",
       "212  2019      9        5.46              4.55          4.55\n",
       "213  2019     10        4.46              3.56          3.56\n",
       "214  2019     11        4.48              4.24          4.24\n",
       "215  2019     12        4.64              4.96          4.96\n",
       "\n",
       "[216 rows x 5 columns]"
      ]
     },
     "execution_count": 117,
     "metadata": {},
     "output_type": "execute_result"
    }
   ],
   "source": [
    "maxw"
   ]
  },
  {
   "cell_type": "code",
   "execution_count": 118,
   "metadata": {},
   "outputs": [
    {
     "name": "stdout",
     "output_type": "stream",
     "text": [
      "<class 'pandas.core.frame.DataFrame'>\n",
      "RangeIndex: 216 entries, 0 to 215\n",
      "Data columns (total 5 columns):\n",
      "Year                216 non-null int64\n",
      "Month               216 non-null int64\n",
      "maxws_past          216 non-null float64\n",
      "maxws_pasttopast    216 non-null float64\n",
      "MaxWindSpeed        216 non-null float64\n",
      "dtypes: float64(3), int64(2)\n",
      "memory usage: 8.6 KB\n"
     ]
    }
   ],
   "source": [
    "maxw.info()"
   ]
  },
  {
   "cell_type": "code",
   "execution_count": 119,
   "metadata": {},
   "outputs": [
    {
     "data": {
      "text/html": [
       "<div>\n",
       "<style scoped>\n",
       "    .dataframe tbody tr th:only-of-type {\n",
       "        vertical-align: middle;\n",
       "    }\n",
       "\n",
       "    .dataframe tbody tr th {\n",
       "        vertical-align: top;\n",
       "    }\n",
       "\n",
       "    .dataframe thead th {\n",
       "        text-align: right;\n",
       "    }\n",
       "</style>\n",
       "<table border=\"1\" class=\"dataframe\">\n",
       "  <thead>\n",
       "    <tr style=\"text-align: right;\">\n",
       "      <th></th>\n",
       "      <th>Year</th>\n",
       "      <th>Month</th>\n",
       "      <th>maxws_past</th>\n",
       "      <th>maxws_pasttopast</th>\n",
       "      <th>MaxWindSpeed</th>\n",
       "    </tr>\n",
       "  </thead>\n",
       "  <tbody>\n",
       "    <tr>\n",
       "      <td>Year</td>\n",
       "      <td>1.000000</td>\n",
       "      <td>0.000000</td>\n",
       "      <td>-0.026786</td>\n",
       "      <td>-0.018468</td>\n",
       "      <td>-0.030198</td>\n",
       "    </tr>\n",
       "    <tr>\n",
       "      <td>Month</td>\n",
       "      <td>0.000000</td>\n",
       "      <td>1.000000</td>\n",
       "      <td>0.044938</td>\n",
       "      <td>0.029974</td>\n",
       "      <td>0.039171</td>\n",
       "    </tr>\n",
       "    <tr>\n",
       "      <td>maxws_past</td>\n",
       "      <td>-0.026786</td>\n",
       "      <td>0.044938</td>\n",
       "      <td>1.000000</td>\n",
       "      <td>0.894637</td>\n",
       "      <td>0.898669</td>\n",
       "    </tr>\n",
       "    <tr>\n",
       "      <td>maxws_pasttopast</td>\n",
       "      <td>-0.018468</td>\n",
       "      <td>0.029974</td>\n",
       "      <td>0.894637</td>\n",
       "      <td>1.000000</td>\n",
       "      <td>0.899542</td>\n",
       "    </tr>\n",
       "    <tr>\n",
       "      <td>MaxWindSpeed</td>\n",
       "      <td>-0.030198</td>\n",
       "      <td>0.039171</td>\n",
       "      <td>0.898669</td>\n",
       "      <td>0.899542</td>\n",
       "      <td>1.000000</td>\n",
       "    </tr>\n",
       "  </tbody>\n",
       "</table>\n",
       "</div>"
      ],
      "text/plain": [
       "                      Year     Month  maxws_past  maxws_pasttopast  \\\n",
       "Year              1.000000  0.000000   -0.026786         -0.018468   \n",
       "Month             0.000000  1.000000    0.044938          0.029974   \n",
       "maxws_past       -0.026786  0.044938    1.000000          0.894637   \n",
       "maxws_pasttopast -0.018468  0.029974    0.894637          1.000000   \n",
       "MaxWindSpeed     -0.030198  0.039171    0.898669          0.899542   \n",
       "\n",
       "                  MaxWindSpeed  \n",
       "Year                 -0.030198  \n",
       "Month                 0.039171  \n",
       "maxws_past            0.898669  \n",
       "maxws_pasttopast      0.899542  \n",
       "MaxWindSpeed          1.000000  "
      ]
     },
     "execution_count": 119,
     "metadata": {},
     "output_type": "execute_result"
    }
   ],
   "source": [
    "#Creating correlation for precipitation\n",
    "#Creating the correlation matrix for the features\n",
    "corr_matrix=maxw.corr()\n",
    "corr_matrix"
   ]
  },
  {
   "cell_type": "code",
   "execution_count": 120,
   "metadata": {},
   "outputs": [],
   "source": [
    "mask = np.zeros_like(corr_matrix, dtype=np.bool)\n",
    "mask[np.triu_indices_from(mask)]= True"
   ]
  },
  {
   "cell_type": "code",
   "execution_count": 121,
   "metadata": {},
   "outputs": [
    {
     "data": {
      "image/png": "[encoded data removed]",
      "text/plain": [
       "<Figure size 360x288 with 2 Axes>"
      ]
     },
     "metadata": {
      "needs_background": "light"
     },
     "output_type": "display_data"
    }
   ],
   "source": [
    "f, ax = plt.subplots(figsize=(5, 4)) \n",
    "heatmap = sns.heatmap(corr_matrix, mask = mask,square = True,linewidths = .5, cmap = 'coolwarm', cbar_kws = {'shrink': .4, 'ticks' : [-1, -.5, 0, 0.5, 1]},vmin = -1, vmax = 1,annot = True,annot_kws = {'size': 12})\n",
    "#add the column names as labels\n",
    "ax.set_yticklabels(corr_matrix.columns, rotation = 0)\n",
    "ax.set_xticklabels(corr_matrix.columns)\n",
    "sns.set_style({'xtick.bottom': True}, {'ytick.left': True})"
   ]
  },
  {
   "cell_type": "code",
   "execution_count": 122,
   "metadata": {},
   "outputs": [],
   "source": [
    "maxw=maxw.drop(['Year'],axis=1)"
   ]
  },
  {
   "cell_type": "code",
   "execution_count": 123,
   "metadata": {},
   "outputs": [
    {
     "data": {
      "text/plain": [
       "(216, 4)"
      ]
     },
     "execution_count": 123,
     "metadata": {},
     "output_type": "execute_result"
    }
   ],
   "source": [
    "maxw.shape"
   ]
  },
  {
   "cell_type": "code",
   "execution_count": 124,
   "metadata": {},
   "outputs": [],
   "source": [
    "maxw=maxw.iloc[:,:].values"
   ]
  },
  {
   "cell_type": "code",
   "execution_count": 125,
   "metadata": {},
   "outputs": [
    {
     "data": {
      "text/plain": [
       "array([[ 1.  ,  4.07,  4.99,  5.08],\n",
       "       [ 2.  ,  4.04,  4.85,  4.31],\n",
       "       [ 3.  ,  5.69,  4.93,  5.04],\n",
       "       [ 4.  ,  5.  ,  6.02,  5.22],\n",
       "       [ 5.  ,  7.74,  7.13,  7.42],\n",
       "       [ 6.  ,  9.72,  7.76,  8.02],\n",
       "       [ 7.  , 10.02,  9.38,  9.52],\n",
       "       [ 8.  ,  8.61,  8.11,  8.96],\n",
       "       [ 9.  ,  4.46,  5.61,  5.59],\n",
       "       [10.  ,  5.28,  3.33,  4.84],\n",
       "       [11.  ,  4.82,  4.19,  4.55],\n",
       "       [12.  ,  4.68,  5.18,  4.14],\n",
       "       [ 1.  ,  5.08,  4.07,  4.72],\n",
       "       [ 2.  ,  4.31,  4.04,  4.29],\n",
       "       [ 3.  ,  5.04,  5.69,  4.65],\n",
       "       [ 4.  ,  5.22,  5.  ,  5.01],\n",
       "       [ 5.  ,  7.42,  7.74,  7.63],\n",
       "       [ 6.  ,  8.02,  9.72,  8.7 ],\n",
       "       [ 7.  ,  9.52, 10.02,  8.81],\n",
       "       [ 8.  ,  8.96,  8.61,  8.52],\n",
       "       [ 9.  ,  5.59,  4.46,  6.93],\n",
       "       [10.  ,  4.84,  5.28,  4.28],\n",
       "       [11.  ,  4.55,  4.82,  4.81],\n",
       "       [12.  ,  4.14,  4.68,  4.77],\n",
       "       [ 1.  ,  4.72,  5.08,  4.82],\n",
       "       [ 2.  ,  4.29,  4.31,  4.38],\n",
       "       [ 3.  ,  4.65,  5.04,  4.74],\n",
       "       [ 4.  ,  5.01,  5.22,  5.58],\n",
       "       [ 5.  ,  7.63,  7.42,  6.62],\n",
       "       [ 6.  ,  8.7 ,  8.02,  8.79],\n",
       "       [ 7.  ,  8.81,  9.52,  7.81],\n",
       "       [ 8.  ,  8.52,  8.96, 10.26],\n",
       "       [ 9.  ,  6.93,  5.59,  4.95],\n",
       "       [10.  ,  4.28,  4.84,  4.52],\n",
       "       [11.  ,  4.81,  4.55,  4.96],\n",
       "       [12.  ,  4.77,  4.14,  4.7 ],\n",
       "       [ 1.  ,  4.82,  4.72,  4.31],\n",
       "       [ 2.  ,  4.38,  4.29,  4.81],\n",
       "       [ 3.  ,  4.74,  4.65,  5.17],\n",
       "       [ 4.  ,  5.58,  5.01,  4.86],\n",
       "       [ 5.  ,  6.62,  7.63,  6.57],\n",
       "       [ 6.  ,  8.79,  8.7 ,  8.54],\n",
       "       [ 7.  ,  7.81,  8.81,  9.05],\n",
       "       [ 8.  , 10.26,  8.52,  8.4 ],\n",
       "       [ 9.  ,  4.95,  6.93,  6.64],\n",
       "       [10.  ,  4.52,  4.28,  4.52],\n",
       "       [11.  ,  4.96,  4.81,  5.14],\n",
       "       [12.  ,  4.7 ,  4.77,  4.22],\n",
       "       [ 1.  ,  4.31,  4.82,  4.73],\n",
       "       [ 2.  ,  4.81,  4.38,  4.61],\n",
       "       [ 3.  ,  5.17,  4.74,  5.13],\n",
       "       [ 4.  ,  4.86,  5.58,  5.61],\n",
       "       [ 5.  ,  6.57,  6.62,  6.68],\n",
       "       [ 6.  ,  8.54,  8.79,  6.96],\n",
       "       [ 7.  ,  9.05,  7.81, 11.15],\n",
       "       [ 8.  ,  8.4 , 10.26,  9.79],\n",
       "       [ 9.  ,  6.64,  4.95,  4.71],\n",
       "       [10.  ,  4.52,  4.52,  4.69],\n",
       "       [11.  ,  5.14,  4.96,  4.44],\n",
       "       [12.  ,  4.22,  4.7 ,  4.74],\n",
       "       [ 1.  ,  4.73,  4.31,  4.19],\n",
       "       [ 2.  ,  4.61,  4.81,  4.96],\n",
       "       [ 3.  ,  5.13,  5.17,  5.21],\n",
       "       [ 4.  ,  5.61,  4.86,  4.46],\n",
       "       [ 5.  ,  6.68,  6.57,  7.16],\n",
       "       [ 6.  ,  6.96,  8.54,  7.96],\n",
       "       [ 7.  , 11.15,  9.05,  8.86],\n",
       "       [ 8.  ,  9.79,  8.4 ,  8.6 ],\n",
       "       [ 9.  ,  4.71,  6.64,  6.17],\n",
       "       [10.  ,  4.69,  4.52,  4.25],\n",
       "       [11.  ,  4.44,  5.14,  4.94],\n",
       "       [12.  ,  4.74,  4.22,  4.65],\n",
       "       [ 1.  ,  4.19,  4.73,  4.65],\n",
       "       [ 2.  ,  4.96,  4.61,  4.47],\n",
       "       [ 3.  ,  5.21,  5.13,  4.3 ],\n",
       "       [ 4.  ,  4.46,  5.61,  5.09],\n",
       "       [ 5.  ,  7.16,  6.68,  7.8 ],\n",
       "       [ 6.  ,  7.96,  6.96,  9.47],\n",
       "       [ 7.  ,  8.86, 11.15,  8.81],\n",
       "       [ 8.  ,  8.6 ,  9.79,  7.71],\n",
       "       [ 9.  ,  6.17,  4.71,  5.63],\n",
       "       [10.  ,  4.25,  4.69,  4.44],\n",
       "       [11.  ,  4.94,  4.44,  5.22],\n",
       "       [12.  ,  4.65,  4.74,  4.33],\n",
       "       [ 1.  ,  4.65,  4.19,  4.9 ],\n",
       "       [ 2.  ,  4.47,  4.96,  4.01],\n",
       "       [ 3.  ,  4.3 ,  5.21,  4.57],\n",
       "       [ 4.  ,  5.09,  4.46,  5.35],\n",
       "       [ 5.  ,  7.8 ,  7.16,  6.98],\n",
       "       [ 6.  ,  9.47,  7.96,  7.72],\n",
       "       [ 7.  ,  8.81,  8.86, 11.08],\n",
       "       [ 8.  ,  7.71,  8.6 ,  7.4 ],\n",
       "       [ 9.  ,  5.63,  6.17,  4.95],\n",
       "       [10.  ,  4.44,  4.25,  4.74],\n",
       "       [11.  ,  5.22,  4.94,  5.15],\n",
       "       [12.  ,  4.33,  4.65,  4.4 ],\n",
       "       [ 1.  ,  4.9 ,  4.65,  4.71],\n",
       "       [ 2.  ,  4.01,  4.47,  4.63],\n",
       "       [ 3.  ,  4.57,  4.3 ,  4.9 ],\n",
       "       [ 4.  ,  5.35,  5.09,  5.09],\n",
       "       [ 5.  ,  6.98,  7.8 ,  7.16],\n",
       "       [ 6.  ,  7.72,  9.47,  7.16],\n",
       "       [ 7.  , 11.08,  8.81,  8.56],\n",
       "       [ 8.  ,  7.4 ,  7.71,  7.34],\n",
       "       [ 9.  ,  4.95,  5.63,  5.48],\n",
       "       [10.  ,  4.74,  4.44,  4.39],\n",
       "       [11.  ,  5.15,  5.22,  4.67],\n",
       "       [12.  ,  4.4 ,  4.33,  4.61],\n",
       "       [ 1.  ,  4.71,  4.9 ,  4.29],\n",
       "       [ 2.  ,  4.63,  4.01,  4.93],\n",
       "       [ 3.  ,  4.9 ,  4.57,  4.96],\n",
       "       [ 4.  ,  5.09,  5.35,  4.86],\n",
       "       [ 5.  ,  7.16,  6.98,  6.79],\n",
       "       [ 6.  ,  7.16,  7.72,  9.78],\n",
       "       [ 7.  ,  8.56, 11.08,  9.42],\n",
       "       [ 8.  ,  7.34,  7.4 ,  8.73],\n",
       "       [ 9.  ,  5.48,  4.95,  6.8 ],\n",
       "       [10.  ,  4.39,  4.74,  4.44],\n",
       "       [11.  ,  4.67,  5.15,  5.45],\n",
       "       [12.  ,  4.61,  4.4 ,  4.56],\n",
       "       [ 1.  ,  4.29,  4.71,  4.66],\n",
       "       [ 2.  ,  4.93,  4.63,  4.67],\n",
       "       [ 3.  ,  4.96,  4.9 ,  4.95],\n",
       "       [ 4.  ,  4.86,  5.09,  5.18],\n",
       "       [ 5.  ,  6.79,  7.16,  7.43],\n",
       "       [ 6.  ,  9.78,  7.16,  8.6 ],\n",
       "       [ 7.  ,  9.42,  8.56,  9.33],\n",
       "       [ 8.  ,  8.73,  7.34,  9.13],\n",
       "       [ 9.  ,  6.8 ,  5.48,  6.96],\n",
       "       [10.  ,  4.44,  4.39,  4.57],\n",
       "       [11.  ,  5.45,  4.67,  3.94],\n",
       "       [12.  ,  4.56,  4.61,  4.87],\n",
       "       [ 1.  ,  4.66,  4.29,  4.32],\n",
       "       [ 2.  ,  4.67,  4.93,  4.93],\n",
       "       [ 3.  ,  4.95,  4.96,  5.16],\n",
       "       [ 4.  ,  5.18,  4.86,  6.13],\n",
       "       [ 5.  ,  7.43,  6.79,  7.52],\n",
       "       [ 6.  ,  8.6 ,  9.78,  9.08],\n",
       "       [ 7.  ,  9.33,  9.42, 10.62],\n",
       "       [ 8.  ,  9.13,  8.73,  8.28],\n",
       "       [ 9.  ,  6.96,  6.8 ,  5.72],\n",
       "       [10.  ,  4.57,  4.44,  4.87],\n",
       "       [11.  ,  3.94,  5.45,  4.76],\n",
       "       [12.  ,  4.87,  4.56,  4.76],\n",
       "       [ 1.  ,  4.32,  4.66,  5.52],\n",
       "       [ 2.  ,  4.93,  4.67,  5.33],\n",
       "       [ 3.  ,  5.16,  4.95,  5.07],\n",
       "       [ 4.  ,  6.13,  5.18,  4.81],\n",
       "       [ 5.  ,  7.52,  7.43,  5.87],\n",
       "       [ 6.  ,  9.08,  8.6 ,  8.66],\n",
       "       [ 7.  , 10.62,  9.33, 10.18],\n",
       "       [ 8.  ,  8.28,  9.13,  7.37],\n",
       "       [ 9.  ,  5.72,  6.96,  6.37],\n",
       "       [10.  ,  4.87,  4.57,  4.32],\n",
       "       [11.  ,  4.76,  3.94,  4.62],\n",
       "       [12.  ,  4.76,  4.87,  4.47],\n",
       "       [ 1.  ,  5.52,  4.32,  4.68],\n",
       "       [ 2.  ,  5.33,  4.93,  4.9 ],\n",
       "       [ 3.  ,  5.07,  5.16,  5.07],\n",
       "       [ 4.  ,  4.81,  6.13,  5.06],\n",
       "       [ 5.  ,  5.87,  7.52,  6.2 ],\n",
       "       [ 6.  ,  8.66,  9.08,  8.44],\n",
       "       [ 7.  , 10.18, 10.62,  9.56],\n",
       "       [ 8.  ,  7.37,  8.28,  7.36],\n",
       "       [ 9.  ,  6.37,  5.72,  4.88],\n",
       "       [10.  ,  4.32,  4.87,  4.07],\n",
       "       [11.  ,  4.62,  4.76,  5.26],\n",
       "       [12.  ,  4.47,  4.76,  4.62],\n",
       "       [ 1.  ,  4.68,  5.52,  4.31],\n",
       "       [ 2.  ,  4.9 ,  5.33,  4.62],\n",
       "       [ 3.  ,  5.07,  5.07,  4.75],\n",
       "       [ 4.  ,  5.06,  4.81,  5.67],\n",
       "       [ 5.  ,  6.2 ,  5.87,  6.94],\n",
       "       [ 6.  ,  8.44,  8.66,  7.76],\n",
       "       [ 7.  ,  9.56, 10.18,  8.58],\n",
       "       [ 8.  ,  7.36,  7.37,  9.04],\n",
       "       [ 9.  ,  4.88,  6.37,  6.39],\n",
       "       [10.  ,  4.07,  4.32,  4.05],\n",
       "       [11.  ,  5.26,  4.62,  4.3 ],\n",
       "       [12.  ,  4.62,  4.47,  4.38],\n",
       "       [ 1.  ,  4.31,  4.68,  4.31],\n",
       "       [ 2.  ,  4.62,  4.9 ,  4.87],\n",
       "       [ 3.  ,  4.75,  5.07,  4.72],\n",
       "       [ 4.  ,  5.67,  5.06,  5.68],\n",
       "       [ 5.  ,  6.94,  6.2 ,  6.48],\n",
       "       [ 6.  ,  7.76,  8.44,  7.78],\n",
       "       [ 7.  ,  8.58,  9.56, 10.36],\n",
       "       [ 8.  ,  9.04,  7.36,  7.8 ],\n",
       "       [ 9.  ,  6.39,  4.88,  4.55],\n",
       "       [10.  ,  4.05,  4.07,  3.56],\n",
       "       [11.  ,  4.3 ,  5.26,  4.24],\n",
       "       [12.  ,  4.38,  4.62,  4.96],\n",
       "       [ 1.  ,  4.31,  4.31,  3.93],\n",
       "       [ 2.  ,  4.87,  4.62,  4.11],\n",
       "       [ 3.  ,  4.72,  4.75,  4.21],\n",
       "       [ 4.  ,  5.68,  5.67,  4.89],\n",
       "       [ 5.  ,  6.48,  6.94,  6.16],\n",
       "       [ 6.  ,  7.78,  7.76,  7.88],\n",
       "       [ 7.  , 10.36,  8.58, 10.57],\n",
       "       [ 8.  ,  7.8 ,  9.04, 10.2 ],\n",
       "       [ 9.  ,  4.55,  6.39,  5.46],\n",
       "       [10.  ,  3.56,  4.05,  4.46],\n",
       "       [11.  ,  4.24,  4.3 ,  4.48],\n",
       "       [12.  ,  4.96,  4.38,  4.64],\n",
       "       [ 1.  ,  3.93,  4.31,  4.31],\n",
       "       [ 2.  ,  4.11,  4.87,  4.87],\n",
       "       [ 3.  ,  4.21,  4.72,  4.72],\n",
       "       [ 4.  ,  4.89,  5.68,  5.68],\n",
       "       [ 5.  ,  6.16,  6.48,  6.48],\n",
       "       [ 6.  ,  7.88,  7.78,  7.78],\n",
       "       [ 7.  , 10.57, 10.36, 10.36],\n",
       "       [ 8.  , 10.2 ,  7.8 ,  7.8 ],\n",
       "       [ 9.  ,  5.46,  4.55,  4.55],\n",
       "       [10.  ,  4.46,  3.56,  3.56],\n",
       "       [11.  ,  4.48,  4.24,  4.24],\n",
       "       [12.  ,  4.64,  4.96,  4.96]])"
      ]
     },
     "execution_count": 125,
     "metadata": {},
     "output_type": "execute_result"
    }
   ],
   "source": [
    "maxw"
   ]
  },
  {
   "cell_type": "code",
   "execution_count": 126,
   "metadata": {},
   "outputs": [],
   "source": [
    "X=maxw[:,:-1]\n",
    "y=maxw[:,-1]"
   ]
  },
  {
   "cell_type": "code",
   "execution_count": 127,
   "metadata": {},
   "outputs": [
    {
     "data": {
      "text/plain": [
       "array([[ 1.  ,  4.07,  4.99],\n",
       "       [ 2.  ,  4.04,  4.85],\n",
       "       [ 3.  ,  5.69,  4.93],\n",
       "       [ 4.  ,  5.  ,  6.02],\n",
       "       [ 5.  ,  7.74,  7.13],\n",
       "       [ 6.  ,  9.72,  7.76],\n",
       "       [ 7.  , 10.02,  9.38],\n",
       "       [ 8.  ,  8.61,  8.11],\n",
       "       [ 9.  ,  4.46,  5.61],\n",
       "       [10.  ,  5.28,  3.33],\n",
       "       [11.  ,  4.82,  4.19],\n",
       "       [12.  ,  4.68,  5.18],\n",
       "       [ 1.  ,  5.08,  4.07],\n",
       "       [ 2.  ,  4.31,  4.04],\n",
       "       [ 3.  ,  5.04,  5.69],\n",
       "       [ 4.  ,  5.22,  5.  ],\n",
       "       [ 5.  ,  7.42,  7.74],\n",
       "       [ 6.  ,  8.02,  9.72],\n",
       "       [ 7.  ,  9.52, 10.02],\n",
       "       [ 8.  ,  8.96,  8.61],\n",
       "       [ 9.  ,  5.59,  4.46],\n",
       "       [10.  ,  4.84,  5.28],\n",
       "       [11.  ,  4.55,  4.82],\n",
       "       [12.  ,  4.14,  4.68],\n",
       "       [ 1.  ,  4.72,  5.08],\n",
       "       [ 2.  ,  4.29,  4.31],\n",
       "       [ 3.  ,  4.65,  5.04],\n",
       "       [ 4.  ,  5.01,  5.22],\n",
       "       [ 5.  ,  7.63,  7.42],\n",
       "       [ 6.  ,  8.7 ,  8.02],\n",
       "       [ 7.  ,  8.81,  9.52],\n",
       "       [ 8.  ,  8.52,  8.96],\n",
       "       [ 9.  ,  6.93,  5.59],\n",
       "       [10.  ,  4.28,  4.84],\n",
       "       [11.  ,  4.81,  4.55],\n",
       "       [12.  ,  4.77,  4.14],\n",
       "       [ 1.  ,  4.82,  4.72],\n",
       "       [ 2.  ,  4.38,  4.29],\n",
       "       [ 3.  ,  4.74,  4.65],\n",
       "       [ 4.  ,  5.58,  5.01],\n",
       "       [ 5.  ,  6.62,  7.63],\n",
       "       [ 6.  ,  8.79,  8.7 ],\n",
       "       [ 7.  ,  7.81,  8.81],\n",
       "       [ 8.  , 10.26,  8.52],\n",
       "       [ 9.  ,  4.95,  6.93],\n",
       "       [10.  ,  4.52,  4.28],\n",
       "       [11.  ,  4.96,  4.81],\n",
       "       [12.  ,  4.7 ,  4.77],\n",
       "       [ 1.  ,  4.31,  4.82],\n",
       "       [ 2.  ,  4.81,  4.38],\n",
       "       [ 3.  ,  5.17,  4.74],\n",
       "       [ 4.  ,  4.86,  5.58],\n",
       "       [ 5.  ,  6.57,  6.62],\n",
       "       [ 6.  ,  8.54,  8.79],\n",
       "       [ 7.  ,  9.05,  7.81],\n",
       "       [ 8.  ,  8.4 , 10.26],\n",
       "       [ 9.  ,  6.64,  4.95],\n",
       "       [10.  ,  4.52,  4.52],\n",
       "       [11.  ,  5.14,  4.96],\n",
       "       [12.  ,  4.22,  4.7 ],\n",
       "       [ 1.  ,  4.73,  4.31],\n",
       "       [ 2.  ,  4.61,  4.81],\n",
       "       [ 3.  ,  5.13,  5.17],\n",
       "       [ 4.  ,  5.61,  4.86],\n",
       "       [ 5.  ,  6.68,  6.57],\n",
       "       [ 6.  ,  6.96,  8.54],\n",
       "       [ 7.  , 11.15,  9.05],\n",
       "       [ 8.  ,  9.79,  8.4 ],\n",
       "       [ 9.  ,  4.71,  6.64],\n",
       "       [10.  ,  4.69,  4.52],\n",
       "       [11.  ,  4.44,  5.14],\n",
       "       [12.  ,  4.74,  4.22],\n",
       "       [ 1.  ,  4.19,  4.73],\n",
       "       [ 2.  ,  4.96,  4.61],\n",
       "       [ 3.  ,  5.21,  5.13],\n",
       "       [ 4.  ,  4.46,  5.61],\n",
       "       [ 5.  ,  7.16,  6.68],\n",
       "       [ 6.  ,  7.96,  6.96],\n",
       "       [ 7.  ,  8.86, 11.15],\n",
       "       [ 8.  ,  8.6 ,  9.79],\n",
       "       [ 9.  ,  6.17,  4.71],\n",
       "       [10.  ,  4.25,  4.69],\n",
       "       [11.  ,  4.94,  4.44],\n",
       "       [12.  ,  4.65,  4.74],\n",
       "       [ 1.  ,  4.65,  4.19],\n",
       "       [ 2.  ,  4.47,  4.96],\n",
       "       [ 3.  ,  4.3 ,  5.21],\n",
       "       [ 4.  ,  5.09,  4.46],\n",
       "       [ 5.  ,  7.8 ,  7.16],\n",
       "       [ 6.  ,  9.47,  7.96],\n",
       "       [ 7.  ,  8.81,  8.86],\n",
       "       [ 8.  ,  7.71,  8.6 ],\n",
       "       [ 9.  ,  5.63,  6.17],\n",
       "       [10.  ,  4.44,  4.25],\n",
       "       [11.  ,  5.22,  4.94],\n",
       "       [12.  ,  4.33,  4.65],\n",
       "       [ 1.  ,  4.9 ,  4.65],\n",
       "       [ 2.  ,  4.01,  4.47],\n",
       "       [ 3.  ,  4.57,  4.3 ],\n",
       "       [ 4.  ,  5.35,  5.09],\n",
       "       [ 5.  ,  6.98,  7.8 ],\n",
       "       [ 6.  ,  7.72,  9.47],\n",
       "       [ 7.  , 11.08,  8.81],\n",
       "       [ 8.  ,  7.4 ,  7.71],\n",
       "       [ 9.  ,  4.95,  5.63],\n",
       "       [10.  ,  4.74,  4.44],\n",
       "       [11.  ,  5.15,  5.22],\n",
       "       [12.  ,  4.4 ,  4.33],\n",
       "       [ 1.  ,  4.71,  4.9 ],\n",
       "       [ 2.  ,  4.63,  4.01],\n",
       "       [ 3.  ,  4.9 ,  4.57],\n",
       "       [ 4.  ,  5.09,  5.35],\n",
       "       [ 5.  ,  7.16,  6.98],\n",
       "       [ 6.  ,  7.16,  7.72],\n",
       "       [ 7.  ,  8.56, 11.08],\n",
       "       [ 8.  ,  7.34,  7.4 ],\n",
       "       [ 9.  ,  5.48,  4.95],\n",
       "       [10.  ,  4.39,  4.74],\n",
       "       [11.  ,  4.67,  5.15],\n",
       "       [12.  ,  4.61,  4.4 ],\n",
       "       [ 1.  ,  4.29,  4.71],\n",
       "       [ 2.  ,  4.93,  4.63],\n",
       "       [ 3.  ,  4.96,  4.9 ],\n",
       "       [ 4.  ,  4.86,  5.09],\n",
       "       [ 5.  ,  6.79,  7.16],\n",
       "       [ 6.  ,  9.78,  7.16],\n",
       "       [ 7.  ,  9.42,  8.56],\n",
       "       [ 8.  ,  8.73,  7.34],\n",
       "       [ 9.  ,  6.8 ,  5.48],\n",
       "       [10.  ,  4.44,  4.39],\n",
       "       [11.  ,  5.45,  4.67],\n",
       "       [12.  ,  4.56,  4.61],\n",
       "       [ 1.  ,  4.66,  4.29],\n",
       "       [ 2.  ,  4.67,  4.93],\n",
       "       [ 3.  ,  4.95,  4.96],\n",
       "       [ 4.  ,  5.18,  4.86],\n",
       "       [ 5.  ,  7.43,  6.79],\n",
       "       [ 6.  ,  8.6 ,  9.78],\n",
       "       [ 7.  ,  9.33,  9.42],\n",
       "       [ 8.  ,  9.13,  8.73],\n",
       "       [ 9.  ,  6.96,  6.8 ],\n",
       "       [10.  ,  4.57,  4.44],\n",
       "       [11.  ,  3.94,  5.45],\n",
       "       [12.  ,  4.87,  4.56],\n",
       "       [ 1.  ,  4.32,  4.66],\n",
       "       [ 2.  ,  4.93,  4.67],\n",
       "       [ 3.  ,  5.16,  4.95],\n",
       "       [ 4.  ,  6.13,  5.18],\n",
       "       [ 5.  ,  7.52,  7.43],\n",
       "       [ 6.  ,  9.08,  8.6 ],\n",
       "       [ 7.  , 10.62,  9.33],\n",
       "       [ 8.  ,  8.28,  9.13],\n",
       "       [ 9.  ,  5.72,  6.96],\n",
       "       [10.  ,  4.87,  4.57],\n",
       "       [11.  ,  4.76,  3.94],\n",
       "       [12.  ,  4.76,  4.87],\n",
       "       [ 1.  ,  5.52,  4.32],\n",
       "       [ 2.  ,  5.33,  4.93],\n",
       "       [ 3.  ,  5.07,  5.16],\n",
       "       [ 4.  ,  4.81,  6.13],\n",
       "       [ 5.  ,  5.87,  7.52],\n",
       "       [ 6.  ,  8.66,  9.08],\n",
       "       [ 7.  , 10.18, 10.62],\n",
       "       [ 8.  ,  7.37,  8.28],\n",
       "       [ 9.  ,  6.37,  5.72],\n",
       "       [10.  ,  4.32,  4.87],\n",
       "       [11.  ,  4.62,  4.76],\n",
       "       [12.  ,  4.47,  4.76],\n",
       "       [ 1.  ,  4.68,  5.52],\n",
       "       [ 2.  ,  4.9 ,  5.33],\n",
       "       [ 3.  ,  5.07,  5.07],\n",
       "       [ 4.  ,  5.06,  4.81],\n",
       "       [ 5.  ,  6.2 ,  5.87],\n",
       "       [ 6.  ,  8.44,  8.66],\n",
       "       [ 7.  ,  9.56, 10.18],\n",
       "       [ 8.  ,  7.36,  7.37],\n",
       "       [ 9.  ,  4.88,  6.37],\n",
       "       [10.  ,  4.07,  4.32],\n",
       "       [11.  ,  5.26,  4.62],\n",
       "       [12.  ,  4.62,  4.47],\n",
       "       [ 1.  ,  4.31,  4.68],\n",
       "       [ 2.  ,  4.62,  4.9 ],\n",
       "       [ 3.  ,  4.75,  5.07],\n",
       "       [ 4.  ,  5.67,  5.06],\n",
       "       [ 5.  ,  6.94,  6.2 ],\n",
       "       [ 6.  ,  7.76,  8.44],\n",
       "       [ 7.  ,  8.58,  9.56],\n",
       "       [ 8.  ,  9.04,  7.36],\n",
       "       [ 9.  ,  6.39,  4.88],\n",
       "       [10.  ,  4.05,  4.07],\n",
       "       [11.  ,  4.3 ,  5.26],\n",
       "       [12.  ,  4.38,  4.62],\n",
       "       [ 1.  ,  4.31,  4.31],\n",
       "       [ 2.  ,  4.87,  4.62],\n",
       "       [ 3.  ,  4.72,  4.75],\n",
       "       [ 4.  ,  5.68,  5.67],\n",
       "       [ 5.  ,  6.48,  6.94],\n",
       "       [ 6.  ,  7.78,  7.76],\n",
       "       [ 7.  , 10.36,  8.58],\n",
       "       [ 8.  ,  7.8 ,  9.04],\n",
       "       [ 9.  ,  4.55,  6.39],\n",
       "       [10.  ,  3.56,  4.05],\n",
       "       [11.  ,  4.24,  4.3 ],\n",
       "       [12.  ,  4.96,  4.38],\n",
       "       [ 1.  ,  3.93,  4.31],\n",
       "       [ 2.  ,  4.11,  4.87],\n",
       "       [ 3.  ,  4.21,  4.72],\n",
       "       [ 4.  ,  4.89,  5.68],\n",
       "       [ 5.  ,  6.16,  6.48],\n",
       "       [ 6.  ,  7.88,  7.78],\n",
       "       [ 7.  , 10.57, 10.36],\n",
       "       [ 8.  , 10.2 ,  7.8 ],\n",
       "       [ 9.  ,  5.46,  4.55],\n",
       "       [10.  ,  4.46,  3.56],\n",
       "       [11.  ,  4.48,  4.24],\n",
       "       [12.  ,  4.64,  4.96]])"
      ]
     },
     "execution_count": 127,
     "metadata": {},
     "output_type": "execute_result"
    }
   ],
   "source": [
    "X"
   ]
  },
  {
   "cell_type": "code",
   "execution_count": 128,
   "metadata": {},
   "outputs": [
    {
     "data": {
      "text/plain": [
       "array([ 5.08,  4.31,  5.04,  5.22,  7.42,  8.02,  9.52,  8.96,  5.59,\n",
       "        4.84,  4.55,  4.14,  4.72,  4.29,  4.65,  5.01,  7.63,  8.7 ,\n",
       "        8.81,  8.52,  6.93,  4.28,  4.81,  4.77,  4.82,  4.38,  4.74,\n",
       "        5.58,  6.62,  8.79,  7.81, 10.26,  4.95,  4.52,  4.96,  4.7 ,\n",
       "        4.31,  4.81,  5.17,  4.86,  6.57,  8.54,  9.05,  8.4 ,  6.64,\n",
       "        4.52,  5.14,  4.22,  4.73,  4.61,  5.13,  5.61,  6.68,  6.96,\n",
       "       11.15,  9.79,  4.71,  4.69,  4.44,  4.74,  4.19,  4.96,  5.21,\n",
       "        4.46,  7.16,  7.96,  8.86,  8.6 ,  6.17,  4.25,  4.94,  4.65,\n",
       "        4.65,  4.47,  4.3 ,  5.09,  7.8 ,  9.47,  8.81,  7.71,  5.63,\n",
       "        4.44,  5.22,  4.33,  4.9 ,  4.01,  4.57,  5.35,  6.98,  7.72,\n",
       "       11.08,  7.4 ,  4.95,  4.74,  5.15,  4.4 ,  4.71,  4.63,  4.9 ,\n",
       "        5.09,  7.16,  7.16,  8.56,  7.34,  5.48,  4.39,  4.67,  4.61,\n",
       "        4.29,  4.93,  4.96,  4.86,  6.79,  9.78,  9.42,  8.73,  6.8 ,\n",
       "        4.44,  5.45,  4.56,  4.66,  4.67,  4.95,  5.18,  7.43,  8.6 ,\n",
       "        9.33,  9.13,  6.96,  4.57,  3.94,  4.87,  4.32,  4.93,  5.16,\n",
       "        6.13,  7.52,  9.08, 10.62,  8.28,  5.72,  4.87,  4.76,  4.76,\n",
       "        5.52,  5.33,  5.07,  4.81,  5.87,  8.66, 10.18,  7.37,  6.37,\n",
       "        4.32,  4.62,  4.47,  4.68,  4.9 ,  5.07,  5.06,  6.2 ,  8.44,\n",
       "        9.56,  7.36,  4.88,  4.07,  5.26,  4.62,  4.31,  4.62,  4.75,\n",
       "        5.67,  6.94,  7.76,  8.58,  9.04,  6.39,  4.05,  4.3 ,  4.38,\n",
       "        4.31,  4.87,  4.72,  5.68,  6.48,  7.78, 10.36,  7.8 ,  4.55,\n",
       "        3.56,  4.24,  4.96,  3.93,  4.11,  4.21,  4.89,  6.16,  7.88,\n",
       "       10.57, 10.2 ,  5.46,  4.46,  4.48,  4.64,  4.31,  4.87,  4.72,\n",
       "        5.68,  6.48,  7.78, 10.36,  7.8 ,  4.55,  3.56,  4.24,  4.96])"
      ]
     },
     "execution_count": 128,
     "metadata": {},
     "output_type": "execute_result"
    }
   ],
   "source": [
    "y"
   ]
  },
  {
   "cell_type": "code",
   "execution_count": 129,
   "metadata": {},
   "outputs": [
    {
     "data": {
      "text/plain": [
       "(216, 3)"
      ]
     },
     "execution_count": 129,
     "metadata": {},
     "output_type": "execute_result"
    }
   ],
   "source": [
    "X.shape"
   ]
  },
  {
   "cell_type": "code",
   "execution_count": 130,
   "metadata": {},
   "outputs": [
    {
     "data": {
      "text/plain": [
       "(216,)"
      ]
     },
     "execution_count": 130,
     "metadata": {},
     "output_type": "execute_result"
    }
   ],
   "source": [
    "y.shape"
   ]
  },
  {
   "cell_type": "code",
   "execution_count": 131,
   "metadata": {},
   "outputs": [],
   "source": [
    "#train test split\n",
    "from sklearn.model_selection import train_test_split\n",
    "X_train,X_test,y_train,y_test=train_test_split(X,y,test_size=0.2,random_state=101)"
   ]
  },
  {
   "cell_type": "code",
   "execution_count": 132,
   "metadata": {},
   "outputs": [],
   "source": [
    "X_train,y_train=np.array(X_train),np.array(y_train)"
   ]
  },
  {
   "cell_type": "markdown",
   "metadata": {},
   "source": [
    "### Linear Regressor"
   ]
  },
  {
   "cell_type": "code",
   "execution_count": 133,
   "metadata": {},
   "outputs": [],
   "source": [
    "from sklearn.linear_model import LinearRegression,Lasso,Ridge"
   ]
  },
  {
   "cell_type": "code",
   "execution_count": 134,
   "metadata": {},
   "outputs": [],
   "source": [
    "li=LinearRegression()"
   ]
  },
  {
   "cell_type": "code",
   "execution_count": 135,
   "metadata": {},
   "outputs": [
    {
     "data": {
      "text/plain": [
       "LinearRegression(copy_X=True, fit_intercept=True, n_jobs=None, normalize=False)"
      ]
     },
     "execution_count": 135,
     "metadata": {},
     "output_type": "execute_result"
    }
   ],
   "source": [
    "li.fit(X_train,y_train)"
   ]
  },
  {
   "cell_type": "code",
   "execution_count": 136,
   "metadata": {},
   "outputs": [
    {
     "data": {
      "text/plain": [
       "array([4.89981724, 9.88168548, 4.64999272, 4.83397693, 4.42969057,\n",
       "       4.46705097, 5.20221526, 9.01154053, 8.80108676, 5.71511383,\n",
       "       4.82005969, 8.51979788, 4.1937135 , 4.84453581, 8.63362414,\n",
       "       4.84075134, 5.00673531, 7.3532495 , 7.95797963, 7.37987525,\n",
       "       4.62441728, 7.54608   , 5.10546811, 4.60838451, 8.53779895,\n",
       "       4.94452641, 5.01632942, 4.78518866, 5.58593976, 4.70795694,\n",
       "       4.63695311, 5.14429225, 9.43677593, 4.42245671, 4.38552396,\n",
       "       8.72999433, 8.29482974, 5.35953647, 4.67841891, 4.86153015,\n",
       "       5.04207832, 4.76865844, 4.70669754, 5.34191243])"
      ]
     },
     "execution_count": 136,
     "metadata": {},
     "output_type": "execute_result"
    }
   ],
   "source": [
    "Lir_ypred= li.predict(X_test)\n",
    "Lir_ypred"
   ]
  },
  {
   "cell_type": "code",
   "execution_count": 137,
   "metadata": {},
   "outputs": [
    {
     "name": "stdout",
     "output_type": "stream",
     "text": [
      "Mean squared Error: 0.55552357117773\n",
      "Root Mean Squared Error: 0.7453345364181979\n"
     ]
    }
   ],
   "source": [
    "#print('Mean Absolute Error:',mean_absolute_error(y_test,Lir_ypred))\n",
    "print('Mean squared Error:',mean_squared_error(y_test,Lir_ypred))\n",
    "print('Root Mean Squared Error:',np.sqrt(mean_squared_error(y_test,Lir_ypred)))\n",
    "#print('R2_Score:',r2_score(y_test,Lir_ypred))"
   ]
  },
  {
   "cell_type": "code",
   "execution_count": 138,
   "metadata": {},
   "outputs": [
    {
     "data": {
      "text/plain": [
       "0.8638301945764613"
      ]
     },
     "execution_count": 138,
     "metadata": {},
     "output_type": "execute_result"
    }
   ],
   "source": [
    "linear_r2_score=r2_score(y_test,Lir_ypred)\n",
    "linear_r2_score"
   ]
  },
  {
   "cell_type": "markdown",
   "metadata": {},
   "source": [
    "### Lasso Regressor"
   ]
  },
  {
   "cell_type": "code",
   "execution_count": 139,
   "metadata": {},
   "outputs": [
    {
     "data": {
      "text/plain": [
       "Lasso(alpha=0.0001, copy_X=True, fit_intercept=True, max_iter=1000,\n",
       "      normalize=False, positive=False, precompute=False, random_state=None,\n",
       "      selection='cyclic', tol=0.0001, warm_start=False)"
      ]
     },
     "execution_count": 139,
     "metadata": {},
     "output_type": "execute_result"
    }
   ],
   "source": [
    "#Lasso Regressor\n",
    "lass=Lasso(alpha=0.0001)\n",
    "lass.fit(X_train,y_train)"
   ]
  },
  {
   "cell_type": "code",
   "execution_count": 140,
   "metadata": {},
   "outputs": [],
   "source": [
    "Lass_ypred= lass.predict(X_test)"
   ]
  },
  {
   "cell_type": "code",
   "execution_count": 141,
   "metadata": {},
   "outputs": [
    {
     "name": "stdout",
     "output_type": "stream",
     "text": [
      "Mean squared Error: 0.5555599653111595\n",
      "Root Mean Squared Error: 0.7453589506480481\n",
      "R2_Score: 0.8638212736551453\n"
     ]
    }
   ],
   "source": [
    "print('Mean squared Error:',mean_squared_error(y_test,Lass_ypred))\n",
    "print('Root Mean Squared Error:',np.sqrt(mean_squared_error(y_test,Lass_ypred)))\n",
    "print('R2_Score:',r2_score(y_test,Lass_ypred))"
   ]
  },
  {
   "cell_type": "code",
   "execution_count": 142,
   "metadata": {},
   "outputs": [
    {
     "data": {
      "text/plain": [
       "0.8638212736551453"
      ]
     },
     "execution_count": 142,
     "metadata": {},
     "output_type": "execute_result"
    }
   ],
   "source": [
    "lasso_r2_score=r2_score(y_test,Lass_ypred)\n",
    "lasso_r2_score"
   ]
  },
  {
   "cell_type": "markdown",
   "metadata": {},
   "source": [
    "### Ridge Regressor"
   ]
  },
  {
   "cell_type": "code",
   "execution_count": 143,
   "metadata": {},
   "outputs": [
    {
     "data": {
      "text/plain": [
       "Ridge(alpha=0.0001, copy_X=True, fit_intercept=True, max_iter=None,\n",
       "      normalize=False, random_state=None, solver='auto', tol=0.001)"
      ]
     },
     "execution_count": 143,
     "metadata": {},
     "output_type": "execute_result"
    }
   ],
   "source": [
    "#RIdge\n",
    "rid=Ridge(alpha=0.0001)\n",
    "rid.fit(X_train,y_train)"
   ]
  },
  {
   "cell_type": "code",
   "execution_count": 144,
   "metadata": {},
   "outputs": [],
   "source": [
    "rid_ypred= rid.predict(X_test)"
   ]
  },
  {
   "cell_type": "code",
   "execution_count": 145,
   "metadata": {},
   "outputs": [
    {
     "name": "stdout",
     "output_type": "stream",
     "text": [
      "Mean squared Error: 0.5555236092475053\n",
      "Root Mean Squared Error: 0.7453345619569143\n"
     ]
    }
   ],
   "source": [
    "print('Mean squared Error:',mean_squared_error(y_test,rid_ypred))\n",
    "print('Root Mean Squared Error:',np.sqrt(mean_squared_error(y_test,rid_ypred)))\n",
    "#print('R2_Score:',r2_score(y_test,rid_ypred))"
   ]
  },
  {
   "cell_type": "code",
   "execution_count": 146,
   "metadata": {},
   "outputs": [
    {
     "data": {
      "text/plain": [
       "0.8638301852448069"
      ]
     },
     "execution_count": 146,
     "metadata": {},
     "output_type": "execute_result"
    }
   ],
   "source": [
    "ridge_r2_score=r2_score(y_test,rid_ypred)\n",
    "ridge_r2_score"
   ]
  },
  {
   "cell_type": "markdown",
   "metadata": {},
   "source": [
    "### Decision Tree Regressor"
   ]
  },
  {
   "cell_type": "code",
   "execution_count": 147,
   "metadata": {},
   "outputs": [],
   "source": [
    "#Decision Tree Regressor\n",
    "from sklearn.tree import DecisionTreeRegressor\n",
    "dt=DecisionTreeRegressor()"
   ]
  },
  {
   "cell_type": "code",
   "execution_count": 148,
   "metadata": {},
   "outputs": [
    {
     "data": {
      "text/plain": [
       "DecisionTreeRegressor(criterion='mse', max_depth=None, max_features=None,\n",
       "                      max_leaf_nodes=None, min_impurity_decrease=0.0,\n",
       "                      min_impurity_split=None, min_samples_leaf=1,\n",
       "                      min_samples_split=2, min_weight_fraction_leaf=0.0,\n",
       "                      presort=False, random_state=None, splitter='best')"
      ]
     },
     "execution_count": 148,
     "metadata": {},
     "output_type": "execute_result"
    }
   ],
   "source": [
    "dt.fit(X_train,y_train)"
   ]
  },
  {
   "cell_type": "code",
   "execution_count": 149,
   "metadata": {},
   "outputs": [],
   "source": [
    "dt_ypred= dt.predict(X_test)"
   ]
  },
  {
   "cell_type": "code",
   "execution_count": 150,
   "metadata": {},
   "outputs": [
    {
     "name": "stdout",
     "output_type": "stream",
     "text": [
      "Mean squared Error: 1.4316749999999998\n",
      "Root Mean Squared Error: 1.1965262220277497\n"
     ]
    }
   ],
   "source": [
    "print('Mean squared Error:',mean_squared_error(y_test,dt_ypred))\n",
    "print('Root Mean Squared Error:',np.sqrt(mean_squared_error(y_test,dt_ypred)))\n",
    "#print('R2_Score:',r2_score(y_test,dt_ypred))"
   ]
  },
  {
   "cell_type": "code",
   "execution_count": 151,
   "metadata": {},
   "outputs": [
    {
     "data": {
      "text/plain": [
       "0.6490681650709405"
      ]
     },
     "execution_count": 151,
     "metadata": {},
     "output_type": "execute_result"
    }
   ],
   "source": [
    "decisiontree_r2_score=r2_score(y_test,dt_ypred)\n",
    "decisiontree_r2_score"
   ]
  },
  {
   "cell_type": "markdown",
   "metadata": {},
   "source": [
    "### KNeighbour Regressor"
   ]
  },
  {
   "cell_type": "code",
   "execution_count": 152,
   "metadata": {},
   "outputs": [
    {
     "data": {
      "text/plain": [
       "KNeighborsRegressor(algorithm='auto', leaf_size=30, metric='minkowski',\n",
       "                    metric_params=None, n_jobs=None, n_neighbors=10, p=2,\n",
       "                    weights='uniform')"
      ]
     },
     "execution_count": 152,
     "metadata": {},
     "output_type": "execute_result"
    }
   ],
   "source": [
    "from sklearn.neighbors import KNeighborsRegressor\n",
    "\n",
    "kn=KNeighborsRegressor(n_neighbors=10)\n",
    "kn.fit(X_train,y_train)"
   ]
  },
  {
   "cell_type": "code",
   "execution_count": 153,
   "metadata": {},
   "outputs": [],
   "source": [
    "kn1_pred=kn.predict(X_test)"
   ]
  },
  {
   "cell_type": "code",
   "execution_count": 154,
   "metadata": {},
   "outputs": [
    {
     "name": "stdout",
     "output_type": "stream",
     "text": [
      "Mean squared Error: 0.45421668181818187\n",
      "Root Mean Squared Error: 0.6739559939774865\n"
     ]
    }
   ],
   "source": [
    "print('Mean squared Error:',mean_squared_error(y_test,kn1_pred))\n",
    "print('Root Mean Squared Error:',np.sqrt(mean_squared_error(y_test,kn1_pred)))\n",
    "#print('R2_Score:',r2_score(y_test,kn1_pred))"
   ]
  },
  {
   "cell_type": "code",
   "execution_count": 155,
   "metadata": {},
   "outputs": [
    {
     "data": {
      "text/plain": [
       "0.8886625151617208"
      ]
     },
     "execution_count": 155,
     "metadata": {},
     "output_type": "execute_result"
    }
   ],
   "source": [
    "kneighbour_r2_score=r2_score(y_test,kn1_pred)\n",
    "kneighbour_r2_score"
   ]
  },
  {
   "cell_type": "markdown",
   "metadata": {},
   "source": [
    "### SVR Regressor"
   ]
  },
  {
   "cell_type": "code",
   "execution_count": 156,
   "metadata": {},
   "outputs": [
    {
     "name": "stderr",
     "output_type": "stream",
     "text": [
      "C:\\ProgramData\\Anaconda3\\lib\\site-packages\\sklearn\\svm\\base.py:193: FutureWarning: The default value of gamma will change from 'auto' to 'scale' in version 0.22 to account better for unscaled features. Set gamma explicitly to 'auto' or 'scale' to avoid this warning.\n",
      "  \"avoid this warning.\", FutureWarning)\n"
     ]
    }
   ],
   "source": [
    "from sklearn.svm import SVR\n",
    "svr=SVR(kernel='rbf')\n",
    "svr.fit(X_train,y_train)\n",
    "svr_pred=svr.predict(X_test)"
   ]
  },
  {
   "cell_type": "code",
   "execution_count": 157,
   "metadata": {},
   "outputs": [
    {
     "name": "stdout",
     "output_type": "stream",
     "text": [
      "Mean squared Error: 0.745840829005134\n",
      "Root Mean Squared Error: 0.8636207668908467\n"
     ]
    }
   ],
   "source": [
    "print('Mean squared Error:',mean_squared_error(y_test,svr_pred))\n",
    "print('Root Mean Squared Error:',np.sqrt(mean_squared_error(y_test,svr_pred)))\n",
    "#print('R2_Score:',r2_score(y_test,svr_pred))"
   ]
  },
  {
   "cell_type": "code",
   "execution_count": 158,
   "metadata": {},
   "outputs": [
    {
     "data": {
      "text/plain": [
       "0.8171796736774878"
      ]
     },
     "execution_count": 158,
     "metadata": {},
     "output_type": "execute_result"
    }
   ],
   "source": [
    "svr_r2_score=r2_score(y_test,svr_pred)\n",
    "svr_r2_score"
   ]
  },
  {
   "cell_type": "markdown",
   "metadata": {},
   "source": [
    "### Random Forest Regressor"
   ]
  },
  {
   "cell_type": "code",
   "execution_count": 159,
   "metadata": {},
   "outputs": [],
   "source": [
    "from sklearn.ensemble import RandomForestRegressor"
   ]
  },
  {
   "cell_type": "code",
   "execution_count": 160,
   "metadata": {},
   "outputs": [],
   "source": [
    "rf = RandomForestRegressor(n_estimators = 1000, random_state = 42)\n",
    "rf.fit(X_train, y_train);"
   ]
  },
  {
   "cell_type": "code",
   "execution_count": 161,
   "metadata": {},
   "outputs": [],
   "source": [
    "rf_pred=rf.predict(X_test)"
   ]
  },
  {
   "cell_type": "code",
   "execution_count": 162,
   "metadata": {},
   "outputs": [
    {
     "name": "stdout",
     "output_type": "stream",
     "text": [
      "Mean squared Error: 0.6797479168727306\n",
      "Root Mean Squared Error: 0.8244682631082476\n",
      "R2_Score: 0.8333803525539293\n"
     ]
    }
   ],
   "source": [
    "print('Mean squared Error:',mean_squared_error(y_test,rf_pred))\n",
    "print('Root Mean Squared Error:',np.sqrt(mean_squared_error(y_test,rf_pred)))\n",
    "print('R2_Score:',r2_score(y_test,rf_pred))"
   ]
  },
  {
   "cell_type": "code",
   "execution_count": 163,
   "metadata": {},
   "outputs": [
    {
     "data": {
      "text/plain": [
       "0.8333803525539293"
      ]
     },
     "execution_count": 163,
     "metadata": {},
     "output_type": "execute_result"
    }
   ],
   "source": [
    "randomforest_r2_score=r2_score(y_test,rf_pred)\n",
    "randomforest_r2_score"
   ]
  },
  {
   "cell_type": "markdown",
   "metadata": {},
   "source": [
    "### Bayesian Regressor"
   ]
  },
  {
   "cell_type": "code",
   "execution_count": 164,
   "metadata": {},
   "outputs": [],
   "source": [
    "from sklearn.linear_model import BayesianRidge\n",
    "br=BayesianRidge()\n",
    "br.fit(X_train,y_train)\n",
    "y_pred=br.predict(X_test)"
   ]
  },
  {
   "cell_type": "code",
   "execution_count": 165,
   "metadata": {},
   "outputs": [
    {
     "name": "stdout",
     "output_type": "stream",
     "text": [
      "Mean squared Error: 0.5568719461501375\n",
      "Root Mean Squared Error: 0.7462385316707637\n"
     ]
    }
   ],
   "source": [
    "print('Mean squared Error:',mean_squared_error(y_test,y_pred))\n",
    "print('Root Mean Squared Error:',np.sqrt(mean_squared_error(y_test,y_pred)))\n",
    "#print('R2_Score:',r2_score(y_test,y_pred))"
   ]
  },
  {
   "cell_type": "code",
   "execution_count": 166,
   "metadata": {},
   "outputs": [
    {
     "data": {
      "text/plain": [
       "0.8634996812244509"
      ]
     },
     "execution_count": 166,
     "metadata": {},
     "output_type": "execute_result"
    }
   ],
   "source": [
    "bayesian_r2_score=r2_score(y_test,y_pred)\n",
    "bayesian_r2_score"
   ]
  },
  {
   "cell_type": "code",
   "execution_count": 167,
   "metadata": {},
   "outputs": [],
   "source": [
    "Regressors=['Linear','Lasso','Ridge','DecisionTree','KNeighbour','SVR','RandomForest','Bayesian']\n",
    "R2_Score=[linear_r2_score,lasso_r2_score,ridge_r2_score,decisiontree_r2_score,kneighbour_r2_score,svr_r2_score,randomforest_r2_score,bayesian_r2_score]"
   ]
  },
  {
   "cell_type": "code",
   "execution_count": 168,
   "metadata": {},
   "outputs": [
    {
     "name": "stderr",
     "output_type": "stream",
     "text": [
      "No handles with labels found to put in legend.\n"
     ]
    },
    {
     "data": {
      "image/png": "[encoded data removed]",
      "text/plain": [
       "<Figure size 1080x288 with 1 Axes>"
      ]
     },
     "metadata": {
      "needs_background": "light"
     },
     "output_type": "display_data"
    }
   ],
   "source": [
    "plt.figure(figsize=(15,4))\n",
    "plt.plot(Regressors,R2_Score, color = 'Red')\n",
    "\n",
    "plt.title('Comparision between different Regressors',fontsize=15)\n",
    "plt.xlabel('Regressors',fontsize=15)\n",
    "plt.ylabel('Accuracy Values',fontsize=15)\n",
    "plt.legend()\n",
    "plt.show()\n"
   ]
  },
  {
   "cell_type": "markdown",
   "metadata": {},
   "source": [
    "# KNeighbour is best for Max Wind  with accuracy of 88.886% followed by Bayesian Rgressor with 86.3% "
   ]
  },
  {
   "cell_type": "code",
   "execution_count": 169,
   "metadata": {},
   "outputs": [],
   "source": [
    "maxw2020=pd.read_csv(\"C:/Users/Abhishek Wagh/Desktop/MTech_Project/Sugarcane/Phase1/csv/MaxWind/maxwind2020pred.csv\")"
   ]
  },
  {
   "cell_type": "code",
   "execution_count": 170,
   "metadata": {},
   "outputs": [],
   "source": [
    "maxw2020.drop(['Year'],axis=1,inplace=True)"
   ]
  },
  {
   "cell_type": "code",
   "execution_count": 171,
   "metadata": {},
   "outputs": [],
   "source": [
    "maxw2020=maxw2020.iloc[:,:].values"
   ]
  },
  {
   "cell_type": "code",
   "execution_count": 172,
   "metadata": {},
   "outputs": [
    {
     "data": {
      "text/plain": [
       "array([[ 1.  ,  4.31,  3.93],\n",
       "       [ 2.  ,  4.87,  4.11],\n",
       "       [ 3.  ,  4.72,  4.21],\n",
       "       [ 4.  ,  5.68,  4.89],\n",
       "       [ 5.  ,  6.48,  6.16],\n",
       "       [ 6.  ,  7.78,  7.88],\n",
       "       [ 7.  , 10.36, 10.57],\n",
       "       [ 8.  ,  7.8 , 10.2 ],\n",
       "       [ 9.  ,  4.55,  5.46],\n",
       "       [10.  ,  3.56,  4.46],\n",
       "       [11.  ,  4.24,  4.48],\n",
       "       [12.  ,  4.96,  4.64]])"
      ]
     },
     "execution_count": 172,
     "metadata": {},
     "output_type": "execute_result"
    }
   ],
   "source": [
    "maxw2020"
   ]
  },
  {
   "cell_type": "code",
   "execution_count": 173,
   "metadata": {},
   "outputs": [],
   "source": [
    "maxw2020_pred=[]"
   ]
  },
  {
   "cell_type": "code",
   "execution_count": 174,
   "metadata": {},
   "outputs": [],
   "source": [
    "maxw2020_pred=kn.predict(maxw2020)"
   ]
  },
  {
   "cell_type": "code",
   "execution_count": 175,
   "metadata": {},
   "outputs": [
    {
     "data": {
      "text/plain": [
       "array([4.51 , 4.575, 4.863, 5.264, 6.944, 8.045, 9.281, 8.853, 5.193,\n",
       "       4.454, 4.814, 4.647])"
      ]
     },
     "execution_count": 175,
     "metadata": {},
     "output_type": "execute_result"
    }
   ],
   "source": [
    "maxw2020_pred"
   ]
  },
  {
   "cell_type": "code",
   "execution_count": 176,
   "metadata": {},
   "outputs": [
    {
     "data": {
      "text/html": [
       "<div>\n",
       "<style scoped>\n",
       "    .dataframe tbody tr th:only-of-type {\n",
       "        vertical-align: middle;\n",
       "    }\n",
       "\n",
       "    .dataframe tbody tr th {\n",
       "        vertical-align: top;\n",
       "    }\n",
       "\n",
       "    .dataframe thead th {\n",
       "        text-align: right;\n",
       "    }\n",
       "</style>\n",
       "<table border=\"1\" class=\"dataframe\">\n",
       "  <thead>\n",
       "    <tr style=\"text-align: right;\">\n",
       "      <th></th>\n",
       "      <th>0</th>\n",
       "    </tr>\n",
       "  </thead>\n",
       "  <tbody>\n",
       "    <tr>\n",
       "      <td>0</td>\n",
       "      <td>4.510</td>\n",
       "    </tr>\n",
       "    <tr>\n",
       "      <td>1</td>\n",
       "      <td>4.575</td>\n",
       "    </tr>\n",
       "    <tr>\n",
       "      <td>2</td>\n",
       "      <td>4.863</td>\n",
       "    </tr>\n",
       "    <tr>\n",
       "      <td>3</td>\n",
       "      <td>5.264</td>\n",
       "    </tr>\n",
       "    <tr>\n",
       "      <td>4</td>\n",
       "      <td>6.944</td>\n",
       "    </tr>\n",
       "    <tr>\n",
       "      <td>5</td>\n",
       "      <td>8.045</td>\n",
       "    </tr>\n",
       "    <tr>\n",
       "      <td>6</td>\n",
       "      <td>9.281</td>\n",
       "    </tr>\n",
       "    <tr>\n",
       "      <td>7</td>\n",
       "      <td>8.853</td>\n",
       "    </tr>\n",
       "    <tr>\n",
       "      <td>8</td>\n",
       "      <td>5.193</td>\n",
       "    </tr>\n",
       "    <tr>\n",
       "      <td>9</td>\n",
       "      <td>4.454</td>\n",
       "    </tr>\n",
       "    <tr>\n",
       "      <td>10</td>\n",
       "      <td>4.814</td>\n",
       "    </tr>\n",
       "    <tr>\n",
       "      <td>11</td>\n",
       "      <td>4.647</td>\n",
       "    </tr>\n",
       "  </tbody>\n",
       "</table>\n",
       "</div>"
      ],
      "text/plain": [
       "        0\n",
       "0   4.510\n",
       "1   4.575\n",
       "2   4.863\n",
       "3   5.264\n",
       "4   6.944\n",
       "5   8.045\n",
       "6   9.281\n",
       "7   8.853\n",
       "8   5.193\n",
       "9   4.454\n",
       "10  4.814\n",
       "11  4.647"
      ]
     },
     "execution_count": 176,
     "metadata": {},
     "output_type": "execute_result"
    }
   ],
   "source": [
    "maxwind_data=pd.DataFrame(data=maxw2020_pred)\n",
    "maxwind_data"
   ]
  },
  {
   "cell_type": "code",
   "execution_count": 177,
   "metadata": {},
   "outputs": [],
   "source": [
    "maxwind_data.to_csv(r\"C:\\Users\\Abhishek Wagh\\Desktop\\MTech_Project\\Sugarcane\\Phase1\\csv\\MaxWind\\2020maxwind.csv\")"
   ]
  },
  {
   "cell_type": "code",
   "execution_count": null,
   "metadata": {},
   "outputs": [],
   "source": []
  }
 ],
 "metadata": {
  "kernelspec": {
   "display_name": "Python 3",
   "language": "python",
   "name": "python3"
  },
  "language_info": {
   "codemirror_mode": {
    "name": "ipython",
    "version": 3
   },
   "file_extension": ".py",
   "mimetype": "text/x-python",
   "name": "python",
   "nbconvert_exporter": "python",
   "pygments_lexer": "ipython3",
   "version": "3.7.4"
  }
 },
 "nbformat": 4,
 "nbformat_minor": 2
}
