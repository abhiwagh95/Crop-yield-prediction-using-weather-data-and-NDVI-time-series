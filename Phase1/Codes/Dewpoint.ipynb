{
 "cells": [
  {
   "cell_type": "code",
   "execution_count": 3,
   "metadata": {},
   "outputs": [],
   "source": [
    "import pandas as pd\n",
    "import numpy as np\n",
    "import matplotlib.pyplot as plt\n",
    "import seaborn as sns\n",
    "%matplotlib inline"
   ]
  },
  {
   "cell_type": "code",
   "execution_count": 4,
   "metadata": {},
   "outputs": [],
   "source": [
    "dp=pd.read_csv(\"C:/Users/Abhishek Wagh/Desktop/MTech_Project/Sugarcane/Phase1/csv/Dewpoints/DewPoint.csv\")"
   ]
  },
  {
   "cell_type": "code",
   "execution_count": 5,
   "metadata": {},
   "outputs": [
    {
     "data": {
      "text/html": [
       "<div>\n",
       "<style scoped>\n",
       "    .dataframe tbody tr th:only-of-type {\n",
       "        vertical-align: middle;\n",
       "    }\n",
       "\n",
       "    .dataframe tbody tr th {\n",
       "        vertical-align: top;\n",
       "    }\n",
       "\n",
       "    .dataframe thead th {\n",
       "        text-align: right;\n",
       "    }\n",
       "</style>\n",
       "<table border=\"1\" class=\"dataframe\">\n",
       "  <thead>\n",
       "    <tr style=\"text-align: right;\">\n",
       "      <th></th>\n",
       "      <th>Year</th>\n",
       "      <th>Month</th>\n",
       "      <th>d_past</th>\n",
       "      <th>d_pattopast</th>\n",
       "      <th>DewPoint</th>\n",
       "    </tr>\n",
       "  </thead>\n",
       "  <tbody>\n",
       "    <tr>\n",
       "      <td>0</td>\n",
       "      <td>2002</td>\n",
       "      <td>1</td>\n",
       "      <td>5.70</td>\n",
       "      <td>2.72</td>\n",
       "      <td>5.94</td>\n",
       "    </tr>\n",
       "    <tr>\n",
       "      <td>1</td>\n",
       "      <td>2002</td>\n",
       "      <td>2</td>\n",
       "      <td>-0.05</td>\n",
       "      <td>6.87</td>\n",
       "      <td>6.79</td>\n",
       "    </tr>\n",
       "    <tr>\n",
       "      <td>2</td>\n",
       "      <td>2002</td>\n",
       "      <td>3</td>\n",
       "      <td>7.51</td>\n",
       "      <td>2.50</td>\n",
       "      <td>5.89</td>\n",
       "    </tr>\n",
       "    <tr>\n",
       "      <td>3</td>\n",
       "      <td>2002</td>\n",
       "      <td>4</td>\n",
       "      <td>11.92</td>\n",
       "      <td>10.22</td>\n",
       "      <td>9.09</td>\n",
       "    </tr>\n",
       "    <tr>\n",
       "      <td>4</td>\n",
       "      <td>2002</td>\n",
       "      <td>5</td>\n",
       "      <td>15.63</td>\n",
       "      <td>16.92</td>\n",
       "      <td>17.60</td>\n",
       "    </tr>\n",
       "    <tr>\n",
       "      <td>...</td>\n",
       "      <td>...</td>\n",
       "      <td>...</td>\n",
       "      <td>...</td>\n",
       "      <td>...</td>\n",
       "      <td>...</td>\n",
       "    </tr>\n",
       "    <tr>\n",
       "      <td>211</td>\n",
       "      <td>2019</td>\n",
       "      <td>8</td>\n",
       "      <td>20.42</td>\n",
       "      <td>20.52</td>\n",
       "      <td>20.52</td>\n",
       "    </tr>\n",
       "    <tr>\n",
       "      <td>212</td>\n",
       "      <td>2019</td>\n",
       "      <td>9</td>\n",
       "      <td>19.54</td>\n",
       "      <td>21.40</td>\n",
       "      <td>21.40</td>\n",
       "    </tr>\n",
       "    <tr>\n",
       "      <td>213</td>\n",
       "      <td>2019</td>\n",
       "      <td>10</td>\n",
       "      <td>15.71</td>\n",
       "      <td>19.17</td>\n",
       "      <td>19.17</td>\n",
       "    </tr>\n",
       "    <tr>\n",
       "      <td>214</td>\n",
       "      <td>2019</td>\n",
       "      <td>11</td>\n",
       "      <td>11.47</td>\n",
       "      <td>14.28</td>\n",
       "      <td>14.28</td>\n",
       "    </tr>\n",
       "    <tr>\n",
       "      <td>215</td>\n",
       "      <td>2019</td>\n",
       "      <td>12</td>\n",
       "      <td>6.99</td>\n",
       "      <td>11.06</td>\n",
       "      <td>11.06</td>\n",
       "    </tr>\n",
       "  </tbody>\n",
       "</table>\n",
       "<p>216 rows × 5 columns</p>\n",
       "</div>"
      ],
      "text/plain": [
       "     Year  Month  d_past  d_pattopast  DewPoint\n",
       "0    2002      1    5.70         2.72      5.94\n",
       "1    2002      2   -0.05         6.87      6.79\n",
       "2    2002      3    7.51         2.50      5.89\n",
       "3    2002      4   11.92        10.22      9.09\n",
       "4    2002      5   15.63        16.92     17.60\n",
       "..    ...    ...     ...          ...       ...\n",
       "211  2019      8   20.42        20.52     20.52\n",
       "212  2019      9   19.54        21.40     21.40\n",
       "213  2019     10   15.71        19.17     19.17\n",
       "214  2019     11   11.47        14.28     14.28\n",
       "215  2019     12    6.99        11.06     11.06\n",
       "\n",
       "[216 rows x 5 columns]"
      ]
     },
     "execution_count": 5,
     "metadata": {},
     "output_type": "execute_result"
    }
   ],
   "source": [
    "dp"
   ]
  },
  {
   "cell_type": "code",
   "execution_count": 6,
   "metadata": {},
   "outputs": [
    {
     "name": "stdout",
     "output_type": "stream",
     "text": [
      "<class 'pandas.core.frame.DataFrame'>\n",
      "RangeIndex: 216 entries, 0 to 215\n",
      "Data columns (total 5 columns):\n",
      "Year           216 non-null int64\n",
      "Month          216 non-null int64\n",
      "d_past         216 non-null float64\n",
      "d_pattopast    216 non-null float64\n",
      "DewPoint       216 non-null float64\n",
      "dtypes: float64(3), int64(2)\n",
      "memory usage: 8.6 KB\n"
     ]
    }
   ],
   "source": [
    "dp.info()"
   ]
  },
  {
   "cell_type": "code",
   "execution_count": 7,
   "metadata": {},
   "outputs": [
    {
     "data": {
      "text/html": [
       "<div>\n",
       "<style scoped>\n",
       "    .dataframe tbody tr th:only-of-type {\n",
       "        vertical-align: middle;\n",
       "    }\n",
       "\n",
       "    .dataframe tbody tr th {\n",
       "        vertical-align: top;\n",
       "    }\n",
       "\n",
       "    .dataframe thead th {\n",
       "        text-align: right;\n",
       "    }\n",
       "</style>\n",
       "<table border=\"1\" class=\"dataframe\">\n",
       "  <thead>\n",
       "    <tr style=\"text-align: right;\">\n",
       "      <th></th>\n",
       "      <th>Year</th>\n",
       "      <th>Month</th>\n",
       "      <th>d_past</th>\n",
       "      <th>d_pattopast</th>\n",
       "      <th>DewPoint</th>\n",
       "    </tr>\n",
       "  </thead>\n",
       "  <tbody>\n",
       "    <tr>\n",
       "      <td>Year</td>\n",
       "      <td>1.000000</td>\n",
       "      <td>0.000000</td>\n",
       "      <td>0.014297</td>\n",
       "      <td>0.047057</td>\n",
       "      <td>0.001049</td>\n",
       "    </tr>\n",
       "    <tr>\n",
       "      <td>Month</td>\n",
       "      <td>0.000000</td>\n",
       "      <td>1.000000</td>\n",
       "      <td>0.499590</td>\n",
       "      <td>0.490260</td>\n",
       "      <td>0.505354</td>\n",
       "    </tr>\n",
       "    <tr>\n",
       "      <td>d_past</td>\n",
       "      <td>0.014297</td>\n",
       "      <td>0.499590</td>\n",
       "      <td>1.000000</td>\n",
       "      <td>0.934213</td>\n",
       "      <td>0.939820</td>\n",
       "    </tr>\n",
       "    <tr>\n",
       "      <td>d_pattopast</td>\n",
       "      <td>0.047057</td>\n",
       "      <td>0.490260</td>\n",
       "      <td>0.934213</td>\n",
       "      <td>1.000000</td>\n",
       "      <td>0.935355</td>\n",
       "    </tr>\n",
       "    <tr>\n",
       "      <td>DewPoint</td>\n",
       "      <td>0.001049</td>\n",
       "      <td>0.505354</td>\n",
       "      <td>0.939820</td>\n",
       "      <td>0.935355</td>\n",
       "      <td>1.000000</td>\n",
       "    </tr>\n",
       "  </tbody>\n",
       "</table>\n",
       "</div>"
      ],
      "text/plain": [
       "                 Year     Month    d_past  d_pattopast  DewPoint\n",
       "Year         1.000000  0.000000  0.014297     0.047057  0.001049\n",
       "Month        0.000000  1.000000  0.499590     0.490260  0.505354\n",
       "d_past       0.014297  0.499590  1.000000     0.934213  0.939820\n",
       "d_pattopast  0.047057  0.490260  0.934213     1.000000  0.935355\n",
       "DewPoint     0.001049  0.505354  0.939820     0.935355  1.000000"
      ]
     },
     "execution_count": 7,
     "metadata": {},
     "output_type": "execute_result"
    }
   ],
   "source": [
    "#Creating correlation for precipitation\n",
    "#Creating the correlation matrix for the features\n",
    "corr_matrix=dp.corr()\n",
    "corr_matrix"
   ]
  },
  {
   "cell_type": "code",
   "execution_count": 8,
   "metadata": {},
   "outputs": [],
   "source": [
    "mask = np.zeros_like(corr_matrix, dtype=np.bool)\n",
    "mask[np.triu_indices_from(mask)]= True"
   ]
  },
  {
   "cell_type": "code",
   "execution_count": 9,
   "metadata": {},
   "outputs": [
    {
     "data": {
      "image/png": "[encoded data removed]",
      "text/plain": [
       "<Figure size 360x288 with 2 Axes>"
      ]
     },
     "metadata": {
      "needs_background": "light"
     },
     "output_type": "display_data"
    }
   ],
   "source": [
    "f, ax = plt.subplots(figsize=(5, 4)) \n",
    "heatmap = sns.heatmap(corr_matrix, mask = mask,square = True,linewidths = .5, cmap = 'coolwarm', cbar_kws = {'shrink': .4, 'ticks' : [-1, -.5, 0, 0.5, 1]},vmin = -1, vmax = 1,annot = True,annot_kws = {'size': 12})\n",
    "#add the column names as labels\n",
    "ax.set_yticklabels(corr_matrix.columns, rotation = 0)\n",
    "ax.set_xticklabels(corr_matrix.columns)\n",
    "sns.set_style({'xtick.bottom': True}, {'ytick.left': True})"
   ]
  },
  {
   "cell_type": "code",
   "execution_count": 10,
   "metadata": {},
   "outputs": [],
   "source": [
    "#mintemp=mintemp.drop(['Month'],axis=1)"
   ]
  },
  {
   "cell_type": "code",
   "execution_count": 11,
   "metadata": {},
   "outputs": [
    {
     "data": {
      "text/plain": [
       "(216, 5)"
      ]
     },
     "execution_count": 11,
     "metadata": {},
     "output_type": "execute_result"
    }
   ],
   "source": [
    "dp.shape"
   ]
  },
  {
   "cell_type": "code",
   "execution_count": 12,
   "metadata": {},
   "outputs": [],
   "source": [
    "dp=dp.iloc[:,:].values"
   ]
  },
  {
   "cell_type": "code",
   "execution_count": 13,
   "metadata": {},
   "outputs": [
    {
     "data": {
      "text/plain": [
       "array([[ 2.002e+03,  1.000e+00,  5.700e+00,  2.720e+00,  5.940e+00],\n",
       "       [ 2.002e+03,  2.000e+00, -5.000e-02,  6.870e+00,  6.790e+00],\n",
       "       [ 2.002e+03,  3.000e+00,  7.510e+00,  2.500e+00,  5.890e+00],\n",
       "       ...,\n",
       "       [ 2.019e+03,  1.000e+01,  1.571e+01,  1.917e+01,  1.917e+01],\n",
       "       [ 2.019e+03,  1.100e+01,  1.147e+01,  1.428e+01,  1.428e+01],\n",
       "       [ 2.019e+03,  1.200e+01,  6.990e+00,  1.106e+01,  1.106e+01]])"
      ]
     },
     "execution_count": 13,
     "metadata": {},
     "output_type": "execute_result"
    }
   ],
   "source": [
    "dp"
   ]
  },
  {
   "cell_type": "code",
   "execution_count": 14,
   "metadata": {},
   "outputs": [],
   "source": [
    "X=dp[:,:-1]\n",
    "y=dp[:,-1]"
   ]
  },
  {
   "cell_type": "code",
   "execution_count": 15,
   "metadata": {},
   "outputs": [
    {
     "data": {
      "text/plain": [
       "array([[ 2.002e+03,  1.000e+00,  5.700e+00,  2.720e+00],\n",
       "       [ 2.002e+03,  2.000e+00, -5.000e-02,  6.870e+00],\n",
       "       [ 2.002e+03,  3.000e+00,  7.510e+00,  2.500e+00],\n",
       "       [ 2.002e+03,  4.000e+00,  1.192e+01,  1.022e+01],\n",
       "       [ 2.002e+03,  5.000e+00,  1.563e+01,  1.692e+01],\n",
       "       [ 2.002e+03,  6.000e+00,  1.985e+01,  2.077e+01],\n",
       "       [ 2.002e+03,  7.000e+00,  2.001e+01,  2.014e+01],\n",
       "       [ 2.002e+03,  8.000e+00,  2.032e+01,  2.034e+01],\n",
       "       [ 2.002e+03,  9.000e+00,  2.014e+01,  2.015e+01],\n",
       "       [ 2.002e+03,  1.000e+01,  1.850e+01,  1.710e+01],\n",
       "       [ 2.002e+03,  1.100e+01,  1.409e+01,  1.179e+01],\n",
       "       [ 2.002e+03,  1.200e+01,  8.500e+00,  7.000e-02],\n",
       "       [ 2.003e+03,  1.000e+00,  5.940e+00,  5.700e+00],\n",
       "       [ 2.003e+03,  2.000e+00,  6.790e+00, -5.000e-02],\n",
       "       [ 2.003e+03,  3.000e+00,  5.890e+00,  7.510e+00],\n",
       "       [ 2.003e+03,  4.000e+00,  9.090e+00,  1.192e+01],\n",
       "       [ 2.003e+03,  5.000e+00,  1.760e+01,  1.563e+01],\n",
       "       [ 2.003e+03,  6.000e+00,  2.064e+01,  1.985e+01],\n",
       "       [ 2.003e+03,  7.000e+00,  2.031e+01,  2.001e+01],\n",
       "       [ 2.003e+03,  8.000e+00,  2.025e+01,  2.032e+01],\n",
       "       [ 2.003e+03,  9.000e+00,  1.955e+01,  2.014e+01],\n",
       "       [ 2.003e+03,  1.000e+01,  1.671e+01,  1.850e+01],\n",
       "       [ 2.003e+03,  1.100e+01,  9.970e+00,  1.409e+01],\n",
       "       [ 2.003e+03,  1.200e+01,  5.410e+00,  8.500e+00],\n",
       "       [ 2.004e+03,  1.000e+00,  6.770e+00,  5.940e+00],\n",
       "       [ 2.004e+03,  2.000e+00,  6.700e+00,  6.790e+00],\n",
       "       [ 2.004e+03,  3.000e+00,  5.900e+00,  5.890e+00],\n",
       "       [ 2.004e+03,  4.000e+00,  1.123e+01,  9.090e+00],\n",
       "       [ 2.004e+03,  5.000e+00,  1.305e+01,  1.760e+01],\n",
       "       [ 2.004e+03,  6.000e+00,  1.942e+01,  2.064e+01],\n",
       "       [ 2.004e+03,  7.000e+00,  2.100e+01,  2.031e+01],\n",
       "       [ 2.004e+03,  8.000e+00,  2.051e+01,  2.025e+01],\n",
       "       [ 2.004e+03,  9.000e+00,  1.996e+01,  1.955e+01],\n",
       "       [ 2.004e+03,  1.000e+01,  1.739e+01,  1.671e+01],\n",
       "       [ 2.004e+03,  1.100e+01,  1.149e+01,  9.970e+00],\n",
       "       [ 2.004e+03,  1.200e+01,  6.140e+00,  5.410e+00],\n",
       "       [ 2.005e+03,  1.000e+00,  6.290e+00,  6.770e+00],\n",
       "       [ 2.005e+03,  2.000e+00,  3.380e+00,  6.700e+00],\n",
       "       [ 2.005e+03,  3.000e+00,  3.600e+00,  5.900e+00],\n",
       "       [ 2.005e+03,  4.000e+00,  1.052e+01,  1.123e+01],\n",
       "       [ 2.005e+03,  5.000e+00,  1.845e+01,  1.305e+01],\n",
       "       [ 2.005e+03,  6.000e+00,  2.086e+01,  1.942e+01],\n",
       "       [ 2.005e+03,  7.000e+00,  2.067e+01,  2.100e+01],\n",
       "       [ 2.005e+03,  8.000e+00,  2.052e+01,  2.051e+01],\n",
       "       [ 2.005e+03,  9.000e+00,  2.062e+01,  1.996e+01],\n",
       "       [ 2.005e+03,  1.000e+01,  1.748e+01,  1.739e+01],\n",
       "       [ 2.005e+03,  1.100e+01,  1.363e+01,  1.149e+01],\n",
       "       [ 2.005e+03,  1.200e+01,  6.370e+00,  6.140e+00],\n",
       "       [ 2.006e+03,  1.000e+00,  5.470e+00,  6.290e+00],\n",
       "       [ 2.006e+03,  2.000e+00,  5.350e+00,  3.380e+00],\n",
       "       [ 2.006e+03,  3.000e+00,  6.260e+00,  3.600e+00],\n",
       "       [ 2.006e+03,  4.000e+00,  1.187e+01,  1.052e+01],\n",
       "       [ 2.006e+03,  5.000e+00,  1.497e+01,  1.845e+01],\n",
       "       [ 2.006e+03,  6.000e+00,  2.051e+01,  2.086e+01],\n",
       "       [ 2.006e+03,  7.000e+00,  2.152e+01,  2.067e+01],\n",
       "       [ 2.006e+03,  8.000e+00,  2.119e+01,  2.052e+01],\n",
       "       [ 2.006e+03,  9.000e+00,  2.135e+01,  2.062e+01],\n",
       "       [ 2.006e+03,  1.000e+01,  1.858e+01,  1.748e+01],\n",
       "       [ 2.006e+03,  1.100e+01,  1.270e+01,  1.363e+01],\n",
       "       [ 2.006e+03,  1.200e+01,  9.910e+00,  6.370e+00],\n",
       "       [ 2.007e+03,  1.000e+00,  6.200e+00,  5.470e+00],\n",
       "       [ 2.007e+03,  2.000e+00,  2.530e+00,  5.350e+00],\n",
       "       [ 2.007e+03,  3.000e+00,  8.580e+00,  6.260e+00],\n",
       "       [ 2.007e+03,  4.000e+00,  1.007e+01,  1.187e+01],\n",
       "       [ 2.007e+03,  5.000e+00,  1.538e+01,  1.497e+01],\n",
       "       [ 2.007e+03,  6.000e+00,  2.095e+01,  2.051e+01],\n",
       "       [ 2.007e+03,  7.000e+00,  2.088e+01,  2.152e+01],\n",
       "       [ 2.007e+03,  8.000e+00,  2.071e+01,  2.119e+01],\n",
       "       [ 2.007e+03,  9.000e+00,  2.128e+01,  2.135e+01],\n",
       "       [ 2.007e+03,  1.000e+01,  1.911e+01,  1.858e+01],\n",
       "       [ 2.007e+03,  1.100e+01,  1.685e+01,  1.270e+01],\n",
       "       [ 2.007e+03,  1.200e+01,  1.137e+01,  9.910e+00],\n",
       "       [ 2.008e+03,  1.000e+00,  8.140e+00,  6.200e+00],\n",
       "       [ 2.008e+03,  2.000e+00,  7.560e+00,  2.530e+00],\n",
       "       [ 2.008e+03,  3.000e+00,  6.150e+00,  8.580e+00],\n",
       "       [ 2.008e+03,  4.000e+00,  9.890e+00,  1.007e+01],\n",
       "       [ 2.008e+03,  5.000e+00,  1.561e+01,  1.538e+01],\n",
       "       [ 2.008e+03,  6.000e+00,  2.087e+01,  2.095e+01],\n",
       "       [ 2.008e+03,  7.000e+00,  2.141e+01,  2.088e+01],\n",
       "       [ 2.008e+03,  8.000e+00,  2.101e+01,  2.071e+01],\n",
       "       [ 2.008e+03,  9.000e+00,  2.113e+01,  2.128e+01],\n",
       "       [ 2.008e+03,  1.000e+01,  1.691e+01,  1.911e+01],\n",
       "       [ 2.008e+03,  1.100e+01,  1.286e+01,  1.685e+01],\n",
       "       [ 2.008e+03,  1.200e+01,  1.078e+01,  1.137e+01],\n",
       "       [ 2.009e+03,  1.000e+00,  4.070e+00,  8.140e+00],\n",
       "       [ 2.009e+03,  2.000e+00,  4.120e+00,  7.560e+00],\n",
       "       [ 2.009e+03,  3.000e+00,  8.980e+00,  6.150e+00],\n",
       "       [ 2.009e+03,  4.000e+00,  1.048e+01,  9.890e+00],\n",
       "       [ 2.009e+03,  5.000e+00,  1.482e+01,  1.561e+01],\n",
       "       [ 2.009e+03,  6.000e+00,  2.038e+01,  2.087e+01],\n",
       "       [ 2.009e+03,  7.000e+00,  2.028e+01,  2.141e+01],\n",
       "       [ 2.009e+03,  8.000e+00,  2.073e+01,  2.101e+01],\n",
       "       [ 2.009e+03,  9.000e+00,  2.050e+01,  2.113e+01],\n",
       "       [ 2.009e+03,  1.000e+01,  1.744e+01,  1.691e+01],\n",
       "       [ 2.009e+03,  1.100e+01,  1.473e+01,  1.286e+01],\n",
       "       [ 2.009e+03,  1.200e+01,  1.106e+01,  1.078e+01],\n",
       "       [ 2.010e+03,  1.000e+00,  7.190e+00,  4.070e+00],\n",
       "       [ 2.010e+03,  2.000e+00,  3.910e+00,  4.120e+00],\n",
       "       [ 2.010e+03,  3.000e+00,  6.090e+00,  8.980e+00],\n",
       "       [ 2.010e+03,  4.000e+00,  8.790e+00,  1.048e+01],\n",
       "       [ 2.010e+03,  5.000e+00,  1.477e+01,  1.482e+01],\n",
       "       [ 2.010e+03,  6.000e+00,  2.001e+01,  2.038e+01],\n",
       "       [ 2.010e+03,  7.000e+00,  2.094e+01,  2.028e+01],\n",
       "       [ 2.010e+03,  8.000e+00,  2.078e+01,  2.073e+01],\n",
       "       [ 2.010e+03,  9.000e+00,  2.093e+01,  2.050e+01],\n",
       "       [ 2.010e+03,  1.000e+01,  1.812e+01,  1.744e+01],\n",
       "       [ 2.010e+03,  1.100e+01,  1.630e+01,  1.473e+01],\n",
       "       [ 2.010e+03,  1.200e+01,  1.313e+01,  1.106e+01],\n",
       "       [ 2.011e+03,  1.000e+00,  1.081e+01,  7.190e+00],\n",
       "       [ 2.011e+03,  2.000e+00,  8.710e+00,  3.910e+00],\n",
       "       [ 2.011e+03,  3.000e+00,  7.790e+00,  6.090e+00],\n",
       "       [ 2.011e+03,  4.000e+00,  1.010e+01,  8.790e+00],\n",
       "       [ 2.011e+03,  5.000e+00,  1.568e+01,  1.477e+01],\n",
       "       [ 2.011e+03,  6.000e+00,  2.102e+01,  2.001e+01],\n",
       "       [ 2.011e+03,  7.000e+00,  2.115e+01,  2.094e+01],\n",
       "       [ 2.011e+03,  8.000e+00,  2.130e+01,  2.078e+01],\n",
       "       [ 2.011e+03,  9.000e+00,  2.107e+01,  2.093e+01],\n",
       "       [ 2.011e+03,  1.000e+01,  1.953e+01,  1.812e+01],\n",
       "       [ 2.011e+03,  1.100e+01,  1.934e+01,  1.630e+01],\n",
       "       [ 2.011e+03,  1.200e+01,  1.196e+01,  1.313e+01],\n",
       "       [ 2.012e+03,  1.000e+00,  7.440e+00,  1.081e+01],\n",
       "       [ 2.012e+03,  2.000e+00,  7.060e+00,  8.710e+00],\n",
       "       [ 2.012e+03,  3.000e+00,  4.640e+00,  7.790e+00],\n",
       "       [ 2.012e+03,  4.000e+00,  1.175e+01,  1.010e+01],\n",
       "       [ 2.012e+03,  5.000e+00,  1.535e+01,  1.568e+01],\n",
       "       [ 2.012e+03,  6.000e+00,  2.064e+01,  2.102e+01],\n",
       "       [ 2.012e+03,  7.000e+00,  2.066e+01,  2.115e+01],\n",
       "       [ 2.012e+03,  8.000e+00,  2.083e+01,  2.130e+01],\n",
       "       [ 2.012e+03,  9.000e+00,  2.026e+01,  2.107e+01],\n",
       "       [ 2.012e+03,  1.000e+01,  1.918e+01,  1.953e+01],\n",
       "       [ 2.012e+03,  1.100e+01,  1.357e+01,  1.934e+01],\n",
       "       [ 2.012e+03,  1.200e+01,  7.620e+00,  1.196e+01],\n",
       "       [ 2.013e+03,  1.000e+00,  5.440e+00,  7.440e+00],\n",
       "       [ 2.013e+03,  2.000e+00,  2.630e+00,  7.060e+00],\n",
       "       [ 2.013e+03,  3.000e+00,  8.000e-02,  4.640e+00],\n",
       "       [ 2.013e+03,  4.000e+00,  1.073e+01,  1.175e+01],\n",
       "       [ 2.013e+03,  5.000e+00,  1.428e+01,  1.535e+01],\n",
       "       [ 2.013e+03,  6.000e+00,  1.893e+01,  2.064e+01],\n",
       "       [ 2.013e+03,  7.000e+00,  2.064e+01,  2.066e+01],\n",
       "       [ 2.013e+03,  8.000e+00,  2.051e+01,  2.083e+01],\n",
       "       [ 2.013e+03,  9.000e+00,  2.016e+01,  2.026e+01],\n",
       "       [ 2.013e+03,  1.000e+01,  1.783e+01,  1.918e+01],\n",
       "       [ 2.013e+03,  1.100e+01,  1.433e+01,  1.357e+01],\n",
       "       [ 2.013e+03,  1.200e+01,  9.010e+00,  7.620e+00],\n",
       "       [ 2.014e+03,  1.000e+00,  6.380e+00,  5.440e+00],\n",
       "       [ 2.014e+03,  2.000e+00,  7.630e+00,  2.630e+00],\n",
       "       [ 2.014e+03,  3.000e+00,  6.200e+00,  8.000e-02],\n",
       "       [ 2.014e+03,  4.000e+00,  1.059e+01,  1.073e+01],\n",
       "       [ 2.014e+03,  5.000e+00,  1.580e+01,  1.428e+01],\n",
       "       [ 2.014e+03,  6.000e+00,  2.105e+01,  1.893e+01],\n",
       "       [ 2.014e+03,  7.000e+00,  2.104e+01,  2.064e+01],\n",
       "       [ 2.014e+03,  8.000e+00,  2.046e+01,  2.051e+01],\n",
       "       [ 2.014e+03,  9.000e+00,  2.065e+01,  2.016e+01],\n",
       "       [ 2.014e+03,  1.000e+01,  1.954e+01,  1.783e+01],\n",
       "       [ 2.014e+03,  1.100e+01,  1.499e+01,  1.433e+01],\n",
       "       [ 2.014e+03,  1.200e+01,  8.950e+00,  9.010e+00],\n",
       "       [ 2.015e+03,  1.000e+00,  9.610e+00,  6.380e+00],\n",
       "       [ 2.015e+03,  2.000e+00,  7.940e+00,  7.630e+00],\n",
       "       [ 2.015e+03,  3.000e+00,  1.099e+01,  6.200e+00],\n",
       "       [ 2.015e+03,  4.000e+00,  1.069e+01,  1.059e+01],\n",
       "       [ 2.015e+03,  5.000e+00,  1.522e+01,  1.580e+01],\n",
       "       [ 2.015e+03,  6.000e+00,  1.920e+01,  2.105e+01],\n",
       "       [ 2.015e+03,  7.000e+00,  2.063e+01,  2.104e+01],\n",
       "       [ 2.015e+03,  8.000e+00,  2.091e+01,  2.046e+01],\n",
       "       [ 2.015e+03,  9.000e+00,  2.014e+01,  2.065e+01],\n",
       "       [ 2.015e+03,  1.000e+01,  1.762e+01,  1.954e+01],\n",
       "       [ 2.015e+03,  1.100e+01,  1.407e+01,  1.499e+01],\n",
       "       [ 2.015e+03,  1.200e+01,  1.017e+01,  8.950e+00],\n",
       "       [ 2.016e+03,  1.000e+00,  7.000e+00,  9.610e+00],\n",
       "       [ 2.016e+03,  2.000e+00,  4.410e+00,  7.940e+00],\n",
       "       [ 2.016e+03,  3.000e+00,  1.142e+01,  1.099e+01],\n",
       "       [ 2.016e+03,  4.000e+00,  1.147e+01,  1.069e+01],\n",
       "       [ 2.016e+03,  5.000e+00,  1.652e+01,  1.522e+01],\n",
       "       [ 2.016e+03,  6.000e+00,  1.990e+01,  1.920e+01],\n",
       "       [ 2.016e+03,  7.000e+00,  2.036e+01,  2.063e+01],\n",
       "       [ 2.016e+03,  8.000e+00,  2.004e+01,  2.091e+01],\n",
       "       [ 2.016e+03,  9.000e+00,  1.998e+01,  2.014e+01],\n",
       "       [ 2.016e+03,  1.000e+01,  1.836e+01,  1.762e+01],\n",
       "       [ 2.016e+03,  1.100e+01,  1.405e+01,  1.407e+01],\n",
       "       [ 2.016e+03,  1.200e+01,  8.340e+00,  1.017e+01],\n",
       "       [ 2.017e+03,  1.000e+00,  3.510e+00,  7.000e+00],\n",
       "       [ 2.017e+03,  2.000e+00,  7.360e+00,  4.410e+00],\n",
       "       [ 2.017e+03,  3.000e+00,  8.570e+00,  1.142e+01],\n",
       "       [ 2.017e+03,  4.000e+00,  1.063e+01,  1.147e+01],\n",
       "       [ 2.017e+03,  5.000e+00,  1.592e+01,  1.652e+01],\n",
       "       [ 2.017e+03,  6.000e+00,  2.053e+01,  1.990e+01],\n",
       "       [ 2.017e+03,  7.000e+00,  2.129e+01,  2.036e+01],\n",
       "       [ 2.017e+03,  8.000e+00,  2.088e+01,  2.004e+01],\n",
       "       [ 2.017e+03,  9.000e+00,  2.023e+01,  1.998e+01],\n",
       "       [ 2.017e+03,  1.000e+01,  1.711e+01,  1.836e+01],\n",
       "       [ 2.017e+03,  1.100e+01,  1.054e+01,  1.405e+01],\n",
       "       [ 2.017e+03,  1.200e+01,  7.470e+00,  8.340e+00],\n",
       "       [ 2.018e+03,  1.000e+00,  4.880e+00,  3.510e+00],\n",
       "       [ 2.018e+03,  2.000e+00,  2.700e+00,  7.360e+00],\n",
       "       [ 2.018e+03,  3.000e+00,  5.430e+00,  8.570e+00],\n",
       "       [ 2.018e+03,  4.000e+00,  6.820e+00,  1.063e+01],\n",
       "       [ 2.018e+03,  5.000e+00,  1.520e+01,  1.592e+01],\n",
       "       [ 2.018e+03,  6.000e+00,  2.086e+01,  2.053e+01],\n",
       "       [ 2.018e+03,  7.000e+00,  2.093e+01,  2.129e+01],\n",
       "       [ 2.018e+03,  8.000e+00,  2.052e+01,  2.088e+01],\n",
       "       [ 2.018e+03,  9.000e+00,  2.140e+01,  2.023e+01],\n",
       "       [ 2.018e+03,  1.000e+01,  1.917e+01,  1.711e+01],\n",
       "       [ 2.018e+03,  1.100e+01,  1.428e+01,  1.054e+01],\n",
       "       [ 2.018e+03,  1.200e+01,  1.106e+01,  7.470e+00],\n",
       "       [ 2.019e+03,  1.000e+00,  6.700e+00,  4.880e+00],\n",
       "       [ 2.019e+03,  2.000e+00,  4.880e+00,  2.700e+00],\n",
       "       [ 2.019e+03,  3.000e+00,  7.190e+00,  5.430e+00],\n",
       "       [ 2.019e+03,  4.000e+00,  9.580e+00,  6.820e+00],\n",
       "       [ 2.019e+03,  5.000e+00,  1.518e+01,  1.520e+01],\n",
       "       [ 2.019e+03,  6.000e+00,  2.126e+01,  2.086e+01],\n",
       "       [ 2.019e+03,  7.000e+00,  2.085e+01,  2.093e+01],\n",
       "       [ 2.019e+03,  8.000e+00,  2.042e+01,  2.052e+01],\n",
       "       [ 2.019e+03,  9.000e+00,  1.954e+01,  2.140e+01],\n",
       "       [ 2.019e+03,  1.000e+01,  1.571e+01,  1.917e+01],\n",
       "       [ 2.019e+03,  1.100e+01,  1.147e+01,  1.428e+01],\n",
       "       [ 2.019e+03,  1.200e+01,  6.990e+00,  1.106e+01]])"
      ]
     },
     "execution_count": 15,
     "metadata": {},
     "output_type": "execute_result"
    }
   ],
   "source": [
    "X"
   ]
  },
  {
   "cell_type": "code",
   "execution_count": 16,
   "metadata": {},
   "outputs": [
    {
     "data": {
      "text/plain": [
       "array([ 5.94,  6.79,  5.89,  9.09, 17.6 , 20.64, 20.31, 20.25, 19.55,\n",
       "       16.71,  9.97,  5.41,  6.77,  6.7 ,  5.9 , 11.23, 13.05, 19.42,\n",
       "       21.  , 20.51, 19.96, 17.39, 11.49,  6.14,  6.29,  3.38,  3.6 ,\n",
       "       10.52, 18.45, 20.86, 20.67, 20.52, 20.62, 17.48, 13.63,  6.37,\n",
       "        5.47,  5.35,  6.26, 11.87, 14.97, 20.51, 21.52, 21.19, 21.35,\n",
       "       18.58, 12.7 ,  9.91,  6.2 ,  2.53,  8.58, 10.07, 15.38, 20.95,\n",
       "       20.88, 20.71, 21.28, 19.11, 16.85, 11.37,  8.14,  7.56,  6.15,\n",
       "        9.89, 15.61, 20.87, 21.41, 21.01, 21.13, 16.91, 12.86, 10.78,\n",
       "        4.07,  4.12,  8.98, 10.48, 14.82, 20.38, 20.28, 20.73, 20.5 ,\n",
       "       17.44, 14.73, 11.06,  7.19,  3.91,  6.09,  8.79, 14.77, 20.01,\n",
       "       20.94, 20.78, 20.93, 18.12, 16.3 , 13.13, 10.81,  8.71,  7.79,\n",
       "       10.1 , 15.68, 21.02, 21.15, 21.3 , 21.07, 19.53, 19.34, 11.96,\n",
       "        7.44,  7.06,  4.64, 11.75, 15.35, 20.64, 20.66, 20.83, 20.26,\n",
       "       19.18, 13.57,  7.62,  5.44,  2.63,  0.08, 10.73, 14.28, 18.93,\n",
       "       20.64, 20.51, 20.16, 17.83, 14.33,  9.01,  6.38,  7.63,  6.2 ,\n",
       "       10.59, 15.8 , 21.05, 21.04, 20.46, 20.65, 19.54, 14.99,  8.95,\n",
       "        9.61,  7.94, 10.99, 10.69, 15.22, 19.2 , 20.63, 20.91, 20.14,\n",
       "       17.62, 14.07, 10.17,  7.  ,  4.41, 11.42, 11.47, 16.52, 19.9 ,\n",
       "       20.36, 20.04, 19.98, 18.36, 14.05,  8.34,  3.51,  7.36,  8.57,\n",
       "       10.63, 15.92, 20.53, 21.29, 20.88, 20.23, 17.11, 10.54,  7.47,\n",
       "        4.88,  2.7 ,  5.43,  6.82, 15.2 , 20.86, 20.93, 20.52, 21.4 ,\n",
       "       19.17, 14.28, 11.06,  6.7 ,  4.88,  7.19,  9.58, 15.18, 21.26,\n",
       "       20.85, 20.42, 19.54, 15.71, 11.47,  6.99,  4.88,  2.7 ,  5.43,\n",
       "        6.82, 15.2 , 20.86, 20.93, 20.52, 21.4 , 19.17, 14.28, 11.06])"
      ]
     },
     "execution_count": 16,
     "metadata": {},
     "output_type": "execute_result"
    }
   ],
   "source": [
    "y"
   ]
  },
  {
   "cell_type": "code",
   "execution_count": 17,
   "metadata": {},
   "outputs": [
    {
     "data": {
      "text/plain": [
       "(216, 4)"
      ]
     },
     "execution_count": 17,
     "metadata": {},
     "output_type": "execute_result"
    }
   ],
   "source": [
    "X.shape"
   ]
  },
  {
   "cell_type": "code",
   "execution_count": 18,
   "metadata": {},
   "outputs": [
    {
     "data": {
      "text/plain": [
       "(216,)"
      ]
     },
     "execution_count": 18,
     "metadata": {},
     "output_type": "execute_result"
    }
   ],
   "source": [
    "y.shape"
   ]
  },
  {
   "cell_type": "code",
   "execution_count": 19,
   "metadata": {},
   "outputs": [],
   "source": [
    "#train test split\n",
    "from sklearn.model_selection import train_test_split\n",
    "X_train,X_test,y_train,y_test=train_test_split(X,y,test_size=0.1,random_state=101)"
   ]
  },
  {
   "cell_type": "code",
   "execution_count": 20,
   "metadata": {},
   "outputs": [],
   "source": [
    "X_train,y_train=np.array(X_train),np.array(y_train)"
   ]
  },
  {
   "cell_type": "markdown",
   "metadata": {},
   "source": [
    "# Linear Regressor"
   ]
  },
  {
   "cell_type": "code",
   "execution_count": 21,
   "metadata": {},
   "outputs": [],
   "source": [
    "from sklearn.linear_model import LinearRegression,Lasso,Ridge"
   ]
  },
  {
   "cell_type": "code",
   "execution_count": 22,
   "metadata": {},
   "outputs": [],
   "source": [
    "li=LinearRegression()"
   ]
  },
  {
   "cell_type": "code",
   "execution_count": 23,
   "metadata": {},
   "outputs": [
    {
     "data": {
      "text/plain": [
       "LinearRegression(copy_X=True, fit_intercept=True, n_jobs=None, normalize=False)"
      ]
     },
     "execution_count": 23,
     "metadata": {},
     "output_type": "execute_result"
    }
   ],
   "source": [
    "li.fit(X_train,y_train)"
   ]
  },
  {
   "cell_type": "code",
   "execution_count": 24,
   "metadata": {},
   "outputs": [
    {
     "data": {
      "text/plain": [
       "array([ 9.55760238, 20.95665519, 18.83496434,  5.73654921,  6.44678162,\n",
       "       17.33068719,  7.51363884, 20.76105188, 20.28325984, 19.7451887 ,\n",
       "       18.60436506, 20.37444401, 17.55883528,  7.80346693, 19.57174338,\n",
       "        4.853842  ,  7.80213165, 14.7745763 , 20.65802567, 15.07637053,\n",
       "       13.01308275, 20.45241867])"
      ]
     },
     "execution_count": 24,
     "metadata": {},
     "output_type": "execute_result"
    }
   ],
   "source": [
    "Lir_ypred= li.predict(X_test)\n",
    "Lir_ypred"
   ]
  },
  {
   "cell_type": "code",
   "execution_count": 25,
   "metadata": {},
   "outputs": [],
   "source": [
    "from sklearn.metrics import mean_squared_error,r2_score"
   ]
  },
  {
   "cell_type": "code",
   "execution_count": 26,
   "metadata": {},
   "outputs": [
    {
     "name": "stdout",
     "output_type": "stream",
     "text": [
      "Mean squared Error: 4.596541060078428\n",
      "Root Mean Squared Error: 2.1439545377825593\n"
     ]
    }
   ],
   "source": [
    "#print('Mean Absolute Error:',mean_absolute_error(y_test,Lir_ypred))\n",
    "print('Mean squared Error:',mean_squared_error(y_test,Lir_ypred))\n",
    "print('Root Mean Squared Error:',np.sqrt(mean_squared_error(y_test,Lir_ypred)))\n",
    "#print('R2_Score:',r2_score(y_test,Lir_ypred))"
   ]
  },
  {
   "cell_type": "code",
   "execution_count": 27,
   "metadata": {},
   "outputs": [
    {
     "data": {
      "text/plain": [
       "0.8718989523441569"
      ]
     },
     "execution_count": 27,
     "metadata": {},
     "output_type": "execute_result"
    }
   ],
   "source": [
    "linear_r2_score=r2_score(y_test,Lir_ypred)\n",
    "linear_r2_score"
   ]
  },
  {
   "cell_type": "markdown",
   "metadata": {},
   "source": [
    "# Lasso Regressor"
   ]
  },
  {
   "cell_type": "code",
   "execution_count": 28,
   "metadata": {},
   "outputs": [
    {
     "data": {
      "text/plain": [
       "Lasso(alpha=0.0001, copy_X=True, fit_intercept=True, max_iter=1000,\n",
       "      normalize=False, positive=False, precompute=False, random_state=None,\n",
       "      selection='cyclic', tol=0.0001, warm_start=False)"
      ]
     },
     "execution_count": 28,
     "metadata": {},
     "output_type": "execute_result"
    }
   ],
   "source": [
    "#Lasso Regressor\n",
    "lass=Lasso(alpha=0.0001)\n",
    "lass.fit(X_train,y_train)"
   ]
  },
  {
   "cell_type": "code",
   "execution_count": 29,
   "metadata": {},
   "outputs": [],
   "source": [
    "Lass_ypred= lass.predict(X_test)"
   ]
  },
  {
   "cell_type": "code",
   "execution_count": 30,
   "metadata": {},
   "outputs": [
    {
     "name": "stdout",
     "output_type": "stream",
     "text": [
      "Mean squared Error: 4.596474044173604\n",
      "Root Mean Squared Error: 2.143938908685041\n"
     ]
    }
   ],
   "source": [
    "print('Mean squared Error:',mean_squared_error(y_test,Lass_ypred))\n",
    "print('Root Mean Squared Error:',np.sqrt(mean_squared_error(y_test,Lass_ypred)))\n",
    "#print('R2_Score:',r2_score(y_test,Lass_ypred))"
   ]
  },
  {
   "cell_type": "code",
   "execution_count": 31,
   "metadata": {},
   "outputs": [
    {
     "data": {
      "text/plain": [
       "0.8719008200110624"
      ]
     },
     "execution_count": 31,
     "metadata": {},
     "output_type": "execute_result"
    }
   ],
   "source": [
    "lasso_r2_score=r2_score(y_test,Lass_ypred)\n",
    "lasso_r2_score"
   ]
  },
  {
   "cell_type": "markdown",
   "metadata": {},
   "source": [
    "# Ridge Regressor"
   ]
  },
  {
   "cell_type": "code",
   "execution_count": 32,
   "metadata": {},
   "outputs": [
    {
     "data": {
      "text/plain": [
       "Ridge(alpha=0.0001, copy_X=True, fit_intercept=True, max_iter=None,\n",
       "      normalize=False, random_state=None, solver='auto', tol=0.001)"
      ]
     },
     "execution_count": 32,
     "metadata": {},
     "output_type": "execute_result"
    }
   ],
   "source": [
    "#RIdge\n",
    "rid=Ridge(alpha=0.0001)\n",
    "rid.fit(X_train,y_train)"
   ]
  },
  {
   "cell_type": "code",
   "execution_count": 33,
   "metadata": {},
   "outputs": [],
   "source": [
    "rid_ypred= rid.predict(X_test)"
   ]
  },
  {
   "cell_type": "code",
   "execution_count": 34,
   "metadata": {},
   "outputs": [
    {
     "name": "stdout",
     "output_type": "stream",
     "text": [
      "Mean squared Error: 4.596541067998994\n",
      "Root Mean Squared Error: 2.1439545396297457\n"
     ]
    }
   ],
   "source": [
    "print('Mean squared Error:',mean_squared_error(y_test,rid_ypred))\n",
    "print('Root Mean Squared Error:',np.sqrt(mean_squared_error(y_test,rid_ypred)))\n",
    "#print('R2_Score:',r2_score(y_test,rid_ypred))"
   ]
  },
  {
   "cell_type": "code",
   "execution_count": 35,
   "metadata": {},
   "outputs": [
    {
     "data": {
      "text/plain": [
       "0.8718989521234186"
      ]
     },
     "execution_count": 35,
     "metadata": {},
     "output_type": "execute_result"
    }
   ],
   "source": [
    "ridge_r2_score=r2_score(y_test,rid_ypred)\n",
    "ridge_r2_score"
   ]
  },
  {
   "cell_type": "markdown",
   "metadata": {},
   "source": [
    "### Decision Tree Regressor"
   ]
  },
  {
   "cell_type": "code",
   "execution_count": 36,
   "metadata": {},
   "outputs": [],
   "source": [
    "#Decision Tree Regressor\n",
    "from sklearn.tree import DecisionTreeRegressor\n",
    "dt=DecisionTreeRegressor()"
   ]
  },
  {
   "cell_type": "code",
   "execution_count": 37,
   "metadata": {},
   "outputs": [
    {
     "data": {
      "text/plain": [
       "DecisionTreeRegressor(criterion='mse', max_depth=None, max_features=None,\n",
       "                      max_leaf_nodes=None, min_impurity_decrease=0.0,\n",
       "                      min_impurity_split=None, min_samples_leaf=1,\n",
       "                      min_samples_split=2, min_weight_fraction_leaf=0.0,\n",
       "                      presort=False, random_state=None, splitter='best')"
      ]
     },
     "execution_count": 37,
     "metadata": {},
     "output_type": "execute_result"
    }
   ],
   "source": [
    "dt.fit(X_train,y_train)"
   ]
  },
  {
   "cell_type": "code",
   "execution_count": 38,
   "metadata": {},
   "outputs": [],
   "source": [
    "dt_ypred= dt.predict(X_test)"
   ]
  },
  {
   "cell_type": "code",
   "execution_count": 39,
   "metadata": {},
   "outputs": [
    {
     "name": "stdout",
     "output_type": "stream",
     "text": [
      "Mean squared Error: 4.57594090909091\n",
      "Root Mean Squared Error: 2.139144901377864\n"
     ]
    }
   ],
   "source": [
    "print('Mean squared Error:',mean_squared_error(y_test,dt_ypred))\n",
    "print('Root Mean Squared Error:',np.sqrt(mean_squared_error(y_test,dt_ypred)))\n",
    "#print('R2_Score:',r2_score(y_test,dt_ypred))"
   ]
  },
  {
   "cell_type": "code",
   "execution_count": 40,
   "metadata": {},
   "outputs": [
    {
     "data": {
      "text/plain": [
       "0.872473058153042"
      ]
     },
     "execution_count": 40,
     "metadata": {},
     "output_type": "execute_result"
    }
   ],
   "source": [
    "decisiontree_r2_score=r2_score(y_test,dt_ypred)\n",
    "decisiontree_r2_score"
   ]
  },
  {
   "cell_type": "markdown",
   "metadata": {},
   "source": [
    "# KNN Regressor"
   ]
  },
  {
   "cell_type": "code",
   "execution_count": 41,
   "metadata": {},
   "outputs": [
    {
     "data": {
      "text/plain": [
       "KNeighborsRegressor(algorithm='auto', leaf_size=30, metric='minkowski',\n",
       "                    metric_params=None, n_jobs=None, n_neighbors=7, p=2,\n",
       "                    weights='uniform')"
      ]
     },
     "execution_count": 41,
     "metadata": {},
     "output_type": "execute_result"
    }
   ],
   "source": [
    "from sklearn.neighbors import KNeighborsRegressor\n",
    "\n",
    "kn=KNeighborsRegressor(n_neighbors=7)\n",
    "kn.fit(X_train,y_train)"
   ]
  },
  {
   "cell_type": "code",
   "execution_count": 42,
   "metadata": {},
   "outputs": [],
   "source": [
    "kn1_pred=kn.predict(X_test)"
   ]
  },
  {
   "cell_type": "code",
   "execution_count": 43,
   "metadata": {},
   "outputs": [
    {
     "name": "stdout",
     "output_type": "stream",
     "text": [
      "Mean squared Error: 3.419546011131726\n",
      "Root Mean Squared Error: 1.8492014522846683\n"
     ]
    }
   ],
   "source": [
    "print('Mean squared Error:',mean_squared_error(y_test,kn1_pred))\n",
    "print('Root Mean Squared Error:',np.sqrt(mean_squared_error(y_test,kn1_pred)))\n",
    "#print('R2_Score:',r2_score(y_test,kn1_pred))"
   ]
  },
  {
   "cell_type": "code",
   "execution_count": 44,
   "metadata": {},
   "outputs": [
    {
     "data": {
      "text/plain": [
       "0.9047006388482345"
      ]
     },
     "execution_count": 44,
     "metadata": {},
     "output_type": "execute_result"
    }
   ],
   "source": [
    "kneighbour_r2_score=r2_score(y_test,kn1_pred)\n",
    "kneighbour_r2_score"
   ]
  },
  {
   "cell_type": "markdown",
   "metadata": {},
   "source": [
    "### SVR rbf Regressor"
   ]
  },
  {
   "cell_type": "code",
   "execution_count": 45,
   "metadata": {},
   "outputs": [
    {
     "name": "stderr",
     "output_type": "stream",
     "text": [
      "C:\\ProgramData\\Anaconda3\\lib\\site-packages\\sklearn\\svm\\base.py:193: FutureWarning: The default value of gamma will change from 'auto' to 'scale' in version 0.22 to account better for unscaled features. Set gamma explicitly to 'auto' or 'scale' to avoid this warning.\n",
      "  \"avoid this warning.\", FutureWarning)\n"
     ]
    }
   ],
   "source": [
    "from sklearn.svm import SVR\n",
    "svr=SVR(kernel='rbf')\n",
    "svr.fit(X_train,y_train)\n",
    "svr_pred=svr.predict(X_test)"
   ]
  },
  {
   "cell_type": "code",
   "execution_count": 46,
   "metadata": {},
   "outputs": [
    {
     "name": "stdout",
     "output_type": "stream",
     "text": [
      "Mean squared Error: 16.2179442155783\n",
      "Root Mean Squared Error: 4.02715088065723\n"
     ]
    }
   ],
   "source": [
    "print('Mean squared Error:',mean_squared_error(y_test,svr_pred))\n",
    "print('Root Mean Squared Error:',np.sqrt(mean_squared_error(y_test,svr_pred)))\n",
    "#print('R2_Score:',r2_score(y_test,svr_pred))"
   ]
  },
  {
   "cell_type": "code",
   "execution_count": 47,
   "metadata": {},
   "outputs": [
    {
     "data": {
      "text/plain": [
       "0.5480219544032199"
      ]
     },
     "execution_count": 47,
     "metadata": {},
     "output_type": "execute_result"
    }
   ],
   "source": [
    "svr_r2_score=r2_score(y_test,svr_pred)\n",
    "svr_r2_score"
   ]
  },
  {
   "cell_type": "markdown",
   "metadata": {},
   "source": [
    "# Random Forest"
   ]
  },
  {
   "cell_type": "code",
   "execution_count": 48,
   "metadata": {},
   "outputs": [],
   "source": [
    "from sklearn.ensemble import RandomForestRegressor"
   ]
  },
  {
   "cell_type": "code",
   "execution_count": 49,
   "metadata": {},
   "outputs": [],
   "source": [
    "rf = RandomForestRegressor(n_estimators = 1000, random_state = 42)\n",
    "rf.fit(X_train, y_train);"
   ]
  },
  {
   "cell_type": "code",
   "execution_count": 50,
   "metadata": {},
   "outputs": [],
   "source": [
    "rf_pred=rf.predict(X_test)"
   ]
  },
  {
   "cell_type": "code",
   "execution_count": 51,
   "metadata": {},
   "outputs": [
    {
     "name": "stdout",
     "output_type": "stream",
     "text": [
      "Mean squared Error: 3.951476401190922\n",
      "Root Mean Squared Error: 1.987832085763514\n"
     ]
    }
   ],
   "source": [
    "print('Mean squared Error:',mean_squared_error(y_test,rf_pred))\n",
    "print('Root Mean Squared Error:',np.sqrt(mean_squared_error(y_test,rf_pred)))\n",
    "#print('R2_Score:',r2_score(y_test,rf_pred))"
   ]
  },
  {
   "cell_type": "code",
   "execution_count": 52,
   "metadata": {},
   "outputs": [
    {
     "data": {
      "text/plain": [
       "0.8898762656171594"
      ]
     },
     "execution_count": 52,
     "metadata": {},
     "output_type": "execute_result"
    }
   ],
   "source": [
    "randomforest_r2_score=r2_score(y_test,rf_pred)\n",
    "randomforest_r2_score"
   ]
  },
  {
   "cell_type": "markdown",
   "metadata": {},
   "source": [
    "### Bayesian Regressor"
   ]
  },
  {
   "cell_type": "code",
   "execution_count": 53,
   "metadata": {},
   "outputs": [],
   "source": [
    "from sklearn.linear_model import BayesianRidge\n",
    "br=BayesianRidge()\n",
    "br.fit(X_train,y_train)\n",
    "y_pred=br.predict(X_test)"
   ]
  },
  {
   "cell_type": "code",
   "execution_count": 54,
   "metadata": {},
   "outputs": [
    {
     "name": "stdout",
     "output_type": "stream",
     "text": [
      "Mean squared Error: 4.5987749909478906\n",
      "Root Mean Squared Error: 2.144475458229329\n"
     ]
    }
   ],
   "source": [
    "print('Mean squared Error:',mean_squared_error(y_test,y_pred))\n",
    "print('Root Mean Squared Error:',np.sqrt(mean_squared_error(y_test,y_pred)))\n",
    "#print('R2_Score:',r2_score(y_test,y_pred))"
   ]
  },
  {
   "cell_type": "code",
   "execution_count": 55,
   "metadata": {},
   "outputs": [
    {
     "data": {
      "text/plain": [
       "0.8718366949029575"
      ]
     },
     "execution_count": 55,
     "metadata": {},
     "output_type": "execute_result"
    }
   ],
   "source": [
    "bayes_r2_score=r2_score(y_test,y_pred)\n",
    "bayes_r2_score"
   ]
  },
  {
   "cell_type": "code",
   "execution_count": 56,
   "metadata": {},
   "outputs": [],
   "source": [
    "Regressors=['Linear','Lasso','Ridge','DecisionTree','KNeighbour','SVR','RandomForest','Bayesian']\n",
    "R2_Score=[linear_r2_score,lasso_r2_score,ridge_r2_score,decisiontree_r2_score,kneighbour_r2_score,svr_r2_score,randomforest_r2_score,bayes_r2_score]"
   ]
  },
  {
   "cell_type": "code",
   "execution_count": 57,
   "metadata": {},
   "outputs": [
    {
     "name": "stderr",
     "output_type": "stream",
     "text": [
      "No handles with labels found to put in legend.\n"
     ]
    },
    {
     "data": {
      "image/png": "[encoded data removed]",
      "text/plain": [
       "<Figure size 1080x288 with 1 Axes>"
      ]
     },
     "metadata": {
      "needs_background": "light"
     },
     "output_type": "display_data"
    }
   ],
   "source": [
    "plt.figure(figsize=(15,4))\n",
    "plt.plot(Regressors,R2_Score, color = 'Red')\n",
    "\n",
    "plt.title('Comparision between different Regressors',fontsize=15)\n",
    "plt.xlabel('Regressors',fontsize=15)\n",
    "plt.ylabel('Accuracy Values',fontsize=15)\n",
    "plt.legend()\n",
    "plt.show()\n"
   ]
  },
  {
   "cell_type": "markdown",
   "metadata": {},
   "source": [
    "# KNeighbour  is best for dewpoint prediction with accuracy of 90% followed by Random forest with 88% "
   ]
  },
  {
   "cell_type": "code",
   "execution_count": 58,
   "metadata": {},
   "outputs": [],
   "source": [
    "dewpoint2020=pd.read_csv(\"C:/Users/Abhishek Wagh/Desktop/MTech_Project/Sugarcane/Phase1/csv/Dewpoints/Dewpoint2020pred.csv\")"
   ]
  },
  {
   "cell_type": "code",
   "execution_count": 59,
   "metadata": {},
   "outputs": [],
   "source": [
    "#sh2020.drop(['MinTemperature','Month'],axis=1,inplace=True)"
   ]
  },
  {
   "cell_type": "code",
   "execution_count": 60,
   "metadata": {},
   "outputs": [],
   "source": [
    "dewpoint2020=dewpoint2020.iloc[:,:].values"
   ]
  },
  {
   "cell_type": "code",
   "execution_count": 61,
   "metadata": {},
   "outputs": [
    {
     "data": {
      "text/plain": [
       "array([[2.020e+03, 1.000e+00, 4.880e+00, 6.700e+00],\n",
       "       [2.020e+03, 2.000e+00, 2.700e+00, 4.880e+00],\n",
       "       [2.020e+03, 3.000e+00, 5.430e+00, 7.190e+00],\n",
       "       [2.020e+03, 4.000e+00, 6.820e+00, 9.580e+00],\n",
       "       [2.020e+03, 5.000e+00, 1.520e+01, 1.518e+01],\n",
       "       [2.020e+03, 6.000e+00, 2.086e+01, 2.126e+01],\n",
       "       [2.020e+03, 7.000e+00, 2.093e+01, 2.085e+01],\n",
       "       [2.020e+03, 8.000e+00, 2.052e+01, 2.042e+01],\n",
       "       [2.020e+03, 9.000e+00, 2.140e+01, 1.954e+01],\n",
       "       [2.020e+03, 1.000e+01, 1.917e+01, 1.571e+01],\n",
       "       [2.020e+03, 1.100e+01, 1.428e+01, 1.147e+01],\n",
       "       [2.020e+03, 1.200e+01, 1.106e+01, 6.990e+00]])"
      ]
     },
     "execution_count": 61,
     "metadata": {},
     "output_type": "execute_result"
    }
   ],
   "source": [
    "dewpoint2020"
   ]
  },
  {
   "cell_type": "code",
   "execution_count": 62,
   "metadata": {},
   "outputs": [],
   "source": [
    "dewpoint2020_pred=[]"
   ]
  },
  {
   "cell_type": "code",
   "execution_count": 63,
   "metadata": {},
   "outputs": [],
   "source": [
    "dewpoint2020_pred=kn.predict(dewpoint2020)"
   ]
  },
  {
   "cell_type": "code",
   "execution_count": 64,
   "metadata": {},
   "outputs": [
    {
     "data": {
      "text/plain": [
       "array([ 5.23714286,  5.23714286,  6.31428571,  6.39714286, 14.85857143,\n",
       "       20.81428571, 20.89142857, 20.64571429, 20.59714286, 19.13857143,\n",
       "       12.24      ,  9.33428571])"
      ]
     },
     "execution_count": 64,
     "metadata": {},
     "output_type": "execute_result"
    }
   ],
   "source": [
    "dewpoint2020_pred"
   ]
  },
  {
   "cell_type": "code",
   "execution_count": 65,
   "metadata": {},
   "outputs": [
    {
     "data": {
      "text/html": [
       "<div>\n",
       "<style scoped>\n",
       "    .dataframe tbody tr th:only-of-type {\n",
       "        vertical-align: middle;\n",
       "    }\n",
       "\n",
       "    .dataframe tbody tr th {\n",
       "        vertical-align: top;\n",
       "    }\n",
       "\n",
       "    .dataframe thead th {\n",
       "        text-align: right;\n",
       "    }\n",
       "</style>\n",
       "<table border=\"1\" class=\"dataframe\">\n",
       "  <thead>\n",
       "    <tr style=\"text-align: right;\">\n",
       "      <th></th>\n",
       "      <th>0</th>\n",
       "    </tr>\n",
       "  </thead>\n",
       "  <tbody>\n",
       "    <tr>\n",
       "      <td>0</td>\n",
       "      <td>5.237143</td>\n",
       "    </tr>\n",
       "    <tr>\n",
       "      <td>1</td>\n",
       "      <td>5.237143</td>\n",
       "    </tr>\n",
       "    <tr>\n",
       "      <td>2</td>\n",
       "      <td>6.314286</td>\n",
       "    </tr>\n",
       "    <tr>\n",
       "      <td>3</td>\n",
       "      <td>6.397143</td>\n",
       "    </tr>\n",
       "    <tr>\n",
       "      <td>4</td>\n",
       "      <td>14.858571</td>\n",
       "    </tr>\n",
       "    <tr>\n",
       "      <td>5</td>\n",
       "      <td>20.814286</td>\n",
       "    </tr>\n",
       "    <tr>\n",
       "      <td>6</td>\n",
       "      <td>20.891429</td>\n",
       "    </tr>\n",
       "    <tr>\n",
       "      <td>7</td>\n",
       "      <td>20.645714</td>\n",
       "    </tr>\n",
       "    <tr>\n",
       "      <td>8</td>\n",
       "      <td>20.597143</td>\n",
       "    </tr>\n",
       "    <tr>\n",
       "      <td>9</td>\n",
       "      <td>19.138571</td>\n",
       "    </tr>\n",
       "    <tr>\n",
       "      <td>10</td>\n",
       "      <td>12.240000</td>\n",
       "    </tr>\n",
       "    <tr>\n",
       "      <td>11</td>\n",
       "      <td>9.334286</td>\n",
       "    </tr>\n",
       "  </tbody>\n",
       "</table>\n",
       "</div>"
      ],
      "text/plain": [
       "            0\n",
       "0    5.237143\n",
       "1    5.237143\n",
       "2    6.314286\n",
       "3    6.397143\n",
       "4   14.858571\n",
       "5   20.814286\n",
       "6   20.891429\n",
       "7   20.645714\n",
       "8   20.597143\n",
       "9   19.138571\n",
       "10  12.240000\n",
       "11   9.334286"
      ]
     },
     "execution_count": 65,
     "metadata": {},
     "output_type": "execute_result"
    }
   ],
   "source": [
    "dewpoint_data=pd.DataFrame(data=dewpoint2020_pred)\n",
    "dewpoint_data"
   ]
  },
  {
   "cell_type": "code",
   "execution_count": 66,
   "metadata": {},
   "outputs": [],
   "source": [
    "dewpoint_data.to_csv(r\"C:\\Users\\Abhishek Wagh\\Desktop\\MTech_Project\\Sugarcane\\Phase1\\csv\\Dewpoints\\2020dewpoint.csv\")"
   ]
  },
  {
   "cell_type": "code",
   "execution_count": null,
   "metadata": {},
   "outputs": [],
   "source": []
  }
 ],
 "metadata": {
  "kernelspec": {
   "display_name": "Python 3",
   "language": "python",
   "name": "python3"
  },
  "language_info": {
   "codemirror_mode": {
    "name": "ipython",
    "version": 3
   },
   "file_extension": ".py",
   "mimetype": "text/x-python",
   "name": "python",
   "nbconvert_exporter": "python",
   "pygments_lexer": "ipython3",
   "version": "3.7.4"
  }
 },
 "nbformat": 4,
 "nbformat_minor": 2
}
