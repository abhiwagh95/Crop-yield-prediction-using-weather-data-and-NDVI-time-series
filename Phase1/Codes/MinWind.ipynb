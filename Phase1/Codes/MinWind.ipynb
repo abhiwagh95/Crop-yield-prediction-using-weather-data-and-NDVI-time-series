{
 "cells": [
  {
   "cell_type": "code",
   "execution_count": 1,
   "metadata": {},
   "outputs": [],
   "source": [
    "import pandas as pd\n",
    "import numpy as np\n",
    "import matplotlib.pyplot as plt\n",
    "import seaborn as sns\n",
    "%matplotlib inline"
   ]
  },
  {
   "cell_type": "code",
   "execution_count": 2,
   "metadata": {},
   "outputs": [],
   "source": [
    "minw=pd.read_csv(\"C:/Users/Abhishek Wagh/Desktop/MTech_Project/Sugarcane/Phase1/csv/MinWind/MinWind.csv\")"
   ]
  },
  {
   "cell_type": "code",
   "execution_count": 3,
   "metadata": {},
   "outputs": [
    {
     "data": {
      "text/html": [
       "<div>\n",
       "<style scoped>\n",
       "    .dataframe tbody tr th:only-of-type {\n",
       "        vertical-align: middle;\n",
       "    }\n",
       "\n",
       "    .dataframe tbody tr th {\n",
       "        vertical-align: top;\n",
       "    }\n",
       "\n",
       "    .dataframe thead th {\n",
       "        text-align: right;\n",
       "    }\n",
       "</style>\n",
       "<table border=\"1\" class=\"dataframe\">\n",
       "  <thead>\n",
       "    <tr style=\"text-align: right;\">\n",
       "      <th></th>\n",
       "      <th>Year</th>\n",
       "      <th>Month</th>\n",
       "      <th>minws_past</th>\n",
       "      <th>minws_pasttopast</th>\n",
       "      <th>MinWindSpeed</th>\n",
       "    </tr>\n",
       "  </thead>\n",
       "  <tbody>\n",
       "    <tr>\n",
       "      <td>0</td>\n",
       "      <td>2002</td>\n",
       "      <td>1</td>\n",
       "      <td>1.32</td>\n",
       "      <td>1.99</td>\n",
       "      <td>1.82</td>\n",
       "    </tr>\n",
       "    <tr>\n",
       "      <td>1</td>\n",
       "      <td>2002</td>\n",
       "      <td>2</td>\n",
       "      <td>1.31</td>\n",
       "      <td>1.39</td>\n",
       "      <td>1.20</td>\n",
       "    </tr>\n",
       "    <tr>\n",
       "      <td>2</td>\n",
       "      <td>2002</td>\n",
       "      <td>3</td>\n",
       "      <td>1.61</td>\n",
       "      <td>1.31</td>\n",
       "      <td>1.44</td>\n",
       "    </tr>\n",
       "    <tr>\n",
       "      <td>3</td>\n",
       "      <td>2002</td>\n",
       "      <td>4</td>\n",
       "      <td>0.86</td>\n",
       "      <td>2.36</td>\n",
       "      <td>1.33</td>\n",
       "    </tr>\n",
       "    <tr>\n",
       "      <td>4</td>\n",
       "      <td>2002</td>\n",
       "      <td>5</td>\n",
       "      <td>3.94</td>\n",
       "      <td>3.04</td>\n",
       "      <td>3.50</td>\n",
       "    </tr>\n",
       "    <tr>\n",
       "      <td>...</td>\n",
       "      <td>...</td>\n",
       "      <td>...</td>\n",
       "      <td>...</td>\n",
       "      <td>...</td>\n",
       "      <td>...</td>\n",
       "    </tr>\n",
       "    <tr>\n",
       "      <td>211</td>\n",
       "      <td>2019</td>\n",
       "      <td>8</td>\n",
       "      <td>5.15</td>\n",
       "      <td>3.40</td>\n",
       "      <td>3.40</td>\n",
       "    </tr>\n",
       "    <tr>\n",
       "      <td>212</td>\n",
       "      <td>2019</td>\n",
       "      <td>9</td>\n",
       "      <td>2.01</td>\n",
       "      <td>1.78</td>\n",
       "      <td>1.78</td>\n",
       "    </tr>\n",
       "    <tr>\n",
       "      <td>213</td>\n",
       "      <td>2019</td>\n",
       "      <td>10</td>\n",
       "      <td>1.17</td>\n",
       "      <td>1.43</td>\n",
       "      <td>1.43</td>\n",
       "    </tr>\n",
       "    <tr>\n",
       "      <td>214</td>\n",
       "      <td>2019</td>\n",
       "      <td>11</td>\n",
       "      <td>1.56</td>\n",
       "      <td>1.69</td>\n",
       "      <td>1.69</td>\n",
       "    </tr>\n",
       "    <tr>\n",
       "      <td>215</td>\n",
       "      <td>2019</td>\n",
       "      <td>12</td>\n",
       "      <td>1.58</td>\n",
       "      <td>1.80</td>\n",
       "      <td>1.80</td>\n",
       "    </tr>\n",
       "  </tbody>\n",
       "</table>\n",
       "<p>216 rows × 5 columns</p>\n",
       "</div>"
      ],
      "text/plain": [
       "     Year  Month  minws_past  minws_pasttopast  MinWindSpeed\n",
       "0    2002      1        1.32              1.99          1.82\n",
       "1    2002      2        1.31              1.39          1.20\n",
       "2    2002      3        1.61              1.31          1.44\n",
       "3    2002      4        0.86              2.36          1.33\n",
       "4    2002      5        3.94              3.04          3.50\n",
       "..    ...    ...         ...               ...           ...\n",
       "211  2019      8        5.15              3.40          3.40\n",
       "212  2019      9        2.01              1.78          1.78\n",
       "213  2019     10        1.17              1.43          1.43\n",
       "214  2019     11        1.56              1.69          1.69\n",
       "215  2019     12        1.58              1.80          1.80\n",
       "\n",
       "[216 rows x 5 columns]"
      ]
     },
     "execution_count": 3,
     "metadata": {},
     "output_type": "execute_result"
    }
   ],
   "source": [
    "minw"
   ]
  },
  {
   "cell_type": "code",
   "execution_count": 4,
   "metadata": {},
   "outputs": [
    {
     "name": "stdout",
     "output_type": "stream",
     "text": [
      "<class 'pandas.core.frame.DataFrame'>\n",
      "RangeIndex: 216 entries, 0 to 215\n",
      "Data columns (total 5 columns):\n",
      "Year                216 non-null int64\n",
      "Month               216 non-null int64\n",
      "minws_past          216 non-null float64\n",
      "minws_pasttopast    216 non-null float64\n",
      "MinWindSpeed        216 non-null float64\n",
      "dtypes: float64(3), int64(2)\n",
      "memory usage: 8.6 KB\n"
     ]
    }
   ],
   "source": [
    "minw.info()"
   ]
  },
  {
   "cell_type": "code",
   "execution_count": 5,
   "metadata": {},
   "outputs": [
    {
     "data": {
      "text/html": [
       "<div>\n",
       "<style scoped>\n",
       "    .dataframe tbody tr th:only-of-type {\n",
       "        vertical-align: middle;\n",
       "    }\n",
       "\n",
       "    .dataframe tbody tr th {\n",
       "        vertical-align: top;\n",
       "    }\n",
       "\n",
       "    .dataframe thead th {\n",
       "        text-align: right;\n",
       "    }\n",
       "</style>\n",
       "<table border=\"1\" class=\"dataframe\">\n",
       "  <thead>\n",
       "    <tr style=\"text-align: right;\">\n",
       "      <th></th>\n",
       "      <th>Year</th>\n",
       "      <th>Month</th>\n",
       "      <th>minws_past</th>\n",
       "      <th>minws_pasttopast</th>\n",
       "      <th>MinWindSpeed</th>\n",
       "    </tr>\n",
       "  </thead>\n",
       "  <tbody>\n",
       "    <tr>\n",
       "      <td>Year</td>\n",
       "      <td>1.000000</td>\n",
       "      <td>0.000000</td>\n",
       "      <td>-0.056457</td>\n",
       "      <td>-0.043386</td>\n",
       "      <td>-0.055971</td>\n",
       "    </tr>\n",
       "    <tr>\n",
       "      <td>Month</td>\n",
       "      <td>0.000000</td>\n",
       "      <td>1.000000</td>\n",
       "      <td>0.212949</td>\n",
       "      <td>0.209581</td>\n",
       "      <td>0.205868</td>\n",
       "    </tr>\n",
       "    <tr>\n",
       "      <td>minws_past</td>\n",
       "      <td>-0.056457</td>\n",
       "      <td>0.212949</td>\n",
       "      <td>1.000000</td>\n",
       "      <td>0.902736</td>\n",
       "      <td>0.906991</td>\n",
       "    </tr>\n",
       "    <tr>\n",
       "      <td>minws_pasttopast</td>\n",
       "      <td>-0.043386</td>\n",
       "      <td>0.209581</td>\n",
       "      <td>0.902736</td>\n",
       "      <td>1.000000</td>\n",
       "      <td>0.908271</td>\n",
       "    </tr>\n",
       "    <tr>\n",
       "      <td>MinWindSpeed</td>\n",
       "      <td>-0.055971</td>\n",
       "      <td>0.205868</td>\n",
       "      <td>0.906991</td>\n",
       "      <td>0.908271</td>\n",
       "      <td>1.000000</td>\n",
       "    </tr>\n",
       "  </tbody>\n",
       "</table>\n",
       "</div>"
      ],
      "text/plain": [
       "                      Year     Month  minws_past  minws_pasttopast  \\\n",
       "Year              1.000000  0.000000   -0.056457         -0.043386   \n",
       "Month             0.000000  1.000000    0.212949          0.209581   \n",
       "minws_past       -0.056457  0.212949    1.000000          0.902736   \n",
       "minws_pasttopast -0.043386  0.209581    0.902736          1.000000   \n",
       "MinWindSpeed     -0.055971  0.205868    0.906991          0.908271   \n",
       "\n",
       "                  MinWindSpeed  \n",
       "Year                 -0.055971  \n",
       "Month                 0.205868  \n",
       "minws_past            0.906991  \n",
       "minws_pasttopast      0.908271  \n",
       "MinWindSpeed          1.000000  "
      ]
     },
     "execution_count": 5,
     "metadata": {},
     "output_type": "execute_result"
    }
   ],
   "source": [
    "#Creating correlation for precipitation\n",
    "#Creating the correlation matrix for the features\n",
    "corr_matrix=minw.corr()\n",
    "corr_matrix"
   ]
  },
  {
   "cell_type": "code",
   "execution_count": 6,
   "metadata": {},
   "outputs": [],
   "source": [
    "mask = np.zeros_like(corr_matrix, dtype=np.bool)\n",
    "mask[np.triu_indices_from(mask)]= True"
   ]
  },
  {
   "cell_type": "code",
   "execution_count": 7,
   "metadata": {},
   "outputs": [
    {
     "data": {
      "image/png": "[encoded data removed]",
      "text/plain": [
       "<Figure size 360x288 with 2 Axes>"
      ]
     },
     "metadata": {
      "needs_background": "light"
     },
     "output_type": "display_data"
    }
   ],
   "source": [
    "f, ax = plt.subplots(figsize=(5, 4)) \n",
    "heatmap = sns.heatmap(corr_matrix, mask = mask,square = True,linewidths = .5, cmap = 'coolwarm', cbar_kws = {'shrink': .4, 'ticks' : [-1, -.5, 0, 0.5, 1]},vmin = -1, vmax = 1,annot = True,annot_kws = {'size': 12})\n",
    "#add the column names as labels\n",
    "ax.set_yticklabels(corr_matrix.columns, rotation = 0)\n",
    "ax.set_xticklabels(corr_matrix.columns)\n",
    "sns.set_style({'xtick.bottom': True}, {'ytick.left': True})"
   ]
  },
  {
   "cell_type": "code",
   "execution_count": 8,
   "metadata": {},
   "outputs": [],
   "source": [
    "minw=minw.drop(['Year'],axis=1)"
   ]
  },
  {
   "cell_type": "code",
   "execution_count": 9,
   "metadata": {},
   "outputs": [
    {
     "data": {
      "text/plain": [
       "(216, 4)"
      ]
     },
     "execution_count": 9,
     "metadata": {},
     "output_type": "execute_result"
    }
   ],
   "source": [
    "minw.shape"
   ]
  },
  {
   "cell_type": "code",
   "execution_count": 10,
   "metadata": {},
   "outputs": [],
   "source": [
    "minw=minw.iloc[:,:].values"
   ]
  },
  {
   "cell_type": "code",
   "execution_count": 11,
   "metadata": {},
   "outputs": [
    {
     "data": {
      "text/plain": [
       "array([[ 1.  ,  1.32,  1.99,  1.82],\n",
       "       [ 2.  ,  1.31,  1.39,  1.2 ],\n",
       "       [ 3.  ,  1.61,  1.31,  1.44],\n",
       "       [ 4.  ,  0.86,  2.36,  1.33],\n",
       "       [ 5.  ,  3.94,  3.04,  3.5 ],\n",
       "       [ 6.  ,  5.19,  3.7 ,  3.88],\n",
       "       [ 7.  ,  5.3 ,  5.38,  5.17],\n",
       "       [ 8.  ,  4.39,  4.33,  4.84],\n",
       "       [ 9.  ,  1.84,  2.36,  2.72],\n",
       "       [10.  ,  2.17,  1.  ,  1.7 ],\n",
       "       [11.  ,  2.2 ,  1.83,  1.86],\n",
       "       [12.  ,  2.22,  2.2 ,  1.41],\n",
       "       [ 1.  ,  1.82,  1.32,  1.61],\n",
       "       [ 2.  ,  1.2 ,  1.31,  1.03],\n",
       "       [ 3.  ,  1.44,  1.61,  1.18],\n",
       "       [ 4.  ,  1.33,  0.86,  1.17],\n",
       "       [ 5.  ,  3.5 ,  3.94,  3.72],\n",
       "       [ 6.  ,  3.88,  5.19,  4.52],\n",
       "       [ 7.  ,  5.17,  5.3 ,  4.68],\n",
       "       [ 8.  ,  4.84,  4.39,  4.  ],\n",
       "       [ 9.  ,  2.72,  1.84,  2.92],\n",
       "       [10.  ,  1.7 ,  2.17,  1.61],\n",
       "       [11.  ,  1.86,  2.2 ,  2.05],\n",
       "       [12.  ,  1.41,  2.22,  2.02],\n",
       "       [ 1.  ,  1.61,  1.82,  1.43],\n",
       "       [ 2.  ,  1.03,  1.2 ,  1.39],\n",
       "       [ 3.  ,  1.18,  1.44,  1.27],\n",
       "       [ 4.  ,  1.17,  1.33,  1.86],\n",
       "       [ 5.  ,  3.72,  3.5 ,  3.01],\n",
       "       [ 6.  ,  4.52,  3.88,  4.28],\n",
       "       [ 7.  ,  4.68,  5.17,  3.82],\n",
       "       [ 8.  ,  4.  ,  4.84,  5.62],\n",
       "       [ 9.  ,  2.92,  2.72,  2.14],\n",
       "       [10.  ,  1.61,  1.7 ,  2.2 ],\n",
       "       [11.  ,  2.05,  1.86,  2.23],\n",
       "       [12.  ,  2.02,  1.41,  2.17],\n",
       "       [ 1.  ,  1.43,  1.61,  1.29],\n",
       "       [ 2.  ,  1.39,  1.03,  1.41],\n",
       "       [ 3.  ,  1.27,  1.18,  1.54],\n",
       "       [ 4.  ,  1.86,  1.17,  1.42],\n",
       "       [ 5.  ,  3.01,  3.72,  2.88],\n",
       "       [ 6.  ,  4.28,  4.52,  4.12],\n",
       "       [ 7.  ,  3.82,  4.68,  4.95],\n",
       "       [ 8.  ,  5.62,  4.  ,  4.36],\n",
       "       [ 9.  ,  2.14,  2.92,  3.08],\n",
       "       [10.  ,  2.2 ,  1.61,  1.8 ],\n",
       "       [11.  ,  2.23,  2.05,  2.16],\n",
       "       [12.  ,  2.17,  2.02,  1.78],\n",
       "       [ 1.  ,  1.29,  1.43,  2.05],\n",
       "       [ 2.  ,  1.41,  1.39,  1.63],\n",
       "       [ 3.  ,  1.54,  1.27,  1.13],\n",
       "       [ 4.  ,  1.42,  1.86,  1.58],\n",
       "       [ 5.  ,  2.88,  3.01,  2.81],\n",
       "       [ 6.  ,  4.12,  4.28,  3.33],\n",
       "       [ 7.  ,  4.95,  3.82,  5.6 ],\n",
       "       [ 8.  ,  4.36,  5.62,  4.96],\n",
       "       [ 9.  ,  3.08,  2.14,  1.97],\n",
       "       [10.  ,  1.8 ,  2.2 ,  1.96],\n",
       "       [11.  ,  2.16,  2.23,  1.83],\n",
       "       [12.  ,  1.78,  2.17,  1.97],\n",
       "       [ 1.  ,  2.05,  1.29,  1.56],\n",
       "       [ 2.  ,  1.63,  1.41,  1.39],\n",
       "       [ 3.  ,  1.13,  1.54,  1.16],\n",
       "       [ 4.  ,  1.58,  1.42,  1.17],\n",
       "       [ 5.  ,  2.81,  2.88,  3.11],\n",
       "       [ 6.  ,  3.33,  4.12,  3.53],\n",
       "       [ 7.  ,  5.6 ,  4.95,  4.72],\n",
       "       [ 8.  ,  4.96,  4.36,  4.16],\n",
       "       [ 9.  ,  1.97,  3.08,  2.78],\n",
       "       [10.  ,  1.96,  1.8 ,  1.94],\n",
       "       [11.  ,  1.83,  2.16,  2.09],\n",
       "       [12.  ,  1.97,  1.78,  1.72],\n",
       "       [ 1.  ,  1.56,  2.05,  1.68],\n",
       "       [ 2.  ,  1.39,  1.63,  1.34],\n",
       "       [ 3.  ,  1.16,  1.13,  1.03],\n",
       "       [ 4.  ,  1.17,  1.58,  1.43],\n",
       "       [ 5.  ,  3.11,  2.81,  3.9 ],\n",
       "       [ 6.  ,  3.53,  3.33,  4.34],\n",
       "       [ 7.  ,  4.72,  5.6 ,  4.63],\n",
       "       [ 8.  ,  4.16,  4.96,  3.88],\n",
       "       [ 9.  ,  2.78,  1.97,  2.55],\n",
       "       [10.  ,  1.94,  1.96,  1.85],\n",
       "       [11.  ,  2.09,  1.83,  2.12],\n",
       "       [12.  ,  1.72,  1.97,  1.87],\n",
       "       [ 1.  ,  1.68,  1.56,  1.9 ],\n",
       "       [ 2.  ,  1.34,  1.39,  1.  ],\n",
       "       [ 3.  ,  1.03,  1.16,  0.88],\n",
       "       [ 4.  ,  1.43,  1.17,  1.36],\n",
       "       [ 5.  ,  3.9 ,  3.11,  2.77],\n",
       "       [ 6.  ,  4.34,  3.53,  4.17],\n",
       "       [ 7.  ,  4.63,  4.72,  6.49],\n",
       "       [ 8.  ,  3.88,  4.16,  3.5 ],\n",
       "       [ 9.  ,  2.55,  2.78,  2.42],\n",
       "       [10.  ,  1.85,  1.94,  2.23],\n",
       "       [11.  ,  2.12,  2.09,  2.09],\n",
       "       [12.  ,  1.87,  1.72,  1.51],\n",
       "       [ 1.  ,  1.9 ,  1.68,  1.56],\n",
       "       [ 2.  ,  1.  ,  1.34,  1.19],\n",
       "       [ 3.  ,  0.88,  1.03,  1.4 ],\n",
       "       [ 4.  ,  1.36,  1.43,  1.43],\n",
       "       [ 5.  ,  2.77,  3.9 ,  3.12],\n",
       "       [ 6.  ,  4.17,  4.34,  3.61],\n",
       "       [ 7.  ,  6.49,  4.63,  4.5 ],\n",
       "       [ 8.  ,  3.5 ,  3.88,  3.85],\n",
       "       [ 9.  ,  2.42,  2.55,  2.5 ],\n",
       "       [10.  ,  2.23,  1.85,  1.91],\n",
       "       [11.  ,  2.09,  2.12,  1.69],\n",
       "       [12.  ,  1.51,  1.87,  1.82],\n",
       "       [ 1.  ,  1.56,  1.9 ,  1.66],\n",
       "       [ 2.  ,  1.19,  1.  ,  1.17],\n",
       "       [ 3.  ,  1.4 ,  0.88,  1.3 ],\n",
       "       [ 4.  ,  1.43,  1.36,  1.14],\n",
       "       [ 5.  ,  3.12,  2.77,  2.79],\n",
       "       [ 6.  ,  3.61,  4.17,  4.82],\n",
       "       [ 7.  ,  4.5 ,  6.49,  4.62],\n",
       "       [ 8.  ,  3.85,  3.5 ,  4.45],\n",
       "       [ 9.  ,  2.5 ,  2.42,  3.09],\n",
       "       [10.  ,  1.91,  2.23,  1.64],\n",
       "       [11.  ,  1.69,  2.09,  2.48],\n",
       "       [12.  ,  1.82,  1.51,  2.03],\n",
       "       [ 1.  ,  1.66,  1.56,  1.08],\n",
       "       [ 2.  ,  1.17,  1.19,  1.34],\n",
       "       [ 3.  ,  1.3 ,  1.4 ,  1.62],\n",
       "       [ 4.  ,  1.14,  1.43,  1.15],\n",
       "       [ 5.  ,  2.79,  3.12,  3.49],\n",
       "       [ 6.  ,  4.82,  3.61,  4.94],\n",
       "       [ 7.  ,  4.62,  4.5 ,  5.03],\n",
       "       [ 8.  ,  4.45,  3.85,  4.69],\n",
       "       [ 9.  ,  3.09,  2.5 ,  3.26],\n",
       "       [10.  ,  1.64,  1.91,  1.81],\n",
       "       [11.  ,  2.48,  1.69,  1.12],\n",
       "       [12.  ,  2.03,  1.82,  1.68],\n",
       "       [ 1.  ,  1.08,  1.66,  1.11],\n",
       "       [ 2.  ,  1.34,  1.17,  1.39],\n",
       "       [ 3.  ,  1.62,  1.3 ,  1.56],\n",
       "       [ 4.  ,  1.15,  1.14,  1.72],\n",
       "       [ 5.  ,  3.49,  2.79,  3.54],\n",
       "       [ 6.  ,  4.94,  4.82,  4.32],\n",
       "       [ 7.  ,  5.03,  4.62,  5.87],\n",
       "       [ 8.  ,  4.69,  4.45,  4.09],\n",
       "       [ 9.  ,  3.26,  3.09,  2.47],\n",
       "       [10.  ,  1.81,  1.64,  2.2 ],\n",
       "       [11.  ,  1.12,  2.48,  1.86],\n",
       "       [12.  ,  1.68,  2.03,  1.72],\n",
       "       [ 1.  ,  1.11,  1.08,  1.43],\n",
       "       [ 2.  ,  1.39,  1.34,  1.58],\n",
       "       [ 3.  ,  1.56,  1.62,  1.17],\n",
       "       [ 4.  ,  1.72,  1.15,  0.92],\n",
       "       [ 5.  ,  3.54,  3.49,  1.76],\n",
       "       [ 6.  ,  4.32,  4.94,  4.65],\n",
       "       [ 7.  ,  5.87,  5.03,  5.62],\n",
       "       [ 8.  ,  4.09,  4.69,  3.38],\n",
       "       [ 9.  ,  2.47,  3.26,  3.1 ],\n",
       "       [10.  ,  2.2 ,  1.81,  1.76],\n",
       "       [11.  ,  1.86,  1.12,  2.1 ],\n",
       "       [12.  ,  1.72,  1.68,  2.08],\n",
       "       [ 1.  ,  1.43,  1.11,  1.42],\n",
       "       [ 2.  ,  1.58,  1.39,  1.39],\n",
       "       [ 3.  ,  1.17,  1.56,  1.21],\n",
       "       [ 4.  ,  0.92,  1.72,  1.42],\n",
       "       [ 5.  ,  1.76,  3.54,  2.5 ],\n",
       "       [ 6.  ,  4.65,  4.32,  4.58],\n",
       "       [ 7.  ,  5.62,  5.87,  5.31],\n",
       "       [ 8.  ,  3.38,  4.09,  3.49],\n",
       "       [ 9.  ,  3.1 ,  2.47,  2.17],\n",
       "       [10.  ,  1.76,  2.2 ,  1.34],\n",
       "       [11.  ,  2.1 ,  1.86,  1.93],\n",
       "       [12.  ,  2.08,  1.72,  1.62],\n",
       "       [ 1.  ,  1.42,  1.43,  1.33],\n",
       "       [ 2.  ,  1.39,  1.58,  1.03],\n",
       "       [ 3.  ,  1.21,  1.17,  1.26],\n",
       "       [ 4.  ,  1.42,  0.92,  1.57],\n",
       "       [ 5.  ,  2.5 ,  1.76,  3.33],\n",
       "       [ 6.  ,  4.58,  4.65,  3.77],\n",
       "       [ 7.  ,  5.31,  5.62,  4.17],\n",
       "       [ 8.  ,  3.49,  3.38,  4.12],\n",
       "       [ 9.  ,  2.17,  3.1 ,  2.98],\n",
       "       [10.  ,  1.34,  1.76,  1.9 ],\n",
       "       [11.  ,  1.93,  2.1 ,  2.1 ],\n",
       "       [12.  ,  1.62,  2.08,  2.09],\n",
       "       [ 1.  ,  1.33,  1.42,  1.56],\n",
       "       [ 2.  ,  1.03,  1.39,  1.69],\n",
       "       [ 3.  ,  1.26,  1.21,  1.17],\n",
       "       [ 4.  ,  1.57,  1.42,  1.84],\n",
       "       [ 5.  ,  3.33,  2.5 ,  2.53],\n",
       "       [ 6.  ,  3.77,  4.58,  3.86],\n",
       "       [ 7.  ,  4.17,  5.31,  5.18],\n",
       "       [ 8.  ,  4.12,  3.49,  3.4 ],\n",
       "       [ 9.  ,  2.98,  2.17,  1.78],\n",
       "       [10.  ,  1.9 ,  1.34,  1.43],\n",
       "       [11.  ,  2.1 ,  1.93,  1.69],\n",
       "       [12.  ,  2.09,  1.62,  1.8 ],\n",
       "       [ 1.  ,  1.56,  1.33,  1.3 ],\n",
       "       [ 2.  ,  1.69,  1.03,  1.32],\n",
       "       [ 3.  ,  1.17,  1.26,  1.15],\n",
       "       [ 4.  ,  1.84,  1.57,  1.23],\n",
       "       [ 5.  ,  2.53,  3.33,  2.1 ],\n",
       "       [ 6.  ,  3.86,  3.77,  3.59],\n",
       "       [ 7.  ,  5.18,  4.17,  5.23],\n",
       "       [ 8.  ,  3.4 ,  4.12,  5.15],\n",
       "       [ 9.  ,  1.78,  2.98,  2.01],\n",
       "       [10.  ,  1.43,  1.9 ,  1.17],\n",
       "       [11.  ,  1.69,  2.1 ,  1.56],\n",
       "       [12.  ,  1.8 ,  2.09,  1.58],\n",
       "       [ 1.  ,  1.3 ,  1.56,  1.56],\n",
       "       [ 2.  ,  1.32,  1.69,  1.69],\n",
       "       [ 3.  ,  1.15,  1.17,  1.17],\n",
       "       [ 4.  ,  1.23,  1.84,  1.84],\n",
       "       [ 5.  ,  2.1 ,  2.53,  2.53],\n",
       "       [ 6.  ,  3.59,  3.86,  3.86],\n",
       "       [ 7.  ,  5.23,  5.18,  5.18],\n",
       "       [ 8.  ,  5.15,  3.4 ,  3.4 ],\n",
       "       [ 9.  ,  2.01,  1.78,  1.78],\n",
       "       [10.  ,  1.17,  1.43,  1.43],\n",
       "       [11.  ,  1.56,  1.69,  1.69],\n",
       "       [12.  ,  1.58,  1.8 ,  1.8 ]])"
      ]
     },
     "execution_count": 11,
     "metadata": {},
     "output_type": "execute_result"
    }
   ],
   "source": [
    "minw"
   ]
  },
  {
   "cell_type": "code",
   "execution_count": 12,
   "metadata": {},
   "outputs": [],
   "source": [
    "X=minw[:,:-1]\n",
    "y=minw[:,-1]"
   ]
  },
  {
   "cell_type": "code",
   "execution_count": 13,
   "metadata": {},
   "outputs": [
    {
     "data": {
      "text/plain": [
       "array([[ 1.  ,  1.32,  1.99],\n",
       "       [ 2.  ,  1.31,  1.39],\n",
       "       [ 3.  ,  1.61,  1.31],\n",
       "       [ 4.  ,  0.86,  2.36],\n",
       "       [ 5.  ,  3.94,  3.04],\n",
       "       [ 6.  ,  5.19,  3.7 ],\n",
       "       [ 7.  ,  5.3 ,  5.38],\n",
       "       [ 8.  ,  4.39,  4.33],\n",
       "       [ 9.  ,  1.84,  2.36],\n",
       "       [10.  ,  2.17,  1.  ],\n",
       "       [11.  ,  2.2 ,  1.83],\n",
       "       [12.  ,  2.22,  2.2 ],\n",
       "       [ 1.  ,  1.82,  1.32],\n",
       "       [ 2.  ,  1.2 ,  1.31],\n",
       "       [ 3.  ,  1.44,  1.61],\n",
       "       [ 4.  ,  1.33,  0.86],\n",
       "       [ 5.  ,  3.5 ,  3.94],\n",
       "       [ 6.  ,  3.88,  5.19],\n",
       "       [ 7.  ,  5.17,  5.3 ],\n",
       "       [ 8.  ,  4.84,  4.39],\n",
       "       [ 9.  ,  2.72,  1.84],\n",
       "       [10.  ,  1.7 ,  2.17],\n",
       "       [11.  ,  1.86,  2.2 ],\n",
       "       [12.  ,  1.41,  2.22],\n",
       "       [ 1.  ,  1.61,  1.82],\n",
       "       [ 2.  ,  1.03,  1.2 ],\n",
       "       [ 3.  ,  1.18,  1.44],\n",
       "       [ 4.  ,  1.17,  1.33],\n",
       "       [ 5.  ,  3.72,  3.5 ],\n",
       "       [ 6.  ,  4.52,  3.88],\n",
       "       [ 7.  ,  4.68,  5.17],\n",
       "       [ 8.  ,  4.  ,  4.84],\n",
       "       [ 9.  ,  2.92,  2.72],\n",
       "       [10.  ,  1.61,  1.7 ],\n",
       "       [11.  ,  2.05,  1.86],\n",
       "       [12.  ,  2.02,  1.41],\n",
       "       [ 1.  ,  1.43,  1.61],\n",
       "       [ 2.  ,  1.39,  1.03],\n",
       "       [ 3.  ,  1.27,  1.18],\n",
       "       [ 4.  ,  1.86,  1.17],\n",
       "       [ 5.  ,  3.01,  3.72],\n",
       "       [ 6.  ,  4.28,  4.52],\n",
       "       [ 7.  ,  3.82,  4.68],\n",
       "       [ 8.  ,  5.62,  4.  ],\n",
       "       [ 9.  ,  2.14,  2.92],\n",
       "       [10.  ,  2.2 ,  1.61],\n",
       "       [11.  ,  2.23,  2.05],\n",
       "       [12.  ,  2.17,  2.02],\n",
       "       [ 1.  ,  1.29,  1.43],\n",
       "       [ 2.  ,  1.41,  1.39],\n",
       "       [ 3.  ,  1.54,  1.27],\n",
       "       [ 4.  ,  1.42,  1.86],\n",
       "       [ 5.  ,  2.88,  3.01],\n",
       "       [ 6.  ,  4.12,  4.28],\n",
       "       [ 7.  ,  4.95,  3.82],\n",
       "       [ 8.  ,  4.36,  5.62],\n",
       "       [ 9.  ,  3.08,  2.14],\n",
       "       [10.  ,  1.8 ,  2.2 ],\n",
       "       [11.  ,  2.16,  2.23],\n",
       "       [12.  ,  1.78,  2.17],\n",
       "       [ 1.  ,  2.05,  1.29],\n",
       "       [ 2.  ,  1.63,  1.41],\n",
       "       [ 3.  ,  1.13,  1.54],\n",
       "       [ 4.  ,  1.58,  1.42],\n",
       "       [ 5.  ,  2.81,  2.88],\n",
       "       [ 6.  ,  3.33,  4.12],\n",
       "       [ 7.  ,  5.6 ,  4.95],\n",
       "       [ 8.  ,  4.96,  4.36],\n",
       "       [ 9.  ,  1.97,  3.08],\n",
       "       [10.  ,  1.96,  1.8 ],\n",
       "       [11.  ,  1.83,  2.16],\n",
       "       [12.  ,  1.97,  1.78],\n",
       "       [ 1.  ,  1.56,  2.05],\n",
       "       [ 2.  ,  1.39,  1.63],\n",
       "       [ 3.  ,  1.16,  1.13],\n",
       "       [ 4.  ,  1.17,  1.58],\n",
       "       [ 5.  ,  3.11,  2.81],\n",
       "       [ 6.  ,  3.53,  3.33],\n",
       "       [ 7.  ,  4.72,  5.6 ],\n",
       "       [ 8.  ,  4.16,  4.96],\n",
       "       [ 9.  ,  2.78,  1.97],\n",
       "       [10.  ,  1.94,  1.96],\n",
       "       [11.  ,  2.09,  1.83],\n",
       "       [12.  ,  1.72,  1.97],\n",
       "       [ 1.  ,  1.68,  1.56],\n",
       "       [ 2.  ,  1.34,  1.39],\n",
       "       [ 3.  ,  1.03,  1.16],\n",
       "       [ 4.  ,  1.43,  1.17],\n",
       "       [ 5.  ,  3.9 ,  3.11],\n",
       "       [ 6.  ,  4.34,  3.53],\n",
       "       [ 7.  ,  4.63,  4.72],\n",
       "       [ 8.  ,  3.88,  4.16],\n",
       "       [ 9.  ,  2.55,  2.78],\n",
       "       [10.  ,  1.85,  1.94],\n",
       "       [11.  ,  2.12,  2.09],\n",
       "       [12.  ,  1.87,  1.72],\n",
       "       [ 1.  ,  1.9 ,  1.68],\n",
       "       [ 2.  ,  1.  ,  1.34],\n",
       "       [ 3.  ,  0.88,  1.03],\n",
       "       [ 4.  ,  1.36,  1.43],\n",
       "       [ 5.  ,  2.77,  3.9 ],\n",
       "       [ 6.  ,  4.17,  4.34],\n",
       "       [ 7.  ,  6.49,  4.63],\n",
       "       [ 8.  ,  3.5 ,  3.88],\n",
       "       [ 9.  ,  2.42,  2.55],\n",
       "       [10.  ,  2.23,  1.85],\n",
       "       [11.  ,  2.09,  2.12],\n",
       "       [12.  ,  1.51,  1.87],\n",
       "       [ 1.  ,  1.56,  1.9 ],\n",
       "       [ 2.  ,  1.19,  1.  ],\n",
       "       [ 3.  ,  1.4 ,  0.88],\n",
       "       [ 4.  ,  1.43,  1.36],\n",
       "       [ 5.  ,  3.12,  2.77],\n",
       "       [ 6.  ,  3.61,  4.17],\n",
       "       [ 7.  ,  4.5 ,  6.49],\n",
       "       [ 8.  ,  3.85,  3.5 ],\n",
       "       [ 9.  ,  2.5 ,  2.42],\n",
       "       [10.  ,  1.91,  2.23],\n",
       "       [11.  ,  1.69,  2.09],\n",
       "       [12.  ,  1.82,  1.51],\n",
       "       [ 1.  ,  1.66,  1.56],\n",
       "       [ 2.  ,  1.17,  1.19],\n",
       "       [ 3.  ,  1.3 ,  1.4 ],\n",
       "       [ 4.  ,  1.14,  1.43],\n",
       "       [ 5.  ,  2.79,  3.12],\n",
       "       [ 6.  ,  4.82,  3.61],\n",
       "       [ 7.  ,  4.62,  4.5 ],\n",
       "       [ 8.  ,  4.45,  3.85],\n",
       "       [ 9.  ,  3.09,  2.5 ],\n",
       "       [10.  ,  1.64,  1.91],\n",
       "       [11.  ,  2.48,  1.69],\n",
       "       [12.  ,  2.03,  1.82],\n",
       "       [ 1.  ,  1.08,  1.66],\n",
       "       [ 2.  ,  1.34,  1.17],\n",
       "       [ 3.  ,  1.62,  1.3 ],\n",
       "       [ 4.  ,  1.15,  1.14],\n",
       "       [ 5.  ,  3.49,  2.79],\n",
       "       [ 6.  ,  4.94,  4.82],\n",
       "       [ 7.  ,  5.03,  4.62],\n",
       "       [ 8.  ,  4.69,  4.45],\n",
       "       [ 9.  ,  3.26,  3.09],\n",
       "       [10.  ,  1.81,  1.64],\n",
       "       [11.  ,  1.12,  2.48],\n",
       "       [12.  ,  1.68,  2.03],\n",
       "       [ 1.  ,  1.11,  1.08],\n",
       "       [ 2.  ,  1.39,  1.34],\n",
       "       [ 3.  ,  1.56,  1.62],\n",
       "       [ 4.  ,  1.72,  1.15],\n",
       "       [ 5.  ,  3.54,  3.49],\n",
       "       [ 6.  ,  4.32,  4.94],\n",
       "       [ 7.  ,  5.87,  5.03],\n",
       "       [ 8.  ,  4.09,  4.69],\n",
       "       [ 9.  ,  2.47,  3.26],\n",
       "       [10.  ,  2.2 ,  1.81],\n",
       "       [11.  ,  1.86,  1.12],\n",
       "       [12.  ,  1.72,  1.68],\n",
       "       [ 1.  ,  1.43,  1.11],\n",
       "       [ 2.  ,  1.58,  1.39],\n",
       "       [ 3.  ,  1.17,  1.56],\n",
       "       [ 4.  ,  0.92,  1.72],\n",
       "       [ 5.  ,  1.76,  3.54],\n",
       "       [ 6.  ,  4.65,  4.32],\n",
       "       [ 7.  ,  5.62,  5.87],\n",
       "       [ 8.  ,  3.38,  4.09],\n",
       "       [ 9.  ,  3.1 ,  2.47],\n",
       "       [10.  ,  1.76,  2.2 ],\n",
       "       [11.  ,  2.1 ,  1.86],\n",
       "       [12.  ,  2.08,  1.72],\n",
       "       [ 1.  ,  1.42,  1.43],\n",
       "       [ 2.  ,  1.39,  1.58],\n",
       "       [ 3.  ,  1.21,  1.17],\n",
       "       [ 4.  ,  1.42,  0.92],\n",
       "       [ 5.  ,  2.5 ,  1.76],\n",
       "       [ 6.  ,  4.58,  4.65],\n",
       "       [ 7.  ,  5.31,  5.62],\n",
       "       [ 8.  ,  3.49,  3.38],\n",
       "       [ 9.  ,  2.17,  3.1 ],\n",
       "       [10.  ,  1.34,  1.76],\n",
       "       [11.  ,  1.93,  2.1 ],\n",
       "       [12.  ,  1.62,  2.08],\n",
       "       [ 1.  ,  1.33,  1.42],\n",
       "       [ 2.  ,  1.03,  1.39],\n",
       "       [ 3.  ,  1.26,  1.21],\n",
       "       [ 4.  ,  1.57,  1.42],\n",
       "       [ 5.  ,  3.33,  2.5 ],\n",
       "       [ 6.  ,  3.77,  4.58],\n",
       "       [ 7.  ,  4.17,  5.31],\n",
       "       [ 8.  ,  4.12,  3.49],\n",
       "       [ 9.  ,  2.98,  2.17],\n",
       "       [10.  ,  1.9 ,  1.34],\n",
       "       [11.  ,  2.1 ,  1.93],\n",
       "       [12.  ,  2.09,  1.62],\n",
       "       [ 1.  ,  1.56,  1.33],\n",
       "       [ 2.  ,  1.69,  1.03],\n",
       "       [ 3.  ,  1.17,  1.26],\n",
       "       [ 4.  ,  1.84,  1.57],\n",
       "       [ 5.  ,  2.53,  3.33],\n",
       "       [ 6.  ,  3.86,  3.77],\n",
       "       [ 7.  ,  5.18,  4.17],\n",
       "       [ 8.  ,  3.4 ,  4.12],\n",
       "       [ 9.  ,  1.78,  2.98],\n",
       "       [10.  ,  1.43,  1.9 ],\n",
       "       [11.  ,  1.69,  2.1 ],\n",
       "       [12.  ,  1.8 ,  2.09],\n",
       "       [ 1.  ,  1.3 ,  1.56],\n",
       "       [ 2.  ,  1.32,  1.69],\n",
       "       [ 3.  ,  1.15,  1.17],\n",
       "       [ 4.  ,  1.23,  1.84],\n",
       "       [ 5.  ,  2.1 ,  2.53],\n",
       "       [ 6.  ,  3.59,  3.86],\n",
       "       [ 7.  ,  5.23,  5.18],\n",
       "       [ 8.  ,  5.15,  3.4 ],\n",
       "       [ 9.  ,  2.01,  1.78],\n",
       "       [10.  ,  1.17,  1.43],\n",
       "       [11.  ,  1.56,  1.69],\n",
       "       [12.  ,  1.58,  1.8 ]])"
      ]
     },
     "execution_count": 13,
     "metadata": {},
     "output_type": "execute_result"
    }
   ],
   "source": [
    "X"
   ]
  },
  {
   "cell_type": "code",
   "execution_count": 14,
   "metadata": {},
   "outputs": [
    {
     "data": {
      "text/plain": [
       "array([1.82, 1.2 , 1.44, 1.33, 3.5 , 3.88, 5.17, 4.84, 2.72, 1.7 , 1.86,\n",
       "       1.41, 1.61, 1.03, 1.18, 1.17, 3.72, 4.52, 4.68, 4.  , 2.92, 1.61,\n",
       "       2.05, 2.02, 1.43, 1.39, 1.27, 1.86, 3.01, 4.28, 3.82, 5.62, 2.14,\n",
       "       2.2 , 2.23, 2.17, 1.29, 1.41, 1.54, 1.42, 2.88, 4.12, 4.95, 4.36,\n",
       "       3.08, 1.8 , 2.16, 1.78, 2.05, 1.63, 1.13, 1.58, 2.81, 3.33, 5.6 ,\n",
       "       4.96, 1.97, 1.96, 1.83, 1.97, 1.56, 1.39, 1.16, 1.17, 3.11, 3.53,\n",
       "       4.72, 4.16, 2.78, 1.94, 2.09, 1.72, 1.68, 1.34, 1.03, 1.43, 3.9 ,\n",
       "       4.34, 4.63, 3.88, 2.55, 1.85, 2.12, 1.87, 1.9 , 1.  , 0.88, 1.36,\n",
       "       2.77, 4.17, 6.49, 3.5 , 2.42, 2.23, 2.09, 1.51, 1.56, 1.19, 1.4 ,\n",
       "       1.43, 3.12, 3.61, 4.5 , 3.85, 2.5 , 1.91, 1.69, 1.82, 1.66, 1.17,\n",
       "       1.3 , 1.14, 2.79, 4.82, 4.62, 4.45, 3.09, 1.64, 2.48, 2.03, 1.08,\n",
       "       1.34, 1.62, 1.15, 3.49, 4.94, 5.03, 4.69, 3.26, 1.81, 1.12, 1.68,\n",
       "       1.11, 1.39, 1.56, 1.72, 3.54, 4.32, 5.87, 4.09, 2.47, 2.2 , 1.86,\n",
       "       1.72, 1.43, 1.58, 1.17, 0.92, 1.76, 4.65, 5.62, 3.38, 3.1 , 1.76,\n",
       "       2.1 , 2.08, 1.42, 1.39, 1.21, 1.42, 2.5 , 4.58, 5.31, 3.49, 2.17,\n",
       "       1.34, 1.93, 1.62, 1.33, 1.03, 1.26, 1.57, 3.33, 3.77, 4.17, 4.12,\n",
       "       2.98, 1.9 , 2.1 , 2.09, 1.56, 1.69, 1.17, 1.84, 2.53, 3.86, 5.18,\n",
       "       3.4 , 1.78, 1.43, 1.69, 1.8 , 1.3 , 1.32, 1.15, 1.23, 2.1 , 3.59,\n",
       "       5.23, 5.15, 2.01, 1.17, 1.56, 1.58, 1.56, 1.69, 1.17, 1.84, 2.53,\n",
       "       3.86, 5.18, 3.4 , 1.78, 1.43, 1.69, 1.8 ])"
      ]
     },
     "execution_count": 14,
     "metadata": {},
     "output_type": "execute_result"
    }
   ],
   "source": [
    "y"
   ]
  },
  {
   "cell_type": "code",
   "execution_count": 15,
   "metadata": {},
   "outputs": [
    {
     "data": {
      "text/plain": [
       "(216, 3)"
      ]
     },
     "execution_count": 15,
     "metadata": {},
     "output_type": "execute_result"
    }
   ],
   "source": [
    "X.shape"
   ]
  },
  {
   "cell_type": "code",
   "execution_count": 16,
   "metadata": {},
   "outputs": [
    {
     "data": {
      "text/plain": [
       "(216,)"
      ]
     },
     "execution_count": 16,
     "metadata": {},
     "output_type": "execute_result"
    }
   ],
   "source": [
    "y.shape"
   ]
  },
  {
   "cell_type": "code",
   "execution_count": 17,
   "metadata": {},
   "outputs": [],
   "source": [
    "#train test split\n",
    "from sklearn.model_selection import train_test_split\n",
    "X_train,X_test,y_train,y_test=train_test_split(X,y,test_size=0.2,random_state=101)"
   ]
  },
  {
   "cell_type": "code",
   "execution_count": 18,
   "metadata": {},
   "outputs": [],
   "source": [
    "X_train,y_train=np.array(X_train),np.array(y_train)"
   ]
  },
  {
   "cell_type": "code",
   "execution_count": 19,
   "metadata": {},
   "outputs": [],
   "source": [
    "from sklearn.linear_model import LinearRegression,Lasso,Ridge"
   ]
  },
  {
   "cell_type": "markdown",
   "metadata": {},
   "source": [
    "# Linear Regressor"
   ]
  },
  {
   "cell_type": "code",
   "execution_count": 20,
   "metadata": {},
   "outputs": [],
   "source": [
    "li=LinearRegression()"
   ]
  },
  {
   "cell_type": "code",
   "execution_count": 21,
   "metadata": {},
   "outputs": [
    {
     "data": {
      "text/plain": [
       "LinearRegression(copy_X=True, fit_intercept=True, n_jobs=None, normalize=False)"
      ]
     },
     "execution_count": 21,
     "metadata": {},
     "output_type": "execute_result"
    }
   ],
   "source": [
    "li.fit(X_train,y_train)"
   ]
  },
  {
   "cell_type": "code",
   "execution_count": 22,
   "metadata": {},
   "outputs": [
    {
     "data": {
      "text/plain": [
       "array([1.71093167, 5.1078827 , 2.06126673, 1.80339143, 1.14342357,\n",
       "       1.89639417, 1.18950369, 4.82761426, 4.59162395, 2.54639766,\n",
       "       2.0030896 , 4.28898754, 1.63872312, 1.22302279, 4.35750762,\n",
       "       1.29509685, 1.31062481, 3.43658586, 3.91230402, 3.43072716,\n",
       "       1.67905507, 3.63110437, 1.8985268 , 1.39374155, 4.27408533,\n",
       "       1.27497308, 1.43730839, 1.9541166 , 2.59478354, 1.88339095,\n",
       "       1.66873721, 1.39613067, 5.30362866, 1.25334243, 1.16063049,\n",
       "       4.43656661, 4.26600744, 1.48962682, 1.59607826, 1.39885146,\n",
       "       2.00926635, 2.02266168, 1.90221425, 1.54314555])"
      ]
     },
     "execution_count": 22,
     "metadata": {},
     "output_type": "execute_result"
    }
   ],
   "source": [
    "Lir_ypred= li.predict(X_test)\n",
    "Lir_ypred"
   ]
  },
  {
   "cell_type": "code",
   "execution_count": 23,
   "metadata": {},
   "outputs": [
    {
     "data": {
      "text/html": [
       "<div>\n",
       "<style scoped>\n",
       "    .dataframe tbody tr th:only-of-type {\n",
       "        vertical-align: middle;\n",
       "    }\n",
       "\n",
       "    .dataframe tbody tr th {\n",
       "        vertical-align: top;\n",
       "    }\n",
       "\n",
       "    .dataframe thead th {\n",
       "        text-align: right;\n",
       "    }\n",
       "</style>\n",
       "<table border=\"1\" class=\"dataframe\">\n",
       "  <thead>\n",
       "    <tr style=\"text-align: right;\">\n",
       "      <th></th>\n",
       "      <th>Actual</th>\n",
       "      <th>Predicted</th>\n",
       "    </tr>\n",
       "  </thead>\n",
       "  <tbody>\n",
       "    <tr>\n",
       "      <td>0</td>\n",
       "      <td>2.08</td>\n",
       "      <td>1.710932</td>\n",
       "    </tr>\n",
       "    <tr>\n",
       "      <td>1</td>\n",
       "      <td>4.72</td>\n",
       "      <td>5.107883</td>\n",
       "    </tr>\n",
       "    <tr>\n",
       "      <td>2</td>\n",
       "      <td>1.64</td>\n",
       "      <td>2.061267</td>\n",
       "    </tr>\n",
       "    <tr>\n",
       "      <td>3</td>\n",
       "      <td>1.56</td>\n",
       "      <td>1.803391</td>\n",
       "    </tr>\n",
       "    <tr>\n",
       "      <td>4</td>\n",
       "      <td>1.17</td>\n",
       "      <td>1.143424</td>\n",
       "    </tr>\n",
       "    <tr>\n",
       "      <td>5</td>\n",
       "      <td>2.23</td>\n",
       "      <td>1.896394</td>\n",
       "    </tr>\n",
       "    <tr>\n",
       "      <td>6</td>\n",
       "      <td>1.03</td>\n",
       "      <td>1.189504</td>\n",
       "    </tr>\n",
       "    <tr>\n",
       "      <td>7</td>\n",
       "      <td>4.96</td>\n",
       "      <td>4.827614</td>\n",
       "    </tr>\n",
       "    <tr>\n",
       "      <td>8</td>\n",
       "      <td>5.18</td>\n",
       "      <td>4.591624</td>\n",
       "    </tr>\n",
       "    <tr>\n",
       "      <td>9</td>\n",
       "      <td>1.78</td>\n",
       "      <td>2.546398</td>\n",
       "    </tr>\n",
       "    <tr>\n",
       "      <td>10</td>\n",
       "      <td>1.76</td>\n",
       "      <td>2.003090</td>\n",
       "    </tr>\n",
       "    <tr>\n",
       "      <td>11</td>\n",
       "      <td>5.62</td>\n",
       "      <td>4.288988</td>\n",
       "    </tr>\n",
       "    <tr>\n",
       "      <td>12</td>\n",
       "      <td>1.43</td>\n",
       "      <td>1.638723</td>\n",
       "    </tr>\n",
       "    <tr>\n",
       "      <td>13</td>\n",
       "      <td>1.34</td>\n",
       "      <td>1.223023</td>\n",
       "    </tr>\n",
       "    <tr>\n",
       "      <td>14</td>\n",
       "      <td>4.58</td>\n",
       "      <td>4.357508</td>\n",
       "    </tr>\n",
       "    <tr>\n",
       "      <td>15</td>\n",
       "      <td>1.39</td>\n",
       "      <td>1.295097</td>\n",
       "    </tr>\n",
       "    <tr>\n",
       "      <td>16</td>\n",
       "      <td>1.42</td>\n",
       "      <td>1.310625</td>\n",
       "    </tr>\n",
       "    <tr>\n",
       "      <td>17</td>\n",
       "      <td>1.76</td>\n",
       "      <td>3.436586</td>\n",
       "    </tr>\n",
       "    <tr>\n",
       "      <td>18</td>\n",
       "      <td>3.50</td>\n",
       "      <td>3.912304</td>\n",
       "    </tr>\n",
       "    <tr>\n",
       "      <td>19</td>\n",
       "      <td>2.77</td>\n",
       "      <td>3.430727</td>\n",
       "    </tr>\n",
       "    <tr>\n",
       "      <td>20</td>\n",
       "      <td>2.03</td>\n",
       "      <td>1.679055</td>\n",
       "    </tr>\n",
       "    <tr>\n",
       "      <td>21</td>\n",
       "      <td>3.53</td>\n",
       "      <td>3.631104</td>\n",
       "    </tr>\n",
       "    <tr>\n",
       "      <td>22</td>\n",
       "      <td>1.78</td>\n",
       "      <td>1.898527</td>\n",
       "    </tr>\n",
       "    <tr>\n",
       "      <td>23</td>\n",
       "      <td>2.05</td>\n",
       "      <td>1.393742</td>\n",
       "    </tr>\n",
       "    <tr>\n",
       "      <td>24</td>\n",
       "      <td>4.12</td>\n",
       "      <td>4.274085</td>\n",
       "    </tr>\n",
       "    <tr>\n",
       "      <td>25</td>\n",
       "      <td>1.17</td>\n",
       "      <td>1.274973</td>\n",
       "    </tr>\n",
       "    <tr>\n",
       "      <td>26</td>\n",
       "      <td>1.13</td>\n",
       "      <td>1.437308</td>\n",
       "    </tr>\n",
       "    <tr>\n",
       "      <td>27</td>\n",
       "      <td>2.23</td>\n",
       "      <td>1.954117</td>\n",
       "    </tr>\n",
       "    <tr>\n",
       "      <td>28</td>\n",
       "      <td>2.98</td>\n",
       "      <td>2.594784</td>\n",
       "    </tr>\n",
       "    <tr>\n",
       "      <td>29</td>\n",
       "      <td>1.94</td>\n",
       "      <td>1.883391</td>\n",
       "    </tr>\n",
       "    <tr>\n",
       "      <td>30</td>\n",
       "      <td>2.20</td>\n",
       "      <td>1.668737</td>\n",
       "    </tr>\n",
       "    <tr>\n",
       "      <td>31</td>\n",
       "      <td>1.21</td>\n",
       "      <td>1.396131</td>\n",
       "    </tr>\n",
       "    <tr>\n",
       "      <td>32</td>\n",
       "      <td>4.62</td>\n",
       "      <td>5.303629</td>\n",
       "    </tr>\n",
       "    <tr>\n",
       "      <td>33</td>\n",
       "      <td>1.41</td>\n",
       "      <td>1.253342</td>\n",
       "    </tr>\n",
       "    <tr>\n",
       "      <td>34</td>\n",
       "      <td>1.39</td>\n",
       "      <td>1.160630</td>\n",
       "    </tr>\n",
       "    <tr>\n",
       "      <td>35</td>\n",
       "      <td>4.09</td>\n",
       "      <td>4.436567</td>\n",
       "    </tr>\n",
       "    <tr>\n",
       "      <td>36</td>\n",
       "      <td>5.60</td>\n",
       "      <td>4.266007</td>\n",
       "    </tr>\n",
       "    <tr>\n",
       "      <td>37</td>\n",
       "      <td>1.44</td>\n",
       "      <td>1.489627</td>\n",
       "    </tr>\n",
       "    <tr>\n",
       "      <td>38</td>\n",
       "      <td>1.61</td>\n",
       "      <td>1.596078</td>\n",
       "    </tr>\n",
       "    <tr>\n",
       "      <td>39</td>\n",
       "      <td>1.58</td>\n",
       "      <td>1.398851</td>\n",
       "    </tr>\n",
       "    <tr>\n",
       "      <td>40</td>\n",
       "      <td>2.10</td>\n",
       "      <td>2.009266</td>\n",
       "    </tr>\n",
       "    <tr>\n",
       "      <td>41</td>\n",
       "      <td>2.05</td>\n",
       "      <td>2.022662</td>\n",
       "    </tr>\n",
       "    <tr>\n",
       "      <td>42</td>\n",
       "      <td>1.62</td>\n",
       "      <td>1.902214</td>\n",
       "    </tr>\n",
       "    <tr>\n",
       "      <td>43</td>\n",
       "      <td>1.42</td>\n",
       "      <td>1.543146</td>\n",
       "    </tr>\n",
       "  </tbody>\n",
       "</table>\n",
       "</div>"
      ],
      "text/plain": [
       "    Actual  Predicted\n",
       "0     2.08   1.710932\n",
       "1     4.72   5.107883\n",
       "2     1.64   2.061267\n",
       "3     1.56   1.803391\n",
       "4     1.17   1.143424\n",
       "5     2.23   1.896394\n",
       "6     1.03   1.189504\n",
       "7     4.96   4.827614\n",
       "8     5.18   4.591624\n",
       "9     1.78   2.546398\n",
       "10    1.76   2.003090\n",
       "11    5.62   4.288988\n",
       "12    1.43   1.638723\n",
       "13    1.34   1.223023\n",
       "14    4.58   4.357508\n",
       "15    1.39   1.295097\n",
       "16    1.42   1.310625\n",
       "17    1.76   3.436586\n",
       "18    3.50   3.912304\n",
       "19    2.77   3.430727\n",
       "20    2.03   1.679055\n",
       "21    3.53   3.631104\n",
       "22    1.78   1.898527\n",
       "23    2.05   1.393742\n",
       "24    4.12   4.274085\n",
       "25    1.17   1.274973\n",
       "26    1.13   1.437308\n",
       "27    2.23   1.954117\n",
       "28    2.98   2.594784\n",
       "29    1.94   1.883391\n",
       "30    2.20   1.668737\n",
       "31    1.21   1.396131\n",
       "32    4.62   5.303629\n",
       "33    1.41   1.253342\n",
       "34    1.39   1.160630\n",
       "35    4.09   4.436567\n",
       "36    5.60   4.266007\n",
       "37    1.44   1.489627\n",
       "38    1.61   1.596078\n",
       "39    1.58   1.398851\n",
       "40    2.10   2.009266\n",
       "41    2.05   2.022662\n",
       "42    1.62   1.902214\n",
       "43    1.42   1.543146"
      ]
     },
     "execution_count": 23,
     "metadata": {},
     "output_type": "execute_result"
    }
   ],
   "source": [
    "Linear=pd.DataFrame({'Actual':y_test,'Predicted':Lir_ypred})\n",
    "Linear"
   ]
  },
  {
   "cell_type": "code",
   "execution_count": 24,
   "metadata": {},
   "outputs": [],
   "source": [
    "from sklearn.metrics import mean_squared_error,r2_score"
   ]
  },
  {
   "cell_type": "code",
   "execution_count": 25,
   "metadata": {},
   "outputs": [
    {
     "name": "stdout",
     "output_type": "stream",
     "text": [
      "Mean squared Error: 0.24597949735714694\n",
      "Root Mean Squared Error: 0.4959632016159535\n",
      "R2_Score: 0.8650273731429892\n"
     ]
    }
   ],
   "source": [
    "#print('Mean Absolute Error:',mean_absolute_error(y_test,Lir_ypred))\n",
    "print('Mean squared Error:',mean_squared_error(y_test,Lir_ypred))\n",
    "print('Root Mean Squared Error:',np.sqrt(mean_squared_error(y_test,Lir_ypred)))\n",
    "print('R2_Score:',r2_score(y_test,Lir_ypred))"
   ]
  },
  {
   "cell_type": "code",
   "execution_count": 26,
   "metadata": {},
   "outputs": [
    {
     "data": {
      "text/plain": [
       "0.8650273731429892"
      ]
     },
     "execution_count": 26,
     "metadata": {},
     "output_type": "execute_result"
    }
   ],
   "source": [
    "linear_r2_score=r2_score(y_test,Lir_ypred)\n",
    "linear_r2_score"
   ]
  },
  {
   "cell_type": "markdown",
   "metadata": {},
   "source": [
    "# Lasso Regressor"
   ]
  },
  {
   "cell_type": "code",
   "execution_count": 27,
   "metadata": {},
   "outputs": [
    {
     "data": {
      "text/plain": [
       "Lasso(alpha=0.0001, copy_X=True, fit_intercept=True, max_iter=1000,\n",
       "      normalize=False, positive=False, precompute=False, random_state=None,\n",
       "      selection='cyclic', tol=0.0001, warm_start=False)"
      ]
     },
     "execution_count": 27,
     "metadata": {},
     "output_type": "execute_result"
    }
   ],
   "source": [
    "#Lasso Regressor\n",
    "lass=Lasso(alpha=0.0001)\n",
    "lass.fit(X_train,y_train)"
   ]
  },
  {
   "cell_type": "code",
   "execution_count": 28,
   "metadata": {},
   "outputs": [],
   "source": [
    "Lass_ypred= lass.predict(X_test)"
   ]
  },
  {
   "cell_type": "code",
   "execution_count": 29,
   "metadata": {},
   "outputs": [
    {
     "name": "stdout",
     "output_type": "stream",
     "text": [
      "Mean squared Error: 0.24598184274832577\n",
      "Root Mean Squared Error: 0.4959655660913626\n",
      "R2_Score: 0.8650260861917929\n"
     ]
    }
   ],
   "source": [
    "print('Mean squared Error:',mean_squared_error(y_test,Lass_ypred))\n",
    "print('Root Mean Squared Error:',np.sqrt(mean_squared_error(y_test,Lass_ypred)))\n",
    "print('R2_Score:',r2_score(y_test,Lass_ypred))"
   ]
  },
  {
   "cell_type": "code",
   "execution_count": 30,
   "metadata": {},
   "outputs": [
    {
     "data": {
      "text/plain": [
       "0.8650260861917929"
      ]
     },
     "execution_count": 30,
     "metadata": {},
     "output_type": "execute_result"
    }
   ],
   "source": [
    "lasso_r2_score=r2_score(y_test,Lass_ypred)\n",
    "lasso_r2_score"
   ]
  },
  {
   "cell_type": "markdown",
   "metadata": {},
   "source": [
    "# Ridge Regressor"
   ]
  },
  {
   "cell_type": "code",
   "execution_count": 31,
   "metadata": {},
   "outputs": [
    {
     "data": {
      "text/plain": [
       "Ridge(alpha=0.0001, copy_X=True, fit_intercept=True, max_iter=None,\n",
       "      normalize=False, random_state=None, solver='auto', tol=0.001)"
      ]
     },
     "execution_count": 31,
     "metadata": {},
     "output_type": "execute_result"
    }
   ],
   "source": [
    "#RIdge\n",
    "rid=Ridge(alpha=0.0001)\n",
    "rid.fit(X_train,y_train)"
   ]
  },
  {
   "cell_type": "code",
   "execution_count": 32,
   "metadata": {},
   "outputs": [],
   "source": [
    "rid_ypred= rid.predict(X_test)"
   ]
  },
  {
   "cell_type": "code",
   "execution_count": 33,
   "metadata": {},
   "outputs": [
    {
     "name": "stdout",
     "output_type": "stream",
     "text": [
      "Mean squared Error: 0.24597948329897337\n",
      "Root Mean Squared Error: 0.4959631874433559\n",
      "R2_Score: 0.8650273808569192\n"
     ]
    }
   ],
   "source": [
    "print('Mean squared Error:',mean_squared_error(y_test,rid_ypred))\n",
    "print('Root Mean Squared Error:',np.sqrt(mean_squared_error(y_test,rid_ypred)))\n",
    "print('R2_Score:',r2_score(y_test,rid_ypred))"
   ]
  },
  {
   "cell_type": "code",
   "execution_count": 34,
   "metadata": {},
   "outputs": [
    {
     "data": {
      "text/plain": [
       "0.8650273808569192"
      ]
     },
     "execution_count": 34,
     "metadata": {},
     "output_type": "execute_result"
    }
   ],
   "source": [
    "ridge_r2_score=r2_score(y_test,rid_ypred)\n",
    "ridge_r2_score"
   ]
  },
  {
   "cell_type": "markdown",
   "metadata": {},
   "source": [
    "# Decision Tree Regressor"
   ]
  },
  {
   "cell_type": "code",
   "execution_count": 35,
   "metadata": {},
   "outputs": [],
   "source": [
    "#Decision Tree Regressor\n",
    "from sklearn.tree import DecisionTreeRegressor\n",
    "dt=DecisionTreeRegressor()"
   ]
  },
  {
   "cell_type": "code",
   "execution_count": 36,
   "metadata": {},
   "outputs": [
    {
     "data": {
      "text/plain": [
       "DecisionTreeRegressor(criterion='mse', max_depth=None, max_features=None,\n",
       "                      max_leaf_nodes=None, min_impurity_decrease=0.0,\n",
       "                      min_impurity_split=None, min_samples_leaf=1,\n",
       "                      min_samples_split=2, min_weight_fraction_leaf=0.0,\n",
       "                      presort=False, random_state=None, splitter='best')"
      ]
     },
     "execution_count": 36,
     "metadata": {},
     "output_type": "execute_result"
    }
   ],
   "source": [
    "dt.fit(X_train,y_train)"
   ]
  },
  {
   "cell_type": "code",
   "execution_count": 37,
   "metadata": {},
   "outputs": [],
   "source": [
    "dt_ypred= dt.predict(X_test)"
   ]
  },
  {
   "cell_type": "code",
   "execution_count": 38,
   "metadata": {},
   "outputs": [
    {
     "name": "stdout",
     "output_type": "stream",
     "text": [
      "Mean squared Error: 0.47746136363636366\n",
      "Root Mean Squared Error: 0.6909857911971589\n",
      "R2_Score: 0.7380098131546247\n"
     ]
    }
   ],
   "source": [
    "print('Mean squared Error:',mean_squared_error(y_test,dt_ypred))\n",
    "print('Root Mean Squared Error:',np.sqrt(mean_squared_error(y_test,dt_ypred)))\n",
    "print('R2_Score:',r2_score(y_test,dt_ypred))"
   ]
  },
  {
   "cell_type": "code",
   "execution_count": 39,
   "metadata": {},
   "outputs": [
    {
     "data": {
      "text/plain": [
       "0.7380098131546247"
      ]
     },
     "execution_count": 39,
     "metadata": {},
     "output_type": "execute_result"
    }
   ],
   "source": [
    "decisiontree_r2_score=r2_score(y_test,dt_ypred)\n",
    "decisiontree_r2_score"
   ]
  },
  {
   "cell_type": "markdown",
   "metadata": {},
   "source": [
    "# KNN Regressor"
   ]
  },
  {
   "cell_type": "code",
   "execution_count": 40,
   "metadata": {},
   "outputs": [
    {
     "data": {
      "text/plain": [
       "KNeighborsRegressor(algorithm='auto', leaf_size=30, metric='minkowski',\n",
       "                    metric_params=None, n_jobs=None, n_neighbors=12, p=2,\n",
       "                    weights='uniform')"
      ]
     },
     "execution_count": 40,
     "metadata": {},
     "output_type": "execute_result"
    }
   ],
   "source": [
    "from sklearn.neighbors import KNeighborsRegressor\n",
    "\n",
    "kn=KNeighborsRegressor(n_neighbors=12)\n",
    "kn.fit(X_train,y_train)"
   ]
  },
  {
   "cell_type": "code",
   "execution_count": 41,
   "metadata": {},
   "outputs": [],
   "source": [
    "kn1_pred=kn.predict(X_test)"
   ]
  },
  {
   "cell_type": "code",
   "execution_count": 42,
   "metadata": {},
   "outputs": [
    {
     "name": "stdout",
     "output_type": "stream",
     "text": [
      "Mean squared Error: 0.1884575441919191\n",
      "Root Mean Squared Error: 0.43411697063339866\n",
      "R2_Score: 0.8965905286257572\n"
     ]
    }
   ],
   "source": [
    "print('Mean squared Error:',mean_squared_error(y_test,kn1_pred))\n",
    "print('Root Mean Squared Error:',np.sqrt(mean_squared_error(y_test,kn1_pred)))\n",
    "print('R2_Score:',r2_score(y_test,kn1_pred))"
   ]
  },
  {
   "cell_type": "code",
   "execution_count": 43,
   "metadata": {},
   "outputs": [
    {
     "data": {
      "text/plain": [
       "0.8965905286257572"
      ]
     },
     "execution_count": 43,
     "metadata": {},
     "output_type": "execute_result"
    }
   ],
   "source": [
    "kneighbour_r2_score=r2_score(y_test,kn1_pred)\n",
    "kneighbour_r2_score"
   ]
  },
  {
   "cell_type": "markdown",
   "metadata": {},
   "source": [
    "# SVR Regressor"
   ]
  },
  {
   "cell_type": "code",
   "execution_count": 44,
   "metadata": {},
   "outputs": [
    {
     "name": "stderr",
     "output_type": "stream",
     "text": [
      "C:\\ProgramData\\Anaconda3\\lib\\site-packages\\sklearn\\svm\\base.py:193: FutureWarning: The default value of gamma will change from 'auto' to 'scale' in version 0.22 to account better for unscaled features. Set gamma explicitly to 'auto' or 'scale' to avoid this warning.\n",
      "  \"avoid this warning.\", FutureWarning)\n"
     ]
    }
   ],
   "source": [
    "from sklearn.svm import SVR\n",
    "svr=SVR(kernel='rbf')\n",
    "svr.fit(X_train,y_train)\n",
    "svr_pred=svr.predict(X_test)"
   ]
  },
  {
   "cell_type": "code",
   "execution_count": 45,
   "metadata": {},
   "outputs": [
    {
     "name": "stdout",
     "output_type": "stream",
     "text": [
      "Mean squared Error: 0.3019078555118263\n",
      "Root Mean Squared Error: 0.549461423133441\n",
      "R2_Score: 0.8343386470619841\n"
     ]
    }
   ],
   "source": [
    "print('Mean squared Error:',mean_squared_error(y_test,svr_pred))\n",
    "print('Root Mean Squared Error:',np.sqrt(mean_squared_error(y_test,svr_pred)))\n",
    "print('R2_Score:',r2_score(y_test,svr_pred))"
   ]
  },
  {
   "cell_type": "code",
   "execution_count": 46,
   "metadata": {},
   "outputs": [
    {
     "data": {
      "text/plain": [
       "0.8343386470619841"
      ]
     },
     "execution_count": 46,
     "metadata": {},
     "output_type": "execute_result"
    }
   ],
   "source": [
    "svr_r2_score=r2_score(y_test,svr_pred)\n",
    "svr_r2_score"
   ]
  },
  {
   "cell_type": "markdown",
   "metadata": {},
   "source": [
    "# Random Forest Regressor"
   ]
  },
  {
   "cell_type": "code",
   "execution_count": 47,
   "metadata": {},
   "outputs": [],
   "source": [
    "from sklearn.ensemble import RandomForestRegressor"
   ]
  },
  {
   "cell_type": "code",
   "execution_count": 48,
   "metadata": {},
   "outputs": [],
   "source": [
    "rf = RandomForestRegressor(n_estimators = 100, random_state = 42)\n",
    "rf.fit(X_train, y_train);"
   ]
  },
  {
   "cell_type": "code",
   "execution_count": 49,
   "metadata": {},
   "outputs": [],
   "source": [
    "rf_pred=rf.predict(X_test)"
   ]
  },
  {
   "cell_type": "code",
   "execution_count": 50,
   "metadata": {},
   "outputs": [
    {
     "name": "stdout",
     "output_type": "stream",
     "text": [
      "Mean squared Error: 0.29764002613636376\n",
      "Root Mean Squared Error: 0.5455639523798871\n",
      "R2_Score: 0.8366804688315739\n"
     ]
    }
   ],
   "source": [
    "print('Mean squared Error:',mean_squared_error(y_test,rf_pred))\n",
    "print('Root Mean Squared Error:',np.sqrt(mean_squared_error(y_test,rf_pred)))\n",
    "print('R2_Score:',r2_score(y_test,rf_pred))"
   ]
  },
  {
   "cell_type": "code",
   "execution_count": 51,
   "metadata": {},
   "outputs": [
    {
     "data": {
      "text/plain": [
       "0.8366804688315739"
      ]
     },
     "execution_count": 51,
     "metadata": {},
     "output_type": "execute_result"
    }
   ],
   "source": [
    "randomforest_r2_score=r2_score(y_test,rf_pred)\n",
    "randomforest_r2_score"
   ]
  },
  {
   "cell_type": "markdown",
   "metadata": {},
   "source": [
    "# Bayes Regressor"
   ]
  },
  {
   "cell_type": "code",
   "execution_count": 52,
   "metadata": {},
   "outputs": [],
   "source": [
    "from sklearn.linear_model import BayesianRidge\n",
    "br=BayesianRidge()\n",
    "br.fit(X_train,y_train)\n",
    "y_pred=br.predict(X_test)"
   ]
  },
  {
   "cell_type": "code",
   "execution_count": 53,
   "metadata": {},
   "outputs": [
    {
     "data": {
      "text/html": [
       "<div>\n",
       "<style scoped>\n",
       "    .dataframe tbody tr th:only-of-type {\n",
       "        vertical-align: middle;\n",
       "    }\n",
       "\n",
       "    .dataframe tbody tr th {\n",
       "        vertical-align: top;\n",
       "    }\n",
       "\n",
       "    .dataframe thead th {\n",
       "        text-align: right;\n",
       "    }\n",
       "</style>\n",
       "<table border=\"1\" class=\"dataframe\">\n",
       "  <thead>\n",
       "    <tr style=\"text-align: right;\">\n",
       "      <th></th>\n",
       "      <th>Actual</th>\n",
       "      <th>Predicted</th>\n",
       "    </tr>\n",
       "  </thead>\n",
       "  <tbody>\n",
       "    <tr>\n",
       "      <td>0</td>\n",
       "      <td>2.08</td>\n",
       "      <td>1.714295</td>\n",
       "    </tr>\n",
       "    <tr>\n",
       "      <td>1</td>\n",
       "      <td>4.72</td>\n",
       "      <td>5.100871</td>\n",
       "    </tr>\n",
       "    <tr>\n",
       "      <td>2</td>\n",
       "      <td>1.64</td>\n",
       "      <td>2.063081</td>\n",
       "    </tr>\n",
       "    <tr>\n",
       "      <td>3</td>\n",
       "      <td>1.56</td>\n",
       "      <td>1.804408</td>\n",
       "    </tr>\n",
       "    <tr>\n",
       "      <td>4</td>\n",
       "      <td>1.17</td>\n",
       "      <td>1.146501</td>\n",
       "    </tr>\n",
       "    <tr>\n",
       "      <td>5</td>\n",
       "      <td>2.23</td>\n",
       "      <td>1.898779</td>\n",
       "    </tr>\n",
       "    <tr>\n",
       "      <td>6</td>\n",
       "      <td>1.03</td>\n",
       "      <td>1.192576</td>\n",
       "    </tr>\n",
       "    <tr>\n",
       "      <td>7</td>\n",
       "      <td>4.96</td>\n",
       "      <td>4.820752</td>\n",
       "    </tr>\n",
       "    <tr>\n",
       "      <td>8</td>\n",
       "      <td>5.18</td>\n",
       "      <td>4.585289</td>\n",
       "    </tr>\n",
       "    <tr>\n",
       "      <td>9</td>\n",
       "      <td>1.78</td>\n",
       "      <td>2.547135</td>\n",
       "    </tr>\n",
       "    <tr>\n",
       "      <td>10</td>\n",
       "      <td>1.76</td>\n",
       "      <td>2.005384</td>\n",
       "    </tr>\n",
       "    <tr>\n",
       "      <td>11</td>\n",
       "      <td>5.62</td>\n",
       "      <td>4.283843</td>\n",
       "    </tr>\n",
       "    <tr>\n",
       "      <td>12</td>\n",
       "      <td>1.43</td>\n",
       "      <td>1.642129</td>\n",
       "    </tr>\n",
       "    <tr>\n",
       "      <td>13</td>\n",
       "      <td>1.34</td>\n",
       "      <td>1.225781</td>\n",
       "    </tr>\n",
       "    <tr>\n",
       "      <td>14</td>\n",
       "      <td>4.58</td>\n",
       "      <td>4.352292</td>\n",
       "    </tr>\n",
       "    <tr>\n",
       "      <td>15</td>\n",
       "      <td>1.39</td>\n",
       "      <td>1.297734</td>\n",
       "    </tr>\n",
       "    <tr>\n",
       "      <td>16</td>\n",
       "      <td>1.42</td>\n",
       "      <td>1.313088</td>\n",
       "    </tr>\n",
       "    <tr>\n",
       "      <td>17</td>\n",
       "      <td>1.76</td>\n",
       "      <td>3.433669</td>\n",
       "    </tr>\n",
       "    <tr>\n",
       "      <td>18</td>\n",
       "      <td>3.50</td>\n",
       "      <td>3.908478</td>\n",
       "    </tr>\n",
       "    <tr>\n",
       "      <td>19</td>\n",
       "      <td>2.77</td>\n",
       "      <td>3.428154</td>\n",
       "    </tr>\n",
       "    <tr>\n",
       "      <td>20</td>\n",
       "      <td>2.03</td>\n",
       "      <td>1.682629</td>\n",
       "    </tr>\n",
       "    <tr>\n",
       "      <td>21</td>\n",
       "      <td>3.53</td>\n",
       "      <td>3.627460</td>\n",
       "    </tr>\n",
       "    <tr>\n",
       "      <td>22</td>\n",
       "      <td>1.78</td>\n",
       "      <td>1.900851</td>\n",
       "    </tr>\n",
       "    <tr>\n",
       "      <td>23</td>\n",
       "      <td>2.05</td>\n",
       "      <td>1.395764</td>\n",
       "    </tr>\n",
       "    <tr>\n",
       "      <td>24</td>\n",
       "      <td>4.12</td>\n",
       "      <td>4.268855</td>\n",
       "    </tr>\n",
       "    <tr>\n",
       "      <td>25</td>\n",
       "      <td>1.17</td>\n",
       "      <td>1.277811</td>\n",
       "    </tr>\n",
       "    <tr>\n",
       "      <td>26</td>\n",
       "      <td>1.13</td>\n",
       "      <td>1.439782</td>\n",
       "    </tr>\n",
       "    <tr>\n",
       "      <td>27</td>\n",
       "      <td>2.23</td>\n",
       "      <td>1.956658</td>\n",
       "    </tr>\n",
       "    <tr>\n",
       "      <td>28</td>\n",
       "      <td>2.98</td>\n",
       "      <td>2.594615</td>\n",
       "    </tr>\n",
       "    <tr>\n",
       "      <td>29</td>\n",
       "      <td>1.94</td>\n",
       "      <td>1.885924</td>\n",
       "    </tr>\n",
       "    <tr>\n",
       "      <td>30</td>\n",
       "      <td>2.20</td>\n",
       "      <td>1.671770</td>\n",
       "    </tr>\n",
       "    <tr>\n",
       "      <td>31</td>\n",
       "      <td>1.21</td>\n",
       "      <td>1.398430</td>\n",
       "    </tr>\n",
       "    <tr>\n",
       "      <td>32</td>\n",
       "      <td>4.62</td>\n",
       "      <td>5.294893</td>\n",
       "    </tr>\n",
       "    <tr>\n",
       "      <td>33</td>\n",
       "      <td>1.41</td>\n",
       "      <td>1.256182</td>\n",
       "    </tr>\n",
       "    <tr>\n",
       "      <td>34</td>\n",
       "      <td>1.39</td>\n",
       "      <td>1.163500</td>\n",
       "    </tr>\n",
       "    <tr>\n",
       "      <td>35</td>\n",
       "      <td>4.09</td>\n",
       "      <td>4.431480</td>\n",
       "    </tr>\n",
       "    <tr>\n",
       "      <td>36</td>\n",
       "      <td>5.60</td>\n",
       "      <td>4.261602</td>\n",
       "    </tr>\n",
       "    <tr>\n",
       "      <td>37</td>\n",
       "      <td>1.44</td>\n",
       "      <td>1.491965</td>\n",
       "    </tr>\n",
       "    <tr>\n",
       "      <td>38</td>\n",
       "      <td>1.61</td>\n",
       "      <td>1.597809</td>\n",
       "    </tr>\n",
       "    <tr>\n",
       "      <td>39</td>\n",
       "      <td>1.58</td>\n",
       "      <td>1.401141</td>\n",
       "    </tr>\n",
       "    <tr>\n",
       "      <td>40</td>\n",
       "      <td>2.10</td>\n",
       "      <td>2.011492</td>\n",
       "    </tr>\n",
       "    <tr>\n",
       "      <td>41</td>\n",
       "      <td>2.05</td>\n",
       "      <td>2.024774</td>\n",
       "    </tr>\n",
       "    <tr>\n",
       "      <td>42</td>\n",
       "      <td>1.62</td>\n",
       "      <td>1.905175</td>\n",
       "    </tr>\n",
       "    <tr>\n",
       "      <td>43</td>\n",
       "      <td>1.42</td>\n",
       "      <td>1.545700</td>\n",
       "    </tr>\n",
       "  </tbody>\n",
       "</table>\n",
       "</div>"
      ],
      "text/plain": [
       "    Actual  Predicted\n",
       "0     2.08   1.714295\n",
       "1     4.72   5.100871\n",
       "2     1.64   2.063081\n",
       "3     1.56   1.804408\n",
       "4     1.17   1.146501\n",
       "5     2.23   1.898779\n",
       "6     1.03   1.192576\n",
       "7     4.96   4.820752\n",
       "8     5.18   4.585289\n",
       "9     1.78   2.547135\n",
       "10    1.76   2.005384\n",
       "11    5.62   4.283843\n",
       "12    1.43   1.642129\n",
       "13    1.34   1.225781\n",
       "14    4.58   4.352292\n",
       "15    1.39   1.297734\n",
       "16    1.42   1.313088\n",
       "17    1.76   3.433669\n",
       "18    3.50   3.908478\n",
       "19    2.77   3.428154\n",
       "20    2.03   1.682629\n",
       "21    3.53   3.627460\n",
       "22    1.78   1.900851\n",
       "23    2.05   1.395764\n",
       "24    4.12   4.268855\n",
       "25    1.17   1.277811\n",
       "26    1.13   1.439782\n",
       "27    2.23   1.956658\n",
       "28    2.98   2.594615\n",
       "29    1.94   1.885924\n",
       "30    2.20   1.671770\n",
       "31    1.21   1.398430\n",
       "32    4.62   5.294893\n",
       "33    1.41   1.256182\n",
       "34    1.39   1.163500\n",
       "35    4.09   4.431480\n",
       "36    5.60   4.261602\n",
       "37    1.44   1.491965\n",
       "38    1.61   1.597809\n",
       "39    1.58   1.401141\n",
       "40    2.10   2.011492\n",
       "41    2.05   2.024774\n",
       "42    1.62   1.905175\n",
       "43    1.42   1.545700"
      ]
     },
     "execution_count": 53,
     "metadata": {},
     "output_type": "execute_result"
    }
   ],
   "source": [
    "bay=pd.DataFrame({'Actual':y_test,'Predicted':y_pred})\n",
    "bay"
   ]
  },
  {
   "cell_type": "code",
   "execution_count": 54,
   "metadata": {},
   "outputs": [
    {
     "name": "stdout",
     "output_type": "stream",
     "text": [
      "Mean squared Error: 0.2457813792877798\n",
      "Root Mean Squared Error: 0.49576343076893015\n",
      "R2_Score: 0.865136083488923\n"
     ]
    }
   ],
   "source": [
    "print('Mean squared Error:',mean_squared_error(y_test,y_pred))\n",
    "print('Root Mean Squared Error:',np.sqrt(mean_squared_error(y_test,y_pred)))\n",
    "print('R2_Score:',r2_score(y_test,y_pred))"
   ]
  },
  {
   "cell_type": "code",
   "execution_count": 55,
   "metadata": {},
   "outputs": [
    {
     "data": {
      "text/plain": [
       "0.865136083488923"
      ]
     },
     "execution_count": 55,
     "metadata": {},
     "output_type": "execute_result"
    }
   ],
   "source": [
    "bayes_r2_score=r2_score(y_test,y_pred)\n",
    "bayes_r2_score"
   ]
  },
  {
   "cell_type": "code",
   "execution_count": 56,
   "metadata": {},
   "outputs": [],
   "source": [
    "Regressors=['Linear','Lasso','Ridge','DecisionTree','KNeighbour','SVR','RandomForest','Bayesian']\n",
    "R2_Score=[linear_r2_score,lasso_r2_score,ridge_r2_score,decisiontree_r2_score,kneighbour_r2_score,svr_r2_score,randomforest_r2_score,bayes_r2_score]"
   ]
  },
  {
   "cell_type": "code",
   "execution_count": 57,
   "metadata": {},
   "outputs": [
    {
     "name": "stderr",
     "output_type": "stream",
     "text": [
      "No handles with labels found to put in legend.\n"
     ]
    },
    {
     "data": {
      "image/png": "[encoded data removed]",
      "text/plain": [
       "<Figure size 1080x288 with 1 Axes>"
      ]
     },
     "metadata": {
      "needs_background": "light"
     },
     "output_type": "display_data"
    }
   ],
   "source": [
    "plt.figure(figsize=(15,4))\n",
    "plt.plot(Regressors,R2_Score, color = 'Red')\n",
    "\n",
    "plt.title('Comparision between different Regressors',fontsize=15)\n",
    "plt.xlabel('Regressors',fontsize=15)\n",
    "plt.ylabel('Accuracy Values',fontsize=15)\n",
    "plt.legend()\n",
    "plt.show()\n"
   ]
  },
  {
   "cell_type": "markdown",
   "metadata": {},
   "source": [
    "# KNN with neighbour=12 is best for minwind prediction with accuracy of 89.6% followed by Bays with 86.513% "
   ]
  },
  {
   "cell_type": "code",
   "execution_count": 58,
   "metadata": {},
   "outputs": [],
   "source": [
    "minw2020=pd.read_csv(\"C:/Users/Abhishek Wagh/Desktop/MTech_Project/Sugarcane/Phase1/csv/MinWind/minwind2020pred.csv\")"
   ]
  },
  {
   "cell_type": "code",
   "execution_count": 59,
   "metadata": {},
   "outputs": [],
   "source": [
    "minw2020.drop(['Year'],axis=1,inplace=True)"
   ]
  },
  {
   "cell_type": "code",
   "execution_count": 60,
   "metadata": {},
   "outputs": [],
   "source": [
    "minw2020=minw2020.iloc[:,:].values"
   ]
  },
  {
   "cell_type": "code",
   "execution_count": 61,
   "metadata": {},
   "outputs": [
    {
     "data": {
      "text/plain": [
       "array([[ 1.  ,  1.56,  1.3 ],\n",
       "       [ 2.  ,  1.69,  1.32],\n",
       "       [ 3.  ,  1.17,  1.15],\n",
       "       [ 4.  ,  1.84,  1.23],\n",
       "       [ 5.  ,  2.53,  2.1 ],\n",
       "       [ 6.  ,  3.86,  3.59],\n",
       "       [ 7.  ,  5.18,  5.23],\n",
       "       [ 8.  ,  3.4 ,  5.15],\n",
       "       [ 9.  ,  1.78,  2.01],\n",
       "       [10.  ,  1.43,  1.17],\n",
       "       [11.  ,  1.69,  1.56],\n",
       "       [12.  ,  1.8 ,  1.58]])"
      ]
     },
     "execution_count": 61,
     "metadata": {},
     "output_type": "execute_result"
    }
   ],
   "source": [
    "minw2020"
   ]
  },
  {
   "cell_type": "code",
   "execution_count": 62,
   "metadata": {},
   "outputs": [],
   "source": [
    "minw2020_pred1=[]"
   ]
  },
  {
   "cell_type": "code",
   "execution_count": 63,
   "metadata": {},
   "outputs": [],
   "source": [
    "minw2020_pred1=kn.predict(minw2020)"
   ]
  },
  {
   "cell_type": "code",
   "execution_count": 64,
   "metadata": {},
   "outputs": [
    {
     "data": {
      "text/plain": [
       "array([1.43416667, 1.325     , 1.29083333, 1.38      , 2.745     ,\n",
       "       3.96083333, 5.1       , 4.46416667, 2.28666667, 1.735     ,\n",
       "       1.955     , 1.795     ])"
      ]
     },
     "execution_count": 64,
     "metadata": {},
     "output_type": "execute_result"
    }
   ],
   "source": [
    "minw2020_pred1"
   ]
  },
  {
   "cell_type": "code",
   "execution_count": 65,
   "metadata": {},
   "outputs": [
    {
     "data": {
      "text/html": [
       "<div>\n",
       "<style scoped>\n",
       "    .dataframe tbody tr th:only-of-type {\n",
       "        vertical-align: middle;\n",
       "    }\n",
       "\n",
       "    .dataframe tbody tr th {\n",
       "        vertical-align: top;\n",
       "    }\n",
       "\n",
       "    .dataframe thead th {\n",
       "        text-align: right;\n",
       "    }\n",
       "</style>\n",
       "<table border=\"1\" class=\"dataframe\">\n",
       "  <thead>\n",
       "    <tr style=\"text-align: right;\">\n",
       "      <th></th>\n",
       "      <th>0</th>\n",
       "    </tr>\n",
       "  </thead>\n",
       "  <tbody>\n",
       "    <tr>\n",
       "      <td>0</td>\n",
       "      <td>1.434167</td>\n",
       "    </tr>\n",
       "    <tr>\n",
       "      <td>1</td>\n",
       "      <td>1.325000</td>\n",
       "    </tr>\n",
       "    <tr>\n",
       "      <td>2</td>\n",
       "      <td>1.290833</td>\n",
       "    </tr>\n",
       "    <tr>\n",
       "      <td>3</td>\n",
       "      <td>1.380000</td>\n",
       "    </tr>\n",
       "    <tr>\n",
       "      <td>4</td>\n",
       "      <td>2.745000</td>\n",
       "    </tr>\n",
       "    <tr>\n",
       "      <td>5</td>\n",
       "      <td>3.960833</td>\n",
       "    </tr>\n",
       "    <tr>\n",
       "      <td>6</td>\n",
       "      <td>5.100000</td>\n",
       "    </tr>\n",
       "    <tr>\n",
       "      <td>7</td>\n",
       "      <td>4.464167</td>\n",
       "    </tr>\n",
       "    <tr>\n",
       "      <td>8</td>\n",
       "      <td>2.286667</td>\n",
       "    </tr>\n",
       "    <tr>\n",
       "      <td>9</td>\n",
       "      <td>1.735000</td>\n",
       "    </tr>\n",
       "    <tr>\n",
       "      <td>10</td>\n",
       "      <td>1.955000</td>\n",
       "    </tr>\n",
       "    <tr>\n",
       "      <td>11</td>\n",
       "      <td>1.795000</td>\n",
       "    </tr>\n",
       "  </tbody>\n",
       "</table>\n",
       "</div>"
      ],
      "text/plain": [
       "           0\n",
       "0   1.434167\n",
       "1   1.325000\n",
       "2   1.290833\n",
       "3   1.380000\n",
       "4   2.745000\n",
       "5   3.960833\n",
       "6   5.100000\n",
       "7   4.464167\n",
       "8   2.286667\n",
       "9   1.735000\n",
       "10  1.955000\n",
       "11  1.795000"
      ]
     },
     "execution_count": 65,
     "metadata": {},
     "output_type": "execute_result"
    }
   ],
   "source": [
    "minwind_data=pd.DataFrame(data=minw2020_pred1)\n",
    "minwind_data"
   ]
  },
  {
   "cell_type": "code",
   "execution_count": 66,
   "metadata": {},
   "outputs": [],
   "source": [
    "minwind_data.to_csv(r\"C:\\Users\\Abhishek Wagh\\Desktop\\MTech_Project\\Sugarcane\\Phase1\\csv\\MinWind\\2020minwind.csv\")"
   ]
  },
  {
   "cell_type": "code",
   "execution_count": null,
   "metadata": {},
   "outputs": [],
   "source": []
  }
 ],
 "metadata": {
  "kernelspec": {
   "display_name": "Python 3",
   "language": "python",
   "name": "python3"
  },
  "language_info": {
   "codemirror_mode": {
    "name": "ipython",
    "version": 3
   },
   "file_extension": ".py",
   "mimetype": "text/x-python",
   "name": "python",
   "nbconvert_exporter": "python",
   "pygments_lexer": "ipython3",
   "version": "3.7.4"
  }
 },
 "nbformat": 4,
 "nbformat_minor": 2
}
