{
 "cells": [
  {
   "cell_type": "code",
   "execution_count": 1,
   "metadata": {},
   "outputs": [],
   "source": [
    "import pandas as pd\n",
    "import numpy as np\n",
    "import matplotlib.pyplot as plt\n",
    "import seaborn as sns\n",
    "%matplotlib inline"
   ]
  },
  {
   "cell_type": "code",
   "execution_count": 2,
   "metadata": {},
   "outputs": [],
   "source": [
    "rh=pd.read_csv(\"C:/Users/Abhishek Wagh/Desktop/MTech_Project/Sugarcane/Phase1/csv/RelativeHumidity/RelativeHumidity.csv\")"
   ]
  },
  {
   "cell_type": "code",
   "execution_count": 3,
   "metadata": {},
   "outputs": [
    {
     "data": {
      "text/html": [
       "<div>\n",
       "<style scoped>\n",
       "    .dataframe tbody tr th:only-of-type {\n",
       "        vertical-align: middle;\n",
       "    }\n",
       "\n",
       "    .dataframe tbody tr th {\n",
       "        vertical-align: top;\n",
       "    }\n",
       "\n",
       "    .dataframe thead th {\n",
       "        text-align: right;\n",
       "    }\n",
       "</style>\n",
       "<table border=\"1\" class=\"dataframe\">\n",
       "  <thead>\n",
       "    <tr style=\"text-align: right;\">\n",
       "      <th></th>\n",
       "      <th>Year</th>\n",
       "      <th>Month</th>\n",
       "      <th>RH_past</th>\n",
       "      <th>RH_pasttopast</th>\n",
       "      <th>RelativeHumidity</th>\n",
       "    </tr>\n",
       "  </thead>\n",
       "  <tbody>\n",
       "    <tr>\n",
       "      <td>0</td>\n",
       "      <td>2002</td>\n",
       "      <td>1</td>\n",
       "      <td>35.76</td>\n",
       "      <td>28.38</td>\n",
       "      <td>39.29</td>\n",
       "    </tr>\n",
       "    <tr>\n",
       "      <td>1</td>\n",
       "      <td>2002</td>\n",
       "      <td>2</td>\n",
       "      <td>20.56</td>\n",
       "      <td>36.69</td>\n",
       "      <td>31.59</td>\n",
       "    </tr>\n",
       "    <tr>\n",
       "      <td>2</td>\n",
       "      <td>2002</td>\n",
       "      <td>3</td>\n",
       "      <td>29.99</td>\n",
       "      <td>22.29</td>\n",
       "      <td>24.67</td>\n",
       "    </tr>\n",
       "    <tr>\n",
       "      <td>3</td>\n",
       "      <td>2002</td>\n",
       "      <td>4</td>\n",
       "      <td>32.76</td>\n",
       "      <td>28.46</td>\n",
       "      <td>25.98</td>\n",
       "    </tr>\n",
       "    <tr>\n",
       "      <td>4</td>\n",
       "      <td>2002</td>\n",
       "      <td>5</td>\n",
       "      <td>43.92</td>\n",
       "      <td>51.01</td>\n",
       "      <td>47.20</td>\n",
       "    </tr>\n",
       "    <tr>\n",
       "      <td>...</td>\n",
       "      <td>...</td>\n",
       "      <td>...</td>\n",
       "      <td>...</td>\n",
       "      <td>...</td>\n",
       "      <td>...</td>\n",
       "    </tr>\n",
       "    <tr>\n",
       "      <td>211</td>\n",
       "      <td>2019</td>\n",
       "      <td>8</td>\n",
       "      <td>77.89</td>\n",
       "      <td>76.57</td>\n",
       "      <td>76.57</td>\n",
       "    </tr>\n",
       "    <tr>\n",
       "      <td>212</td>\n",
       "      <td>2019</td>\n",
       "      <td>9</td>\n",
       "      <td>70.89</td>\n",
       "      <td>79.02</td>\n",
       "      <td>79.02</td>\n",
       "    </tr>\n",
       "    <tr>\n",
       "      <td>213</td>\n",
       "      <td>2019</td>\n",
       "      <td>10</td>\n",
       "      <td>53.71</td>\n",
       "      <td>74.36</td>\n",
       "      <td>74.36</td>\n",
       "    </tr>\n",
       "    <tr>\n",
       "      <td>214</td>\n",
       "      <td>2019</td>\n",
       "      <td>11</td>\n",
       "      <td>45.54</td>\n",
       "      <td>64.33</td>\n",
       "      <td>64.33</td>\n",
       "    </tr>\n",
       "    <tr>\n",
       "      <td>215</td>\n",
       "      <td>2019</td>\n",
       "      <td>12</td>\n",
       "      <td>40.15</td>\n",
       "      <td>56.53</td>\n",
       "      <td>56.53</td>\n",
       "    </tr>\n",
       "  </tbody>\n",
       "</table>\n",
       "<p>216 rows × 5 columns</p>\n",
       "</div>"
      ],
      "text/plain": [
       "     Year  Month  RH_past  RH_pasttopast  RelativeHumidity\n",
       "0    2002      1    35.76          28.38             39.29\n",
       "1    2002      2    20.56          36.69             31.59\n",
       "2    2002      3    29.99          22.29             24.67\n",
       "3    2002      4    32.76          28.46             25.98\n",
       "4    2002      5    43.92          51.01             47.20\n",
       "..    ...    ...      ...            ...               ...\n",
       "211  2019      8    77.89          76.57             76.57\n",
       "212  2019      9    70.89          79.02             79.02\n",
       "213  2019     10    53.71          74.36             74.36\n",
       "214  2019     11    45.54          64.33             64.33\n",
       "215  2019     12    40.15          56.53             56.53\n",
       "\n",
       "[216 rows x 5 columns]"
      ]
     },
     "execution_count": 3,
     "metadata": {},
     "output_type": "execute_result"
    }
   ],
   "source": [
    "rh"
   ]
  },
  {
   "cell_type": "code",
   "execution_count": 4,
   "metadata": {},
   "outputs": [
    {
     "name": "stdout",
     "output_type": "stream",
     "text": [
      "<class 'pandas.core.frame.DataFrame'>\n",
      "RangeIndex: 216 entries, 0 to 215\n",
      "Data columns (total 5 columns):\n",
      "Year                216 non-null int64\n",
      "Month               216 non-null int64\n",
      "RH_past             216 non-null float64\n",
      "RH_pasttopast       216 non-null float64\n",
      "RelativeHumidity    216 non-null float64\n",
      "dtypes: float64(3), int64(2)\n",
      "memory usage: 8.6 KB\n"
     ]
    }
   ],
   "source": [
    "rh.info()"
   ]
  },
  {
   "cell_type": "code",
   "execution_count": 5,
   "metadata": {},
   "outputs": [
    {
     "data": {
      "text/html": [
       "<div>\n",
       "<style scoped>\n",
       "    .dataframe tbody tr th:only-of-type {\n",
       "        vertical-align: middle;\n",
       "    }\n",
       "\n",
       "    .dataframe tbody tr th {\n",
       "        vertical-align: top;\n",
       "    }\n",
       "\n",
       "    .dataframe thead th {\n",
       "        text-align: right;\n",
       "    }\n",
       "</style>\n",
       "<table border=\"1\" class=\"dataframe\">\n",
       "  <thead>\n",
       "    <tr style=\"text-align: right;\">\n",
       "      <th></th>\n",
       "      <th>Year</th>\n",
       "      <th>Month</th>\n",
       "      <th>RH_past</th>\n",
       "      <th>RH_pasttopast</th>\n",
       "      <th>RelativeHumidity</th>\n",
       "    </tr>\n",
       "  </thead>\n",
       "  <tbody>\n",
       "    <tr>\n",
       "      <td>Year</td>\n",
       "      <td>1.000000</td>\n",
       "      <td>0.000000</td>\n",
       "      <td>-0.005030</td>\n",
       "      <td>0.027777</td>\n",
       "      <td>-0.008449</td>\n",
       "    </tr>\n",
       "    <tr>\n",
       "      <td>Month</td>\n",
       "      <td>0.000000</td>\n",
       "      <td>1.000000</td>\n",
       "      <td>0.615014</td>\n",
       "      <td>0.612535</td>\n",
       "      <td>0.620142</td>\n",
       "    </tr>\n",
       "    <tr>\n",
       "      <td>RH_past</td>\n",
       "      <td>-0.005030</td>\n",
       "      <td>0.615014</td>\n",
       "      <td>1.000000</td>\n",
       "      <td>0.934694</td>\n",
       "      <td>0.934155</td>\n",
       "    </tr>\n",
       "    <tr>\n",
       "      <td>RH_pasttopast</td>\n",
       "      <td>0.027777</td>\n",
       "      <td>0.612535</td>\n",
       "      <td>0.934694</td>\n",
       "      <td>1.000000</td>\n",
       "      <td>0.930002</td>\n",
       "    </tr>\n",
       "    <tr>\n",
       "      <td>RelativeHumidity</td>\n",
       "      <td>-0.008449</td>\n",
       "      <td>0.620142</td>\n",
       "      <td>0.934155</td>\n",
       "      <td>0.930002</td>\n",
       "      <td>1.000000</td>\n",
       "    </tr>\n",
       "  </tbody>\n",
       "</table>\n",
       "</div>"
      ],
      "text/plain": [
       "                      Year     Month   RH_past  RH_pasttopast  \\\n",
       "Year              1.000000  0.000000 -0.005030       0.027777   \n",
       "Month             0.000000  1.000000  0.615014       0.612535   \n",
       "RH_past          -0.005030  0.615014  1.000000       0.934694   \n",
       "RH_pasttopast     0.027777  0.612535  0.934694       1.000000   \n",
       "RelativeHumidity -0.008449  0.620142  0.934155       0.930002   \n",
       "\n",
       "                  RelativeHumidity  \n",
       "Year                     -0.008449  \n",
       "Month                     0.620142  \n",
       "RH_past                   0.934155  \n",
       "RH_pasttopast             0.930002  \n",
       "RelativeHumidity          1.000000  "
      ]
     },
     "execution_count": 5,
     "metadata": {},
     "output_type": "execute_result"
    }
   ],
   "source": [
    "#Creating correlation for precipitation\n",
    "#Creating the correlation matrix for the features\n",
    "corr_matrix=rh.corr()\n",
    "corr_matrix"
   ]
  },
  {
   "cell_type": "code",
   "execution_count": 6,
   "metadata": {},
   "outputs": [],
   "source": [
    "mask = np.zeros_like(corr_matrix, dtype=np.bool)\n",
    "mask[np.triu_indices_from(mask)]= True"
   ]
  },
  {
   "cell_type": "code",
   "execution_count": 7,
   "metadata": {},
   "outputs": [
    {
     "data": {
      "image/png": "[encoded data removed]",
      "text/plain": [
       "<Figure size 360x288 with 2 Axes>"
      ]
     },
     "metadata": {
      "needs_background": "light"
     },
     "output_type": "display_data"
    }
   ],
   "source": [
    "f, ax = plt.subplots(figsize=(5, 4)) \n",
    "heatmap = sns.heatmap(corr_matrix, mask = mask,square = True,linewidths = .5, cmap = 'coolwarm', cbar_kws = {'shrink': .4, 'ticks' : [-1, -.5, 0, 0.5, 1]},vmin = -1, vmax = 1,annot = True,annot_kws = {'size': 12})\n",
    "#add the column names as labels\n",
    "ax.set_yticklabels(corr_matrix.columns, rotation = 0)\n",
    "ax.set_xticklabels(corr_matrix.columns)\n",
    "sns.set_style({'xtick.bottom': True}, {'ytick.left': True})"
   ]
  },
  {
   "cell_type": "code",
   "execution_count": 8,
   "metadata": {},
   "outputs": [],
   "source": [
    "#rh=rh.drop(['Year'],axis=1)"
   ]
  },
  {
   "cell_type": "code",
   "execution_count": 9,
   "metadata": {},
   "outputs": [
    {
     "data": {
      "text/plain": [
       "(216, 5)"
      ]
     },
     "execution_count": 9,
     "metadata": {},
     "output_type": "execute_result"
    }
   ],
   "source": [
    "rh.shape"
   ]
  },
  {
   "cell_type": "code",
   "execution_count": 10,
   "metadata": {},
   "outputs": [],
   "source": [
    "rh=rh.iloc[:,:].values"
   ]
  },
  {
   "cell_type": "code",
   "execution_count": 11,
   "metadata": {},
   "outputs": [
    {
     "data": {
      "text/plain": [
       "array([[2.002e+03, 1.000e+00, 3.576e+01, 2.838e+01, 3.929e+01],\n",
       "       [2.002e+03, 2.000e+00, 2.056e+01, 3.669e+01, 3.159e+01],\n",
       "       [2.002e+03, 3.000e+00, 2.999e+01, 2.229e+01, 2.467e+01],\n",
       "       ...,\n",
       "       [2.019e+03, 1.000e+01, 5.371e+01, 7.436e+01, 7.436e+01],\n",
       "       [2.019e+03, 1.100e+01, 4.554e+01, 6.433e+01, 6.433e+01],\n",
       "       [2.019e+03, 1.200e+01, 4.015e+01, 5.653e+01, 5.653e+01]])"
      ]
     },
     "execution_count": 11,
     "metadata": {},
     "output_type": "execute_result"
    }
   ],
   "source": [
    "rh"
   ]
  },
  {
   "cell_type": "code",
   "execution_count": 12,
   "metadata": {},
   "outputs": [],
   "source": [
    "X=rh[:,:-1]\n",
    "y=rh[:,-1]"
   ]
  },
  {
   "cell_type": "code",
   "execution_count": 13,
   "metadata": {},
   "outputs": [
    {
     "data": {
      "text/plain": [
       "array([[2.002e+03, 1.000e+00, 3.576e+01, 2.838e+01],\n",
       "       [2.002e+03, 2.000e+00, 2.056e+01, 3.669e+01],\n",
       "       [2.002e+03, 3.000e+00, 2.999e+01, 2.229e+01],\n",
       "       [2.002e+03, 4.000e+00, 3.276e+01, 2.846e+01],\n",
       "       [2.002e+03, 5.000e+00, 4.392e+01, 5.101e+01],\n",
       "       [2.002e+03, 6.000e+00, 6.919e+01, 7.330e+01],\n",
       "       [2.002e+03, 7.000e+00, 7.299e+01, 7.644e+01],\n",
       "       [2.002e+03, 8.000e+00, 7.776e+01, 7.857e+01],\n",
       "       [2.002e+03, 9.000e+00, 7.335e+01, 7.383e+01],\n",
       "       [2.002e+03, 1.000e+01, 7.338e+01, 6.180e+01],\n",
       "       [2.002e+03, 1.100e+01, 6.046e+01, 4.984e+01],\n",
       "       [2.002e+03, 1.200e+01, 4.528e+01, 2.646e+01],\n",
       "       [2.003e+03, 1.000e+00, 3.929e+01, 3.576e+01],\n",
       "       [2.003e+03, 2.000e+00, 3.159e+01, 2.056e+01],\n",
       "       [2.003e+03, 3.000e+00, 2.467e+01, 2.999e+01],\n",
       "       [2.003e+03, 4.000e+00, 2.598e+01, 3.276e+01],\n",
       "       [2.003e+03, 5.000e+00, 4.720e+01, 4.392e+01],\n",
       "       [2.003e+03, 6.000e+00, 6.995e+01, 6.919e+01],\n",
       "       [2.003e+03, 7.000e+00, 7.208e+01, 7.299e+01],\n",
       "       [2.003e+03, 8.000e+00, 7.706e+01, 7.776e+01],\n",
       "       [2.003e+03, 9.000e+00, 7.180e+01, 7.335e+01],\n",
       "       [2.003e+03, 1.000e+01, 5.976e+01, 7.338e+01],\n",
       "       [2.003e+03, 1.100e+01, 4.387e+01, 6.046e+01],\n",
       "       [2.003e+03, 1.200e+01, 3.328e+01, 4.528e+01],\n",
       "       [2.004e+03, 1.000e+00, 3.550e+01, 3.929e+01],\n",
       "       [2.004e+03, 2.000e+00, 3.011e+01, 3.159e+01],\n",
       "       [2.004e+03, 3.000e+00, 2.515e+01, 2.467e+01],\n",
       "       [2.004e+03, 4.000e+00, 3.038e+01, 2.598e+01],\n",
       "       [2.004e+03, 5.000e+00, 3.468e+01, 4.720e+01],\n",
       "       [2.004e+03, 6.000e+00, 6.391e+01, 6.995e+01],\n",
       "       [2.004e+03, 7.000e+00, 7.638e+01, 7.208e+01],\n",
       "       [2.004e+03, 8.000e+00, 7.633e+01, 7.706e+01],\n",
       "       [2.004e+03, 9.000e+00, 7.333e+01, 7.180e+01],\n",
       "       [2.004e+03, 1.000e+01, 6.174e+01, 5.976e+01],\n",
       "       [2.004e+03, 1.100e+01, 4.551e+01, 4.387e+01],\n",
       "       [2.004e+03, 1.200e+01, 3.630e+01, 3.328e+01],\n",
       "       [2.005e+03, 1.000e+00, 3.693e+01, 3.550e+01],\n",
       "       [2.005e+03, 2.000e+00, 2.674e+01, 3.011e+01],\n",
       "       [2.005e+03, 3.000e+00, 2.029e+01, 2.515e+01],\n",
       "       [2.005e+03, 4.000e+00, 2.945e+01, 3.038e+01],\n",
       "       [2.005e+03, 5.000e+00, 5.563e+01, 3.468e+01],\n",
       "       [2.005e+03, 6.000e+00, 7.361e+01, 6.391e+01],\n",
       "       [2.005e+03, 7.000e+00, 7.757e+01, 7.638e+01],\n",
       "       [2.005e+03, 8.000e+00, 7.964e+01, 7.633e+01],\n",
       "       [2.005e+03, 9.000e+00, 7.807e+01, 7.333e+01],\n",
       "       [2.005e+03, 1.000e+01, 6.902e+01, 6.174e+01],\n",
       "       [2.005e+03, 1.100e+01, 5.805e+01, 4.551e+01],\n",
       "       [2.005e+03, 1.200e+01, 3.985e+01, 3.630e+01],\n",
       "       [2.006e+03, 1.000e+00, 3.446e+01, 3.693e+01],\n",
       "       [2.006e+03, 2.000e+00, 3.009e+01, 2.674e+01],\n",
       "       [2.006e+03, 3.000e+00, 2.700e+01, 2.029e+01],\n",
       "       [2.006e+03, 4.000e+00, 3.664e+01, 2.945e+01],\n",
       "       [2.006e+03, 5.000e+00, 4.153e+01, 5.563e+01],\n",
       "       [2.006e+03, 6.000e+00, 6.701e+01, 7.361e+01],\n",
       "       [2.006e+03, 7.000e+00, 8.109e+01, 7.757e+01],\n",
       "       [2.006e+03, 8.000e+00, 8.268e+01, 7.964e+01],\n",
       "       [2.006e+03, 9.000e+00, 8.319e+01, 7.807e+01],\n",
       "       [2.006e+03, 1.000e+01, 7.477e+01, 6.902e+01],\n",
       "       [2.006e+03, 1.100e+01, 6.419e+01, 5.805e+01],\n",
       "       [2.006e+03, 1.200e+01, 5.480e+01, 3.985e+01],\n",
       "       [2.007e+03, 1.000e+00, 4.048e+01, 3.446e+01],\n",
       "       [2.007e+03, 2.000e+00, 2.423e+01, 3.009e+01],\n",
       "       [2.007e+03, 3.000e+00, 3.229e+01, 2.700e+01],\n",
       "       [2.007e+03, 4.000e+00, 2.892e+01, 3.664e+01],\n",
       "       [2.007e+03, 5.000e+00, 4.367e+01, 4.153e+01],\n",
       "       [2.007e+03, 6.000e+00, 7.262e+01, 6.701e+01],\n",
       "       [2.007e+03, 7.000e+00, 8.036e+01, 8.109e+01],\n",
       "       [2.007e+03, 8.000e+00, 8.296e+01, 8.268e+01],\n",
       "       [2.007e+03, 9.000e+00, 8.127e+01, 8.319e+01],\n",
       "       [2.007e+03, 1.000e+01, 7.360e+01, 7.477e+01],\n",
       "       [2.007e+03, 1.100e+01, 7.262e+01, 6.419e+01],\n",
       "       [2.007e+03, 1.200e+01, 5.746e+01, 5.480e+01],\n",
       "       [2.008e+03, 1.000e+00, 4.278e+01, 4.048e+01],\n",
       "       [2.008e+03, 2.000e+00, 3.607e+01, 2.423e+01],\n",
       "       [2.008e+03, 3.000e+00, 2.552e+01, 3.229e+01],\n",
       "       [2.008e+03, 4.000e+00, 2.720e+01, 2.892e+01],\n",
       "       [2.008e+03, 5.000e+00, 4.092e+01, 4.367e+01],\n",
       "       [2.008e+03, 6.000e+00, 6.864e+01, 7.262e+01],\n",
       "       [2.008e+03, 7.000e+00, 7.914e+01, 8.036e+01],\n",
       "       [2.008e+03, 8.000e+00, 8.031e+01, 8.296e+01],\n",
       "       [2.008e+03, 9.000e+00, 8.235e+01, 8.127e+01],\n",
       "       [2.008e+03, 1.000e+01, 6.701e+01, 7.360e+01],\n",
       "       [2.008e+03, 1.100e+01, 5.813e+01, 7.262e+01],\n",
       "       [2.008e+03, 1.200e+01, 5.147e+01, 5.746e+01],\n",
       "       [2.009e+03, 1.000e+00, 3.275e+01, 4.278e+01],\n",
       "       [2.009e+03, 2.000e+00, 3.106e+01, 3.607e+01],\n",
       "       [2.009e+03, 3.000e+00, 3.436e+01, 2.552e+01],\n",
       "       [2.009e+03, 4.000e+00, 3.077e+01, 2.720e+01],\n",
       "       [2.009e+03, 5.000e+00, 4.186e+01, 4.092e+01],\n",
       "       [2.009e+03, 6.000e+00, 7.096e+01, 6.864e+01],\n",
       "       [2.009e+03, 7.000e+00, 7.205e+01, 7.914e+01],\n",
       "       [2.009e+03, 8.000e+00, 7.905e+01, 8.031e+01],\n",
       "       [2.009e+03, 9.000e+00, 8.025e+01, 8.235e+01],\n",
       "       [2.009e+03, 1.000e+01, 6.953e+01, 6.701e+01],\n",
       "       [2.009e+03, 1.100e+01, 6.344e+01, 5.813e+01],\n",
       "       [2.009e+03, 1.200e+01, 5.317e+01, 5.147e+01],\n",
       "       [2.010e+03, 1.000e+00, 3.827e+01, 3.275e+01],\n",
       "       [2.010e+03, 2.000e+00, 2.484e+01, 3.106e+01],\n",
       "       [2.010e+03, 3.000e+00, 2.482e+01, 3.436e+01],\n",
       "       [2.010e+03, 4.000e+00, 2.590e+01, 3.077e+01],\n",
       "       [2.010e+03, 5.000e+00, 4.011e+01, 4.186e+01],\n",
       "       [2.010e+03, 6.000e+00, 6.512e+01, 7.096e+01],\n",
       "       [2.010e+03, 7.000e+00, 7.768e+01, 7.205e+01],\n",
       "       [2.010e+03, 8.000e+00, 7.652e+01, 7.905e+01],\n",
       "       [2.010e+03, 9.000e+00, 7.666e+01, 8.025e+01],\n",
       "       [2.010e+03, 1.000e+01, 7.143e+01, 6.953e+01],\n",
       "       [2.010e+03, 1.100e+01, 7.059e+01, 6.344e+01],\n",
       "       [2.010e+03, 1.200e+01, 6.144e+01, 5.317e+01],\n",
       "       [2.011e+03, 1.000e+00, 5.223e+01, 3.827e+01],\n",
       "       [2.011e+03, 2.000e+00, 3.675e+01, 2.484e+01],\n",
       "       [2.011e+03, 3.000e+00, 2.613e+01, 2.482e+01],\n",
       "       [2.011e+03, 4.000e+00, 2.821e+01, 2.590e+01],\n",
       "       [2.011e+03, 5.000e+00, 3.824e+01, 4.011e+01],\n",
       "       [2.011e+03, 6.000e+00, 7.068e+01, 6.512e+01],\n",
       "       [2.011e+03, 7.000e+00, 7.902e+01, 7.768e+01],\n",
       "       [2.011e+03, 8.000e+00, 8.175e+01, 7.652e+01],\n",
       "       [2.011e+03, 9.000e+00, 8.036e+01, 7.666e+01],\n",
       "       [2.011e+03, 1.000e+01, 7.568e+01, 7.143e+01],\n",
       "       [2.011e+03, 1.100e+01, 7.655e+01, 7.059e+01],\n",
       "       [2.011e+03, 1.200e+01, 6.155e+01, 6.144e+01],\n",
       "       [2.012e+03, 1.000e+00, 4.357e+01, 5.223e+01],\n",
       "       [2.012e+03, 2.000e+00, 3.494e+01, 3.675e+01],\n",
       "       [2.012e+03, 3.000e+00, 2.264e+01, 2.613e+01],\n",
       "       [2.012e+03, 4.000e+00, 3.310e+01, 2.821e+01],\n",
       "       [2.012e+03, 5.000e+00, 4.154e+01, 3.824e+01],\n",
       "       [2.012e+03, 6.000e+00, 7.174e+01, 7.068e+01],\n",
       "       [2.012e+03, 7.000e+00, 7.646e+01, 7.902e+01],\n",
       "       [2.012e+03, 8.000e+00, 7.918e+01, 8.175e+01],\n",
       "       [2.012e+03, 9.000e+00, 7.808e+01, 8.036e+01],\n",
       "       [2.012e+03, 1.000e+01, 7.299e+01, 7.568e+01],\n",
       "       [2.012e+03, 1.100e+01, 5.835e+01, 7.655e+01],\n",
       "       [2.012e+03, 1.200e+01, 4.198e+01, 6.155e+01],\n",
       "       [2.013e+03, 1.000e+00, 3.663e+01, 4.357e+01],\n",
       "       [2.013e+03, 2.000e+00, 2.430e+01, 3.494e+01],\n",
       "       [2.013e+03, 3.000e+00, 1.834e+01, 2.264e+01],\n",
       "       [2.013e+03, 4.000e+00, 2.948e+01, 3.310e+01],\n",
       "       [2.013e+03, 5.000e+00, 3.720e+01, 4.154e+01],\n",
       "       [2.013e+03, 6.000e+00, 6.071e+01, 7.174e+01],\n",
       "       [2.013e+03, 7.000e+00, 7.500e+01, 7.646e+01],\n",
       "       [2.013e+03, 8.000e+00, 7.554e+01, 7.918e+01],\n",
       "       [2.013e+03, 9.000e+00, 7.511e+01, 7.808e+01],\n",
       "       [2.013e+03, 1.000e+01, 6.797e+01, 7.299e+01],\n",
       "       [2.013e+03, 1.100e+01, 5.790e+01, 5.835e+01],\n",
       "       [2.013e+03, 1.200e+01, 4.206e+01, 4.198e+01],\n",
       "       [2.014e+03, 1.000e+00, 3.475e+01, 3.663e+01],\n",
       "       [2.014e+03, 2.000e+00, 3.294e+01, 2.430e+01],\n",
       "       [2.014e+03, 3.000e+00, 2.531e+01, 1.834e+01],\n",
       "       [2.014e+03, 4.000e+00, 3.059e+01, 2.948e+01],\n",
       "       [2.014e+03, 5.000e+00, 4.045e+01, 3.720e+01],\n",
       "       [2.014e+03, 6.000e+00, 7.522e+01, 6.071e+01],\n",
       "       [2.014e+03, 7.000e+00, 8.155e+01, 7.500e+01],\n",
       "       [2.014e+03, 8.000e+00, 7.919e+01, 7.554e+01],\n",
       "       [2.014e+03, 9.000e+00, 7.807e+01, 7.511e+01],\n",
       "       [2.014e+03, 1.000e+01, 7.447e+01, 6.797e+01],\n",
       "       [2.014e+03, 1.100e+01, 6.362e+01, 5.790e+01],\n",
       "       [2.014e+03, 1.200e+01, 4.868e+01, 4.206e+01],\n",
       "       [2.015e+03, 1.000e+00, 4.385e+01, 3.475e+01],\n",
       "       [2.015e+03, 2.000e+00, 3.858e+01, 3.294e+01],\n",
       "       [2.015e+03, 3.000e+00, 3.917e+01, 2.531e+01],\n",
       "       [2.015e+03, 4.000e+00, 2.911e+01, 3.059e+01],\n",
       "       [2.015e+03, 5.000e+00, 3.841e+01, 4.045e+01],\n",
       "       [2.015e+03, 6.000e+00, 5.507e+01, 7.522e+01],\n",
       "       [2.015e+03, 7.000e+00, 7.340e+01, 8.155e+01],\n",
       "       [2.015e+03, 8.000e+00, 7.715e+01, 7.919e+01],\n",
       "       [2.015e+03, 9.000e+00, 7.647e+01, 7.807e+01],\n",
       "       [2.015e+03, 1.000e+01, 6.583e+01, 7.447e+01],\n",
       "       [2.015e+03, 1.100e+01, 6.078e+01, 6.362e+01],\n",
       "       [2.015e+03, 1.200e+01, 5.329e+01, 4.868e+01],\n",
       "       [2.016e+03, 1.000e+00, 4.210e+01, 4.385e+01],\n",
       "       [2.016e+03, 2.000e+00, 2.903e+01, 3.858e+01],\n",
       "       [2.016e+03, 3.000e+00, 3.922e+01, 3.917e+01],\n",
       "       [2.016e+03, 4.000e+00, 3.290e+01, 2.911e+01],\n",
       "       [2.016e+03, 5.000e+00, 4.462e+01, 3.841e+01],\n",
       "       [2.016e+03, 6.000e+00, 6.664e+01, 5.507e+01],\n",
       "       [2.016e+03, 7.000e+00, 7.038e+01, 7.340e+01],\n",
       "       [2.016e+03, 8.000e+00, 6.961e+01, 7.715e+01],\n",
       "       [2.016e+03, 9.000e+00, 7.082e+01, 7.647e+01],\n",
       "       [2.016e+03, 1.000e+01, 6.354e+01, 6.583e+01],\n",
       "       [2.016e+03, 1.100e+01, 5.307e+01, 6.078e+01],\n",
       "       [2.016e+03, 1.200e+01, 3.969e+01, 5.329e+01],\n",
       "       [2.017e+03, 1.000e+00, 3.036e+01, 4.210e+01],\n",
       "       [2.017e+03, 2.000e+00, 3.167e+01, 2.903e+01],\n",
       "       [2.017e+03, 3.000e+00, 2.902e+01, 3.922e+01],\n",
       "       [2.017e+03, 4.000e+00, 2.768e+01, 3.290e+01],\n",
       "       [2.017e+03, 5.000e+00, 3.987e+01, 4.462e+01],\n",
       "       [2.017e+03, 6.000e+00, 6.808e+01, 6.664e+01],\n",
       "       [2.017e+03, 7.000e+00, 8.084e+01, 7.038e+01],\n",
       "       [2.017e+03, 8.000e+00, 8.013e+01, 6.961e+01],\n",
       "       [2.017e+03, 9.000e+00, 8.012e+01, 7.082e+01],\n",
       "       [2.017e+03, 1.000e+01, 7.049e+01, 6.354e+01],\n",
       "       [2.017e+03, 1.100e+01, 5.419e+01, 5.307e+01],\n",
       "       [2.017e+03, 1.200e+01, 4.433e+01, 3.969e+01],\n",
       "       [2.018e+03, 1.000e+00, 3.485e+01, 3.036e+01],\n",
       "       [2.018e+03, 2.000e+00, 2.443e+01, 3.167e+01],\n",
       "       [2.018e+03, 3.000e+00, 2.549e+01, 2.902e+01],\n",
       "       [2.018e+03, 4.000e+00, 2.409e+01, 2.768e+01],\n",
       "       [2.018e+03, 5.000e+00, 3.806e+01, 3.987e+01],\n",
       "       [2.018e+03, 6.000e+00, 6.979e+01, 6.808e+01],\n",
       "       [2.018e+03, 7.000e+00, 7.617e+01, 8.084e+01],\n",
       "       [2.018e+03, 8.000e+00, 7.657e+01, 8.013e+01],\n",
       "       [2.018e+03, 9.000e+00, 7.902e+01, 8.012e+01],\n",
       "       [2.018e+03, 1.000e+01, 7.436e+01, 7.049e+01],\n",
       "       [2.018e+03, 1.100e+01, 6.433e+01, 5.419e+01],\n",
       "       [2.018e+03, 1.200e+01, 5.653e+01, 4.433e+01],\n",
       "       [2.019e+03, 1.000e+00, 4.052e+01, 3.485e+01],\n",
       "       [2.019e+03, 2.000e+00, 2.910e+01, 2.443e+01],\n",
       "       [2.019e+03, 3.000e+00, 2.673e+01, 2.549e+01],\n",
       "       [2.019e+03, 4.000e+00, 2.618e+01, 2.409e+01],\n",
       "       [2.019e+03, 5.000e+00, 3.815e+01, 3.806e+01],\n",
       "       [2.019e+03, 6.000e+00, 7.242e+01, 6.979e+01],\n",
       "       [2.019e+03, 7.000e+00, 7.764e+01, 7.617e+01],\n",
       "       [2.019e+03, 8.000e+00, 7.789e+01, 7.657e+01],\n",
       "       [2.019e+03, 9.000e+00, 7.089e+01, 7.902e+01],\n",
       "       [2.019e+03, 1.000e+01, 5.371e+01, 7.436e+01],\n",
       "       [2.019e+03, 1.100e+01, 4.554e+01, 6.433e+01],\n",
       "       [2.019e+03, 1.200e+01, 4.015e+01, 5.653e+01]])"
      ]
     },
     "execution_count": 13,
     "metadata": {},
     "output_type": "execute_result"
    }
   ],
   "source": [
    "X"
   ]
  },
  {
   "cell_type": "code",
   "execution_count": 14,
   "metadata": {},
   "outputs": [
    {
     "data": {
      "text/plain": [
       "array([39.29, 31.59, 24.67, 25.98, 47.2 , 69.95, 72.08, 77.06, 71.8 ,\n",
       "       59.76, 43.87, 33.28, 35.5 , 30.11, 25.15, 30.38, 34.68, 63.91,\n",
       "       76.38, 76.33, 73.33, 61.74, 45.51, 36.3 , 36.93, 26.74, 20.29,\n",
       "       29.45, 55.63, 73.61, 77.57, 79.64, 78.07, 69.02, 58.05, 39.85,\n",
       "       34.46, 30.09, 27.  , 36.64, 41.53, 67.01, 81.09, 82.68, 83.19,\n",
       "       74.77, 64.19, 54.8 , 40.48, 24.23, 32.29, 28.92, 43.67, 72.62,\n",
       "       80.36, 82.96, 81.27, 73.6 , 72.62, 57.46, 42.78, 36.07, 25.52,\n",
       "       27.2 , 40.92, 68.64, 79.14, 80.31, 82.35, 67.01, 58.13, 51.47,\n",
       "       32.75, 31.06, 34.36, 30.77, 41.86, 70.96, 72.05, 79.05, 80.25,\n",
       "       69.53, 63.44, 53.17, 38.27, 24.84, 24.82, 25.9 , 40.11, 65.12,\n",
       "       77.68, 76.52, 76.66, 71.43, 70.59, 61.44, 52.23, 36.75, 26.13,\n",
       "       28.21, 38.24, 70.68, 79.02, 81.75, 80.36, 75.68, 76.55, 61.55,\n",
       "       43.57, 34.94, 22.64, 33.1 , 41.54, 71.74, 76.46, 79.18, 78.08,\n",
       "       72.99, 58.35, 41.98, 36.63, 24.3 , 18.34, 29.48, 37.2 , 60.71,\n",
       "       75.  , 75.54, 75.11, 67.97, 57.9 , 42.06, 34.75, 32.94, 25.31,\n",
       "       30.59, 40.45, 75.22, 81.55, 79.19, 78.07, 74.47, 63.62, 48.68,\n",
       "       43.85, 38.58, 39.17, 29.11, 38.41, 55.07, 73.4 , 77.15, 76.47,\n",
       "       65.83, 60.78, 53.29, 42.1 , 29.03, 39.22, 32.9 , 44.62, 66.64,\n",
       "       70.38, 69.61, 70.82, 63.54, 53.07, 39.69, 30.36, 31.67, 29.02,\n",
       "       27.68, 39.87, 68.08, 80.84, 80.13, 80.12, 70.49, 54.19, 44.33,\n",
       "       34.85, 24.43, 25.49, 24.09, 38.06, 69.79, 76.17, 76.57, 79.02,\n",
       "       74.36, 64.33, 56.53, 40.52, 29.1 , 26.73, 26.18, 38.15, 72.42,\n",
       "       77.64, 77.89, 70.89, 53.71, 45.54, 40.15, 34.85, 24.43, 25.49,\n",
       "       24.09, 38.06, 69.79, 76.17, 76.57, 79.02, 74.36, 64.33, 56.53])"
      ]
     },
     "execution_count": 14,
     "metadata": {},
     "output_type": "execute_result"
    }
   ],
   "source": [
    "y"
   ]
  },
  {
   "cell_type": "code",
   "execution_count": 15,
   "metadata": {},
   "outputs": [
    {
     "data": {
      "text/plain": [
       "(216, 4)"
      ]
     },
     "execution_count": 15,
     "metadata": {},
     "output_type": "execute_result"
    }
   ],
   "source": [
    "X.shape"
   ]
  },
  {
   "cell_type": "code",
   "execution_count": 16,
   "metadata": {},
   "outputs": [
    {
     "data": {
      "text/plain": [
       "(216,)"
      ]
     },
     "execution_count": 16,
     "metadata": {},
     "output_type": "execute_result"
    }
   ],
   "source": [
    "y.shape"
   ]
  },
  {
   "cell_type": "code",
   "execution_count": 17,
   "metadata": {},
   "outputs": [],
   "source": [
    "#train test split\n",
    "from sklearn.model_selection import train_test_split\n",
    "X_train,X_test,y_train,y_test=train_test_split(X,y,test_size=0.2,random_state=101)"
   ]
  },
  {
   "cell_type": "code",
   "execution_count": 18,
   "metadata": {},
   "outputs": [],
   "source": [
    "X_train,y_train=np.array(X_train),np.array(y_train)"
   ]
  },
  {
   "cell_type": "code",
   "execution_count": 19,
   "metadata": {},
   "outputs": [],
   "source": [
    "from sklearn.linear_model import LinearRegression,Lasso,Ridge"
   ]
  },
  {
   "cell_type": "markdown",
   "metadata": {},
   "source": [
    "# Linear Regressor"
   ]
  },
  {
   "cell_type": "code",
   "execution_count": 20,
   "metadata": {},
   "outputs": [],
   "source": [
    "li=LinearRegression()"
   ]
  },
  {
   "cell_type": "code",
   "execution_count": 21,
   "metadata": {},
   "outputs": [
    {
     "data": {
      "text/plain": [
       "LinearRegression(copy_X=True, fit_intercept=True, n_jobs=None, normalize=False)"
      ]
     },
     "execution_count": 21,
     "metadata": {},
     "output_type": "execute_result"
    }
   ],
   "source": [
    "li.fit(X_train,y_train)"
   ]
  },
  {
   "cell_type": "code",
   "execution_count": 22,
   "metadata": {},
   "outputs": [
    {
     "data": {
      "text/plain": [
       "array([47.57896148, 79.08377235, 73.23056512, 34.06805759, 29.84122879,\n",
       "       68.53261962, 29.31568748, 79.88330956, 73.18607474, 73.94606353,\n",
       "       70.7505581 , 76.00866071, 66.58673614, 34.86543145, 64.11356153,\n",
       "       29.26459761, 37.07864452, 38.60419917, 78.39452173, 41.46139813,\n",
       "       63.00236477, 68.32677626, 73.82908344, 34.80314214, 67.38518673,\n",
       "       33.5377353 , 24.18435194, 47.47710541, 72.77967016, 74.30204834,\n",
       "       61.964355  , 31.22992127, 76.49117381, 28.58236585, 30.86008084,\n",
       "       75.98663113, 77.74058409, 26.79660541, 36.56616048, 27.67563244,\n",
       "       58.15833258, 55.05198113, 52.77668847, 30.74909133])"
      ]
     },
     "execution_count": 22,
     "metadata": {},
     "output_type": "execute_result"
    }
   ],
   "source": [
    "Lir_ypred= li.predict(X_test)\n",
    "Lir_ypred"
   ]
  },
  {
   "cell_type": "code",
   "execution_count": 23,
   "metadata": {},
   "outputs": [
    {
     "data": {
      "text/html": [
       "<div>\n",
       "<style scoped>\n",
       "    .dataframe tbody tr th:only-of-type {\n",
       "        vertical-align: middle;\n",
       "    }\n",
       "\n",
       "    .dataframe tbody tr th {\n",
       "        vertical-align: top;\n",
       "    }\n",
       "\n",
       "    .dataframe thead th {\n",
       "        text-align: right;\n",
       "    }\n",
       "</style>\n",
       "<table border=\"1\" class=\"dataframe\">\n",
       "  <thead>\n",
       "    <tr style=\"text-align: right;\">\n",
       "      <th></th>\n",
       "      <th>Actual</th>\n",
       "      <th>Predicted</th>\n",
       "    </tr>\n",
       "  </thead>\n",
       "  <tbody>\n",
       "    <tr>\n",
       "      <td>0</td>\n",
       "      <td>53.29</td>\n",
       "      <td>47.578961</td>\n",
       "    </tr>\n",
       "    <tr>\n",
       "      <td>1</td>\n",
       "      <td>79.14</td>\n",
       "      <td>79.083772</td>\n",
       "    </tr>\n",
       "    <tr>\n",
       "      <td>2</td>\n",
       "      <td>72.99</td>\n",
       "      <td>73.230565</td>\n",
       "    </tr>\n",
       "    <tr>\n",
       "      <td>3</td>\n",
       "      <td>52.23</td>\n",
       "      <td>34.068058</td>\n",
       "    </tr>\n",
       "    <tr>\n",
       "      <td>4</td>\n",
       "      <td>34.94</td>\n",
       "      <td>29.841229</td>\n",
       "    </tr>\n",
       "    <tr>\n",
       "      <td>5</td>\n",
       "      <td>71.43</td>\n",
       "      <td>68.532620</td>\n",
       "    </tr>\n",
       "    <tr>\n",
       "      <td>6</td>\n",
       "      <td>34.36</td>\n",
       "      <td>29.315687</td>\n",
       "    </tr>\n",
       "    <tr>\n",
       "      <td>7</td>\n",
       "      <td>82.96</td>\n",
       "      <td>79.883310</td>\n",
       "    </tr>\n",
       "    <tr>\n",
       "      <td>8</td>\n",
       "      <td>76.17</td>\n",
       "      <td>73.186075</td>\n",
       "    </tr>\n",
       "    <tr>\n",
       "      <td>9</td>\n",
       "      <td>79.02</td>\n",
       "      <td>73.946064</td>\n",
       "    </tr>\n",
       "    <tr>\n",
       "      <td>10</td>\n",
       "      <td>65.83</td>\n",
       "      <td>70.750558</td>\n",
       "    </tr>\n",
       "    <tr>\n",
       "      <td>11</td>\n",
       "      <td>79.64</td>\n",
       "      <td>76.008661</td>\n",
       "    </tr>\n",
       "    <tr>\n",
       "      <td>12</td>\n",
       "      <td>74.36</td>\n",
       "      <td>66.586736</td>\n",
       "    </tr>\n",
       "    <tr>\n",
       "      <td>13</td>\n",
       "      <td>24.30</td>\n",
       "      <td>34.865431</td>\n",
       "    </tr>\n",
       "    <tr>\n",
       "      <td>14</td>\n",
       "      <td>66.64</td>\n",
       "      <td>64.113562</td>\n",
       "    </tr>\n",
       "    <tr>\n",
       "      <td>15</td>\n",
       "      <td>32.94</td>\n",
       "      <td>29.264598</td>\n",
       "    </tr>\n",
       "    <tr>\n",
       "      <td>16</td>\n",
       "      <td>42.10</td>\n",
       "      <td>37.078645</td>\n",
       "    </tr>\n",
       "    <tr>\n",
       "      <td>17</td>\n",
       "      <td>38.41</td>\n",
       "      <td>38.604199</td>\n",
       "    </tr>\n",
       "    <tr>\n",
       "      <td>18</td>\n",
       "      <td>76.52</td>\n",
       "      <td>78.394522</td>\n",
       "    </tr>\n",
       "    <tr>\n",
       "      <td>19</td>\n",
       "      <td>40.11</td>\n",
       "      <td>41.461398</td>\n",
       "    </tr>\n",
       "    <tr>\n",
       "      <td>20</td>\n",
       "      <td>41.98</td>\n",
       "      <td>63.002365</td>\n",
       "    </tr>\n",
       "    <tr>\n",
       "      <td>21</td>\n",
       "      <td>68.64</td>\n",
       "      <td>68.326776</td>\n",
       "    </tr>\n",
       "    <tr>\n",
       "      <td>22</td>\n",
       "      <td>79.02</td>\n",
       "      <td>73.829083</td>\n",
       "    </tr>\n",
       "    <tr>\n",
       "      <td>23</td>\n",
       "      <td>40.48</td>\n",
       "      <td>34.803142</td>\n",
       "    </tr>\n",
       "    <tr>\n",
       "      <td>24</td>\n",
       "      <td>67.01</td>\n",
       "      <td>67.385187</td>\n",
       "    </tr>\n",
       "    <tr>\n",
       "      <td>25</td>\n",
       "      <td>25.49</td>\n",
       "      <td>33.537735</td>\n",
       "    </tr>\n",
       "    <tr>\n",
       "      <td>26</td>\n",
       "      <td>32.29</td>\n",
       "      <td>24.184352</td>\n",
       "    </tr>\n",
       "    <tr>\n",
       "      <td>27</td>\n",
       "      <td>58.05</td>\n",
       "      <td>47.477105</td>\n",
       "    </tr>\n",
       "    <tr>\n",
       "      <td>28</td>\n",
       "      <td>80.12</td>\n",
       "      <td>72.779670</td>\n",
       "    </tr>\n",
       "    <tr>\n",
       "      <td>29</td>\n",
       "      <td>67.01</td>\n",
       "      <td>74.302048</td>\n",
       "    </tr>\n",
       "    <tr>\n",
       "      <td>30</td>\n",
       "      <td>69.02</td>\n",
       "      <td>61.964355</td>\n",
       "    </tr>\n",
       "    <tr>\n",
       "      <td>31</td>\n",
       "      <td>39.22</td>\n",
       "      <td>31.229921</td>\n",
       "    </tr>\n",
       "    <tr>\n",
       "      <td>32</td>\n",
       "      <td>76.46</td>\n",
       "      <td>76.491174</td>\n",
       "    </tr>\n",
       "    <tr>\n",
       "      <td>33</td>\n",
       "      <td>30.09</td>\n",
       "      <td>28.582366</td>\n",
       "    </tr>\n",
       "    <tr>\n",
       "      <td>34</td>\n",
       "      <td>26.74</td>\n",
       "      <td>30.860081</td>\n",
       "    </tr>\n",
       "    <tr>\n",
       "      <td>35</td>\n",
       "      <td>79.19</td>\n",
       "      <td>75.986631</td>\n",
       "    </tr>\n",
       "    <tr>\n",
       "      <td>36</td>\n",
       "      <td>80.36</td>\n",
       "      <td>77.740584</td>\n",
       "    </tr>\n",
       "    <tr>\n",
       "      <td>37</td>\n",
       "      <td>24.67</td>\n",
       "      <td>26.796605</td>\n",
       "    </tr>\n",
       "    <tr>\n",
       "      <td>38</td>\n",
       "      <td>35.50</td>\n",
       "      <td>36.566160</td>\n",
       "    </tr>\n",
       "    <tr>\n",
       "      <td>39</td>\n",
       "      <td>38.58</td>\n",
       "      <td>27.675632</td>\n",
       "    </tr>\n",
       "    <tr>\n",
       "      <td>40</td>\n",
       "      <td>54.19</td>\n",
       "      <td>58.158333</td>\n",
       "    </tr>\n",
       "    <tr>\n",
       "      <td>41</td>\n",
       "      <td>45.51</td>\n",
       "      <td>55.051981</td>\n",
       "    </tr>\n",
       "    <tr>\n",
       "      <td>42</td>\n",
       "      <td>39.69</td>\n",
       "      <td>52.776688</td>\n",
       "    </tr>\n",
       "    <tr>\n",
       "      <td>43</td>\n",
       "      <td>36.64</td>\n",
       "      <td>30.749091</td>\n",
       "    </tr>\n",
       "  </tbody>\n",
       "</table>\n",
       "</div>"
      ],
      "text/plain": [
       "    Actual  Predicted\n",
       "0    53.29  47.578961\n",
       "1    79.14  79.083772\n",
       "2    72.99  73.230565\n",
       "3    52.23  34.068058\n",
       "4    34.94  29.841229\n",
       "5    71.43  68.532620\n",
       "6    34.36  29.315687\n",
       "7    82.96  79.883310\n",
       "8    76.17  73.186075\n",
       "9    79.02  73.946064\n",
       "10   65.83  70.750558\n",
       "11   79.64  76.008661\n",
       "12   74.36  66.586736\n",
       "13   24.30  34.865431\n",
       "14   66.64  64.113562\n",
       "15   32.94  29.264598\n",
       "16   42.10  37.078645\n",
       "17   38.41  38.604199\n",
       "18   76.52  78.394522\n",
       "19   40.11  41.461398\n",
       "20   41.98  63.002365\n",
       "21   68.64  68.326776\n",
       "22   79.02  73.829083\n",
       "23   40.48  34.803142\n",
       "24   67.01  67.385187\n",
       "25   25.49  33.537735\n",
       "26   32.29  24.184352\n",
       "27   58.05  47.477105\n",
       "28   80.12  72.779670\n",
       "29   67.01  74.302048\n",
       "30   69.02  61.964355\n",
       "31   39.22  31.229921\n",
       "32   76.46  76.491174\n",
       "33   30.09  28.582366\n",
       "34   26.74  30.860081\n",
       "35   79.19  75.986631\n",
       "36   80.36  77.740584\n",
       "37   24.67  26.796605\n",
       "38   35.50  36.566160\n",
       "39   38.58  27.675632\n",
       "40   54.19  58.158333\n",
       "41   45.51  55.051981\n",
       "42   39.69  52.776688\n",
       "43   36.64  30.749091"
      ]
     },
     "execution_count": 23,
     "metadata": {},
     "output_type": "execute_result"
    }
   ],
   "source": [
    "Linear=pd.DataFrame({'Actual':y_test,'Predicted':Lir_ypred})\n",
    "Linear"
   ]
  },
  {
   "cell_type": "code",
   "execution_count": 24,
   "metadata": {},
   "outputs": [],
   "source": [
    "from sklearn.metrics import mean_squared_error,r2_score"
   ]
  },
  {
   "cell_type": "code",
   "execution_count": 25,
   "metadata": {},
   "outputs": [
    {
     "name": "stdout",
     "output_type": "stream",
     "text": [
      "Mean squared Error: 49.190889791575756\n",
      "Root Mean Squared Error: 7.013621731429188\n",
      "R2_Score: 0.8715929642807543\n"
     ]
    }
   ],
   "source": [
    "#print('Mean Absolute Error:',mean_absolute_error(y_test,Lir_ypred))\n",
    "print('Mean squared Error:',mean_squared_error(y_test,Lir_ypred))\n",
    "print('Root Mean Squared Error:',np.sqrt(mean_squared_error(y_test,Lir_ypred)))\n",
    "print('R2_Score:',r2_score(y_test,Lir_ypred))"
   ]
  },
  {
   "cell_type": "code",
   "execution_count": 26,
   "metadata": {},
   "outputs": [
    {
     "data": {
      "text/plain": [
       "0.8715929642807543"
      ]
     },
     "execution_count": 26,
     "metadata": {},
     "output_type": "execute_result"
    }
   ],
   "source": [
    "linear_r2_score=r2_score(y_test,Lir_ypred)\n",
    "linear_r2_score"
   ]
  },
  {
   "cell_type": "markdown",
   "metadata": {},
   "source": [
    "# Lasso Regressor"
   ]
  },
  {
   "cell_type": "code",
   "execution_count": 27,
   "metadata": {},
   "outputs": [
    {
     "data": {
      "text/plain": [
       "Lasso(alpha=0.0001, copy_X=True, fit_intercept=True, max_iter=1000,\n",
       "      normalize=False, positive=False, precompute=False, random_state=None,\n",
       "      selection='cyclic', tol=0.0001, warm_start=False)"
      ]
     },
     "execution_count": 27,
     "metadata": {},
     "output_type": "execute_result"
    }
   ],
   "source": [
    "#Lasso Regressor\n",
    "lass=Lasso(alpha=0.0001)\n",
    "lass.fit(X_train,y_train)"
   ]
  },
  {
   "cell_type": "code",
   "execution_count": 28,
   "metadata": {},
   "outputs": [],
   "source": [
    "Lass_ypred= lass.predict(X_test)"
   ]
  },
  {
   "cell_type": "code",
   "execution_count": 29,
   "metadata": {},
   "outputs": [
    {
     "name": "stdout",
     "output_type": "stream",
     "text": [
      "Mean squared Error: 49.190607115332426\n",
      "Root Mean Squared Error: 7.013601579454911\n",
      "R2_Score: 0.8715937021738607\n"
     ]
    }
   ],
   "source": [
    "print('Mean squared Error:',mean_squared_error(y_test,Lass_ypred))\n",
    "print('Root Mean Squared Error:',np.sqrt(mean_squared_error(y_test,Lass_ypred)))\n",
    "print('R2_Score:',r2_score(y_test,Lass_ypred))"
   ]
  },
  {
   "cell_type": "code",
   "execution_count": 30,
   "metadata": {},
   "outputs": [
    {
     "data": {
      "text/plain": [
       "0.8715937021738607"
      ]
     },
     "execution_count": 30,
     "metadata": {},
     "output_type": "execute_result"
    }
   ],
   "source": [
    "lasso_r2_score=r2_score(y_test,Lass_ypred)\n",
    "lasso_r2_score"
   ]
  },
  {
   "cell_type": "markdown",
   "metadata": {},
   "source": [
    "# Ridge Regressor"
   ]
  },
  {
   "cell_type": "code",
   "execution_count": 31,
   "metadata": {},
   "outputs": [
    {
     "data": {
      "text/plain": [
       "Ridge(alpha=0.0001, copy_X=True, fit_intercept=True, max_iter=None,\n",
       "      normalize=False, random_state=None, solver='auto', tol=0.001)"
      ]
     },
     "execution_count": 31,
     "metadata": {},
     "output_type": "execute_result"
    }
   ],
   "source": [
    "#RIdge\n",
    "rid=Ridge(alpha=0.0001)\n",
    "rid.fit(X_train,y_train)"
   ]
  },
  {
   "cell_type": "code",
   "execution_count": 32,
   "metadata": {},
   "outputs": [],
   "source": [
    "rid_ypred= rid.predict(X_test)"
   ]
  },
  {
   "cell_type": "code",
   "execution_count": 33,
   "metadata": {},
   "outputs": [
    {
     "name": "stdout",
     "output_type": "stream",
     "text": [
      "Mean squared Error: 49.190889391977954\n",
      "Root Mean Squared Error: 7.013621702941923\n",
      "R2_Score: 0.8715929653238574\n"
     ]
    }
   ],
   "source": [
    "print('Mean squared Error:',mean_squared_error(y_test,rid_ypred))\n",
    "print('Root Mean Squared Error:',np.sqrt(mean_squared_error(y_test,rid_ypred)))\n",
    "print('R2_Score:',r2_score(y_test,rid_ypred))"
   ]
  },
  {
   "cell_type": "code",
   "execution_count": 34,
   "metadata": {},
   "outputs": [
    {
     "data": {
      "text/plain": [
       "0.8715929653238574"
      ]
     },
     "execution_count": 34,
     "metadata": {},
     "output_type": "execute_result"
    }
   ],
   "source": [
    "ridge_r2_score=r2_score(y_test,rid_ypred)\n",
    "ridge_r2_score"
   ]
  },
  {
   "cell_type": "markdown",
   "metadata": {},
   "source": [
    "# Decision Tree Regressor"
   ]
  },
  {
   "cell_type": "code",
   "execution_count": 35,
   "metadata": {},
   "outputs": [],
   "source": [
    "#Decision Tree Regressor\n",
    "from sklearn.tree import DecisionTreeRegressor\n",
    "dt=DecisionTreeRegressor()"
   ]
  },
  {
   "cell_type": "code",
   "execution_count": 36,
   "metadata": {},
   "outputs": [
    {
     "data": {
      "text/plain": [
       "DecisionTreeRegressor(criterion='mse', max_depth=None, max_features=None,\n",
       "                      max_leaf_nodes=None, min_impurity_decrease=0.0,\n",
       "                      min_impurity_split=None, min_samples_leaf=1,\n",
       "                      min_samples_split=2, min_weight_fraction_leaf=0.0,\n",
       "                      presort=False, random_state=None, splitter='best')"
      ]
     },
     "execution_count": 36,
     "metadata": {},
     "output_type": "execute_result"
    }
   ],
   "source": [
    "dt.fit(X_train,y_train)"
   ]
  },
  {
   "cell_type": "code",
   "execution_count": 37,
   "metadata": {},
   "outputs": [],
   "source": [
    "dt_ypred= dt.predict(X_test)"
   ]
  },
  {
   "cell_type": "code",
   "execution_count": 38,
   "metadata": {},
   "outputs": [
    {
     "name": "stdout",
     "output_type": "stream",
     "text": [
      "Mean squared Error: 79.95388409090907\n",
      "Root Mean Squared Error: 8.941693580687557\n",
      "R2_Score: 0.7912897836600626\n"
     ]
    }
   ],
   "source": [
    "print('Mean squared Error:',mean_squared_error(y_test,dt_ypred))\n",
    "print('Root Mean Squared Error:',np.sqrt(mean_squared_error(y_test,dt_ypred)))\n",
    "print('R2_Score:',r2_score(y_test,dt_ypred))"
   ]
  },
  {
   "cell_type": "code",
   "execution_count": 39,
   "metadata": {},
   "outputs": [
    {
     "data": {
      "text/plain": [
       "0.7912897836600626"
      ]
     },
     "execution_count": 39,
     "metadata": {},
     "output_type": "execute_result"
    }
   ],
   "source": [
    "decisiontree_r2_score=r2_score(y_test,dt_ypred)\n",
    "decisiontree_r2_score"
   ]
  },
  {
   "cell_type": "markdown",
   "metadata": {},
   "source": [
    "# KNN Regressor"
   ]
  },
  {
   "cell_type": "code",
   "execution_count": 40,
   "metadata": {},
   "outputs": [
    {
     "data": {
      "text/plain": [
       "KNeighborsRegressor(algorithm='auto', leaf_size=30, metric='minkowski',\n",
       "                    metric_params=None, n_jobs=None, n_neighbors=3, p=2,\n",
       "                    weights='uniform')"
      ]
     },
     "execution_count": 40,
     "metadata": {},
     "output_type": "execute_result"
    }
   ],
   "source": [
    "from sklearn.neighbors import KNeighborsRegressor\n",
    "\n",
    "kn=KNeighborsRegressor(n_neighbors=3)\n",
    "kn.fit(X_train,y_train)"
   ]
  },
  {
   "cell_type": "code",
   "execution_count": 41,
   "metadata": {},
   "outputs": [],
   "source": [
    "kn1_pred=kn.predict(X_test)"
   ]
  },
  {
   "cell_type": "code",
   "execution_count": 42,
   "metadata": {},
   "outputs": [
    {
     "name": "stdout",
     "output_type": "stream",
     "text": [
      "Mean squared Error: 49.113704797979786\n",
      "Root Mean Squared Error: 7.008117065088153\n",
      "R2_Score: 0.8717944466339229\n"
     ]
    }
   ],
   "source": [
    "print('Mean squared Error:',mean_squared_error(y_test,kn1_pred))\n",
    "print('Root Mean Squared Error:',np.sqrt(mean_squared_error(y_test,kn1_pred)))\n",
    "print('R2_Score:',r2_score(y_test,kn1_pred))"
   ]
  },
  {
   "cell_type": "code",
   "execution_count": 43,
   "metadata": {},
   "outputs": [
    {
     "data": {
      "text/plain": [
       "0.8717944466339229"
      ]
     },
     "execution_count": 43,
     "metadata": {},
     "output_type": "execute_result"
    }
   ],
   "source": [
    "kneighbour_r2_score=r2_score(y_test,kn1_pred)\n",
    "kneighbour_r2_score"
   ]
  },
  {
   "cell_type": "markdown",
   "metadata": {},
   "source": [
    "# SVR rbf"
   ]
  },
  {
   "cell_type": "code",
   "execution_count": 44,
   "metadata": {},
   "outputs": [
    {
     "name": "stderr",
     "output_type": "stream",
     "text": [
      "C:\\ProgramData\\Anaconda3\\lib\\site-packages\\sklearn\\svm\\base.py:193: FutureWarning: The default value of gamma will change from 'auto' to 'scale' in version 0.22 to account better for unscaled features. Set gamma explicitly to 'auto' or 'scale' to avoid this warning.\n",
      "  \"avoid this warning.\", FutureWarning)\n"
     ]
    }
   ],
   "source": [
    "from sklearn.svm import SVR\n",
    "svr=SVR(kernel='rbf')\n",
    "svr.fit(X_train,y_train)\n",
    "svr_pred=svr.predict(X_test)"
   ]
  },
  {
   "cell_type": "code",
   "execution_count": 45,
   "metadata": {},
   "outputs": [
    {
     "name": "stdout",
     "output_type": "stream",
     "text": [
      "Mean squared Error: 370.60690179846796\n",
      "Root Mean Squared Error: 19.251153258921086\n",
      "R2_Score: 0.0325742453801946\n"
     ]
    }
   ],
   "source": [
    "print('Mean squared Error:',mean_squared_error(y_test,svr_pred))\n",
    "print('Root Mean Squared Error:',np.sqrt(mean_squared_error(y_test,svr_pred)))\n",
    "print('R2_Score:',r2_score(y_test,svr_pred))"
   ]
  },
  {
   "cell_type": "code",
   "execution_count": 46,
   "metadata": {},
   "outputs": [
    {
     "data": {
      "text/plain": [
       "0.0325742453801946"
      ]
     },
     "execution_count": 46,
     "metadata": {},
     "output_type": "execute_result"
    }
   ],
   "source": [
    "svr_r2_score=r2_score(y_test,svr_pred)\n",
    "svr_r2_score"
   ]
  },
  {
   "cell_type": "markdown",
   "metadata": {},
   "source": [
    "# Random Forest"
   ]
  },
  {
   "cell_type": "code",
   "execution_count": 47,
   "metadata": {},
   "outputs": [],
   "source": [
    "from sklearn.ensemble import RandomForestRegressor"
   ]
  },
  {
   "cell_type": "code",
   "execution_count": 48,
   "metadata": {},
   "outputs": [],
   "source": [
    "rf = RandomForestRegressor(n_estimators = 1000, random_state = 42)\n",
    "rf.fit(X_train, y_train);"
   ]
  },
  {
   "cell_type": "code",
   "execution_count": 49,
   "metadata": {},
   "outputs": [],
   "source": [
    "rf_pred=rf.predict(X_test)"
   ]
  },
  {
   "cell_type": "code",
   "execution_count": 50,
   "metadata": {},
   "outputs": [
    {
     "name": "stdout",
     "output_type": "stream",
     "text": [
      "Mean squared Error: 39.304944874736904\n",
      "Root Mean Squared Error: 6.269365587899377\n",
      "R2_Score: 0.8973990614551222\n"
     ]
    }
   ],
   "source": [
    "print('Mean squared Error:',mean_squared_error(y_test,rf_pred))\n",
    "print('Root Mean Squared Error:',np.sqrt(mean_squared_error(y_test,rf_pred)))\n",
    "print('R2_Score:',r2_score(y_test,rf_pred))"
   ]
  },
  {
   "cell_type": "code",
   "execution_count": 51,
   "metadata": {},
   "outputs": [
    {
     "data": {
      "text/plain": [
       "0.8973990614551222"
      ]
     },
     "execution_count": 51,
     "metadata": {},
     "output_type": "execute_result"
    }
   ],
   "source": [
    "randomforest_r2_score=r2_score(y_test,rf_pred)\n",
    "randomforest_r2_score"
   ]
  },
  {
   "cell_type": "markdown",
   "metadata": {},
   "source": [
    "# Bayes Regressor"
   ]
  },
  {
   "cell_type": "code",
   "execution_count": 52,
   "metadata": {},
   "outputs": [],
   "source": [
    "from sklearn.linear_model import BayesianRidge\n",
    "br=BayesianRidge()\n",
    "br.fit(X_train,y_train)\n",
    "y_pred=br.predict(X_test)"
   ]
  },
  {
   "cell_type": "code",
   "execution_count": 53,
   "metadata": {},
   "outputs": [
    {
     "data": {
      "text/html": [
       "<div>\n",
       "<style scoped>\n",
       "    .dataframe tbody tr th:only-of-type {\n",
       "        vertical-align: middle;\n",
       "    }\n",
       "\n",
       "    .dataframe tbody tr th {\n",
       "        vertical-align: top;\n",
       "    }\n",
       "\n",
       "    .dataframe thead th {\n",
       "        text-align: right;\n",
       "    }\n",
       "</style>\n",
       "<table border=\"1\" class=\"dataframe\">\n",
       "  <thead>\n",
       "    <tr style=\"text-align: right;\">\n",
       "      <th></th>\n",
       "      <th>Actual</th>\n",
       "      <th>Predicted</th>\n",
       "    </tr>\n",
       "  </thead>\n",
       "  <tbody>\n",
       "    <tr>\n",
       "      <td>0</td>\n",
       "      <td>53.29</td>\n",
       "      <td>47.221719</td>\n",
       "    </tr>\n",
       "    <tr>\n",
       "      <td>1</td>\n",
       "      <td>79.14</td>\n",
       "      <td>79.176180</td>\n",
       "    </tr>\n",
       "    <tr>\n",
       "      <td>2</td>\n",
       "      <td>72.99</td>\n",
       "      <td>73.123517</td>\n",
       "    </tr>\n",
       "    <tr>\n",
       "      <td>3</td>\n",
       "      <td>52.23</td>\n",
       "      <td>34.343847</td>\n",
       "    </tr>\n",
       "    <tr>\n",
       "      <td>4</td>\n",
       "      <td>34.94</td>\n",
       "      <td>30.050749</td>\n",
       "    </tr>\n",
       "    <tr>\n",
       "      <td>5</td>\n",
       "      <td>71.43</td>\n",
       "      <td>68.388378</td>\n",
       "    </tr>\n",
       "    <tr>\n",
       "      <td>6</td>\n",
       "      <td>34.36</td>\n",
       "      <td>29.392406</td>\n",
       "    </tr>\n",
       "    <tr>\n",
       "      <td>7</td>\n",
       "      <td>82.96</td>\n",
       "      <td>79.921445</td>\n",
       "    </tr>\n",
       "    <tr>\n",
       "      <td>8</td>\n",
       "      <td>76.17</td>\n",
       "      <td>73.315369</td>\n",
       "    </tr>\n",
       "    <tr>\n",
       "      <td>9</td>\n",
       "      <td>79.02</td>\n",
       "      <td>73.944708</td>\n",
       "    </tr>\n",
       "    <tr>\n",
       "      <td>10</td>\n",
       "      <td>65.83</td>\n",
       "      <td>70.647628</td>\n",
       "    </tr>\n",
       "    <tr>\n",
       "      <td>11</td>\n",
       "      <td>79.64</td>\n",
       "      <td>76.008146</td>\n",
       "    </tr>\n",
       "    <tr>\n",
       "      <td>12</td>\n",
       "      <td>74.36</td>\n",
       "      <td>66.473815</td>\n",
       "    </tr>\n",
       "    <tr>\n",
       "      <td>13</td>\n",
       "      <td>24.30</td>\n",
       "      <td>35.066054</td>\n",
       "    </tr>\n",
       "    <tr>\n",
       "      <td>14</td>\n",
       "      <td>66.64</td>\n",
       "      <td>64.165449</td>\n",
       "    </tr>\n",
       "    <tr>\n",
       "      <td>15</td>\n",
       "      <td>32.94</td>\n",
       "      <td>29.413784</td>\n",
       "    </tr>\n",
       "    <tr>\n",
       "      <td>16</td>\n",
       "      <td>42.10</td>\n",
       "      <td>37.398818</td>\n",
       "    </tr>\n",
       "    <tr>\n",
       "      <td>17</td>\n",
       "      <td>38.41</td>\n",
       "      <td>38.649378</td>\n",
       "    </tr>\n",
       "    <tr>\n",
       "      <td>18</td>\n",
       "      <td>76.52</td>\n",
       "      <td>78.423309</td>\n",
       "    </tr>\n",
       "    <tr>\n",
       "      <td>19</td>\n",
       "      <td>40.11</td>\n",
       "      <td>41.497044</td>\n",
       "    </tr>\n",
       "    <tr>\n",
       "      <td>20</td>\n",
       "      <td>41.98</td>\n",
       "      <td>62.697680</td>\n",
       "    </tr>\n",
       "    <tr>\n",
       "      <td>21</td>\n",
       "      <td>68.64</td>\n",
       "      <td>68.445779</td>\n",
       "    </tr>\n",
       "    <tr>\n",
       "      <td>22</td>\n",
       "      <td>79.02</td>\n",
       "      <td>73.784488</td>\n",
       "    </tr>\n",
       "    <tr>\n",
       "      <td>23</td>\n",
       "      <td>40.48</td>\n",
       "      <td>35.045483</td>\n",
       "    </tr>\n",
       "    <tr>\n",
       "      <td>24</td>\n",
       "      <td>67.01</td>\n",
       "      <td>67.503632</td>\n",
       "    </tr>\n",
       "    <tr>\n",
       "      <td>25</td>\n",
       "      <td>25.49</td>\n",
       "      <td>33.659728</td>\n",
       "    </tr>\n",
       "    <tr>\n",
       "      <td>26</td>\n",
       "      <td>32.29</td>\n",
       "      <td>24.265086</td>\n",
       "    </tr>\n",
       "    <tr>\n",
       "      <td>27</td>\n",
       "      <td>58.05</td>\n",
       "      <td>47.134511</td>\n",
       "    </tr>\n",
       "    <tr>\n",
       "      <td>28</td>\n",
       "      <td>80.12</td>\n",
       "      <td>72.725712</td>\n",
       "    </tr>\n",
       "    <tr>\n",
       "      <td>29</td>\n",
       "      <td>67.01</td>\n",
       "      <td>74.170695</td>\n",
       "    </tr>\n",
       "    <tr>\n",
       "      <td>30</td>\n",
       "      <td>69.02</td>\n",
       "      <td>61.765498</td>\n",
       "    </tr>\n",
       "    <tr>\n",
       "      <td>31</td>\n",
       "      <td>39.22</td>\n",
       "      <td>31.401221</td>\n",
       "    </tr>\n",
       "    <tr>\n",
       "      <td>32</td>\n",
       "      <td>76.46</td>\n",
       "      <td>76.590210</td>\n",
       "    </tr>\n",
       "    <tr>\n",
       "      <td>33</td>\n",
       "      <td>30.09</td>\n",
       "      <td>28.719723</td>\n",
       "    </tr>\n",
       "    <tr>\n",
       "      <td>34</td>\n",
       "      <td>26.74</td>\n",
       "      <td>31.011338</td>\n",
       "    </tr>\n",
       "    <tr>\n",
       "      <td>35</td>\n",
       "      <td>79.19</td>\n",
       "      <td>76.010298</td>\n",
       "    </tr>\n",
       "    <tr>\n",
       "      <td>36</td>\n",
       "      <td>80.36</td>\n",
       "      <td>77.834380</td>\n",
       "    </tr>\n",
       "    <tr>\n",
       "      <td>37</td>\n",
       "      <td>24.67</td>\n",
       "      <td>26.879571</td>\n",
       "    </tr>\n",
       "    <tr>\n",
       "      <td>38</td>\n",
       "      <td>35.50</td>\n",
       "      <td>36.824172</td>\n",
       "    </tr>\n",
       "    <tr>\n",
       "      <td>39</td>\n",
       "      <td>38.58</td>\n",
       "      <td>27.875150</td>\n",
       "    </tr>\n",
       "    <tr>\n",
       "      <td>40</td>\n",
       "      <td>54.19</td>\n",
       "      <td>57.889315</td>\n",
       "    </tr>\n",
       "    <tr>\n",
       "      <td>41</td>\n",
       "      <td>45.51</td>\n",
       "      <td>54.693907</td>\n",
       "    </tr>\n",
       "    <tr>\n",
       "      <td>42</td>\n",
       "      <td>39.69</td>\n",
       "      <td>52.444974</td>\n",
       "    </tr>\n",
       "    <tr>\n",
       "      <td>43</td>\n",
       "      <td>36.64</td>\n",
       "      <td>30.773582</td>\n",
       "    </tr>\n",
       "  </tbody>\n",
       "</table>\n",
       "</div>"
      ],
      "text/plain": [
       "    Actual  Predicted\n",
       "0    53.29  47.221719\n",
       "1    79.14  79.176180\n",
       "2    72.99  73.123517\n",
       "3    52.23  34.343847\n",
       "4    34.94  30.050749\n",
       "5    71.43  68.388378\n",
       "6    34.36  29.392406\n",
       "7    82.96  79.921445\n",
       "8    76.17  73.315369\n",
       "9    79.02  73.944708\n",
       "10   65.83  70.647628\n",
       "11   79.64  76.008146\n",
       "12   74.36  66.473815\n",
       "13   24.30  35.066054\n",
       "14   66.64  64.165449\n",
       "15   32.94  29.413784\n",
       "16   42.10  37.398818\n",
       "17   38.41  38.649378\n",
       "18   76.52  78.423309\n",
       "19   40.11  41.497044\n",
       "20   41.98  62.697680\n",
       "21   68.64  68.445779\n",
       "22   79.02  73.784488\n",
       "23   40.48  35.045483\n",
       "24   67.01  67.503632\n",
       "25   25.49  33.659728\n",
       "26   32.29  24.265086\n",
       "27   58.05  47.134511\n",
       "28   80.12  72.725712\n",
       "29   67.01  74.170695\n",
       "30   69.02  61.765498\n",
       "31   39.22  31.401221\n",
       "32   76.46  76.590210\n",
       "33   30.09  28.719723\n",
       "34   26.74  31.011338\n",
       "35   79.19  76.010298\n",
       "36   80.36  77.834380\n",
       "37   24.67  26.879571\n",
       "38   35.50  36.824172\n",
       "39   38.58  27.875150\n",
       "40   54.19  57.889315\n",
       "41   45.51  54.693907\n",
       "42   39.69  52.444974\n",
       "43   36.64  30.773582"
      ]
     },
     "execution_count": 53,
     "metadata": {},
     "output_type": "execute_result"
    }
   ],
   "source": [
    "bay=pd.DataFrame({'Actual':y_test,'Predicted':y_pred})\n",
    "bay"
   ]
  },
  {
   "cell_type": "code",
   "execution_count": 54,
   "metadata": {},
   "outputs": [
    {
     "name": "stdout",
     "output_type": "stream",
     "text": [
      "Mean squared Error: 48.36218938110283\n",
      "Root Mean Squared Error: 6.954292874268586\n",
      "R2_Score: 0.8737561892937398\n"
     ]
    }
   ],
   "source": [
    "print('Mean squared Error:',mean_squared_error(y_test,y_pred))\n",
    "print('Root Mean Squared Error:',np.sqrt(mean_squared_error(y_test,y_pred)))\n",
    "print('R2_Score:',r2_score(y_test,y_pred))"
   ]
  },
  {
   "cell_type": "code",
   "execution_count": 55,
   "metadata": {},
   "outputs": [
    {
     "data": {
      "text/plain": [
       "0.8737561892937398"
      ]
     },
     "execution_count": 55,
     "metadata": {},
     "output_type": "execute_result"
    }
   ],
   "source": [
    "bayes_r2_score=r2_score(y_test,y_pred)\n",
    "bayes_r2_score"
   ]
  },
  {
   "cell_type": "code",
   "execution_count": 56,
   "metadata": {},
   "outputs": [],
   "source": [
    "Regressors=['Linear','Lasso','Ridge','DecisionTree','KNeighbour','SVR','RandomForest','Bayesian']\n",
    "R2_Score=[linear_r2_score,lasso_r2_score,ridge_r2_score,decisiontree_r2_score,kneighbour_r2_score,svr_r2_score,randomforest_r2_score,bayes_r2_score]"
   ]
  },
  {
   "cell_type": "code",
   "execution_count": 57,
   "metadata": {},
   "outputs": [
    {
     "name": "stderr",
     "output_type": "stream",
     "text": [
      "No handles with labels found to put in legend.\n"
     ]
    },
    {
     "data": {
      "image/png": "[encoded data removed]",
      "text/plain": [
       "<Figure size 1080x288 with 1 Axes>"
      ]
     },
     "metadata": {
      "needs_background": "light"
     },
     "output_type": "display_data"
    }
   ],
   "source": [
    "plt.figure(figsize=(15,4))\n",
    "plt.plot(Regressors,R2_Score, color = 'Red')\n",
    "\n",
    "plt.title('Comparision between different Regressors',fontsize=15)\n",
    "plt.xlabel('Regressors',fontsize=15)\n",
    "plt.ylabel('Accuracy Values',fontsize=15)\n",
    "plt.legend()\n",
    "plt.show()\n"
   ]
  },
  {
   "cell_type": "markdown",
   "metadata": {},
   "source": [
    "#  random forest is best for Relativehumidity prediction with accuracy of 89.73% followed by KNN with neighbour=3 87.17% "
   ]
  },
  {
   "cell_type": "code",
   "execution_count": 58,
   "metadata": {},
   "outputs": [],
   "source": [
    "rh2020=pd.read_csv(\"C:/Users/Abhishek Wagh/Desktop/MTech_Project/Sugarcane/Phase1/csv/RelativeHumidity/Relativehumidity2020pred.csv\")"
   ]
  },
  {
   "cell_type": "code",
   "execution_count": 59,
   "metadata": {},
   "outputs": [],
   "source": [
    "#rh2020.drop(['Year'],axis=1,inplace=True)"
   ]
  },
  {
   "cell_type": "code",
   "execution_count": 60,
   "metadata": {},
   "outputs": [],
   "source": [
    "rh2020=rh2020.iloc[:,:].values"
   ]
  },
  {
   "cell_type": "code",
   "execution_count": 61,
   "metadata": {},
   "outputs": [
    {
     "data": {
      "text/plain": [
       "array([[2.020e+03, 1.000e+00, 3.485e+01, 4.052e+01],\n",
       "       [2.020e+03, 2.000e+00, 2.443e+01, 2.910e+01],\n",
       "       [2.020e+03, 3.000e+00, 2.549e+01, 2.673e+01],\n",
       "       [2.020e+03, 4.000e+00, 2.409e+01, 2.618e+01],\n",
       "       [2.020e+03, 5.000e+00, 3.806e+01, 3.815e+01],\n",
       "       [2.020e+03, 6.000e+00, 6.979e+01, 7.242e+01],\n",
       "       [2.020e+03, 7.000e+00, 7.617e+01, 7.764e+01],\n",
       "       [2.020e+03, 8.000e+00, 7.657e+01, 7.789e+01],\n",
       "       [2.020e+03, 9.000e+00, 7.902e+01, 7.089e+01],\n",
       "       [2.020e+03, 1.000e+01, 7.436e+01, 5.371e+01],\n",
       "       [2.020e+03, 1.100e+01, 6.433e+01, 4.554e+01],\n",
       "       [2.020e+03, 1.200e+01, 5.653e+01, 4.015e+01]])"
      ]
     },
     "execution_count": 61,
     "metadata": {},
     "output_type": "execute_result"
    }
   ],
   "source": [
    "rh2020"
   ]
  },
  {
   "cell_type": "code",
   "execution_count": 62,
   "metadata": {},
   "outputs": [],
   "source": [
    "rh2020_pred=[]"
   ]
  },
  {
   "cell_type": "code",
   "execution_count": 63,
   "metadata": {},
   "outputs": [],
   "source": [
    "rh2020_pred1=rf.predict(rh2020)"
   ]
  },
  {
   "cell_type": "code",
   "execution_count": 64,
   "metadata": {},
   "outputs": [
    {
     "data": {
      "text/plain": [
       "array([36.74041, 28.18608, 24.9862 , 25.64483, 39.15415, 74.29077,\n",
       "       76.24217, 75.63663, 71.70818, 54.11695, 51.37936, 48.47239])"
      ]
     },
     "execution_count": 64,
     "metadata": {},
     "output_type": "execute_result"
    }
   ],
   "source": [
    "rh2020_pred1"
   ]
  },
  {
   "cell_type": "code",
   "execution_count": 65,
   "metadata": {},
   "outputs": [
    {
     "data": {
      "text/html": [
       "<div>\n",
       "<style scoped>\n",
       "    .dataframe tbody tr th:only-of-type {\n",
       "        vertical-align: middle;\n",
       "    }\n",
       "\n",
       "    .dataframe tbody tr th {\n",
       "        vertical-align: top;\n",
       "    }\n",
       "\n",
       "    .dataframe thead th {\n",
       "        text-align: right;\n",
       "    }\n",
       "</style>\n",
       "<table border=\"1\" class=\"dataframe\">\n",
       "  <thead>\n",
       "    <tr style=\"text-align: right;\">\n",
       "      <th></th>\n",
       "      <th>0</th>\n",
       "    </tr>\n",
       "  </thead>\n",
       "  <tbody>\n",
       "    <tr>\n",
       "      <td>0</td>\n",
       "      <td>36.74041</td>\n",
       "    </tr>\n",
       "    <tr>\n",
       "      <td>1</td>\n",
       "      <td>28.18608</td>\n",
       "    </tr>\n",
       "    <tr>\n",
       "      <td>2</td>\n",
       "      <td>24.98620</td>\n",
       "    </tr>\n",
       "    <tr>\n",
       "      <td>3</td>\n",
       "      <td>25.64483</td>\n",
       "    </tr>\n",
       "    <tr>\n",
       "      <td>4</td>\n",
       "      <td>39.15415</td>\n",
       "    </tr>\n",
       "    <tr>\n",
       "      <td>5</td>\n",
       "      <td>74.29077</td>\n",
       "    </tr>\n",
       "    <tr>\n",
       "      <td>6</td>\n",
       "      <td>76.24217</td>\n",
       "    </tr>\n",
       "    <tr>\n",
       "      <td>7</td>\n",
       "      <td>75.63663</td>\n",
       "    </tr>\n",
       "    <tr>\n",
       "      <td>8</td>\n",
       "      <td>71.70818</td>\n",
       "    </tr>\n",
       "    <tr>\n",
       "      <td>9</td>\n",
       "      <td>54.11695</td>\n",
       "    </tr>\n",
       "    <tr>\n",
       "      <td>10</td>\n",
       "      <td>51.37936</td>\n",
       "    </tr>\n",
       "    <tr>\n",
       "      <td>11</td>\n",
       "      <td>48.47239</td>\n",
       "    </tr>\n",
       "  </tbody>\n",
       "</table>\n",
       "</div>"
      ],
      "text/plain": [
       "           0\n",
       "0   36.74041\n",
       "1   28.18608\n",
       "2   24.98620\n",
       "3   25.64483\n",
       "4   39.15415\n",
       "5   74.29077\n",
       "6   76.24217\n",
       "7   75.63663\n",
       "8   71.70818\n",
       "9   54.11695\n",
       "10  51.37936\n",
       "11  48.47239"
      ]
     },
     "execution_count": 65,
     "metadata": {},
     "output_type": "execute_result"
    }
   ],
   "source": [
    "rhum_data=pd.DataFrame(data=rh2020_pred1)\n",
    "rhum_data"
   ]
  },
  {
   "cell_type": "code",
   "execution_count": 66,
   "metadata": {},
   "outputs": [],
   "source": [
    "rhum_data.to_csv(r\"C:\\Users\\Abhishek Wagh\\Desktop\\MTech_Project\\Sugarcane\\Phase1\\csv\\RelativeHumidity\\2020rhum.csv\")"
   ]
  },
  {
   "cell_type": "code",
   "execution_count": null,
   "metadata": {},
   "outputs": [],
   "source": []
  }
 ],
 "metadata": {
  "kernelspec": {
   "display_name": "Python 3",
   "language": "python",
   "name": "python3"
  },
  "language_info": {
   "codemirror_mode": {
    "name": "ipython",
    "version": 3
   },
   "file_extension": ".py",
   "mimetype": "text/x-python",
   "name": "python",
   "nbconvert_exporter": "python",
   "pygments_lexer": "ipython3",
   "version": "3.7.4"
  }
 },
 "nbformat": 4,
 "nbformat_minor": 2
}
