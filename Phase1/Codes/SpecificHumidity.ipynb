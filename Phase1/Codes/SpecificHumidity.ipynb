{
 "cells": [
  {
   "cell_type": "code",
   "execution_count": 1,
   "metadata": {},
   "outputs": [],
   "source": [
    "import pandas as pd\n",
    "import numpy as np\n",
    "import matplotlib.pyplot as plt\n",
    "import seaborn as sns\n",
    "%matplotlib inline"
   ]
  },
  {
   "cell_type": "code",
   "execution_count": 2,
   "metadata": {},
   "outputs": [],
   "source": [
    "sh=pd.read_csv(\"C:/Users/Abhishek Wagh/Desktop/MTech_Project/Sugarcane/Phase1/csv/SpecificHumidity/SpecificHumidity.csv\")"
   ]
  },
  {
   "cell_type": "code",
   "execution_count": 3,
   "metadata": {},
   "outputs": [
    {
     "data": {
      "text/html": [
       "<div>\n",
       "<style scoped>\n",
       "    .dataframe tbody tr th:only-of-type {\n",
       "        vertical-align: middle;\n",
       "    }\n",
       "\n",
       "    .dataframe tbody tr th {\n",
       "        vertical-align: top;\n",
       "    }\n",
       "\n",
       "    .dataframe thead th {\n",
       "        text-align: right;\n",
       "    }\n",
       "</style>\n",
       "<table border=\"1\" class=\"dataframe\">\n",
       "  <thead>\n",
       "    <tr style=\"text-align: right;\">\n",
       "      <th></th>\n",
       "      <th>Year</th>\n",
       "      <th>Month</th>\n",
       "      <th>SH_past</th>\n",
       "      <th>SH_pasttopast</th>\n",
       "      <th>SpecificHumidity</th>\n",
       "    </tr>\n",
       "  </thead>\n",
       "  <tbody>\n",
       "    <tr>\n",
       "      <td>0</td>\n",
       "      <td>2002</td>\n",
       "      <td>1</td>\n",
       "      <td>0.006637</td>\n",
       "      <td>0.005236</td>\n",
       "      <td>0.006597</td>\n",
       "    </tr>\n",
       "    <tr>\n",
       "      <td>1</td>\n",
       "      <td>2002</td>\n",
       "      <td>2</td>\n",
       "      <td>0.004363</td>\n",
       "      <td>0.007144</td>\n",
       "      <td>0.006809</td>\n",
       "    </tr>\n",
       "    <tr>\n",
       "      <td>2</td>\n",
       "      <td>2002</td>\n",
       "      <td>3</td>\n",
       "      <td>0.007248</td>\n",
       "      <td>0.005216</td>\n",
       "      <td>0.006440</td>\n",
       "    </tr>\n",
       "    <tr>\n",
       "      <td>3</td>\n",
       "      <td>2002</td>\n",
       "      <td>4</td>\n",
       "      <td>0.009702</td>\n",
       "      <td>0.008812</td>\n",
       "      <td>0.008083</td>\n",
       "    </tr>\n",
       "    <tr>\n",
       "      <td>4</td>\n",
       "      <td>2002</td>\n",
       "      <td>5</td>\n",
       "      <td>0.012276</td>\n",
       "      <td>0.013369</td>\n",
       "      <td>0.013759</td>\n",
       "    </tr>\n",
       "    <tr>\n",
       "      <td>...</td>\n",
       "      <td>...</td>\n",
       "      <td>...</td>\n",
       "      <td>...</td>\n",
       "      <td>...</td>\n",
       "      <td>...</td>\n",
       "    </tr>\n",
       "    <tr>\n",
       "      <td>211</td>\n",
       "      <td>2019</td>\n",
       "      <td>8</td>\n",
       "      <td>0.016013</td>\n",
       "      <td>0.016198</td>\n",
       "      <td>0.016198</td>\n",
       "    </tr>\n",
       "    <tr>\n",
       "      <td>212</td>\n",
       "      <td>2019</td>\n",
       "      <td>9</td>\n",
       "      <td>0.015080</td>\n",
       "      <td>0.017074</td>\n",
       "      <td>0.017074</td>\n",
       "    </tr>\n",
       "    <tr>\n",
       "      <td>213</td>\n",
       "      <td>2019</td>\n",
       "      <td>10</td>\n",
       "      <td>0.012049</td>\n",
       "      <td>0.015034</td>\n",
       "      <td>0.015034</td>\n",
       "    </tr>\n",
       "    <tr>\n",
       "      <td>214</td>\n",
       "      <td>2019</td>\n",
       "      <td>11</td>\n",
       "      <td>0.009470</td>\n",
       "      <td>0.010980</td>\n",
       "      <td>0.010980</td>\n",
       "    </tr>\n",
       "    <tr>\n",
       "      <td>215</td>\n",
       "      <td>2019</td>\n",
       "      <td>12</td>\n",
       "      <td>0.007077</td>\n",
       "      <td>0.009119</td>\n",
       "      <td>0.009119</td>\n",
       "    </tr>\n",
       "  </tbody>\n",
       "</table>\n",
       "<p>216 rows × 5 columns</p>\n",
       "</div>"
      ],
      "text/plain": [
       "     Year  Month   SH_past  SH_pasttopast  SpecificHumidity\n",
       "0    2002      1  0.006637       0.005236          0.006597\n",
       "1    2002      2  0.004363       0.007144          0.006809\n",
       "2    2002      3  0.007248       0.005216          0.006440\n",
       "3    2002      4  0.009702       0.008812          0.008083\n",
       "4    2002      5  0.012276       0.013369          0.013759\n",
       "..    ...    ...       ...            ...               ...\n",
       "211  2019      8  0.016013       0.016198          0.016198\n",
       "212  2019      9  0.015080       0.017074          0.017074\n",
       "213  2019     10  0.012049       0.015034          0.015034\n",
       "214  2019     11  0.009470       0.010980          0.010980\n",
       "215  2019     12  0.007077       0.009119          0.009119\n",
       "\n",
       "[216 rows x 5 columns]"
      ]
     },
     "execution_count": 3,
     "metadata": {},
     "output_type": "execute_result"
    }
   ],
   "source": [
    "sh"
   ]
  },
  {
   "cell_type": "code",
   "execution_count": 4,
   "metadata": {},
   "outputs": [
    {
     "name": "stdout",
     "output_type": "stream",
     "text": [
      "<class 'pandas.core.frame.DataFrame'>\n",
      "RangeIndex: 216 entries, 0 to 215\n",
      "Data columns (total 5 columns):\n",
      "Year                216 non-null int64\n",
      "Month               216 non-null int64\n",
      "SH_past             216 non-null float64\n",
      "SH_pasttopast       216 non-null float64\n",
      "SpecificHumidity    216 non-null float64\n",
      "dtypes: float64(3), int64(2)\n",
      "memory usage: 8.6 KB\n"
     ]
    }
   ],
   "source": [
    "sh.info()"
   ]
  },
  {
   "cell_type": "code",
   "execution_count": 5,
   "metadata": {},
   "outputs": [
    {
     "data": {
      "text/html": [
       "<div>\n",
       "<style scoped>\n",
       "    .dataframe tbody tr th:only-of-type {\n",
       "        vertical-align: middle;\n",
       "    }\n",
       "\n",
       "    .dataframe tbody tr th {\n",
       "        vertical-align: top;\n",
       "    }\n",
       "\n",
       "    .dataframe thead th {\n",
       "        text-align: right;\n",
       "    }\n",
       "</style>\n",
       "<table border=\"1\" class=\"dataframe\">\n",
       "  <thead>\n",
       "    <tr style=\"text-align: right;\">\n",
       "      <th></th>\n",
       "      <th>Year</th>\n",
       "      <th>Month</th>\n",
       "      <th>SH_past</th>\n",
       "      <th>SH_pasttopast</th>\n",
       "      <th>SpecificHumidity</th>\n",
       "    </tr>\n",
       "  </thead>\n",
       "  <tbody>\n",
       "    <tr>\n",
       "      <td>Year</td>\n",
       "      <td>1.000000</td>\n",
       "      <td>0.000000</td>\n",
       "      <td>0.006269</td>\n",
       "      <td>0.033992</td>\n",
       "      <td>-0.001130</td>\n",
       "    </tr>\n",
       "    <tr>\n",
       "      <td>Month</td>\n",
       "      <td>0.000000</td>\n",
       "      <td>1.000000</td>\n",
       "      <td>0.460887</td>\n",
       "      <td>0.456328</td>\n",
       "      <td>0.466303</td>\n",
       "    </tr>\n",
       "    <tr>\n",
       "      <td>SH_past</td>\n",
       "      <td>0.006269</td>\n",
       "      <td>0.460887</td>\n",
       "      <td>1.000000</td>\n",
       "      <td>0.954866</td>\n",
       "      <td>0.955812</td>\n",
       "    </tr>\n",
       "    <tr>\n",
       "      <td>SH_pasttopast</td>\n",
       "      <td>0.033992</td>\n",
       "      <td>0.456328</td>\n",
       "      <td>0.954866</td>\n",
       "      <td>1.000000</td>\n",
       "      <td>0.959956</td>\n",
       "    </tr>\n",
       "    <tr>\n",
       "      <td>SpecificHumidity</td>\n",
       "      <td>-0.001130</td>\n",
       "      <td>0.466303</td>\n",
       "      <td>0.955812</td>\n",
       "      <td>0.959956</td>\n",
       "      <td>1.000000</td>\n",
       "    </tr>\n",
       "  </tbody>\n",
       "</table>\n",
       "</div>"
      ],
      "text/plain": [
       "                      Year     Month   SH_past  SH_pasttopast  \\\n",
       "Year              1.000000  0.000000  0.006269       0.033992   \n",
       "Month             0.000000  1.000000  0.460887       0.456328   \n",
       "SH_past           0.006269  0.460887  1.000000       0.954866   \n",
       "SH_pasttopast     0.033992  0.456328  0.954866       1.000000   \n",
       "SpecificHumidity -0.001130  0.466303  0.955812       0.959956   \n",
       "\n",
       "                  SpecificHumidity  \n",
       "Year                     -0.001130  \n",
       "Month                     0.466303  \n",
       "SH_past                   0.955812  \n",
       "SH_pasttopast             0.959956  \n",
       "SpecificHumidity          1.000000  "
      ]
     },
     "execution_count": 5,
     "metadata": {},
     "output_type": "execute_result"
    }
   ],
   "source": [
    "#Creating correlation for precipitation\n",
    "#Creating the correlation matrix for the features\n",
    "corr_matrix=sh.corr()\n",
    "corr_matrix"
   ]
  },
  {
   "cell_type": "code",
   "execution_count": 6,
   "metadata": {},
   "outputs": [],
   "source": [
    "mask = np.zeros_like(corr_matrix, dtype=np.bool)\n",
    "mask[np.triu_indices_from(mask)]= True"
   ]
  },
  {
   "cell_type": "code",
   "execution_count": 7,
   "metadata": {},
   "outputs": [
    {
     "data": {
      "image/png": "[encoded data removed]",
      "text/plain": [
       "<Figure size 360x288 with 2 Axes>"
      ]
     },
     "metadata": {
      "needs_background": "light"
     },
     "output_type": "display_data"
    }
   ],
   "source": [
    "f, ax = plt.subplots(figsize=(5, 4)) \n",
    "heatmap = sns.heatmap(corr_matrix, mask = mask,square = True,linewidths = .5, cmap = 'coolwarm', cbar_kws = {'shrink': .4, 'ticks' : [-1, -.5, 0, 0.5, 1]},vmin = -1, vmax = 1,annot = True,annot_kws = {'size': 12})\n",
    "#add the column names as labels\n",
    "ax.set_yticklabels(corr_matrix.columns, rotation = 0)\n",
    "ax.set_xticklabels(corr_matrix.columns)\n",
    "sns.set_style({'xtick.bottom': True}, {'ytick.left': True})"
   ]
  },
  {
   "cell_type": "code",
   "execution_count": 8,
   "metadata": {},
   "outputs": [],
   "source": [
    "#mintemp=mintemp.drop(['Month'],axis=1)"
   ]
  },
  {
   "cell_type": "code",
   "execution_count": 9,
   "metadata": {},
   "outputs": [
    {
     "data": {
      "text/plain": [
       "(216, 5)"
      ]
     },
     "execution_count": 9,
     "metadata": {},
     "output_type": "execute_result"
    }
   ],
   "source": [
    "sh.shape"
   ]
  },
  {
   "cell_type": "code",
   "execution_count": 10,
   "metadata": {},
   "outputs": [],
   "source": [
    "sh=sh.iloc[:,:].values"
   ]
  },
  {
   "cell_type": "code",
   "execution_count": 11,
   "metadata": {},
   "outputs": [
    {
     "data": {
      "text/plain": [
       "array([[2.0020e+03, 1.0000e+00, 6.6370e-03, 5.2360e-03, 6.5970e-03],\n",
       "       [2.0020e+03, 2.0000e+00, 4.3630e-03, 7.1440e-03, 6.8090e-03],\n",
       "       [2.0020e+03, 3.0000e+00, 7.2480e-03, 5.2160e-03, 6.4400e-03],\n",
       "       ...,\n",
       "       [2.0190e+03, 1.0000e+01, 1.2049e-02, 1.5034e-02, 1.5034e-02],\n",
       "       [2.0190e+03, 1.1000e+01, 9.4700e-03, 1.0980e-02, 1.0980e-02],\n",
       "       [2.0190e+03, 1.2000e+01, 7.0770e-03, 9.1190e-03, 9.1190e-03]])"
      ]
     },
     "execution_count": 11,
     "metadata": {},
     "output_type": "execute_result"
    }
   ],
   "source": [
    "sh"
   ]
  },
  {
   "cell_type": "code",
   "execution_count": 12,
   "metadata": {},
   "outputs": [],
   "source": [
    "X=sh[:,:-1]\n",
    "y=sh[:,-1]"
   ]
  },
  {
   "cell_type": "code",
   "execution_count": 13,
   "metadata": {},
   "outputs": [
    {
     "data": {
      "text/plain": [
       "array([[2.0020e+03, 1.0000e+00, 6.6370e-03, 5.2360e-03],\n",
       "       [2.0020e+03, 2.0000e+00, 4.3630e-03, 7.1440e-03],\n",
       "       [2.0020e+03, 3.0000e+00, 7.2480e-03, 5.2160e-03],\n",
       "       [2.0020e+03, 4.0000e+00, 9.7020e-03, 8.8120e-03],\n",
       "       [2.0020e+03, 5.0000e+00, 1.2276e-02, 1.3369e-02],\n",
       "       [2.0020e+03, 6.0000e+00, 1.5596e-02, 1.6509e-02],\n",
       "       [2.0020e+03, 7.0000e+00, 1.5694e-02, 1.5837e-02],\n",
       "       [2.0020e+03, 8.0000e+00, 1.5980e-02, 1.6022e-02],\n",
       "       [2.0020e+03, 9.0000e+00, 1.5823e-02, 1.5814e-02],\n",
       "       [2.0020e+03, 1.0000e+01, 1.4502e-02, 1.3405e-02],\n",
       "       [2.0020e+03, 1.1000e+01, 1.0931e-02, 9.4610e-03],\n",
       "       [2.0020e+03, 1.2000e+01, 7.4650e-03, 4.4470e-03],\n",
       "       [2.0030e+03, 1.0000e+00, 6.5970e-03, 6.6370e-03],\n",
       "       [2.0030e+03, 2.0000e+00, 6.8090e-03, 4.3630e-03],\n",
       "       [2.0030e+03, 3.0000e+00, 6.4400e-03, 7.2480e-03],\n",
       "       [2.0030e+03, 4.0000e+00, 8.0830e-03, 9.7020e-03],\n",
       "       [2.0030e+03, 5.0000e+00, 1.3759e-02, 1.2276e-02],\n",
       "       [2.0030e+03, 6.0000e+00, 1.6382e-02, 1.5596e-02],\n",
       "       [2.0030e+03, 7.0000e+00, 1.5961e-02, 1.5694e-02],\n",
       "       [2.0030e+03, 8.0000e+00, 1.5909e-02, 1.5980e-02],\n",
       "       [2.0030e+03, 9.0000e+00, 1.5230e-02, 1.5823e-02],\n",
       "       [2.0030e+03, 1.0000e+01, 1.3000e-02, 1.4502e-02],\n",
       "       [2.0030e+03, 1.1000e+01, 8.5410e-03, 1.0931e-02],\n",
       "       [2.0030e+03, 1.2000e+01, 6.0890e-03, 7.4650e-03],\n",
       "       [2.0040e+03, 1.0000e+00, 6.8450e-03, 6.5970e-03],\n",
       "       [2.0040e+03, 2.0000e+00, 6.6820e-03, 6.8090e-03],\n",
       "       [2.0040e+03, 3.0000e+00, 6.5960e-03, 6.4400e-03],\n",
       "       [2.0040e+03, 4.0000e+00, 9.1560e-03, 8.0830e-03],\n",
       "       [2.0040e+03, 5.0000e+00, 1.0603e-02, 1.3759e-02],\n",
       "       [2.0040e+03, 6.0000e+00, 1.5343e-02, 1.6382e-02],\n",
       "       [2.0040e+03, 7.0000e+00, 1.6690e-02, 1.5961e-02],\n",
       "       [2.0040e+03, 8.0000e+00, 1.6167e-02, 1.5909e-02],\n",
       "       [2.0040e+03, 9.0000e+00, 1.5614e-02, 1.5230e-02],\n",
       "       [2.0040e+03, 1.0000e+01, 1.3515e-02, 1.3000e-02],\n",
       "       [2.0040e+03, 1.1000e+01, 9.3210e-03, 8.5410e-03],\n",
       "       [2.0040e+03, 1.2000e+01, 6.5080e-03, 6.0890e-03],\n",
       "       [2.0050e+03, 1.0000e+00, 6.6550e-03, 6.8450e-03],\n",
       "       [2.0050e+03, 2.0000e+00, 5.5120e-03, 6.6820e-03],\n",
       "       [2.0050e+03, 3.0000e+00, 5.6110e-03, 6.5960e-03],\n",
       "       [2.0050e+03, 4.0000e+00, 8.8340e-03, 9.1560e-03],\n",
       "       [2.0050e+03, 5.0000e+00, 1.4483e-02, 1.0603e-02],\n",
       "       [2.0050e+03, 6.0000e+00, 1.6543e-02, 1.5343e-02],\n",
       "       [2.0050e+03, 7.0000e+00, 1.6345e-02, 1.6690e-02],\n",
       "       [2.0050e+03, 8.0000e+00, 1.6171e-02, 1.6167e-02],\n",
       "       [2.0050e+03, 9.0000e+00, 1.6268e-02, 1.5614e-02],\n",
       "       [2.0050e+03, 1.0000e+01, 1.3558e-02, 1.3515e-02],\n",
       "       [2.0050e+03, 1.1000e+01, 1.0776e-02, 9.3210e-03],\n",
       "       [2.0050e+03, 1.2000e+01, 6.4940e-03, 6.5080e-03],\n",
       "       [2.0060e+03, 1.0000e+00, 6.3520e-03, 6.6550e-03],\n",
       "       [2.0060e+03, 2.0000e+00, 6.2600e-03, 5.5120e-03],\n",
       "       [2.0060e+03, 3.0000e+00, 6.7020e-03, 5.6110e-03],\n",
       "       [2.0060e+03, 4.0000e+00, 9.8770e-03, 8.8340e-03],\n",
       "       [2.0060e+03, 5.0000e+00, 1.1831e-02, 1.4483e-02],\n",
       "       [2.0060e+03, 6.0000e+00, 1.6309e-02, 1.6543e-02],\n",
       "       [2.0060e+03, 7.0000e+00, 1.7228e-02, 1.6345e-02],\n",
       "       [2.0060e+03, 8.0000e+00, 1.6848e-02, 1.6171e-02],\n",
       "       [2.0060e+03, 9.0000e+00, 1.7044e-02, 1.6268e-02],\n",
       "       [2.0060e+03, 1.0000e+01, 1.4427e-02, 1.3558e-02],\n",
       "       [2.0060e+03, 1.1000e+01, 9.8490e-03, 1.0776e-02],\n",
       "       [2.0060e+03, 1.2000e+01, 8.3650e-03, 6.4940e-03],\n",
       "       [2.0070e+03, 1.0000e+00, 6.6470e-03, 6.3520e-03],\n",
       "       [2.0070e+03, 2.0000e+00, 5.0510e-03, 6.2600e-03],\n",
       "       [2.0070e+03, 3.0000e+00, 7.7640e-03, 6.7020e-03],\n",
       "       [2.0070e+03, 4.0000e+00, 8.5540e-03, 9.8770e-03],\n",
       "       [2.0070e+03, 5.0000e+00, 1.2215e-02, 1.1831e-02],\n",
       "       [2.0070e+03, 6.0000e+00, 1.6680e-02, 1.6309e-02],\n",
       "       [2.0070e+03, 7.0000e+00, 1.6562e-02, 1.7228e-02],\n",
       "       [2.0070e+03, 8.0000e+00, 1.6370e-02, 1.6848e-02],\n",
       "       [2.0070e+03, 9.0000e+00, 1.6953e-02, 1.7044e-02],\n",
       "       [2.0070e+03, 1.0000e+01, 1.4839e-02, 1.4427e-02],\n",
       "       [2.0070e+03, 1.1000e+01, 1.2842e-02, 9.8490e-03],\n",
       "       [2.0070e+03, 1.2000e+01, 9.0500e-03, 8.3650e-03],\n",
       "       [2.0080e+03, 1.0000e+00, 7.2400e-03, 6.6470e-03],\n",
       "       [2.0080e+03, 2.0000e+00, 7.1600e-03, 5.0510e-03],\n",
       "       [2.0080e+03, 3.0000e+00, 6.5120e-03, 7.7640e-03],\n",
       "       [2.0080e+03, 4.0000e+00, 8.4940e-03, 8.5540e-03],\n",
       "       [2.0080e+03, 5.0000e+00, 1.2188e-02, 1.2215e-02],\n",
       "       [2.0080e+03, 6.0000e+00, 1.6639e-02, 1.6680e-02],\n",
       "       [2.0080e+03, 7.0000e+00, 1.7127e-02, 1.6562e-02],\n",
       "       [2.0080e+03, 8.0000e+00, 1.6703e-02, 1.6370e-02],\n",
       "       [2.0080e+03, 9.0000e+00, 1.6824e-02, 1.6953e-02],\n",
       "       [2.0080e+03, 1.0000e+01, 1.2927e-02, 1.4839e-02],\n",
       "       [2.0080e+03, 1.1000e+01, 1.0340e-02, 1.2842e-02],\n",
       "       [2.0080e+03, 1.2000e+01, 8.8260e-03, 9.0500e-03],\n",
       "       [2.0090e+03, 1.0000e+00, 5.6120e-03, 7.2400e-03],\n",
       "       [2.0090e+03, 2.0000e+00, 6.0100e-03, 7.1600e-03],\n",
       "       [2.0090e+03, 3.0000e+00, 8.4950e-03, 6.5120e-03],\n",
       "       [2.0090e+03, 4.0000e+00, 8.8300e-03, 8.4940e-03],\n",
       "       [2.0090e+03, 5.0000e+00, 1.1822e-02, 1.2188e-02],\n",
       "       [2.0090e+03, 6.0000e+00, 1.6113e-02, 1.6639e-02],\n",
       "       [2.0090e+03, 7.0000e+00, 1.5981e-02, 1.7127e-02],\n",
       "       [2.0090e+03, 8.0000e+00, 1.6401e-02, 1.6703e-02],\n",
       "       [2.0090e+03, 9.0000e+00, 1.6183e-02, 1.6824e-02],\n",
       "       [2.0090e+03, 1.0000e+01, 1.3522e-02, 1.2927e-02],\n",
       "       [2.0090e+03, 1.1000e+01, 1.1427e-02, 1.0340e-02],\n",
       "       [2.0090e+03, 1.2000e+01, 9.0770e-03, 8.8260e-03],\n",
       "       [2.0100e+03, 1.0000e+00, 6.8970e-03, 5.6120e-03],\n",
       "       [2.0100e+03, 2.0000e+00, 5.4670e-03, 6.0100e-03],\n",
       "       [2.0100e+03, 3.0000e+00, 6.5300e-03, 8.4950e-03],\n",
       "       [2.0100e+03, 4.0000e+00, 7.9560e-03, 8.8300e-03],\n",
       "       [2.0100e+03, 5.0000e+00, 1.1760e-02, 1.1822e-02],\n",
       "       [2.0100e+03, 6.0000e+00, 1.5735e-02, 1.6113e-02],\n",
       "       [2.0100e+03, 7.0000e+00, 1.6638e-02, 1.5981e-02],\n",
       "       [2.0100e+03, 8.0000e+00, 1.6440e-02, 1.6401e-02],\n",
       "       [2.0100e+03, 9.0000e+00, 1.6595e-02, 1.6183e-02],\n",
       "       [2.0100e+03, 1.0000e+01, 1.4081e-02, 1.3522e-02],\n",
       "       [2.0100e+03, 1.1000e+01, 1.2624e-02, 1.1427e-02],\n",
       "       [2.0100e+03, 1.2000e+01, 1.0172e-02, 9.0770e-03],\n",
       "       [2.0110e+03, 1.0000e+00, 8.9130e-03, 6.8970e-03],\n",
       "       [2.0110e+03, 2.0000e+00, 7.7410e-03, 5.4670e-03],\n",
       "       [2.0110e+03, 3.0000e+00, 7.2440e-03, 6.5300e-03],\n",
       "       [2.0110e+03, 4.0000e+00, 8.6730e-03, 7.9560e-03],\n",
       "       [2.0110e+03, 5.0000e+00, 1.2259e-02, 1.1760e-02],\n",
       "       [2.0110e+03, 6.0000e+00, 1.6754e-02, 1.5735e-02],\n",
       "       [2.0110e+03, 7.0000e+00, 1.6877e-02, 1.6638e-02],\n",
       "       [2.0110e+03, 8.0000e+00, 1.6994e-02, 1.6440e-02],\n",
       "       [2.0110e+03, 9.0000e+00, 1.6720e-02, 1.6595e-02],\n",
       "       [2.0110e+03, 1.0000e+01, 1.5295e-02, 1.4081e-02],\n",
       "       [2.0110e+03, 1.1000e+01, 1.5024e-02, 1.2624e-02],\n",
       "       [2.0110e+03, 1.2000e+01, 9.6390e-03, 1.0172e-02],\n",
       "       [2.0120e+03, 1.0000e+00, 7.1090e-03, 8.9130e-03],\n",
       "       [2.0120e+03, 2.0000e+00, 6.9190e-03, 7.7410e-03],\n",
       "       [2.0120e+03, 3.0000e+00, 5.9520e-03, 7.2440e-03],\n",
       "       [2.0120e+03, 4.0000e+00, 9.6440e-03, 8.6730e-03],\n",
       "       [2.0120e+03, 5.0000e+00, 1.2042e-02, 1.2259e-02],\n",
       "       [2.0120e+03, 6.0000e+00, 1.6371e-02, 1.6754e-02],\n",
       "       [2.0120e+03, 7.0000e+00, 1.6368e-02, 1.6877e-02],\n",
       "       [2.0120e+03, 8.0000e+00, 1.6518e-02, 1.6994e-02],\n",
       "       [2.0120e+03, 9.0000e+00, 1.5940e-02, 1.6720e-02],\n",
       "       [2.0120e+03, 1.0000e+01, 1.4916e-02, 1.5295e-02],\n",
       "       [2.0120e+03, 1.1000e+01, 1.0537e-02, 1.5024e-02],\n",
       "       [2.0120e+03, 1.2000e+01, 7.2420e-03, 9.6390e-03],\n",
       "       [2.0130e+03, 1.0000e+00, 6.3780e-03, 7.1090e-03],\n",
       "       [2.0130e+03, 2.0000e+00, 5.0850e-03, 6.9190e-03],\n",
       "       [2.0130e+03, 3.0000e+00, 4.4000e-03, 5.9520e-03],\n",
       "       [2.0130e+03, 4.0000e+00, 8.7940e-03, 9.6440e-03],\n",
       "       [2.0130e+03, 5.0000e+00, 1.1181e-02, 1.2042e-02],\n",
       "       [2.0130e+03, 6.0000e+00, 1.4778e-02, 1.6371e-02],\n",
       "       [2.0130e+03, 7.0000e+00, 1.6339e-02, 1.6368e-02],\n",
       "       [2.0130e+03, 8.0000e+00, 1.6182e-02, 1.6518e-02],\n",
       "       [2.0130e+03, 9.0000e+00, 1.5847e-02, 1.5940e-02],\n",
       "       [2.0130e+03, 1.0000e+01, 1.3853e-02, 1.4916e-02],\n",
       "       [2.0130e+03, 1.1000e+01, 1.1266e-02, 1.0537e-02],\n",
       "       [2.0130e+03, 1.2000e+01, 7.9470e-03, 7.2420e-03],\n",
       "       [2.0140e+03, 1.0000e+00, 6.6640e-03, 6.3780e-03],\n",
       "       [2.0140e+03, 2.0000e+00, 7.2270e-03, 5.0850e-03],\n",
       "       [2.0140e+03, 3.0000e+00, 6.6800e-03, 4.4000e-03],\n",
       "       [2.0140e+03, 4.0000e+00, 8.9280e-03, 8.7940e-03],\n",
       "       [2.0140e+03, 5.0000e+00, 1.2341e-02, 1.1181e-02],\n",
       "       [2.0140e+03, 6.0000e+00, 1.6778e-02, 1.4778e-02],\n",
       "       [2.0140e+03, 7.0000e+00, 1.6745e-02, 1.6339e-02],\n",
       "       [2.0140e+03, 8.0000e+00, 1.6103e-02, 1.6182e-02],\n",
       "       [2.0140e+03, 9.0000e+00, 1.6323e-02, 1.5847e-02],\n",
       "       [2.0140e+03, 1.0000e+01, 1.5277e-02, 1.3853e-02],\n",
       "       [2.0140e+03, 1.1000e+01, 1.1567e-02, 1.1266e-02],\n",
       "       [2.0140e+03, 1.2000e+01, 7.9340e-03, 7.9470e-03],\n",
       "       [2.0150e+03, 1.0000e+00, 7.9950e-03, 6.6640e-03],\n",
       "       [2.0150e+03, 2.0000e+00, 7.4800e-03, 7.2270e-03],\n",
       "       [2.0150e+03, 3.0000e+00, 9.0350e-03, 6.6800e-03],\n",
       "       [2.0150e+03, 4.0000e+00, 8.8610e-03, 8.9280e-03],\n",
       "       [2.0150e+03, 5.0000e+00, 1.1822e-02, 1.2341e-02],\n",
       "       [2.0150e+03, 6.0000e+00, 1.5022e-02, 1.6778e-02],\n",
       "       [2.0150e+03, 7.0000e+00, 1.6333e-02, 1.6745e-02],\n",
       "       [2.0150e+03, 8.0000e+00, 1.6577e-02, 1.6103e-02],\n",
       "       [2.0150e+03, 9.0000e+00, 1.5805e-02, 1.6323e-02],\n",
       "       [2.0150e+03, 1.0000e+01, 1.3588e-02, 1.5277e-02],\n",
       "       [2.0150e+03, 1.1000e+01, 1.0929e-02, 1.1567e-02],\n",
       "       [2.0150e+03, 1.2000e+01, 8.5000e-03, 7.9340e-03],\n",
       "       [2.0160e+03, 1.0000e+00, 6.9660e-03, 7.9950e-03],\n",
       "       [2.0160e+03, 2.0000e+00, 5.7450e-03, 7.4800e-03],\n",
       "       [2.0160e+03, 3.0000e+00, 9.1200e-03, 9.0350e-03],\n",
       "       [2.0160e+03, 4.0000e+00, 9.3680e-03, 8.8610e-03],\n",
       "       [2.0160e+03, 5.0000e+00, 1.2952e-02, 1.1822e-02],\n",
       "       [2.0160e+03, 6.0000e+00, 1.5684e-02, 1.5022e-02],\n",
       "       [2.0160e+03, 7.0000e+00, 1.6026e-02, 1.6333e-02],\n",
       "       [2.0160e+03, 8.0000e+00, 1.5697e-02, 1.6577e-02],\n",
       "       [2.0160e+03, 9.0000e+00, 1.5687e-02, 1.5805e-02],\n",
       "       [2.0160e+03, 1.0000e+01, 1.4197e-02, 1.3588e-02],\n",
       "       [2.0160e+03, 1.1000e+01, 1.0906e-02, 1.0929e-02],\n",
       "       [2.0160e+03, 1.2000e+01, 7.9250e-03, 8.5000e-03],\n",
       "       [2.0170e+03, 1.0000e+00, 5.4120e-03, 6.9660e-03],\n",
       "       [2.0170e+03, 2.0000e+00, 7.1300e-03, 5.7450e-03],\n",
       "       [2.0170e+03, 3.0000e+00, 7.7530e-03, 9.1200e-03],\n",
       "       [2.0170e+03, 4.0000e+00, 8.8200e-03, 9.3680e-03],\n",
       "       [2.0170e+03, 5.0000e+00, 1.2476e-02, 1.2952e-02],\n",
       "       [2.0170e+03, 6.0000e+00, 1.6247e-02, 1.5684e-02],\n",
       "       [2.0170e+03, 7.0000e+00, 1.6977e-02, 1.6026e-02],\n",
       "       [2.0170e+03, 8.0000e+00, 1.6542e-02, 1.5697e-02],\n",
       "       [2.0170e+03, 9.0000e+00, 1.5898e-02, 1.5687e-02],\n",
       "       [2.0170e+03, 1.0000e+01, 1.3234e-02, 1.4197e-02],\n",
       "       [2.0170e+03, 1.1000e+01, 8.6340e-03, 1.0906e-02],\n",
       "       [2.0170e+03, 1.2000e+01, 7.3150e-03, 7.9250e-03],\n",
       "       [2.0180e+03, 1.0000e+00, 5.9010e-03, 5.4120e-03],\n",
       "       [2.0180e+03, 2.0000e+00, 5.0950e-03, 7.1300e-03],\n",
       "       [2.0180e+03, 3.0000e+00, 6.3800e-03, 7.7530e-03],\n",
       "       [2.0180e+03, 4.0000e+00, 7.1380e-03, 8.8200e-03],\n",
       "       [2.0180e+03, 5.0000e+00, 1.1883e-02, 1.2476e-02],\n",
       "       [2.0180e+03, 6.0000e+00, 1.6560e-02, 1.6247e-02],\n",
       "       [2.0180e+03, 7.0000e+00, 1.6610e-02, 1.6977e-02],\n",
       "       [2.0180e+03, 8.0000e+00, 1.6198e-02, 1.6542e-02],\n",
       "       [2.0180e+03, 9.0000e+00, 1.7074e-02, 1.5898e-02],\n",
       "       [2.0180e+03, 1.0000e+01, 1.5034e-02, 1.3234e-02],\n",
       "       [2.0180e+03, 1.1000e+01, 1.0980e-02, 8.6340e-03],\n",
       "       [2.0180e+03, 1.2000e+01, 9.1190e-03, 7.3150e-03],\n",
       "       [2.0190e+03, 1.0000e+00, 6.7110e-03, 5.9010e-03],\n",
       "       [2.0190e+03, 2.0000e+00, 5.9100e-03, 5.0950e-03],\n",
       "       [2.0190e+03, 3.0000e+00, 6.9070e-03, 6.3800e-03],\n",
       "       [2.0190e+03, 4.0000e+00, 8.1040e-03, 7.1380e-03],\n",
       "       [2.0190e+03, 5.0000e+00, 1.1703e-02, 1.1883e-02],\n",
       "       [2.0190e+03, 6.0000e+00, 1.6853e-02, 1.6560e-02],\n",
       "       [2.0190e+03, 7.0000e+00, 1.6475e-02, 1.6610e-02],\n",
       "       [2.0190e+03, 8.0000e+00, 1.6013e-02, 1.6198e-02],\n",
       "       [2.0190e+03, 9.0000e+00, 1.5080e-02, 1.7074e-02],\n",
       "       [2.0190e+03, 1.0000e+01, 1.2049e-02, 1.5034e-02],\n",
       "       [2.0190e+03, 1.1000e+01, 9.4700e-03, 1.0980e-02],\n",
       "       [2.0190e+03, 1.2000e+01, 7.0770e-03, 9.1190e-03]])"
      ]
     },
     "execution_count": 13,
     "metadata": {},
     "output_type": "execute_result"
    }
   ],
   "source": [
    "X"
   ]
  },
  {
   "cell_type": "code",
   "execution_count": 14,
   "metadata": {},
   "outputs": [
    {
     "data": {
      "text/plain": [
       "array([0.006597, 0.006809, 0.00644 , 0.008083, 0.013759, 0.016382,\n",
       "       0.015961, 0.015909, 0.01523 , 0.013   , 0.008541, 0.006089,\n",
       "       0.006845, 0.006682, 0.006596, 0.009156, 0.010603, 0.015343,\n",
       "       0.01669 , 0.016167, 0.015614, 0.013515, 0.009321, 0.006508,\n",
       "       0.006655, 0.005512, 0.005611, 0.008834, 0.014483, 0.016543,\n",
       "       0.016345, 0.016171, 0.016268, 0.013558, 0.010776, 0.006494,\n",
       "       0.006352, 0.00626 , 0.006702, 0.009877, 0.011831, 0.016309,\n",
       "       0.017228, 0.016848, 0.017044, 0.014427, 0.009849, 0.008365,\n",
       "       0.006647, 0.005051, 0.007764, 0.008554, 0.012215, 0.01668 ,\n",
       "       0.016562, 0.01637 , 0.016953, 0.014839, 0.012842, 0.00905 ,\n",
       "       0.00724 , 0.00716 , 0.006512, 0.008494, 0.012188, 0.016639,\n",
       "       0.017127, 0.016703, 0.016824, 0.012927, 0.01034 , 0.008826,\n",
       "       0.005612, 0.00601 , 0.008495, 0.00883 , 0.011822, 0.016113,\n",
       "       0.015981, 0.016401, 0.016183, 0.013522, 0.011427, 0.009077,\n",
       "       0.006897, 0.005467, 0.00653 , 0.007956, 0.01176 , 0.015735,\n",
       "       0.016638, 0.01644 , 0.016595, 0.014081, 0.012624, 0.010172,\n",
       "       0.008913, 0.007741, 0.007244, 0.008673, 0.012259, 0.016754,\n",
       "       0.016877, 0.016994, 0.01672 , 0.015295, 0.015024, 0.009639,\n",
       "       0.007109, 0.006919, 0.005952, 0.009644, 0.012042, 0.016371,\n",
       "       0.016368, 0.016518, 0.01594 , 0.014916, 0.010537, 0.007242,\n",
       "       0.006378, 0.005085, 0.0044  , 0.008794, 0.011181, 0.014778,\n",
       "       0.016339, 0.016182, 0.015847, 0.013853, 0.011266, 0.007947,\n",
       "       0.006664, 0.007227, 0.00668 , 0.008928, 0.012341, 0.016778,\n",
       "       0.016745, 0.016103, 0.016323, 0.015277, 0.011567, 0.007934,\n",
       "       0.007995, 0.00748 , 0.009035, 0.008861, 0.011822, 0.015022,\n",
       "       0.016333, 0.016577, 0.015805, 0.013588, 0.010929, 0.0085  ,\n",
       "       0.006966, 0.005745, 0.00912 , 0.009368, 0.012952, 0.015684,\n",
       "       0.016026, 0.015697, 0.015687, 0.014197, 0.010906, 0.007925,\n",
       "       0.005412, 0.00713 , 0.007753, 0.00882 , 0.012476, 0.016247,\n",
       "       0.016977, 0.016542, 0.015898, 0.013234, 0.008634, 0.007315,\n",
       "       0.005901, 0.005095, 0.00638 , 0.007138, 0.011883, 0.01656 ,\n",
       "       0.01661 , 0.016198, 0.017074, 0.015034, 0.01098 , 0.009119,\n",
       "       0.006711, 0.00591 , 0.006907, 0.008104, 0.011703, 0.016853,\n",
       "       0.016475, 0.016013, 0.01508 , 0.012049, 0.00947 , 0.007077,\n",
       "       0.005901, 0.005095, 0.00638 , 0.007138, 0.011883, 0.01656 ,\n",
       "       0.01661 , 0.016198, 0.017074, 0.015034, 0.01098 , 0.009119])"
      ]
     },
     "execution_count": 14,
     "metadata": {},
     "output_type": "execute_result"
    }
   ],
   "source": [
    "y"
   ]
  },
  {
   "cell_type": "code",
   "execution_count": 15,
   "metadata": {},
   "outputs": [
    {
     "data": {
      "text/plain": [
       "(216, 4)"
      ]
     },
     "execution_count": 15,
     "metadata": {},
     "output_type": "execute_result"
    }
   ],
   "source": [
    "X.shape"
   ]
  },
  {
   "cell_type": "code",
   "execution_count": 16,
   "metadata": {},
   "outputs": [
    {
     "data": {
      "text/plain": [
       "(216,)"
      ]
     },
     "execution_count": 16,
     "metadata": {},
     "output_type": "execute_result"
    }
   ],
   "source": [
    "y.shape"
   ]
  },
  {
   "cell_type": "code",
   "execution_count": 17,
   "metadata": {},
   "outputs": [],
   "source": [
    "#train test split\n",
    "from sklearn.model_selection import train_test_split\n",
    "X_train,X_test,y_train,y_test=train_test_split(X,y,test_size=0.1,random_state=101)"
   ]
  },
  {
   "cell_type": "code",
   "execution_count": 18,
   "metadata": {},
   "outputs": [],
   "source": [
    "X_train,y_train=np.array(X_train),np.array(y_train)"
   ]
  },
  {
   "cell_type": "code",
   "execution_count": 19,
   "metadata": {},
   "outputs": [],
   "source": [
    "from sklearn.linear_model import LinearRegression,Lasso,Ridge"
   ]
  },
  {
   "cell_type": "markdown",
   "metadata": {},
   "source": [
    "# Linear Regressor"
   ]
  },
  {
   "cell_type": "code",
   "execution_count": 20,
   "metadata": {},
   "outputs": [],
   "source": [
    "li=LinearRegression()"
   ]
  },
  {
   "cell_type": "code",
   "execution_count": 21,
   "metadata": {},
   "outputs": [
    {
     "data": {
      "text/plain": [
       "LinearRegression(copy_X=True, fit_intercept=True, n_jobs=None, normalize=False)"
      ]
     },
     "execution_count": 21,
     "metadata": {},
     "output_type": "execute_result"
    }
   ],
   "source": [
    "li.fit(X_train,y_train)"
   ]
  },
  {
   "cell_type": "code",
   "execution_count": 22,
   "metadata": {},
   "outputs": [
    {
     "data": {
      "text/plain": [
       "array([0.00817018, 0.01684916, 0.01461692, 0.00613761, 0.00642815,\n",
       "       0.01327775, 0.00726914, 0.01644325, 0.01616795, 0.01560022,\n",
       "       0.01442566, 0.01605248, 0.01369929, 0.00731376, 0.01576443,\n",
       "       0.00607309, 0.00707916, 0.01154714, 0.01648976, 0.01198022,\n",
       "       0.01016682, 0.0163579 ])"
      ]
     },
     "execution_count": 22,
     "metadata": {},
     "output_type": "execute_result"
    }
   ],
   "source": [
    "Lir_ypred= li.predict(X_test)\n",
    "Lir_ypred"
   ]
  },
  {
   "cell_type": "code",
   "execution_count": 23,
   "metadata": {},
   "outputs": [
    {
     "data": {
      "text/html": [
       "<div>\n",
       "<style scoped>\n",
       "    .dataframe tbody tr th:only-of-type {\n",
       "        vertical-align: middle;\n",
       "    }\n",
       "\n",
       "    .dataframe tbody tr th {\n",
       "        vertical-align: top;\n",
       "    }\n",
       "\n",
       "    .dataframe thead th {\n",
       "        text-align: right;\n",
       "    }\n",
       "</style>\n",
       "<table border=\"1\" class=\"dataframe\">\n",
       "  <thead>\n",
       "    <tr style=\"text-align: right;\">\n",
       "      <th></th>\n",
       "      <th>Actual</th>\n",
       "      <th>Predicted</th>\n",
       "    </tr>\n",
       "  </thead>\n",
       "  <tbody>\n",
       "    <tr>\n",
       "      <td>0</td>\n",
       "      <td>0.008500</td>\n",
       "      <td>0.008170</td>\n",
       "    </tr>\n",
       "    <tr>\n",
       "      <td>1</td>\n",
       "      <td>0.017127</td>\n",
       "      <td>0.016849</td>\n",
       "    </tr>\n",
       "    <tr>\n",
       "      <td>2</td>\n",
       "      <td>0.014916</td>\n",
       "      <td>0.014617</td>\n",
       "    </tr>\n",
       "    <tr>\n",
       "      <td>3</td>\n",
       "      <td>0.008913</td>\n",
       "      <td>0.006138</td>\n",
       "    </tr>\n",
       "    <tr>\n",
       "      <td>4</td>\n",
       "      <td>0.006919</td>\n",
       "      <td>0.006428</td>\n",
       "    </tr>\n",
       "    <tr>\n",
       "      <td>5</td>\n",
       "      <td>0.014081</td>\n",
       "      <td>0.013278</td>\n",
       "    </tr>\n",
       "    <tr>\n",
       "      <td>6</td>\n",
       "      <td>0.008495</td>\n",
       "      <td>0.007269</td>\n",
       "    </tr>\n",
       "    <tr>\n",
       "      <td>7</td>\n",
       "      <td>0.016370</td>\n",
       "      <td>0.016443</td>\n",
       "    </tr>\n",
       "    <tr>\n",
       "      <td>8</td>\n",
       "      <td>0.016610</td>\n",
       "      <td>0.016168</td>\n",
       "    </tr>\n",
       "    <tr>\n",
       "      <td>9</td>\n",
       "      <td>0.017074</td>\n",
       "      <td>0.015600</td>\n",
       "    </tr>\n",
       "    <tr>\n",
       "      <td>10</td>\n",
       "      <td>0.013588</td>\n",
       "      <td>0.014426</td>\n",
       "    </tr>\n",
       "    <tr>\n",
       "      <td>11</td>\n",
       "      <td>0.016171</td>\n",
       "      <td>0.016052</td>\n",
       "    </tr>\n",
       "    <tr>\n",
       "      <td>12</td>\n",
       "      <td>0.015034</td>\n",
       "      <td>0.013699</td>\n",
       "    </tr>\n",
       "    <tr>\n",
       "      <td>13</td>\n",
       "      <td>0.005085</td>\n",
       "      <td>0.007314</td>\n",
       "    </tr>\n",
       "    <tr>\n",
       "      <td>14</td>\n",
       "      <td>0.015684</td>\n",
       "      <td>0.015764</td>\n",
       "    </tr>\n",
       "    <tr>\n",
       "      <td>15</td>\n",
       "      <td>0.007227</td>\n",
       "      <td>0.006073</td>\n",
       "    </tr>\n",
       "    <tr>\n",
       "      <td>16</td>\n",
       "      <td>0.006966</td>\n",
       "      <td>0.007079</td>\n",
       "    </tr>\n",
       "    <tr>\n",
       "      <td>17</td>\n",
       "      <td>0.011822</td>\n",
       "      <td>0.011547</td>\n",
       "    </tr>\n",
       "    <tr>\n",
       "      <td>18</td>\n",
       "      <td>0.016440</td>\n",
       "      <td>0.016490</td>\n",
       "    </tr>\n",
       "    <tr>\n",
       "      <td>19</td>\n",
       "      <td>0.011760</td>\n",
       "      <td>0.011980</td>\n",
       "    </tr>\n",
       "    <tr>\n",
       "      <td>20</td>\n",
       "      <td>0.007242</td>\n",
       "      <td>0.010167</td>\n",
       "    </tr>\n",
       "    <tr>\n",
       "      <td>21</td>\n",
       "      <td>0.016639</td>\n",
       "      <td>0.016358</td>\n",
       "    </tr>\n",
       "  </tbody>\n",
       "</table>\n",
       "</div>"
      ],
      "text/plain": [
       "      Actual  Predicted\n",
       "0   0.008500   0.008170\n",
       "1   0.017127   0.016849\n",
       "2   0.014916   0.014617\n",
       "3   0.008913   0.006138\n",
       "4   0.006919   0.006428\n",
       "5   0.014081   0.013278\n",
       "6   0.008495   0.007269\n",
       "7   0.016370   0.016443\n",
       "8   0.016610   0.016168\n",
       "9   0.017074   0.015600\n",
       "10  0.013588   0.014426\n",
       "11  0.016171   0.016052\n",
       "12  0.015034   0.013699\n",
       "13  0.005085   0.007314\n",
       "14  0.015684   0.015764\n",
       "15  0.007227   0.006073\n",
       "16  0.006966   0.007079\n",
       "17  0.011822   0.011547\n",
       "18  0.016440   0.016490\n",
       "19  0.011760   0.011980\n",
       "20  0.007242   0.010167\n",
       "21  0.016639   0.016358"
      ]
     },
     "execution_count": 23,
     "metadata": {},
     "output_type": "execute_result"
    }
   ],
   "source": [
    "Linear=pd.DataFrame({'Actual':y_test,'Predicted':Lir_ypred})\n",
    "Linear"
   ]
  },
  {
   "cell_type": "code",
   "execution_count": 24,
   "metadata": {},
   "outputs": [],
   "source": [
    "from sklearn.metrics import mean_squared_error,r2_score"
   ]
  },
  {
   "cell_type": "code",
   "execution_count": 25,
   "metadata": {},
   "outputs": [
    {
     "name": "stdout",
     "output_type": "stream",
     "text": [
      "Mean squared Error: 1.3779690044807183e-06\n",
      "Root Mean Squared Error: 0.001173869245052752\n",
      "R2_Score: 0.9167805854974805\n"
     ]
    }
   ],
   "source": [
    "#print('Mean Absolute Error:',mean_absolute_error(y_test,Lir_ypred))\n",
    "print('Mean squared Error:',mean_squared_error(y_test,Lir_ypred))\n",
    "print('Root Mean Squared Error:',np.sqrt(mean_squared_error(y_test,Lir_ypred)))\n",
    "print('R2_Score:',r2_score(y_test,Lir_ypred))"
   ]
  },
  {
   "cell_type": "code",
   "execution_count": 26,
   "metadata": {},
   "outputs": [
    {
     "data": {
      "text/plain": [
       "0.9167805854974805"
      ]
     },
     "execution_count": 26,
     "metadata": {},
     "output_type": "execute_result"
    }
   ],
   "source": [
    "linear_r2_score=r2_score(y_test,Lir_ypred)\n",
    "linear_r2_score"
   ]
  },
  {
   "cell_type": "markdown",
   "metadata": {},
   "source": [
    "# Lasso Regressor"
   ]
  },
  {
   "cell_type": "code",
   "execution_count": 27,
   "metadata": {},
   "outputs": [
    {
     "data": {
      "text/plain": [
       "Lasso(alpha=0.0001, copy_X=True, fit_intercept=True, max_iter=1000,\n",
       "      normalize=False, positive=False, precompute=False, random_state=None,\n",
       "      selection='cyclic', tol=0.0001, warm_start=False)"
      ]
     },
     "execution_count": 27,
     "metadata": {},
     "output_type": "execute_result"
    }
   ],
   "source": [
    "#Lasso Regressor\n",
    "lass=Lasso(alpha=0.0001)\n",
    "lass.fit(X_train,y_train)"
   ]
  },
  {
   "cell_type": "code",
   "execution_count": 28,
   "metadata": {},
   "outputs": [],
   "source": [
    "Lass_ypred= lass.predict(X_test)"
   ]
  },
  {
   "cell_type": "code",
   "execution_count": 29,
   "metadata": {},
   "outputs": [
    {
     "name": "stdout",
     "output_type": "stream",
     "text": [
      "Mean squared Error: 1.3245576398874464e-05\n",
      "Root Mean Squared Error: 0.003639447265571307\n",
      "R2_Score: 0.20006247667514376\n"
     ]
    }
   ],
   "source": [
    "print('Mean squared Error:',mean_squared_error(y_test,Lass_ypred))\n",
    "print('Root Mean Squared Error:',np.sqrt(mean_squared_error(y_test,Lass_ypred)))\n",
    "print('R2_Score:',r2_score(y_test,Lass_ypred))"
   ]
  },
  {
   "cell_type": "code",
   "execution_count": 30,
   "metadata": {},
   "outputs": [
    {
     "data": {
      "text/plain": [
       "0.20006247667514376"
      ]
     },
     "execution_count": 30,
     "metadata": {},
     "output_type": "execute_result"
    }
   ],
   "source": [
    "lasso_r2_score=r2_score(y_test,Lass_ypred)\n",
    "lasso_r2_score"
   ]
  },
  {
   "cell_type": "code",
   "execution_count": 31,
   "metadata": {},
   "outputs": [],
   "source": [
    "#Ridge Regressor"
   ]
  },
  {
   "cell_type": "code",
   "execution_count": 32,
   "metadata": {},
   "outputs": [
    {
     "data": {
      "text/plain": [
       "Ridge(alpha=0.0001, copy_X=True, fit_intercept=True, max_iter=None,\n",
       "      normalize=False, random_state=None, solver='auto', tol=0.001)"
      ]
     },
     "execution_count": 32,
     "metadata": {},
     "output_type": "execute_result"
    }
   ],
   "source": [
    "#RIdge\n",
    "rid=Ridge(alpha=0.0001)\n",
    "rid.fit(X_train,y_train)"
   ]
  },
  {
   "cell_type": "code",
   "execution_count": 33,
   "metadata": {},
   "outputs": [],
   "source": [
    "rid_ypred= rid.predict(X_test)"
   ]
  },
  {
   "cell_type": "code",
   "execution_count": 34,
   "metadata": {},
   "outputs": [
    {
     "name": "stdout",
     "output_type": "stream",
     "text": [
      "Mean squared Error: 1.3888592821272756e-06\n",
      "Root Mean Squared Error: 0.0011784987408254943\n",
      "R2_Score: 0.9161228910743335\n"
     ]
    }
   ],
   "source": [
    "print('Mean squared Error:',mean_squared_error(y_test,rid_ypred))\n",
    "print('Root Mean Squared Error:',np.sqrt(mean_squared_error(y_test,rid_ypred)))\n",
    "print('R2_Score:',r2_score(y_test,rid_ypred))"
   ]
  },
  {
   "cell_type": "code",
   "execution_count": 35,
   "metadata": {},
   "outputs": [
    {
     "data": {
      "text/plain": [
       "0.9161228910743335"
      ]
     },
     "execution_count": 35,
     "metadata": {},
     "output_type": "execute_result"
    }
   ],
   "source": [
    "ridge_r2_score=r2_score(y_test,rid_ypred)\n",
    "ridge_r2_score"
   ]
  },
  {
   "cell_type": "markdown",
   "metadata": {},
   "source": [
    "# Decision Tree Regressor"
   ]
  },
  {
   "cell_type": "code",
   "execution_count": 36,
   "metadata": {},
   "outputs": [],
   "source": [
    "#Decision Tree Regressor\n",
    "from sklearn.tree import DecisionTreeRegressor\n",
    "dt=DecisionTreeRegressor()"
   ]
  },
  {
   "cell_type": "code",
   "execution_count": 37,
   "metadata": {},
   "outputs": [
    {
     "data": {
      "text/plain": [
       "DecisionTreeRegressor(criterion='mse', max_depth=None, max_features=None,\n",
       "                      max_leaf_nodes=None, min_impurity_decrease=0.0,\n",
       "                      min_impurity_split=None, min_samples_leaf=1,\n",
       "                      min_samples_split=2, min_weight_fraction_leaf=0.0,\n",
       "                      presort=False, random_state=None, splitter='best')"
      ]
     },
     "execution_count": 37,
     "metadata": {},
     "output_type": "execute_result"
    }
   ],
   "source": [
    "dt.fit(X_train,y_train)"
   ]
  },
  {
   "cell_type": "code",
   "execution_count": 38,
   "metadata": {},
   "outputs": [],
   "source": [
    "dt_ypred= dt.predict(X_test)"
   ]
  },
  {
   "cell_type": "code",
   "execution_count": 39,
   "metadata": {},
   "outputs": [
    {
     "name": "stdout",
     "output_type": "stream",
     "text": [
      "Mean squared Error: 2.823851754602274e-06\n",
      "Root Mean Squared Error: 0.0016804320142755774\n",
      "R2_Score: 0.8294596693425103\n"
     ]
    }
   ],
   "source": [
    "print('Mean squared Error:',mean_squared_error(y_test,dt_ypred))\n",
    "print('Root Mean Squared Error:',np.sqrt(mean_squared_error(y_test,dt_ypred)))\n",
    "print('R2_Score:',r2_score(y_test,dt_ypred))"
   ]
  },
  {
   "cell_type": "code",
   "execution_count": 40,
   "metadata": {},
   "outputs": [
    {
     "data": {
      "text/plain": [
       "0.8294596693425103"
      ]
     },
     "execution_count": 40,
     "metadata": {},
     "output_type": "execute_result"
    }
   ],
   "source": [
    "decisiontree_r2_score=r2_score(y_test,dt_ypred)\n",
    "decisiontree_r2_score"
   ]
  },
  {
   "cell_type": "markdown",
   "metadata": {},
   "source": [
    "# KNN Regressor"
   ]
  },
  {
   "cell_type": "code",
   "execution_count": 41,
   "metadata": {},
   "outputs": [
    {
     "data": {
      "text/plain": [
       "KNeighborsRegressor(algorithm='auto', leaf_size=30, metric='minkowski',\n",
       "                    metric_params=None, n_jobs=None, n_neighbors=2, p=2,\n",
       "                    weights='uniform')"
      ]
     },
     "execution_count": 41,
     "metadata": {},
     "output_type": "execute_result"
    }
   ],
   "source": [
    "from sklearn.neighbors import KNeighborsRegressor\n",
    "\n",
    "kn=KNeighborsRegressor(n_neighbors=2)\n",
    "kn.fit(X_train,y_train)"
   ]
  },
  {
   "cell_type": "code",
   "execution_count": 42,
   "metadata": {},
   "outputs": [],
   "source": [
    "kn1_pred=kn.predict(X_test)"
   ]
  },
  {
   "cell_type": "code",
   "execution_count": 43,
   "metadata": {},
   "outputs": [
    {
     "name": "stdout",
     "output_type": "stream",
     "text": [
      "Mean squared Error: 7.687869886363641e-07\n",
      "Root Mean Squared Error: 0.0008768049889435872\n",
      "R2_Score: 0.9535707966845138\n"
     ]
    }
   ],
   "source": [
    "print('Mean squared Error:',mean_squared_error(y_test,kn1_pred))\n",
    "print('Root Mean Squared Error:',np.sqrt(mean_squared_error(y_test,kn1_pred)))\n",
    "print('R2_Score:',r2_score(y_test,kn1_pred))"
   ]
  },
  {
   "cell_type": "code",
   "execution_count": 44,
   "metadata": {},
   "outputs": [
    {
     "data": {
      "text/plain": [
       "0.9535707966845138"
      ]
     },
     "execution_count": 44,
     "metadata": {},
     "output_type": "execute_result"
    }
   ],
   "source": [
    "kneighbour_r2_score=r2_score(y_test,kn1_pred)\n",
    "kneighbour_r2_score"
   ]
  },
  {
   "cell_type": "markdown",
   "metadata": {},
   "source": [
    "# SVR rbf"
   ]
  },
  {
   "cell_type": "code",
   "execution_count": 45,
   "metadata": {},
   "outputs": [
    {
     "name": "stderr",
     "output_type": "stream",
     "text": [
      "C:\\ProgramData\\Anaconda3\\lib\\site-packages\\sklearn\\svm\\base.py:193: FutureWarning: The default value of gamma will change from 'auto' to 'scale' in version 0.22 to account better for unscaled features. Set gamma explicitly to 'auto' or 'scale' to avoid this warning.\n",
      "  \"avoid this warning.\", FutureWarning)\n"
     ]
    }
   ],
   "source": [
    "from sklearn.svm import SVR\n",
    "svr=SVR(kernel='rbf')\n",
    "svr.fit(X_train,y_train)\n",
    "svr_pred=svr.predict(X_test)"
   ]
  },
  {
   "cell_type": "code",
   "execution_count": 46,
   "metadata": {},
   "outputs": [
    {
     "name": "stdout",
     "output_type": "stream",
     "text": [
      "Mean squared Error: 1.905394550000001e-05\n",
      "Root Mean Squared Error: 0.004365082530720354\n",
      "R2_Score: -0.15072123053338582\n"
     ]
    }
   ],
   "source": [
    "print('Mean squared Error:',mean_squared_error(y_test,svr_pred))\n",
    "print('Root Mean Squared Error:',np.sqrt(mean_squared_error(y_test,svr_pred)))\n",
    "print('R2_Score:',r2_score(y_test,svr_pred))"
   ]
  },
  {
   "cell_type": "code",
   "execution_count": 47,
   "metadata": {},
   "outputs": [
    {
     "data": {
      "text/plain": [
       "-0.15072123053338582"
      ]
     },
     "execution_count": 47,
     "metadata": {},
     "output_type": "execute_result"
    }
   ],
   "source": [
    "svr_r2_score=r2_score(y_test,svr_pred)\n",
    "svr_r2_score"
   ]
  },
  {
   "cell_type": "markdown",
   "metadata": {},
   "source": [
    "# Random Forest"
   ]
  },
  {
   "cell_type": "code",
   "execution_count": 48,
   "metadata": {},
   "outputs": [],
   "source": [
    "from sklearn.ensemble import RandomForestRegressor"
   ]
  },
  {
   "cell_type": "code",
   "execution_count": 49,
   "metadata": {},
   "outputs": [],
   "source": [
    "rf = RandomForestRegressor(n_estimators = 1000, random_state = 42)\n",
    "rf.fit(X_train, y_train);"
   ]
  },
  {
   "cell_type": "code",
   "execution_count": 50,
   "metadata": {},
   "outputs": [],
   "source": [
    "rf_pred=rf.predict(X_test)"
   ]
  },
  {
   "cell_type": "code",
   "execution_count": 51,
   "metadata": {},
   "outputs": [
    {
     "name": "stdout",
     "output_type": "stream",
     "text": [
      "Mean squared Error: 1.2616921553583012e-06\n",
      "Root Mean Squared Error: 0.00112325070903975\n",
      "R2_Score: 0.9238028706669585\n"
     ]
    }
   ],
   "source": [
    "print('Mean squared Error:',mean_squared_error(y_test,rf_pred))\n",
    "print('Root Mean Squared Error:',np.sqrt(mean_squared_error(y_test,rf_pred)))\n",
    "print('R2_Score:',r2_score(y_test,rf_pred))"
   ]
  },
  {
   "cell_type": "code",
   "execution_count": 52,
   "metadata": {},
   "outputs": [
    {
     "data": {
      "text/plain": [
       "0.9238028706669585"
      ]
     },
     "execution_count": 52,
     "metadata": {},
     "output_type": "execute_result"
    }
   ],
   "source": [
    "randomforest_r2_score=r2_score(y_test,rf_pred)\n",
    "randomforest_r2_score"
   ]
  },
  {
   "cell_type": "markdown",
   "metadata": {},
   "source": [
    "# Bayes Regressor"
   ]
  },
  {
   "cell_type": "code",
   "execution_count": 53,
   "metadata": {},
   "outputs": [],
   "source": [
    "from sklearn.linear_model import BayesianRidge\n",
    "br=BayesianRidge()\n",
    "br.fit(X_train,y_train)\n",
    "y_pred=br.predict(X_test)"
   ]
  },
  {
   "cell_type": "code",
   "execution_count": 54,
   "metadata": {},
   "outputs": [
    {
     "data": {
      "text/html": [
       "<div>\n",
       "<style scoped>\n",
       "    .dataframe tbody tr th:only-of-type {\n",
       "        vertical-align: middle;\n",
       "    }\n",
       "\n",
       "    .dataframe tbody tr th {\n",
       "        vertical-align: top;\n",
       "    }\n",
       "\n",
       "    .dataframe thead th {\n",
       "        text-align: right;\n",
       "    }\n",
       "</style>\n",
       "<table border=\"1\" class=\"dataframe\">\n",
       "  <thead>\n",
       "    <tr style=\"text-align: right;\">\n",
       "      <th></th>\n",
       "      <th>Actual</th>\n",
       "      <th>Predicted</th>\n",
       "    </tr>\n",
       "  </thead>\n",
       "  <tbody>\n",
       "    <tr>\n",
       "      <td>0</td>\n",
       "      <td>0.008500</td>\n",
       "      <td>0.008181</td>\n",
       "    </tr>\n",
       "    <tr>\n",
       "      <td>1</td>\n",
       "      <td>0.017127</td>\n",
       "      <td>0.016839</td>\n",
       "    </tr>\n",
       "    <tr>\n",
       "      <td>2</td>\n",
       "      <td>0.014916</td>\n",
       "      <td>0.014619</td>\n",
       "    </tr>\n",
       "    <tr>\n",
       "      <td>3</td>\n",
       "      <td>0.008913</td>\n",
       "      <td>0.006146</td>\n",
       "    </tr>\n",
       "    <tr>\n",
       "      <td>4</td>\n",
       "      <td>0.006919</td>\n",
       "      <td>0.006440</td>\n",
       "    </tr>\n",
       "    <tr>\n",
       "      <td>5</td>\n",
       "      <td>0.014081</td>\n",
       "      <td>0.013280</td>\n",
       "    </tr>\n",
       "    <tr>\n",
       "      <td>6</td>\n",
       "      <td>0.008495</td>\n",
       "      <td>0.007269</td>\n",
       "    </tr>\n",
       "    <tr>\n",
       "      <td>7</td>\n",
       "      <td>0.016370</td>\n",
       "      <td>0.016438</td>\n",
       "    </tr>\n",
       "    <tr>\n",
       "      <td>8</td>\n",
       "      <td>0.016610</td>\n",
       "      <td>0.016164</td>\n",
       "    </tr>\n",
       "    <tr>\n",
       "      <td>9</td>\n",
       "      <td>0.017074</td>\n",
       "      <td>0.015597</td>\n",
       "    </tr>\n",
       "    <tr>\n",
       "      <td>10</td>\n",
       "      <td>0.013588</td>\n",
       "      <td>0.014429</td>\n",
       "    </tr>\n",
       "    <tr>\n",
       "      <td>11</td>\n",
       "      <td>0.016171</td>\n",
       "      <td>0.016047</td>\n",
       "    </tr>\n",
       "    <tr>\n",
       "      <td>12</td>\n",
       "      <td>0.015034</td>\n",
       "      <td>0.013696</td>\n",
       "    </tr>\n",
       "    <tr>\n",
       "      <td>13</td>\n",
       "      <td>0.005085</td>\n",
       "      <td>0.007314</td>\n",
       "    </tr>\n",
       "    <tr>\n",
       "      <td>14</td>\n",
       "      <td>0.015684</td>\n",
       "      <td>0.015752</td>\n",
       "    </tr>\n",
       "    <tr>\n",
       "      <td>15</td>\n",
       "      <td>0.007227</td>\n",
       "      <td>0.006072</td>\n",
       "    </tr>\n",
       "    <tr>\n",
       "      <td>16</td>\n",
       "      <td>0.006966</td>\n",
       "      <td>0.007086</td>\n",
       "    </tr>\n",
       "    <tr>\n",
       "      <td>17</td>\n",
       "      <td>0.011822</td>\n",
       "      <td>0.011550</td>\n",
       "    </tr>\n",
       "    <tr>\n",
       "      <td>18</td>\n",
       "      <td>0.016440</td>\n",
       "      <td>0.016482</td>\n",
       "    </tr>\n",
       "    <tr>\n",
       "      <td>19</td>\n",
       "      <td>0.011760</td>\n",
       "      <td>0.011977</td>\n",
       "    </tr>\n",
       "    <tr>\n",
       "      <td>20</td>\n",
       "      <td>0.007242</td>\n",
       "      <td>0.010172</td>\n",
       "    </tr>\n",
       "    <tr>\n",
       "      <td>21</td>\n",
       "      <td>0.016639</td>\n",
       "      <td>0.016351</td>\n",
       "    </tr>\n",
       "  </tbody>\n",
       "</table>\n",
       "</div>"
      ],
      "text/plain": [
       "      Actual  Predicted\n",
       "0   0.008500   0.008181\n",
       "1   0.017127   0.016839\n",
       "2   0.014916   0.014619\n",
       "3   0.008913   0.006146\n",
       "4   0.006919   0.006440\n",
       "5   0.014081   0.013280\n",
       "6   0.008495   0.007269\n",
       "7   0.016370   0.016438\n",
       "8   0.016610   0.016164\n",
       "9   0.017074   0.015597\n",
       "10  0.013588   0.014429\n",
       "11  0.016171   0.016047\n",
       "12  0.015034   0.013696\n",
       "13  0.005085   0.007314\n",
       "14  0.015684   0.015752\n",
       "15  0.007227   0.006072\n",
       "16  0.006966   0.007086\n",
       "17  0.011822   0.011550\n",
       "18  0.016440   0.016482\n",
       "19  0.011760   0.011977\n",
       "20  0.007242   0.010172\n",
       "21  0.016639   0.016351"
      ]
     },
     "execution_count": 54,
     "metadata": {},
     "output_type": "execute_result"
    }
   ],
   "source": [
    "bay=pd.DataFrame({'Actual':y_test,'Predicted':y_pred})\n",
    "bay"
   ]
  },
  {
   "cell_type": "code",
   "execution_count": 55,
   "metadata": {},
   "outputs": [
    {
     "name": "stdout",
     "output_type": "stream",
     "text": [
      "Mean squared Error: 1.3780632656072534e-06\n",
      "Root Mean Squared Error: 0.0011739093941217325\n",
      "R2_Score: 0.91677489280357\n"
     ]
    }
   ],
   "source": [
    "print('Mean squared Error:',mean_squared_error(y_test,y_pred))\n",
    "print('Root Mean Squared Error:',np.sqrt(mean_squared_error(y_test,y_pred)))\n",
    "print('R2_Score:',r2_score(y_test,y_pred))"
   ]
  },
  {
   "cell_type": "code",
   "execution_count": 56,
   "metadata": {},
   "outputs": [
    {
     "data": {
      "text/plain": [
       "0.91677489280357"
      ]
     },
     "execution_count": 56,
     "metadata": {},
     "output_type": "execute_result"
    }
   ],
   "source": [
    "bayes_r2_score=r2_score(y_test,y_pred)\n",
    "bayes_r2_score"
   ]
  },
  {
   "cell_type": "code",
   "execution_count": 57,
   "metadata": {},
   "outputs": [],
   "source": [
    "Regressors=['Linear','Lasso','Ridge','DecisionTree','KNeighbour','SVR','RandomForest','Bayesian']\n",
    "R2_Score=[linear_r2_score,lasso_r2_score,ridge_r2_score,decisiontree_r2_score,kneighbour_r2_score,svr_r2_score,randomforest_r2_score,bayes_r2_score]"
   ]
  },
  {
   "cell_type": "code",
   "execution_count": 58,
   "metadata": {},
   "outputs": [
    {
     "name": "stderr",
     "output_type": "stream",
     "text": [
      "No handles with labels found to put in legend.\n"
     ]
    },
    {
     "data": {
      "image/png": "[encoded data removed]",
      "text/plain": [
       "<Figure size 1080x288 with 1 Axes>"
      ]
     },
     "metadata": {
      "needs_background": "light"
     },
     "output_type": "display_data"
    }
   ],
   "source": [
    "plt.figure(figsize=(15,4))\n",
    "plt.plot(Regressors,R2_Score, color = 'Red')\n",
    "\n",
    "plt.title('Comparision between different Regressors',fontsize=15)\n",
    "plt.xlabel('Regressors',fontsize=15)\n",
    "plt.ylabel('Accuracy Values',fontsize=15)\n",
    "plt.legend()\n",
    "plt.show()\n"
   ]
  },
  {
   "cell_type": "markdown",
   "metadata": {},
   "source": [
    "# KNN with neighbour=2 is best for mintemperature prediction with accuracy of 95% followed by random forest with 92.38% "
   ]
  },
  {
   "cell_type": "code",
   "execution_count": 59,
   "metadata": {},
   "outputs": [],
   "source": [
    "sh2020=pd.read_csv(\"C:/Users/Abhishek Wagh/Desktop/MTech_Project/Sugarcane/Phase1/csv/SpecificHumidity/Specifichumidity2020pred.csv\")"
   ]
  },
  {
   "cell_type": "code",
   "execution_count": 60,
   "metadata": {},
   "outputs": [],
   "source": [
    "#sh2020.drop(['MinTemperature','Month'],axis=1,inplace=True)"
   ]
  },
  {
   "cell_type": "code",
   "execution_count": 61,
   "metadata": {},
   "outputs": [],
   "source": [
    "sh2020=sh2020.iloc[:,:].values"
   ]
  },
  {
   "cell_type": "code",
   "execution_count": 62,
   "metadata": {},
   "outputs": [
    {
     "data": {
      "text/plain": [
       "array([[2.0200e+03, 1.0000e+00, 5.9010e-03, 6.7110e-03],\n",
       "       [2.0200e+03, 2.0000e+00, 5.0950e-03, 5.9100e-03],\n",
       "       [2.0200e+03, 3.0000e+00, 6.3800e-03, 6.9070e-03],\n",
       "       [2.0200e+03, 4.0000e+00, 7.1380e-03, 8.1040e-03],\n",
       "       [2.0200e+03, 5.0000e+00, 1.1883e-02, 1.1703e-02],\n",
       "       [2.0200e+03, 6.0000e+00, 1.6560e-02, 1.6853e-02],\n",
       "       [2.0200e+03, 7.0000e+00, 1.6610e-02, 1.6475e-02],\n",
       "       [2.0200e+03, 8.0000e+00, 1.6198e-02, 1.6013e-02],\n",
       "       [2.0200e+03, 9.0000e+00, 1.7074e-02, 1.5080e-02],\n",
       "       [2.0200e+03, 1.0000e+01, 1.5034e-02, 1.2049e-02],\n",
       "       [2.0200e+03, 1.1000e+01, 1.0980e-02, 9.4700e-03],\n",
       "       [2.0200e+03, 1.2000e+01, 9.1190e-03, 7.0770e-03]])"
      ]
     },
     "execution_count": 62,
     "metadata": {},
     "output_type": "execute_result"
    }
   ],
   "source": [
    "sh2020"
   ]
  },
  {
   "cell_type": "code",
   "execution_count": 63,
   "metadata": {},
   "outputs": [],
   "source": [
    "sh2020_pred=[]"
   ]
  },
  {
   "cell_type": "code",
   "execution_count": 64,
   "metadata": {},
   "outputs": [],
   "source": [
    "sh2020_pred=kn.predict(sh2020)"
   ]
  },
  {
   "cell_type": "code",
   "execution_count": 65,
   "metadata": {},
   "outputs": [
    {
     "data": {
      "text/plain": [
       "array([0.005498 , 0.005498 , 0.006759 , 0.006759 , 0.0095105, 0.016585 ,\n",
       "       0.016585 , 0.016404 , 0.016636 , 0.016054 , 0.0100495, 0.0100495])"
      ]
     },
     "execution_count": 65,
     "metadata": {},
     "output_type": "execute_result"
    }
   ],
   "source": [
    "sh2020_pred"
   ]
  },
  {
   "cell_type": "code",
   "execution_count": 66,
   "metadata": {},
   "outputs": [
    {
     "data": {
      "text/html": [
       "<div>\n",
       "<style scoped>\n",
       "    .dataframe tbody tr th:only-of-type {\n",
       "        vertical-align: middle;\n",
       "    }\n",
       "\n",
       "    .dataframe tbody tr th {\n",
       "        vertical-align: top;\n",
       "    }\n",
       "\n",
       "    .dataframe thead th {\n",
       "        text-align: right;\n",
       "    }\n",
       "</style>\n",
       "<table border=\"1\" class=\"dataframe\">\n",
       "  <thead>\n",
       "    <tr style=\"text-align: right;\">\n",
       "      <th></th>\n",
       "      <th>0</th>\n",
       "    </tr>\n",
       "  </thead>\n",
       "  <tbody>\n",
       "    <tr>\n",
       "      <td>0</td>\n",
       "      <td>0.005498</td>\n",
       "    </tr>\n",
       "    <tr>\n",
       "      <td>1</td>\n",
       "      <td>0.005498</td>\n",
       "    </tr>\n",
       "    <tr>\n",
       "      <td>2</td>\n",
       "      <td>0.006759</td>\n",
       "    </tr>\n",
       "    <tr>\n",
       "      <td>3</td>\n",
       "      <td>0.006759</td>\n",
       "    </tr>\n",
       "    <tr>\n",
       "      <td>4</td>\n",
       "      <td>0.009510</td>\n",
       "    </tr>\n",
       "    <tr>\n",
       "      <td>5</td>\n",
       "      <td>0.016585</td>\n",
       "    </tr>\n",
       "    <tr>\n",
       "      <td>6</td>\n",
       "      <td>0.016585</td>\n",
       "    </tr>\n",
       "    <tr>\n",
       "      <td>7</td>\n",
       "      <td>0.016404</td>\n",
       "    </tr>\n",
       "    <tr>\n",
       "      <td>8</td>\n",
       "      <td>0.016636</td>\n",
       "    </tr>\n",
       "    <tr>\n",
       "      <td>9</td>\n",
       "      <td>0.016054</td>\n",
       "    </tr>\n",
       "    <tr>\n",
       "      <td>10</td>\n",
       "      <td>0.010049</td>\n",
       "    </tr>\n",
       "    <tr>\n",
       "      <td>11</td>\n",
       "      <td>0.010049</td>\n",
       "    </tr>\n",
       "  </tbody>\n",
       "</table>\n",
       "</div>"
      ],
      "text/plain": [
       "           0\n",
       "0   0.005498\n",
       "1   0.005498\n",
       "2   0.006759\n",
       "3   0.006759\n",
       "4   0.009510\n",
       "5   0.016585\n",
       "6   0.016585\n",
       "7   0.016404\n",
       "8   0.016636\n",
       "9   0.016054\n",
       "10  0.010049\n",
       "11  0.010049"
      ]
     },
     "execution_count": 66,
     "metadata": {},
     "output_type": "execute_result"
    }
   ],
   "source": [
    "shum_data=pd.DataFrame(data=sh2020_pred)\n",
    "shum_data"
   ]
  },
  {
   "cell_type": "code",
   "execution_count": 67,
   "metadata": {},
   "outputs": [],
   "source": [
    "shum_data.to_csv(r\"C:\\Users\\Abhishek Wagh\\Desktop\\MTech_Project\\Sugarcane\\Phase1\\csv\\SpecificHumidity\\2020sh.csv\")"
   ]
  }
 ],
 "metadata": {
  "kernelspec": {
   "display_name": "Python 3",
   "language": "python",
   "name": "python3"
  },
  "language_info": {
   "codemirror_mode": {
    "name": "ipython",
    "version": 3
   },
   "file_extension": ".py",
   "mimetype": "text/x-python",
   "name": "python",
   "nbconvert_exporter": "python",
   "pygments_lexer": "ipython3",
   "version": "3.7.4"
  }
 },
 "nbformat": 4,
 "nbformat_minor": 2
}
