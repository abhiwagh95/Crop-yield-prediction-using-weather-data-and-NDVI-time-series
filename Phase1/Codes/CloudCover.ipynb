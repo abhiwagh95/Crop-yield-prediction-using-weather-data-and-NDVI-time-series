{
 "cells": [
  {
   "cell_type": "code",
   "execution_count": 1,
   "metadata": {},
   "outputs": [],
   "source": [
    "import pandas as pd\n",
    "import numpy as np\n",
    "import matplotlib.pyplot as plt\n",
    "import seaborn as sns\n",
    "%matplotlib inline"
   ]
  },
  {
   "cell_type": "code",
   "execution_count": 2,
   "metadata": {},
   "outputs": [],
   "source": [
    "cc=pd.read_csv(\"C:/Users/Abhishek Wagh/Desktop/MTech_Project/Sugarcane/Phase1/csv/cloudcover/cloudcover.csv\")"
   ]
  },
  {
   "cell_type": "code",
   "execution_count": 3,
   "metadata": {},
   "outputs": [
    {
     "data": {
      "text/html": [
       "<div>\n",
       "<style scoped>\n",
       "    .dataframe tbody tr th:only-of-type {\n",
       "        vertical-align: middle;\n",
       "    }\n",
       "\n",
       "    .dataframe tbody tr th {\n",
       "        vertical-align: top;\n",
       "    }\n",
       "\n",
       "    .dataframe thead th {\n",
       "        text-align: right;\n",
       "    }\n",
       "</style>\n",
       "<table border=\"1\" class=\"dataframe\">\n",
       "  <thead>\n",
       "    <tr style=\"text-align: right;\">\n",
       "      <th></th>\n",
       "      <th>Year</th>\n",
       "      <th>Month</th>\n",
       "      <th>cc_past</th>\n",
       "      <th>cc_pasttopast</th>\n",
       "      <th>Cloud Coverage</th>\n",
       "    </tr>\n",
       "  </thead>\n",
       "  <tbody>\n",
       "    <tr>\n",
       "      <td>0</td>\n",
       "      <td>2002</td>\n",
       "      <td>1</td>\n",
       "      <td>0.66</td>\n",
       "      <td>0.69</td>\n",
       "      <td>0.69</td>\n",
       "    </tr>\n",
       "    <tr>\n",
       "      <td>1</td>\n",
       "      <td>2002</td>\n",
       "      <td>2</td>\n",
       "      <td>0.71</td>\n",
       "      <td>0.68</td>\n",
       "      <td>0.66</td>\n",
       "    </tr>\n",
       "    <tr>\n",
       "      <td>2</td>\n",
       "      <td>2002</td>\n",
       "      <td>3</td>\n",
       "      <td>0.71</td>\n",
       "      <td>0.70</td>\n",
       "      <td>0.68</td>\n",
       "    </tr>\n",
       "    <tr>\n",
       "      <td>3</td>\n",
       "      <td>2002</td>\n",
       "      <td>4</td>\n",
       "      <td>0.62</td>\n",
       "      <td>0.67</td>\n",
       "      <td>0.63</td>\n",
       "    </tr>\n",
       "    <tr>\n",
       "      <td>4</td>\n",
       "      <td>2002</td>\n",
       "      <td>5</td>\n",
       "      <td>0.62</td>\n",
       "      <td>0.57</td>\n",
       "      <td>0.62</td>\n",
       "    </tr>\n",
       "    <tr>\n",
       "      <td>...</td>\n",
       "      <td>...</td>\n",
       "      <td>...</td>\n",
       "      <td>...</td>\n",
       "      <td>...</td>\n",
       "      <td>...</td>\n",
       "    </tr>\n",
       "    <tr>\n",
       "      <td>211</td>\n",
       "      <td>2019</td>\n",
       "      <td>8</td>\n",
       "      <td>0.38</td>\n",
       "      <td>0.38</td>\n",
       "      <td>0.38</td>\n",
       "    </tr>\n",
       "    <tr>\n",
       "      <td>212</td>\n",
       "      <td>2019</td>\n",
       "      <td>9</td>\n",
       "      <td>0.44</td>\n",
       "      <td>0.44</td>\n",
       "      <td>0.44</td>\n",
       "    </tr>\n",
       "    <tr>\n",
       "      <td>213</td>\n",
       "      <td>2019</td>\n",
       "      <td>10</td>\n",
       "      <td>0.53</td>\n",
       "      <td>0.53</td>\n",
       "      <td>0.53</td>\n",
       "    </tr>\n",
       "    <tr>\n",
       "      <td>214</td>\n",
       "      <td>2019</td>\n",
       "      <td>11</td>\n",
       "      <td>0.63</td>\n",
       "      <td>0.63</td>\n",
       "      <td>0.63</td>\n",
       "    </tr>\n",
       "    <tr>\n",
       "      <td>215</td>\n",
       "      <td>2019</td>\n",
       "      <td>12</td>\n",
       "      <td>0.59</td>\n",
       "      <td>0.59</td>\n",
       "      <td>0.59</td>\n",
       "    </tr>\n",
       "  </tbody>\n",
       "</table>\n",
       "<p>216 rows × 5 columns</p>\n",
       "</div>"
      ],
      "text/plain": [
       "     Year  Month  cc_past  cc_pasttopast  Cloud Coverage\n",
       "0    2002      1     0.66           0.69            0.69\n",
       "1    2002      2     0.71           0.68            0.66\n",
       "2    2002      3     0.71           0.70            0.68\n",
       "3    2002      4     0.62           0.67            0.63\n",
       "4    2002      5     0.62           0.57            0.62\n",
       "..    ...    ...      ...            ...             ...\n",
       "211  2019      8     0.38           0.38            0.38\n",
       "212  2019      9     0.44           0.44            0.44\n",
       "213  2019     10     0.53           0.53            0.53\n",
       "214  2019     11     0.63           0.63            0.63\n",
       "215  2019     12     0.59           0.59            0.59\n",
       "\n",
       "[216 rows x 5 columns]"
      ]
     },
     "execution_count": 3,
     "metadata": {},
     "output_type": "execute_result"
    }
   ],
   "source": [
    "cc"
   ]
  },
  {
   "cell_type": "code",
   "execution_count": 4,
   "metadata": {},
   "outputs": [
    {
     "name": "stdout",
     "output_type": "stream",
     "text": [
      "<class 'pandas.core.frame.DataFrame'>\n",
      "RangeIndex: 216 entries, 0 to 215\n",
      "Data columns (total 5 columns):\n",
      "Year              216 non-null int64\n",
      "Month             216 non-null int64\n",
      "cc_past           216 non-null float64\n",
      "cc_pasttopast     216 non-null float64\n",
      "Cloud Coverage    216 non-null float64\n",
      "dtypes: float64(3), int64(2)\n",
      "memory usage: 8.6 KB\n"
     ]
    }
   ],
   "source": [
    "cc.info()"
   ]
  },
  {
   "cell_type": "code",
   "execution_count": 5,
   "metadata": {},
   "outputs": [
    {
     "data": {
      "text/html": [
       "<div>\n",
       "<style scoped>\n",
       "    .dataframe tbody tr th:only-of-type {\n",
       "        vertical-align: middle;\n",
       "    }\n",
       "\n",
       "    .dataframe tbody tr th {\n",
       "        vertical-align: top;\n",
       "    }\n",
       "\n",
       "    .dataframe thead th {\n",
       "        text-align: right;\n",
       "    }\n",
       "</style>\n",
       "<table border=\"1\" class=\"dataframe\">\n",
       "  <thead>\n",
       "    <tr style=\"text-align: right;\">\n",
       "      <th></th>\n",
       "      <th>Year</th>\n",
       "      <th>Month</th>\n",
       "      <th>cc_past</th>\n",
       "      <th>cc_pasttopast</th>\n",
       "      <th>Cloud Coverage</th>\n",
       "    </tr>\n",
       "  </thead>\n",
       "  <tbody>\n",
       "    <tr>\n",
       "      <td>Year</td>\n",
       "      <td>1.000000</td>\n",
       "      <td>0.000000</td>\n",
       "      <td>-0.022738</td>\n",
       "      <td>-0.024348</td>\n",
       "      <td>-0.021628</td>\n",
       "    </tr>\n",
       "    <tr>\n",
       "      <td>Month</td>\n",
       "      <td>0.000000</td>\n",
       "      <td>1.000000</td>\n",
       "      <td>-0.333878</td>\n",
       "      <td>-0.328033</td>\n",
       "      <td>-0.338881</td>\n",
       "    </tr>\n",
       "    <tr>\n",
       "      <td>cc_past</td>\n",
       "      <td>-0.022738</td>\n",
       "      <td>-0.333878</td>\n",
       "      <td>1.000000</td>\n",
       "      <td>0.927981</td>\n",
       "      <td>0.929115</td>\n",
       "    </tr>\n",
       "    <tr>\n",
       "      <td>cc_pasttopast</td>\n",
       "      <td>-0.024348</td>\n",
       "      <td>-0.328033</td>\n",
       "      <td>0.927981</td>\n",
       "      <td>1.000000</td>\n",
       "      <td>0.931824</td>\n",
       "    </tr>\n",
       "    <tr>\n",
       "      <td>Cloud Coverage</td>\n",
       "      <td>-0.021628</td>\n",
       "      <td>-0.338881</td>\n",
       "      <td>0.929115</td>\n",
       "      <td>0.931824</td>\n",
       "      <td>1.000000</td>\n",
       "    </tr>\n",
       "  </tbody>\n",
       "</table>\n",
       "</div>"
      ],
      "text/plain": [
       "                    Year     Month   cc_past  cc_pasttopast  Cloud Coverage\n",
       "Year            1.000000  0.000000 -0.022738      -0.024348       -0.021628\n",
       "Month           0.000000  1.000000 -0.333878      -0.328033       -0.338881\n",
       "cc_past        -0.022738 -0.333878  1.000000       0.927981        0.929115\n",
       "cc_pasttopast  -0.024348 -0.328033  0.927981       1.000000        0.931824\n",
       "Cloud Coverage -0.021628 -0.338881  0.929115       0.931824        1.000000"
      ]
     },
     "execution_count": 5,
     "metadata": {},
     "output_type": "execute_result"
    }
   ],
   "source": [
    "#Creating correlation for precipitation\n",
    "#Creating the correlation matrix for the features\n",
    "corr_matrix=cc.corr()\n",
    "corr_matrix"
   ]
  },
  {
   "cell_type": "code",
   "execution_count": 6,
   "metadata": {},
   "outputs": [],
   "source": [
    "mask = np.zeros_like(corr_matrix, dtype=np.bool)\n",
    "mask[np.triu_indices_from(mask)]= True"
   ]
  },
  {
   "cell_type": "code",
   "execution_count": 7,
   "metadata": {},
   "outputs": [
    {
     "data": {
      "image/png": "[encoded data removed]",
      "text/plain": [
       "<Figure size 360x288 with 2 Axes>"
      ]
     },
     "metadata": {
      "needs_background": "light"
     },
     "output_type": "display_data"
    }
   ],
   "source": [
    "f, ax = plt.subplots(figsize=(5, 4)) \n",
    "heatmap = sns.heatmap(corr_matrix, mask = mask,square = True,linewidths = .5, cmap = 'coolwarm', cbar_kws = {'shrink': .4, 'ticks' : [-1, -.5, 0, 0.5, 1]},vmin = -1, vmax = 1,annot = True,annot_kws = {'size': 12})\n",
    "#add the column names as labels\n",
    "ax.set_yticklabels(corr_matrix.columns, rotation = 0)\n",
    "ax.set_xticklabels(corr_matrix.columns)\n",
    "sns.set_style({'xtick.bottom': True}, {'ytick.left': True})"
   ]
  },
  {
   "cell_type": "code",
   "execution_count": 8,
   "metadata": {},
   "outputs": [],
   "source": [
    "cc=cc.drop(['Year','Month'],axis=1)"
   ]
  },
  {
   "cell_type": "code",
   "execution_count": 9,
   "metadata": {},
   "outputs": [
    {
     "data": {
      "text/plain": [
       "(216, 3)"
      ]
     },
     "execution_count": 9,
     "metadata": {},
     "output_type": "execute_result"
    }
   ],
   "source": [
    "cc.shape"
   ]
  },
  {
   "cell_type": "code",
   "execution_count": 10,
   "metadata": {},
   "outputs": [],
   "source": [
    "cc=cc.iloc[:,:].values"
   ]
  },
  {
   "cell_type": "code",
   "execution_count": 11,
   "metadata": {},
   "outputs": [
    {
     "data": {
      "text/plain": [
       "array([[0.66, 0.69, 0.69],\n",
       "       [0.71, 0.68, 0.66],\n",
       "       [0.71, 0.7 , 0.68],\n",
       "       [0.62, 0.67, 0.63],\n",
       "       [0.62, 0.57, 0.62],\n",
       "       [0.41, 0.4 , 0.34],\n",
       "       [0.35, 0.37, 0.41],\n",
       "       [0.38, 0.36, 0.33],\n",
       "       [0.46, 0.48, 0.5 ],\n",
       "       [0.53, 0.55, 0.56],\n",
       "       [0.65, 0.63, 0.66],\n",
       "       [0.65, 0.67, 0.67],\n",
       "       [0.69, 0.66, 0.66],\n",
       "       [0.66, 0.71, 0.67],\n",
       "       [0.68, 0.71, 0.66],\n",
       "       [0.63, 0.62, 0.63],\n",
       "       [0.62, 0.62, 0.67],\n",
       "       [0.34, 0.41, 0.41],\n",
       "       [0.41, 0.35, 0.33],\n",
       "       [0.33, 0.38, 0.37],\n",
       "       [0.5 , 0.46, 0.47],\n",
       "       [0.56, 0.53, 0.57],\n",
       "       [0.66, 0.65, 0.63],\n",
       "       [0.67, 0.65, 0.68],\n",
       "       [0.66, 0.69, 0.68],\n",
       "       [0.67, 0.66, 0.69],\n",
       "       [0.66, 0.68, 0.71],\n",
       "       [0.63, 0.63, 0.68],\n",
       "       [0.67, 0.62, 0.55],\n",
       "       [0.41, 0.34, 0.39],\n",
       "       [0.33, 0.41, 0.37],\n",
       "       [0.37, 0.33, 0.36],\n",
       "       [0.47, 0.5 , 0.44],\n",
       "       [0.57, 0.56, 0.58],\n",
       "       [0.63, 0.66, 0.6 ],\n",
       "       [0.68, 0.67, 0.68],\n",
       "       [0.68, 0.66, 0.66],\n",
       "       [0.69, 0.67, 0.66],\n",
       "       [0.71, 0.66, 0.7 ],\n",
       "       [0.68, 0.63, 0.62],\n",
       "       [0.55, 0.67, 0.66],\n",
       "       [0.39, 0.41, 0.39],\n",
       "       [0.37, 0.33, 0.29],\n",
       "       [0.36, 0.37, 0.32],\n",
       "       [0.44, 0.47, 0.35],\n",
       "       [0.58, 0.57, 0.54],\n",
       "       [0.6 , 0.63, 0.67],\n",
       "       [0.68, 0.68, 0.65],\n",
       "       [0.66, 0.68, 0.71],\n",
       "       [0.66, 0.69, 0.69],\n",
       "       [0.7 , 0.71, 0.64],\n",
       "       [0.62, 0.68, 0.65],\n",
       "       [0.66, 0.55, 0.61],\n",
       "       [0.39, 0.39, 0.42],\n",
       "       [0.29, 0.37, 0.31],\n",
       "       [0.32, 0.36, 0.32],\n",
       "       [0.35, 0.44, 0.43],\n",
       "       [0.54, 0.58, 0.52],\n",
       "       [0.67, 0.6 , 0.53],\n",
       "       [0.65, 0.68, 0.64],\n",
       "       [0.71, 0.66, 0.68],\n",
       "       [0.69, 0.66, 0.68],\n",
       "       [0.64, 0.7 , 0.67],\n",
       "       [0.65, 0.62, 0.63],\n",
       "       [0.61, 0.66, 0.62],\n",
       "       [0.42, 0.39, 0.38],\n",
       "       [0.31, 0.29, 0.31],\n",
       "       [0.32, 0.32, 0.3 ],\n",
       "       [0.43, 0.35, 0.33],\n",
       "       [0.52, 0.54, 0.55],\n",
       "       [0.53, 0.67, 0.66],\n",
       "       [0.64, 0.65, 0.63],\n",
       "       [0.68, 0.71, 0.69],\n",
       "       [0.68, 0.69, 0.67],\n",
       "       [0.67, 0.64, 0.65],\n",
       "       [0.63, 0.65, 0.68],\n",
       "       [0.62, 0.61, 0.67],\n",
       "       [0.38, 0.42, 0.46],\n",
       "       [0.31, 0.31, 0.44],\n",
       "       [0.3 , 0.32, 0.42],\n",
       "       [0.33, 0.43, 0.49],\n",
       "       [0.55, 0.52, 0.63],\n",
       "       [0.66, 0.53, 0.61],\n",
       "       [0.63, 0.64, 0.64],\n",
       "       [0.69, 0.68, 0.68],\n",
       "       [0.67, 0.68, 0.7 ],\n",
       "       [0.65, 0.67, 0.67],\n",
       "       [0.68, 0.63, 0.66],\n",
       "       [0.67, 0.62, 0.63],\n",
       "       [0.46, 0.38, 0.54],\n",
       "       [0.44, 0.31, 0.36],\n",
       "       [0.42, 0.3 , 0.47],\n",
       "       [0.49, 0.33, 0.49],\n",
       "       [0.63, 0.55, 0.56],\n",
       "       [0.61, 0.66, 0.56],\n",
       "       [0.64, 0.63, 0.65],\n",
       "       [0.68, 0.69, 0.63],\n",
       "       [0.7 , 0.67, 0.67],\n",
       "       [0.67, 0.65, 0.67],\n",
       "       [0.66, 0.68, 0.65],\n",
       "       [0.63, 0.67, 0.65],\n",
       "       [0.54, 0.46, 0.48],\n",
       "       [0.36, 0.44, 0.36],\n",
       "       [0.47, 0.42, 0.41],\n",
       "       [0.49, 0.49, 0.47],\n",
       "       [0.56, 0.63, 0.57],\n",
       "       [0.56, 0.61, 0.54],\n",
       "       [0.65, 0.64, 0.65],\n",
       "       [0.63, 0.68, 0.68],\n",
       "       [0.67, 0.7 , 0.69],\n",
       "       [0.67, 0.67, 0.7 ],\n",
       "       [0.65, 0.66, 0.66],\n",
       "       [0.65, 0.63, 0.64],\n",
       "       [0.48, 0.54, 0.44],\n",
       "       [0.36, 0.36, 0.38],\n",
       "       [0.41, 0.47, 0.41],\n",
       "       [0.47, 0.49, 0.47],\n",
       "       [0.57, 0.56, 0.56],\n",
       "       [0.54, 0.56, 0.63],\n",
       "       [0.65, 0.65, 0.69],\n",
       "       [0.68, 0.63, 0.69],\n",
       "       [0.69, 0.67, 0.67],\n",
       "       [0.7 , 0.67, 0.72],\n",
       "       [0.66, 0.65, 0.65],\n",
       "       [0.64, 0.65, 0.67],\n",
       "       [0.44, 0.48, 0.53],\n",
       "       [0.38, 0.36, 0.37],\n",
       "       [0.41, 0.41, 0.44],\n",
       "       [0.47, 0.47, 0.47],\n",
       "       [0.56, 0.57, 0.56],\n",
       "       [0.63, 0.54, 0.62],\n",
       "       [0.69, 0.65, 0.67],\n",
       "       [0.69, 0.68, 0.66],\n",
       "       [0.67, 0.69, 0.66],\n",
       "       [0.72, 0.7 , 0.65],\n",
       "       [0.65, 0.66, 0.66],\n",
       "       [0.67, 0.64, 0.6 ],\n",
       "       [0.53, 0.44, 0.39],\n",
       "       [0.37, 0.38, 0.26],\n",
       "       [0.44, 0.41, 0.38],\n",
       "       [0.47, 0.47, 0.46],\n",
       "       [0.56, 0.56, 0.5 ],\n",
       "       [0.62, 0.63, 0.6 ],\n",
       "       [0.67, 0.69, 0.66],\n",
       "       [0.66, 0.69, 0.62],\n",
       "       [0.66, 0.67, 0.65],\n",
       "       [0.65, 0.72, 0.63],\n",
       "       [0.66, 0.65, 0.61],\n",
       "       [0.6 , 0.67, 0.6 ],\n",
       "       [0.39, 0.53, 0.52],\n",
       "       [0.26, 0.37, 0.31],\n",
       "       [0.38, 0.44, 0.37],\n",
       "       [0.46, 0.47, 0.44],\n",
       "       [0.5 , 0.56, 0.54],\n",
       "       [0.6 , 0.62, 0.61],\n",
       "       [0.66, 0.67, 0.62],\n",
       "       [0.62, 0.66, 0.63],\n",
       "       [0.65, 0.66, 0.67],\n",
       "       [0.63, 0.65, 0.62],\n",
       "       [0.61, 0.66, 0.63],\n",
       "       [0.6 , 0.6 , 0.6 ],\n",
       "       [0.52, 0.39, 0.41],\n",
       "       [0.31, 0.26, 0.37],\n",
       "       [0.37, 0.38, 0.4 ],\n",
       "       [0.44, 0.46, 0.5 ],\n",
       "       [0.54, 0.5 , 0.55],\n",
       "       [0.61, 0.6 , 0.58],\n",
       "       [0.62, 0.66, 0.64],\n",
       "       [0.63, 0.62, 0.63],\n",
       "       [0.67, 0.65, 0.63],\n",
       "       [0.62, 0.63, 0.66],\n",
       "       [0.63, 0.61, 0.63],\n",
       "       [0.6 , 0.6 , 0.62],\n",
       "       [0.41, 0.52, 0.4 ],\n",
       "       [0.37, 0.31, 0.27],\n",
       "       [0.4 , 0.37, 0.35],\n",
       "       [0.5 , 0.44, 0.39],\n",
       "       [0.55, 0.54, 0.54],\n",
       "       [0.58, 0.61, 0.66],\n",
       "       [0.64, 0.62, 0.63],\n",
       "       [0.63, 0.63, 0.66],\n",
       "       [0.63, 0.67, 0.69],\n",
       "       [0.66, 0.62, 0.68],\n",
       "       [0.63, 0.63, 0.66],\n",
       "       [0.62, 0.6 , 0.62],\n",
       "       [0.4 , 0.41, 0.44],\n",
       "       [0.27, 0.37, 0.33],\n",
       "       [0.35, 0.4 , 0.38],\n",
       "       [0.39, 0.5 , 0.44],\n",
       "       [0.54, 0.55, 0.53],\n",
       "       [0.66, 0.58, 0.63],\n",
       "       [0.63, 0.64, 0.59],\n",
       "       [0.66, 0.63, 0.66],\n",
       "       [0.69, 0.63, 0.69],\n",
       "       [0.68, 0.66, 0.68],\n",
       "       [0.66, 0.63, 0.66],\n",
       "       [0.62, 0.62, 0.62],\n",
       "       [0.44, 0.4 , 0.44],\n",
       "       [0.33, 0.27, 0.33],\n",
       "       [0.38, 0.35, 0.38],\n",
       "       [0.44, 0.39, 0.44],\n",
       "       [0.53, 0.54, 0.53],\n",
       "       [0.63, 0.66, 0.63],\n",
       "       [0.59, 0.63, 0.59],\n",
       "       [0.66, 0.66, 0.66],\n",
       "       [0.69, 0.69, 0.69],\n",
       "       [0.68, 0.68, 0.68],\n",
       "       [0.66, 0.66, 0.66],\n",
       "       [0.62, 0.62, 0.62],\n",
       "       [0.44, 0.44, 0.44],\n",
       "       [0.33, 0.33, 0.33],\n",
       "       [0.38, 0.38, 0.38],\n",
       "       [0.44, 0.44, 0.44],\n",
       "       [0.53, 0.53, 0.53],\n",
       "       [0.63, 0.63, 0.63],\n",
       "       [0.59, 0.59, 0.59]])"
      ]
     },
     "execution_count": 11,
     "metadata": {},
     "output_type": "execute_result"
    }
   ],
   "source": [
    "cc"
   ]
  },
  {
   "cell_type": "code",
   "execution_count": 12,
   "metadata": {},
   "outputs": [],
   "source": [
    "X=cc[:,:-1]\n",
    "y=cc[:,-1]"
   ]
  },
  {
   "cell_type": "code",
   "execution_count": 13,
   "metadata": {},
   "outputs": [
    {
     "data": {
      "text/plain": [
       "array([[0.66, 0.69],\n",
       "       [0.71, 0.68],\n",
       "       [0.71, 0.7 ],\n",
       "       [0.62, 0.67],\n",
       "       [0.62, 0.57],\n",
       "       [0.41, 0.4 ],\n",
       "       [0.35, 0.37],\n",
       "       [0.38, 0.36],\n",
       "       [0.46, 0.48],\n",
       "       [0.53, 0.55],\n",
       "       [0.65, 0.63],\n",
       "       [0.65, 0.67],\n",
       "       [0.69, 0.66],\n",
       "       [0.66, 0.71],\n",
       "       [0.68, 0.71],\n",
       "       [0.63, 0.62],\n",
       "       [0.62, 0.62],\n",
       "       [0.34, 0.41],\n",
       "       [0.41, 0.35],\n",
       "       [0.33, 0.38],\n",
       "       [0.5 , 0.46],\n",
       "       [0.56, 0.53],\n",
       "       [0.66, 0.65],\n",
       "       [0.67, 0.65],\n",
       "       [0.66, 0.69],\n",
       "       [0.67, 0.66],\n",
       "       [0.66, 0.68],\n",
       "       [0.63, 0.63],\n",
       "       [0.67, 0.62],\n",
       "       [0.41, 0.34],\n",
       "       [0.33, 0.41],\n",
       "       [0.37, 0.33],\n",
       "       [0.47, 0.5 ],\n",
       "       [0.57, 0.56],\n",
       "       [0.63, 0.66],\n",
       "       [0.68, 0.67],\n",
       "       [0.68, 0.66],\n",
       "       [0.69, 0.67],\n",
       "       [0.71, 0.66],\n",
       "       [0.68, 0.63],\n",
       "       [0.55, 0.67],\n",
       "       [0.39, 0.41],\n",
       "       [0.37, 0.33],\n",
       "       [0.36, 0.37],\n",
       "       [0.44, 0.47],\n",
       "       [0.58, 0.57],\n",
       "       [0.6 , 0.63],\n",
       "       [0.68, 0.68],\n",
       "       [0.66, 0.68],\n",
       "       [0.66, 0.69],\n",
       "       [0.7 , 0.71],\n",
       "       [0.62, 0.68],\n",
       "       [0.66, 0.55],\n",
       "       [0.39, 0.39],\n",
       "       [0.29, 0.37],\n",
       "       [0.32, 0.36],\n",
       "       [0.35, 0.44],\n",
       "       [0.54, 0.58],\n",
       "       [0.67, 0.6 ],\n",
       "       [0.65, 0.68],\n",
       "       [0.71, 0.66],\n",
       "       [0.69, 0.66],\n",
       "       [0.64, 0.7 ],\n",
       "       [0.65, 0.62],\n",
       "       [0.61, 0.66],\n",
       "       [0.42, 0.39],\n",
       "       [0.31, 0.29],\n",
       "       [0.32, 0.32],\n",
       "       [0.43, 0.35],\n",
       "       [0.52, 0.54],\n",
       "       [0.53, 0.67],\n",
       "       [0.64, 0.65],\n",
       "       [0.68, 0.71],\n",
       "       [0.68, 0.69],\n",
       "       [0.67, 0.64],\n",
       "       [0.63, 0.65],\n",
       "       [0.62, 0.61],\n",
       "       [0.38, 0.42],\n",
       "       [0.31, 0.31],\n",
       "       [0.3 , 0.32],\n",
       "       [0.33, 0.43],\n",
       "       [0.55, 0.52],\n",
       "       [0.66, 0.53],\n",
       "       [0.63, 0.64],\n",
       "       [0.69, 0.68],\n",
       "       [0.67, 0.68],\n",
       "       [0.65, 0.67],\n",
       "       [0.68, 0.63],\n",
       "       [0.67, 0.62],\n",
       "       [0.46, 0.38],\n",
       "       [0.44, 0.31],\n",
       "       [0.42, 0.3 ],\n",
       "       [0.49, 0.33],\n",
       "       [0.63, 0.55],\n",
       "       [0.61, 0.66],\n",
       "       [0.64, 0.63],\n",
       "       [0.68, 0.69],\n",
       "       [0.7 , 0.67],\n",
       "       [0.67, 0.65],\n",
       "       [0.66, 0.68],\n",
       "       [0.63, 0.67],\n",
       "       [0.54, 0.46],\n",
       "       [0.36, 0.44],\n",
       "       [0.47, 0.42],\n",
       "       [0.49, 0.49],\n",
       "       [0.56, 0.63],\n",
       "       [0.56, 0.61],\n",
       "       [0.65, 0.64],\n",
       "       [0.63, 0.68],\n",
       "       [0.67, 0.7 ],\n",
       "       [0.67, 0.67],\n",
       "       [0.65, 0.66],\n",
       "       [0.65, 0.63],\n",
       "       [0.48, 0.54],\n",
       "       [0.36, 0.36],\n",
       "       [0.41, 0.47],\n",
       "       [0.47, 0.49],\n",
       "       [0.57, 0.56],\n",
       "       [0.54, 0.56],\n",
       "       [0.65, 0.65],\n",
       "       [0.68, 0.63],\n",
       "       [0.69, 0.67],\n",
       "       [0.7 , 0.67],\n",
       "       [0.66, 0.65],\n",
       "       [0.64, 0.65],\n",
       "       [0.44, 0.48],\n",
       "       [0.38, 0.36],\n",
       "       [0.41, 0.41],\n",
       "       [0.47, 0.47],\n",
       "       [0.56, 0.57],\n",
       "       [0.63, 0.54],\n",
       "       [0.69, 0.65],\n",
       "       [0.69, 0.68],\n",
       "       [0.67, 0.69],\n",
       "       [0.72, 0.7 ],\n",
       "       [0.65, 0.66],\n",
       "       [0.67, 0.64],\n",
       "       [0.53, 0.44],\n",
       "       [0.37, 0.38],\n",
       "       [0.44, 0.41],\n",
       "       [0.47, 0.47],\n",
       "       [0.56, 0.56],\n",
       "       [0.62, 0.63],\n",
       "       [0.67, 0.69],\n",
       "       [0.66, 0.69],\n",
       "       [0.66, 0.67],\n",
       "       [0.65, 0.72],\n",
       "       [0.66, 0.65],\n",
       "       [0.6 , 0.67],\n",
       "       [0.39, 0.53],\n",
       "       [0.26, 0.37],\n",
       "       [0.38, 0.44],\n",
       "       [0.46, 0.47],\n",
       "       [0.5 , 0.56],\n",
       "       [0.6 , 0.62],\n",
       "       [0.66, 0.67],\n",
       "       [0.62, 0.66],\n",
       "       [0.65, 0.66],\n",
       "       [0.63, 0.65],\n",
       "       [0.61, 0.66],\n",
       "       [0.6 , 0.6 ],\n",
       "       [0.52, 0.39],\n",
       "       [0.31, 0.26],\n",
       "       [0.37, 0.38],\n",
       "       [0.44, 0.46],\n",
       "       [0.54, 0.5 ],\n",
       "       [0.61, 0.6 ],\n",
       "       [0.62, 0.66],\n",
       "       [0.63, 0.62],\n",
       "       [0.67, 0.65],\n",
       "       [0.62, 0.63],\n",
       "       [0.63, 0.61],\n",
       "       [0.6 , 0.6 ],\n",
       "       [0.41, 0.52],\n",
       "       [0.37, 0.31],\n",
       "       [0.4 , 0.37],\n",
       "       [0.5 , 0.44],\n",
       "       [0.55, 0.54],\n",
       "       [0.58, 0.61],\n",
       "       [0.64, 0.62],\n",
       "       [0.63, 0.63],\n",
       "       [0.63, 0.67],\n",
       "       [0.66, 0.62],\n",
       "       [0.63, 0.63],\n",
       "       [0.62, 0.6 ],\n",
       "       [0.4 , 0.41],\n",
       "       [0.27, 0.37],\n",
       "       [0.35, 0.4 ],\n",
       "       [0.39, 0.5 ],\n",
       "       [0.54, 0.55],\n",
       "       [0.66, 0.58],\n",
       "       [0.63, 0.64],\n",
       "       [0.66, 0.63],\n",
       "       [0.69, 0.63],\n",
       "       [0.68, 0.66],\n",
       "       [0.66, 0.63],\n",
       "       [0.62, 0.62],\n",
       "       [0.44, 0.4 ],\n",
       "       [0.33, 0.27],\n",
       "       [0.38, 0.35],\n",
       "       [0.44, 0.39],\n",
       "       [0.53, 0.54],\n",
       "       [0.63, 0.66],\n",
       "       [0.59, 0.63],\n",
       "       [0.66, 0.66],\n",
       "       [0.69, 0.69],\n",
       "       [0.68, 0.68],\n",
       "       [0.66, 0.66],\n",
       "       [0.62, 0.62],\n",
       "       [0.44, 0.44],\n",
       "       [0.33, 0.33],\n",
       "       [0.38, 0.38],\n",
       "       [0.44, 0.44],\n",
       "       [0.53, 0.53],\n",
       "       [0.63, 0.63],\n",
       "       [0.59, 0.59]])"
      ]
     },
     "execution_count": 13,
     "metadata": {},
     "output_type": "execute_result"
    }
   ],
   "source": [
    "X"
   ]
  },
  {
   "cell_type": "code",
   "execution_count": 14,
   "metadata": {},
   "outputs": [
    {
     "data": {
      "text/plain": [
       "array([0.69, 0.66, 0.68, 0.63, 0.62, 0.34, 0.41, 0.33, 0.5 , 0.56, 0.66,\n",
       "       0.67, 0.66, 0.67, 0.66, 0.63, 0.67, 0.41, 0.33, 0.37, 0.47, 0.57,\n",
       "       0.63, 0.68, 0.68, 0.69, 0.71, 0.68, 0.55, 0.39, 0.37, 0.36, 0.44,\n",
       "       0.58, 0.6 , 0.68, 0.66, 0.66, 0.7 , 0.62, 0.66, 0.39, 0.29, 0.32,\n",
       "       0.35, 0.54, 0.67, 0.65, 0.71, 0.69, 0.64, 0.65, 0.61, 0.42, 0.31,\n",
       "       0.32, 0.43, 0.52, 0.53, 0.64, 0.68, 0.68, 0.67, 0.63, 0.62, 0.38,\n",
       "       0.31, 0.3 , 0.33, 0.55, 0.66, 0.63, 0.69, 0.67, 0.65, 0.68, 0.67,\n",
       "       0.46, 0.44, 0.42, 0.49, 0.63, 0.61, 0.64, 0.68, 0.7 , 0.67, 0.66,\n",
       "       0.63, 0.54, 0.36, 0.47, 0.49, 0.56, 0.56, 0.65, 0.63, 0.67, 0.67,\n",
       "       0.65, 0.65, 0.48, 0.36, 0.41, 0.47, 0.57, 0.54, 0.65, 0.68, 0.69,\n",
       "       0.7 , 0.66, 0.64, 0.44, 0.38, 0.41, 0.47, 0.56, 0.63, 0.69, 0.69,\n",
       "       0.67, 0.72, 0.65, 0.67, 0.53, 0.37, 0.44, 0.47, 0.56, 0.62, 0.67,\n",
       "       0.66, 0.66, 0.65, 0.66, 0.6 , 0.39, 0.26, 0.38, 0.46, 0.5 , 0.6 ,\n",
       "       0.66, 0.62, 0.65, 0.63, 0.61, 0.6 , 0.52, 0.31, 0.37, 0.44, 0.54,\n",
       "       0.61, 0.62, 0.63, 0.67, 0.62, 0.63, 0.6 , 0.41, 0.37, 0.4 , 0.5 ,\n",
       "       0.55, 0.58, 0.64, 0.63, 0.63, 0.66, 0.63, 0.62, 0.4 , 0.27, 0.35,\n",
       "       0.39, 0.54, 0.66, 0.63, 0.66, 0.69, 0.68, 0.66, 0.62, 0.44, 0.33,\n",
       "       0.38, 0.44, 0.53, 0.63, 0.59, 0.66, 0.69, 0.68, 0.66, 0.62, 0.44,\n",
       "       0.33, 0.38, 0.44, 0.53, 0.63, 0.59, 0.66, 0.69, 0.68, 0.66, 0.62,\n",
       "       0.44, 0.33, 0.38, 0.44, 0.53, 0.63, 0.59])"
      ]
     },
     "execution_count": 14,
     "metadata": {},
     "output_type": "execute_result"
    }
   ],
   "source": [
    "y"
   ]
  },
  {
   "cell_type": "code",
   "execution_count": 15,
   "metadata": {},
   "outputs": [
    {
     "data": {
      "text/plain": [
       "(216, 2)"
      ]
     },
     "execution_count": 15,
     "metadata": {},
     "output_type": "execute_result"
    }
   ],
   "source": [
    "X.shape"
   ]
  },
  {
   "cell_type": "code",
   "execution_count": 16,
   "metadata": {},
   "outputs": [
    {
     "data": {
      "text/plain": [
       "(216,)"
      ]
     },
     "execution_count": 16,
     "metadata": {},
     "output_type": "execute_result"
    }
   ],
   "source": [
    "y.shape"
   ]
  },
  {
   "cell_type": "code",
   "execution_count": 17,
   "metadata": {},
   "outputs": [],
   "source": [
    "#train test split\n",
    "from sklearn.model_selection import train_test_split\n",
    "X_train,X_test,y_train,y_test=train_test_split(X,y,test_size=0.2,random_state=101)"
   ]
  },
  {
   "cell_type": "code",
   "execution_count": 18,
   "metadata": {},
   "outputs": [],
   "source": [
    "X_train,y_train=np.array(X_train),np.array(y_train)"
   ]
  },
  {
   "cell_type": "code",
   "execution_count": 19,
   "metadata": {},
   "outputs": [],
   "source": [
    "from sklearn.linear_model import LinearRegression,Lasso,Ridge"
   ]
  },
  {
   "cell_type": "markdown",
   "metadata": {},
   "source": [
    "# Linear Regressor"
   ]
  },
  {
   "cell_type": "code",
   "execution_count": 20,
   "metadata": {},
   "outputs": [],
   "source": [
    "li=LinearRegression()"
   ]
  },
  {
   "cell_type": "code",
   "execution_count": 21,
   "metadata": {},
   "outputs": [
    {
     "data": {
      "text/plain": [
       "LinearRegression(copy_X=True, fit_intercept=True, n_jobs=None, normalize=False)"
      ]
     },
     "execution_count": 21,
     "metadata": {},
     "output_type": "execute_result"
    }
   ],
   "source": [
    "li.fit(X_train,y_train)"
   ]
  },
  {
   "cell_type": "code",
   "execution_count": 22,
   "metadata": {},
   "outputs": [
    {
     "data": {
      "text/plain": [
       "array([0.66262355, 0.30933215, 0.56551189, 0.6819374 , 0.6824798 ,\n",
       "       0.5877558 , 0.65188182, 0.34958706, 0.33190041, 0.45288318,\n",
       "       0.53361105, 0.35707438, 0.54674044, 0.67629534, 0.4560313 ,\n",
       "       0.67738014, 0.63929484, 0.63527997, 0.3645617 , 0.64168249,\n",
       "       0.64786696, 0.41045867, 0.44507151, 0.66772321, 0.40698621,\n",
       "       0.63712523, 0.70125125, 0.6438521 , 0.47241509, 0.53252625,\n",
       "       0.56551189, 0.63875243, 0.36781611, 0.67629534, 0.66208115,\n",
       "       0.42977252, 0.34101493, 0.70070885, 0.67119567, 0.66262355,\n",
       "       0.59556747, 0.65242422, 0.63929484, 0.65133942])"
      ]
     },
     "execution_count": 22,
     "metadata": {},
     "output_type": "execute_result"
    }
   ],
   "source": [
    "Lir_ypred= li.predict(X_test)\n",
    "Lir_ypred"
   ]
  },
  {
   "cell_type": "code",
   "execution_count": 23,
   "metadata": {},
   "outputs": [
    {
     "data": {
      "text/html": [
       "<div>\n",
       "<style scoped>\n",
       "    .dataframe tbody tr th:only-of-type {\n",
       "        vertical-align: middle;\n",
       "    }\n",
       "\n",
       "    .dataframe tbody tr th {\n",
       "        vertical-align: top;\n",
       "    }\n",
       "\n",
       "    .dataframe thead th {\n",
       "        text-align: right;\n",
       "    }\n",
       "</style>\n",
       "<table border=\"1\" class=\"dataframe\">\n",
       "  <thead>\n",
       "    <tr style=\"text-align: right;\">\n",
       "      <th></th>\n",
       "      <th>Actual</th>\n",
       "      <th>Predicted</th>\n",
       "    </tr>\n",
       "  </thead>\n",
       "  <tbody>\n",
       "    <tr>\n",
       "      <td>0</td>\n",
       "      <td>0.62</td>\n",
       "      <td>0.662624</td>\n",
       "    </tr>\n",
       "    <tr>\n",
       "      <td>1</td>\n",
       "      <td>0.31</td>\n",
       "      <td>0.309332</td>\n",
       "    </tr>\n",
       "    <tr>\n",
       "      <td>2</td>\n",
       "      <td>0.56</td>\n",
       "      <td>0.565512</td>\n",
       "    </tr>\n",
       "    <tr>\n",
       "      <td>3</td>\n",
       "      <td>0.63</td>\n",
       "      <td>0.681937</td>\n",
       "    </tr>\n",
       "    <tr>\n",
       "      <td>4</td>\n",
       "      <td>0.69</td>\n",
       "      <td>0.682480</td>\n",
       "    </tr>\n",
       "    <tr>\n",
       "      <td>5</td>\n",
       "      <td>0.56</td>\n",
       "      <td>0.587756</td>\n",
       "    </tr>\n",
       "    <tr>\n",
       "      <td>6</td>\n",
       "      <td>0.65</td>\n",
       "      <td>0.651882</td>\n",
       "    </tr>\n",
       "    <tr>\n",
       "      <td>7</td>\n",
       "      <td>0.32</td>\n",
       "      <td>0.349587</td>\n",
       "    </tr>\n",
       "    <tr>\n",
       "      <td>8</td>\n",
       "      <td>0.33</td>\n",
       "      <td>0.331900</td>\n",
       "    </tr>\n",
       "    <tr>\n",
       "      <td>9</td>\n",
       "      <td>0.44</td>\n",
       "      <td>0.452883</td>\n",
       "    </tr>\n",
       "    <tr>\n",
       "      <td>10</td>\n",
       "      <td>0.54</td>\n",
       "      <td>0.533611</td>\n",
       "    </tr>\n",
       "    <tr>\n",
       "      <td>11</td>\n",
       "      <td>0.36</td>\n",
       "      <td>0.357074</td>\n",
       "    </tr>\n",
       "    <tr>\n",
       "      <td>12</td>\n",
       "      <td>0.53</td>\n",
       "      <td>0.546740</td>\n",
       "    </tr>\n",
       "    <tr>\n",
       "      <td>13</td>\n",
       "      <td>0.67</td>\n",
       "      <td>0.676295</td>\n",
       "    </tr>\n",
       "    <tr>\n",
       "      <td>14</td>\n",
       "      <td>0.41</td>\n",
       "      <td>0.456031</td>\n",
       "    </tr>\n",
       "    <tr>\n",
       "      <td>15</td>\n",
       "      <td>0.66</td>\n",
       "      <td>0.677380</td>\n",
       "    </tr>\n",
       "    <tr>\n",
       "      <td>16</td>\n",
       "      <td>0.63</td>\n",
       "      <td>0.639295</td>\n",
       "    </tr>\n",
       "    <tr>\n",
       "      <td>17</td>\n",
       "      <td>0.60</td>\n",
       "      <td>0.635280</td>\n",
       "    </tr>\n",
       "    <tr>\n",
       "      <td>18</td>\n",
       "      <td>0.47</td>\n",
       "      <td>0.364562</td>\n",
       "    </tr>\n",
       "    <tr>\n",
       "      <td>19</td>\n",
       "      <td>0.63</td>\n",
       "      <td>0.641682</td>\n",
       "    </tr>\n",
       "    <tr>\n",
       "      <td>20</td>\n",
       "      <td>0.69</td>\n",
       "      <td>0.647867</td>\n",
       "    </tr>\n",
       "    <tr>\n",
       "      <td>21</td>\n",
       "      <td>0.38</td>\n",
       "      <td>0.410459</td>\n",
       "    </tr>\n",
       "    <tr>\n",
       "      <td>22</td>\n",
       "      <td>0.44</td>\n",
       "      <td>0.445072</td>\n",
       "    </tr>\n",
       "    <tr>\n",
       "      <td>23</td>\n",
       "      <td>0.71</td>\n",
       "      <td>0.667723</td>\n",
       "    </tr>\n",
       "    <tr>\n",
       "      <td>24</td>\n",
       "      <td>0.39</td>\n",
       "      <td>0.406986</td>\n",
       "    </tr>\n",
       "    <tr>\n",
       "      <td>25</td>\n",
       "      <td>0.68</td>\n",
       "      <td>0.637125</td>\n",
       "    </tr>\n",
       "    <tr>\n",
       "      <td>26</td>\n",
       "      <td>0.64</td>\n",
       "      <td>0.701251</td>\n",
       "    </tr>\n",
       "    <tr>\n",
       "      <td>27</td>\n",
       "      <td>0.60</td>\n",
       "      <td>0.643852</td>\n",
       "    </tr>\n",
       "    <tr>\n",
       "      <td>28</td>\n",
       "      <td>0.39</td>\n",
       "      <td>0.472415</td>\n",
       "    </tr>\n",
       "    <tr>\n",
       "      <td>29</td>\n",
       "      <td>0.55</td>\n",
       "      <td>0.532526</td>\n",
       "    </tr>\n",
       "    <tr>\n",
       "      <td>30</td>\n",
       "      <td>0.58</td>\n",
       "      <td>0.565512</td>\n",
       "    </tr>\n",
       "    <tr>\n",
       "      <td>31</td>\n",
       "      <td>0.62</td>\n",
       "      <td>0.638752</td>\n",
       "    </tr>\n",
       "    <tr>\n",
       "      <td>32</td>\n",
       "      <td>0.38</td>\n",
       "      <td>0.367816</td>\n",
       "    </tr>\n",
       "    <tr>\n",
       "      <td>33</td>\n",
       "      <td>0.66</td>\n",
       "      <td>0.676295</td>\n",
       "    </tr>\n",
       "    <tr>\n",
       "      <td>34</td>\n",
       "      <td>0.69</td>\n",
       "      <td>0.662081</td>\n",
       "    </tr>\n",
       "    <tr>\n",
       "      <td>35</td>\n",
       "      <td>0.38</td>\n",
       "      <td>0.429773</td>\n",
       "    </tr>\n",
       "    <tr>\n",
       "      <td>36</td>\n",
       "      <td>0.31</td>\n",
       "      <td>0.341015</td>\n",
       "    </tr>\n",
       "    <tr>\n",
       "      <td>37</td>\n",
       "      <td>0.68</td>\n",
       "      <td>0.700709</td>\n",
       "    </tr>\n",
       "    <tr>\n",
       "      <td>38</td>\n",
       "      <td>0.66</td>\n",
       "      <td>0.671196</td>\n",
       "    </tr>\n",
       "    <tr>\n",
       "      <td>39</td>\n",
       "      <td>0.65</td>\n",
       "      <td>0.662624</td>\n",
       "    </tr>\n",
       "    <tr>\n",
       "      <td>40</td>\n",
       "      <td>0.66</td>\n",
       "      <td>0.595567</td>\n",
       "    </tr>\n",
       "    <tr>\n",
       "      <td>41</td>\n",
       "      <td>0.63</td>\n",
       "      <td>0.652424</td>\n",
       "    </tr>\n",
       "    <tr>\n",
       "      <td>42</td>\n",
       "      <td>0.64</td>\n",
       "      <td>0.639295</td>\n",
       "    </tr>\n",
       "    <tr>\n",
       "      <td>43</td>\n",
       "      <td>0.62</td>\n",
       "      <td>0.651339</td>\n",
       "    </tr>\n",
       "  </tbody>\n",
       "</table>\n",
       "</div>"
      ],
      "text/plain": [
       "    Actual  Predicted\n",
       "0     0.62   0.662624\n",
       "1     0.31   0.309332\n",
       "2     0.56   0.565512\n",
       "3     0.63   0.681937\n",
       "4     0.69   0.682480\n",
       "5     0.56   0.587756\n",
       "6     0.65   0.651882\n",
       "7     0.32   0.349587\n",
       "8     0.33   0.331900\n",
       "9     0.44   0.452883\n",
       "10    0.54   0.533611\n",
       "11    0.36   0.357074\n",
       "12    0.53   0.546740\n",
       "13    0.67   0.676295\n",
       "14    0.41   0.456031\n",
       "15    0.66   0.677380\n",
       "16    0.63   0.639295\n",
       "17    0.60   0.635280\n",
       "18    0.47   0.364562\n",
       "19    0.63   0.641682\n",
       "20    0.69   0.647867\n",
       "21    0.38   0.410459\n",
       "22    0.44   0.445072\n",
       "23    0.71   0.667723\n",
       "24    0.39   0.406986\n",
       "25    0.68   0.637125\n",
       "26    0.64   0.701251\n",
       "27    0.60   0.643852\n",
       "28    0.39   0.472415\n",
       "29    0.55   0.532526\n",
       "30    0.58   0.565512\n",
       "31    0.62   0.638752\n",
       "32    0.38   0.367816\n",
       "33    0.66   0.676295\n",
       "34    0.69   0.662081\n",
       "35    0.38   0.429773\n",
       "36    0.31   0.341015\n",
       "37    0.68   0.700709\n",
       "38    0.66   0.671196\n",
       "39    0.65   0.662624\n",
       "40    0.66   0.595567\n",
       "41    0.63   0.652424\n",
       "42    0.64   0.639295\n",
       "43    0.62   0.651339"
      ]
     },
     "execution_count": 23,
     "metadata": {},
     "output_type": "execute_result"
    }
   ],
   "source": [
    "Linear=pd.DataFrame({'Actual':y_test,'Predicted':Lir_ypred})\n",
    "Linear"
   ]
  },
  {
   "cell_type": "code",
   "execution_count": 24,
   "metadata": {},
   "outputs": [],
   "source": [
    "from sklearn.metrics import mean_squared_error,r2_score"
   ]
  },
  {
   "cell_type": "code",
   "execution_count": 25,
   "metadata": {},
   "outputs": [
    {
     "name": "stdout",
     "output_type": "stream",
     "text": [
      "Mean squared Error: 0.0011989870150464455\n",
      "Root Mean Squared Error: 0.03462639188605197\n",
      "R2_Score: 0.9251445081158765\n"
     ]
    }
   ],
   "source": [
    "#print('Mean Absolute Error:',mean_absolute_error(y_test,Lir_ypred))\n",
    "print('Mean squared Error:',mean_squared_error(y_test,Lir_ypred))\n",
    "print('Root Mean Squared Error:',np.sqrt(mean_squared_error(y_test,Lir_ypred)))\n",
    "print('R2_Score:',r2_score(y_test,Lir_ypred))"
   ]
  },
  {
   "cell_type": "code",
   "execution_count": 26,
   "metadata": {},
   "outputs": [
    {
     "data": {
      "text/plain": [
       "0.9251445081158765"
      ]
     },
     "execution_count": 26,
     "metadata": {},
     "output_type": "execute_result"
    }
   ],
   "source": [
    "linear_r2_score=r2_score(y_test,Lir_ypred)\n",
    "linear_r2_score"
   ]
  },
  {
   "cell_type": "markdown",
   "metadata": {},
   "source": [
    "# Lasso Regressor"
   ]
  },
  {
   "cell_type": "code",
   "execution_count": 27,
   "metadata": {},
   "outputs": [
    {
     "data": {
      "text/plain": [
       "Lasso(alpha=0.0001, copy_X=True, fit_intercept=True, max_iter=1000,\n",
       "      normalize=False, positive=False, precompute=False, random_state=None,\n",
       "      selection='cyclic', tol=0.0001, warm_start=False)"
      ]
     },
     "execution_count": 27,
     "metadata": {},
     "output_type": "execute_result"
    }
   ],
   "source": [
    "#Lasso Regressor\n",
    "lass=Lasso(alpha=0.0001)\n",
    "lass.fit(X_train,y_train)"
   ]
  },
  {
   "cell_type": "code",
   "execution_count": 28,
   "metadata": {},
   "outputs": [],
   "source": [
    "Lass_ypred= lass.predict(X_test)"
   ]
  },
  {
   "cell_type": "code",
   "execution_count": 29,
   "metadata": {},
   "outputs": [
    {
     "name": "stdout",
     "output_type": "stream",
     "text": [
      "Mean squared Error: 0.0011963452029689786\n",
      "Root Mean Squared Error: 0.03458822347228863\n",
      "R2_Score: 0.925309442464658\n"
     ]
    }
   ],
   "source": [
    "print('Mean squared Error:',mean_squared_error(y_test,Lass_ypred))\n",
    "print('Root Mean Squared Error:',np.sqrt(mean_squared_error(y_test,Lass_ypred)))\n",
    "print('R2_Score:',r2_score(y_test,Lass_ypred))"
   ]
  },
  {
   "cell_type": "code",
   "execution_count": 30,
   "metadata": {},
   "outputs": [
    {
     "data": {
      "text/plain": [
       "0.925309442464658"
      ]
     },
     "execution_count": 30,
     "metadata": {},
     "output_type": "execute_result"
    }
   ],
   "source": [
    "lasso_r2_score=r2_score(y_test,Lass_ypred)\n",
    "lasso_r2_score"
   ]
  },
  {
   "cell_type": "markdown",
   "metadata": {},
   "source": [
    "# Ridge Regressor"
   ]
  },
  {
   "cell_type": "code",
   "execution_count": 31,
   "metadata": {},
   "outputs": [
    {
     "data": {
      "text/plain": [
       "Ridge(alpha=0.0001, copy_X=True, fit_intercept=True, max_iter=None,\n",
       "      normalize=False, random_state=None, solver='auto', tol=0.001)"
      ]
     },
     "execution_count": 31,
     "metadata": {},
     "output_type": "execute_result"
    }
   ],
   "source": [
    "#RIdge\n",
    "rid=Ridge(alpha=0.0001)\n",
    "rid.fit(X_train,y_train)"
   ]
  },
  {
   "cell_type": "code",
   "execution_count": 32,
   "metadata": {},
   "outputs": [],
   "source": [
    "rid_ypred= rid.predict(X_test)"
   ]
  },
  {
   "cell_type": "code",
   "execution_count": 33,
   "metadata": {},
   "outputs": [
    {
     "name": "stdout",
     "output_type": "stream",
     "text": [
      "Mean squared Error: 0.0011989748016236932\n",
      "Root Mean Squared Error: 0.034626215525576765\n",
      "R2_Score: 0.9251452706276937\n"
     ]
    }
   ],
   "source": [
    "print('Mean squared Error:',mean_squared_error(y_test,rid_ypred))\n",
    "print('Root Mean Squared Error:',np.sqrt(mean_squared_error(y_test,rid_ypred)))\n",
    "print('R2_Score:',r2_score(y_test,rid_ypred))"
   ]
  },
  {
   "cell_type": "code",
   "execution_count": 34,
   "metadata": {},
   "outputs": [
    {
     "data": {
      "text/plain": [
       "0.9251452706276937"
      ]
     },
     "execution_count": 34,
     "metadata": {},
     "output_type": "execute_result"
    }
   ],
   "source": [
    "ridge_r2_score=r2_score(y_test,rid_ypred)\n",
    "ridge_r2_score"
   ]
  },
  {
   "cell_type": "markdown",
   "metadata": {},
   "source": [
    "# Decision Tree Regressor"
   ]
  },
  {
   "cell_type": "code",
   "execution_count": 35,
   "metadata": {},
   "outputs": [],
   "source": [
    "#Decision Tree Regressor\n",
    "from sklearn.tree import DecisionTreeRegressor\n",
    "dt=DecisionTreeRegressor()"
   ]
  },
  {
   "cell_type": "code",
   "execution_count": 36,
   "metadata": {},
   "outputs": [
    {
     "data": {
      "text/plain": [
       "DecisionTreeRegressor(criterion='mse', max_depth=None, max_features=None,\n",
       "                      max_leaf_nodes=None, min_impurity_decrease=0.0,\n",
       "                      min_impurity_split=None, min_samples_leaf=1,\n",
       "                      min_samples_split=2, min_weight_fraction_leaf=0.0,\n",
       "                      presort=False, random_state=None, splitter='best')"
      ]
     },
     "execution_count": 36,
     "metadata": {},
     "output_type": "execute_result"
    }
   ],
   "source": [
    "dt.fit(X_train,y_train)"
   ]
  },
  {
   "cell_type": "code",
   "execution_count": 37,
   "metadata": {},
   "outputs": [],
   "source": [
    "dt_ypred= dt.predict(X_test)"
   ]
  },
  {
   "cell_type": "code",
   "execution_count": 38,
   "metadata": {},
   "outputs": [
    {
     "name": "stdout",
     "output_type": "stream",
     "text": [
      "Mean squared Error: 0.00408465909090909\n",
      "Root Mean Squared Error: 0.06391133773368454\n",
      "R2_Score: 0.7449854238687375\n"
     ]
    }
   ],
   "source": [
    "print('Mean squared Error:',mean_squared_error(y_test,dt_ypred))\n",
    "print('Root Mean Squared Error:',np.sqrt(mean_squared_error(y_test,dt_ypred)))\n",
    "print('R2_Score:',r2_score(y_test,dt_ypred))"
   ]
  },
  {
   "cell_type": "code",
   "execution_count": 39,
   "metadata": {},
   "outputs": [
    {
     "data": {
      "text/plain": [
       "0.7449854238687375"
      ]
     },
     "execution_count": 39,
     "metadata": {},
     "output_type": "execute_result"
    }
   ],
   "source": [
    "decisiontree_r2_score=r2_score(y_test,dt_ypred)\n",
    "decisiontree_r2_score"
   ]
  },
  {
   "cell_type": "markdown",
   "metadata": {},
   "source": [
    "# KNN Regressor"
   ]
  },
  {
   "cell_type": "code",
   "execution_count": 40,
   "metadata": {},
   "outputs": [
    {
     "data": {
      "text/plain": [
       "KNeighborsRegressor(algorithm='auto', leaf_size=30, metric='minkowski',\n",
       "                    metric_params=None, n_jobs=None, n_neighbors=15, p=2,\n",
       "                    weights='uniform')"
      ]
     },
     "execution_count": 40,
     "metadata": {},
     "output_type": "execute_result"
    }
   ],
   "source": [
    "from sklearn.neighbors import KNeighborsRegressor\n",
    "\n",
    "kn=KNeighborsRegressor(n_neighbors=15)\n",
    "kn.fit(X_train,y_train)"
   ]
  },
  {
   "cell_type": "code",
   "execution_count": 41,
   "metadata": {},
   "outputs": [],
   "source": [
    "kn1_pred=kn.predict(X_test)"
   ]
  },
  {
   "cell_type": "code",
   "execution_count": 42,
   "metadata": {},
   "outputs": [
    {
     "name": "stdout",
     "output_type": "stream",
     "text": [
      "Mean squared Error: 0.0011796666666666657\n",
      "Root Mean Squared Error: 0.03434627587769401\n",
      "R2_Score: 0.9263507214969988\n"
     ]
    }
   ],
   "source": [
    "print('Mean squared Error:',mean_squared_error(y_test,kn1_pred))\n",
    "print('Root Mean Squared Error:',np.sqrt(mean_squared_error(y_test,kn1_pred)))\n",
    "print('R2_Score:',r2_score(y_test,kn1_pred))"
   ]
  },
  {
   "cell_type": "code",
   "execution_count": 43,
   "metadata": {},
   "outputs": [
    {
     "data": {
      "text/plain": [
       "0.9263507214969988"
      ]
     },
     "execution_count": 43,
     "metadata": {},
     "output_type": "execute_result"
    }
   ],
   "source": [
    "kneighbour_r2_score=r2_score(y_test,kn1_pred)\n",
    "kneighbour_r2_score"
   ]
  },
  {
   "cell_type": "markdown",
   "metadata": {},
   "source": [
    "# SVR rbf"
   ]
  },
  {
   "cell_type": "code",
   "execution_count": 44,
   "metadata": {},
   "outputs": [
    {
     "name": "stderr",
     "output_type": "stream",
     "text": [
      "C:\\ProgramData\\Anaconda3\\lib\\site-packages\\sklearn\\svm\\base.py:193: FutureWarning: The default value of gamma will change from 'auto' to 'scale' in version 0.22 to account better for unscaled features. Set gamma explicitly to 'auto' or 'scale' to avoid this warning.\n",
      "  \"avoid this warning.\", FutureWarning)\n"
     ]
    }
   ],
   "source": [
    "from sklearn.svm import SVR\n",
    "svr=SVR(kernel='rbf')\n",
    "svr.fit(X_train,y_train)\n",
    "svr_pred=svr.predict(X_test)"
   ]
  },
  {
   "cell_type": "code",
   "execution_count": 45,
   "metadata": {},
   "outputs": [
    {
     "name": "stdout",
     "output_type": "stream",
     "text": [
      "Mean squared Error: 0.0025061201327524108\n",
      "Root Mean Squared Error: 0.050061163917276344\n",
      "R2_Score: 0.8435372085738395\n"
     ]
    }
   ],
   "source": [
    "print('Mean squared Error:',mean_squared_error(y_test,svr_pred))\n",
    "print('Root Mean Squared Error:',np.sqrt(mean_squared_error(y_test,svr_pred)))\n",
    "print('R2_Score:',r2_score(y_test,svr_pred))"
   ]
  },
  {
   "cell_type": "code",
   "execution_count": 46,
   "metadata": {},
   "outputs": [
    {
     "data": {
      "text/plain": [
       "0.8435372085738395"
      ]
     },
     "execution_count": 46,
     "metadata": {},
     "output_type": "execute_result"
    }
   ],
   "source": [
    "svr_r2_score=r2_score(y_test,svr_pred)\n",
    "svr_r2_score"
   ]
  },
  {
   "cell_type": "markdown",
   "metadata": {},
   "source": [
    "# Random Forest Regressor"
   ]
  },
  {
   "cell_type": "code",
   "execution_count": 47,
   "metadata": {},
   "outputs": [],
   "source": [
    "from sklearn.ensemble import RandomForestRegressor"
   ]
  },
  {
   "cell_type": "code",
   "execution_count": 48,
   "metadata": {},
   "outputs": [],
   "source": [
    "rf = RandomForestRegressor(n_estimators = 1000, random_state = 42)\n",
    "rf.fit(X_train, y_train);"
   ]
  },
  {
   "cell_type": "code",
   "execution_count": 49,
   "metadata": {},
   "outputs": [],
   "source": [
    "rf_pred=rf.predict(X_test)"
   ]
  },
  {
   "cell_type": "code",
   "execution_count": 50,
   "metadata": {},
   "outputs": [
    {
     "name": "stdout",
     "output_type": "stream",
     "text": [
      "Mean squared Error: 0.0021506245247696334\n",
      "Root Mean Squared Error: 0.04637482641228572\n",
      "R2_Score: 0.8657316095675529\n"
     ]
    }
   ],
   "source": [
    "print('Mean squared Error:',mean_squared_error(y_test,rf_pred))\n",
    "print('Root Mean Squared Error:',np.sqrt(mean_squared_error(y_test,rf_pred)))\n",
    "print('R2_Score:',r2_score(y_test,rf_pred))"
   ]
  },
  {
   "cell_type": "code",
   "execution_count": 51,
   "metadata": {},
   "outputs": [
    {
     "data": {
      "text/plain": [
       "0.8657316095675529"
      ]
     },
     "execution_count": 51,
     "metadata": {},
     "output_type": "execute_result"
    }
   ],
   "source": [
    "randomforest_r2_score=r2_score(y_test,rf_pred)\n",
    "randomforest_r2_score"
   ]
  },
  {
   "cell_type": "markdown",
   "metadata": {},
   "source": [
    "# Bayes Regressor"
   ]
  },
  {
   "cell_type": "code",
   "execution_count": 52,
   "metadata": {},
   "outputs": [],
   "source": [
    "from sklearn.linear_model import BayesianRidge\n",
    "br=BayesianRidge()\n",
    "br.fit(X_train,y_train)\n",
    "y_pred=br.predict(X_test)"
   ]
  },
  {
   "cell_type": "code",
   "execution_count": 53,
   "metadata": {},
   "outputs": [
    {
     "name": "stdout",
     "output_type": "stream",
     "text": [
      "Mean squared Error: 0.0011981683571958726\n",
      "Root Mean Squared Error: 0.03461456856868034\n",
      "R2_Score: 0.9251956187912386\n"
     ]
    }
   ],
   "source": [
    "print('Mean squared Error:',mean_squared_error(y_test,y_pred))\n",
    "print('Root Mean Squared Error:',np.sqrt(mean_squared_error(y_test,y_pred)))\n",
    "print('R2_Score:',r2_score(y_test,y_pred))"
   ]
  },
  {
   "cell_type": "code",
   "execution_count": 54,
   "metadata": {},
   "outputs": [
    {
     "data": {
      "text/plain": [
       "0.9251956187912386"
      ]
     },
     "execution_count": 54,
     "metadata": {},
     "output_type": "execute_result"
    }
   ],
   "source": [
    "bayes_r2_score=r2_score(y_test,y_pred)\n",
    "bayes_r2_score"
   ]
  },
  {
   "cell_type": "code",
   "execution_count": 55,
   "metadata": {},
   "outputs": [],
   "source": [
    "Regressors=['Linear','Lasso','Ridge','DecisionTree','KNeighbour','SVR','RandomForest','Bayesian']\n",
    "R2_Score=[linear_r2_score,lasso_r2_score,ridge_r2_score,decisiontree_r2_score,kneighbour_r2_score,svr_r2_score,randomforest_r2_score,bayes_r2_score]"
   ]
  },
  {
   "cell_type": "code",
   "execution_count": 56,
   "metadata": {},
   "outputs": [
    {
     "name": "stderr",
     "output_type": "stream",
     "text": [
      "No handles with labels found to put in legend.\n"
     ]
    },
    {
     "data": {
      "image/png": "[encoded data removed]",
      "text/plain": [
       "<Figure size 1080x288 with 1 Axes>"
      ]
     },
     "metadata": {
      "needs_background": "light"
     },
     "output_type": "display_data"
    }
   ],
   "source": [
    "plt.figure(figsize=(15,4))\n",
    "plt.plot(Regressors,R2_Score, color = 'Red')\n",
    "\n",
    "plt.title('Comparision between different Regressors',fontsize=15)\n",
    "plt.xlabel('Regressors',fontsize=15)\n",
    "plt.ylabel('Accuracy Values',fontsize=15)\n",
    "plt.legend()\n",
    "plt.show()\n"
   ]
  },
  {
   "cell_type": "markdown",
   "metadata": {},
   "source": [
    "# KNeighbour Regressor with is best for cloudcover prediction with accuracy of 92.6% followed by Lasso Regressor with 92.53% "
   ]
  },
  {
   "cell_type": "code",
   "execution_count": 57,
   "metadata": {},
   "outputs": [],
   "source": [
    "cc2020=pd.read_csv(\"C:/Users/Abhishek Wagh/Desktop/MTech_Project/Sugarcane/Phase1/csv/cloudcover/cloudcover2020pred.csv\")"
   ]
  },
  {
   "cell_type": "code",
   "execution_count": 58,
   "metadata": {},
   "outputs": [],
   "source": [
    "cc2020.drop(['Year','Month'],axis=1,inplace=True)"
   ]
  },
  {
   "cell_type": "code",
   "execution_count": 59,
   "metadata": {},
   "outputs": [],
   "source": [
    "cc2020=cc2020.iloc[:,:].values"
   ]
  },
  {
   "cell_type": "code",
   "execution_count": 60,
   "metadata": {},
   "outputs": [
    {
     "data": {
      "text/plain": [
       "array([[0.66, 0.66],\n",
       "       [0.69, 0.69],\n",
       "       [0.68, 0.68],\n",
       "       [0.66, 0.66],\n",
       "       [0.62, 0.62],\n",
       "       [0.44, 0.44],\n",
       "       [0.33, 0.33],\n",
       "       [0.38, 0.38],\n",
       "       [0.44, 0.44],\n",
       "       [0.53, 0.53],\n",
       "       [0.63, 0.63],\n",
       "       [0.59, 0.59]])"
      ]
     },
     "execution_count": 60,
     "metadata": {},
     "output_type": "execute_result"
    }
   ],
   "source": [
    "cc2020"
   ]
  },
  {
   "cell_type": "code",
   "execution_count": 61,
   "metadata": {},
   "outputs": [],
   "source": [
    "cc2020_pred=[]"
   ]
  },
  {
   "cell_type": "code",
   "execution_count": 62,
   "metadata": {},
   "outputs": [],
   "source": [
    "cc2020_pred=kn.predict(cc2020)"
   ]
  },
  {
   "cell_type": "code",
   "execution_count": 63,
   "metadata": {},
   "outputs": [
    {
     "data": {
      "text/plain": [
       "array([0.66      , 0.678     , 0.676     , 0.66      , 0.63933333,\n",
       "       0.44066667, 0.348     , 0.37866667, 0.44066667, 0.534     ,\n",
       "       0.638     , 0.59866667])"
      ]
     },
     "execution_count": 63,
     "metadata": {},
     "output_type": "execute_result"
    }
   ],
   "source": [
    "cc2020_pred"
   ]
  },
  {
   "cell_type": "code",
   "execution_count": 64,
   "metadata": {},
   "outputs": [
    {
     "data": {
      "text/html": [
       "<div>\n",
       "<style scoped>\n",
       "    .dataframe tbody tr th:only-of-type {\n",
       "        vertical-align: middle;\n",
       "    }\n",
       "\n",
       "    .dataframe tbody tr th {\n",
       "        vertical-align: top;\n",
       "    }\n",
       "\n",
       "    .dataframe thead th {\n",
       "        text-align: right;\n",
       "    }\n",
       "</style>\n",
       "<table border=\"1\" class=\"dataframe\">\n",
       "  <thead>\n",
       "    <tr style=\"text-align: right;\">\n",
       "      <th></th>\n",
       "      <th>0</th>\n",
       "    </tr>\n",
       "  </thead>\n",
       "  <tbody>\n",
       "    <tr>\n",
       "      <td>0</td>\n",
       "      <td>0.660000</td>\n",
       "    </tr>\n",
       "    <tr>\n",
       "      <td>1</td>\n",
       "      <td>0.678000</td>\n",
       "    </tr>\n",
       "    <tr>\n",
       "      <td>2</td>\n",
       "      <td>0.676000</td>\n",
       "    </tr>\n",
       "    <tr>\n",
       "      <td>3</td>\n",
       "      <td>0.660000</td>\n",
       "    </tr>\n",
       "    <tr>\n",
       "      <td>4</td>\n",
       "      <td>0.639333</td>\n",
       "    </tr>\n",
       "    <tr>\n",
       "      <td>5</td>\n",
       "      <td>0.440667</td>\n",
       "    </tr>\n",
       "    <tr>\n",
       "      <td>6</td>\n",
       "      <td>0.348000</td>\n",
       "    </tr>\n",
       "    <tr>\n",
       "      <td>7</td>\n",
       "      <td>0.378667</td>\n",
       "    </tr>\n",
       "    <tr>\n",
       "      <td>8</td>\n",
       "      <td>0.440667</td>\n",
       "    </tr>\n",
       "    <tr>\n",
       "      <td>9</td>\n",
       "      <td>0.534000</td>\n",
       "    </tr>\n",
       "    <tr>\n",
       "      <td>10</td>\n",
       "      <td>0.638000</td>\n",
       "    </tr>\n",
       "    <tr>\n",
       "      <td>11</td>\n",
       "      <td>0.598667</td>\n",
       "    </tr>\n",
       "  </tbody>\n",
       "</table>\n",
       "</div>"
      ],
      "text/plain": [
       "           0\n",
       "0   0.660000\n",
       "1   0.678000\n",
       "2   0.676000\n",
       "3   0.660000\n",
       "4   0.639333\n",
       "5   0.440667\n",
       "6   0.348000\n",
       "7   0.378667\n",
       "8   0.440667\n",
       "9   0.534000\n",
       "10  0.638000\n",
       "11  0.598667"
      ]
     },
     "execution_count": 64,
     "metadata": {},
     "output_type": "execute_result"
    }
   ],
   "source": [
    "cloud_data=pd.DataFrame(data=cc2020_pred)\n",
    "cloud_data"
   ]
  },
  {
   "cell_type": "code",
   "execution_count": 65,
   "metadata": {},
   "outputs": [],
   "source": [
    "cloud_data.to_csv(r\"C:\\Users\\Abhishek Wagh\\Desktop\\MTech_Project\\Sugarcane\\Phase1\\csv\\cloudcover\\2020cloudcover.csv\")"
   ]
  },
  {
   "cell_type": "code",
   "execution_count": null,
   "metadata": {},
   "outputs": [],
   "source": []
  }
 ],
 "metadata": {
  "kernelspec": {
   "display_name": "Python 3",
   "language": "python",
   "name": "python3"
  },
  "language_info": {
   "codemirror_mode": {
    "name": "ipython",
    "version": 3
   },
   "file_extension": ".py",
   "mimetype": "text/x-python",
   "name": "python",
   "nbconvert_exporter": "python",
   "pygments_lexer": "ipython3",
   "version": "3.7.4"
  }
 },
 "nbformat": 4,
 "nbformat_minor": 2
}
