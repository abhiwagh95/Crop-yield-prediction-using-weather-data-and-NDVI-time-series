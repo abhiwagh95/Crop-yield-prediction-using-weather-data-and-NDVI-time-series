{
 "cells": [
  {
   "cell_type": "code",
   "execution_count": 1,
   "metadata": {},
   "outputs": [],
   "source": [
    "import pandas as pd\n",
    "import numpy as np\n",
    "import matplotlib.pyplot as plt\n",
    "import seaborn as sns\n",
    "%matplotlib inline"
   ]
  },
  {
   "cell_type": "code",
   "execution_count": 2,
   "metadata": {},
   "outputs": [],
   "source": [
    "mintemp=pd.read_csv(\"C:/Users/Abhishek Wagh/Desktop/MTech_Project/Sugarcane/Phase1/csv/MinTemperature/MinTemperature.csv\")"
   ]
  },
  {
   "cell_type": "code",
   "execution_count": 3,
   "metadata": {},
   "outputs": [
    {
     "data": {
      "text/html": [
       "<div>\n",
       "<style scoped>\n",
       "    .dataframe tbody tr th:only-of-type {\n",
       "        vertical-align: middle;\n",
       "    }\n",
       "\n",
       "    .dataframe tbody tr th {\n",
       "        vertical-align: top;\n",
       "    }\n",
       "\n",
       "    .dataframe thead th {\n",
       "        text-align: right;\n",
       "    }\n",
       "</style>\n",
       "<table border=\"1\" class=\"dataframe\">\n",
       "  <thead>\n",
       "    <tr style=\"text-align: right;\">\n",
       "      <th></th>\n",
       "      <th>Year</th>\n",
       "      <th>Month</th>\n",
       "      <th>MinPast</th>\n",
       "      <th>Minpasttopast</th>\n",
       "      <th>MinTemperature</th>\n",
       "    </tr>\n",
       "  </thead>\n",
       "  <tbody>\n",
       "    <tr>\n",
       "      <td>0</td>\n",
       "      <td>2002</td>\n",
       "      <td>1</td>\n",
       "      <td>14.99</td>\n",
       "      <td>13.90</td>\n",
       "      <td>13.02</td>\n",
       "    </tr>\n",
       "    <tr>\n",
       "      <td>1</td>\n",
       "      <td>2002</td>\n",
       "      <td>2</td>\n",
       "      <td>15.43</td>\n",
       "      <td>15.33</td>\n",
       "      <td>17.66</td>\n",
       "    </tr>\n",
       "    <tr>\n",
       "      <td>2</td>\n",
       "      <td>2002</td>\n",
       "      <td>3</td>\n",
       "      <td>18.46</td>\n",
       "      <td>17.39</td>\n",
       "      <td>19.72</td>\n",
       "    </tr>\n",
       "    <tr>\n",
       "      <td>3</td>\n",
       "      <td>2002</td>\n",
       "      <td>4</td>\n",
       "      <td>23.48</td>\n",
       "      <td>22.88</td>\n",
       "      <td>23.49</td>\n",
       "    </tr>\n",
       "    <tr>\n",
       "      <td>4</td>\n",
       "      <td>2002</td>\n",
       "      <td>5</td>\n",
       "      <td>23.05</td>\n",
       "      <td>23.24</td>\n",
       "      <td>24.26</td>\n",
       "    </tr>\n",
       "    <tr>\n",
       "      <td>...</td>\n",
       "      <td>...</td>\n",
       "      <td>...</td>\n",
       "      <td>...</td>\n",
       "      <td>...</td>\n",
       "      <td>...</td>\n",
       "    </tr>\n",
       "    <tr>\n",
       "      <td>223</td>\n",
       "      <td>2020</td>\n",
       "      <td>8</td>\n",
       "      <td>21.36</td>\n",
       "      <td>21.30</td>\n",
       "      <td>NaN</td>\n",
       "    </tr>\n",
       "    <tr>\n",
       "      <td>224</td>\n",
       "      <td>2020</td>\n",
       "      <td>9</td>\n",
       "      <td>21.60</td>\n",
       "      <td>20.41</td>\n",
       "      <td>NaN</td>\n",
       "    </tr>\n",
       "    <tr>\n",
       "      <td>225</td>\n",
       "      <td>2020</td>\n",
       "      <td>10</td>\n",
       "      <td>19.67</td>\n",
       "      <td>19.61</td>\n",
       "      <td>NaN</td>\n",
       "    </tr>\n",
       "    <tr>\n",
       "      <td>226</td>\n",
       "      <td>2020</td>\n",
       "      <td>11</td>\n",
       "      <td>14.77</td>\n",
       "      <td>17.53</td>\n",
       "      <td>NaN</td>\n",
       "    </tr>\n",
       "    <tr>\n",
       "      <td>227</td>\n",
       "      <td>2020</td>\n",
       "      <td>12</td>\n",
       "      <td>13.46</td>\n",
       "      <td>14.13</td>\n",
       "      <td>NaN</td>\n",
       "    </tr>\n",
       "  </tbody>\n",
       "</table>\n",
       "<p>228 rows × 5 columns</p>\n",
       "</div>"
      ],
      "text/plain": [
       "     Year  Month  MinPast  Minpasttopast  MinTemperature\n",
       "0    2002      1    14.99          13.90           13.02\n",
       "1    2002      2    15.43          15.33           17.66\n",
       "2    2002      3    18.46          17.39           19.72\n",
       "3    2002      4    23.48          22.88           23.49\n",
       "4    2002      5    23.05          23.24           24.26\n",
       "..    ...    ...      ...            ...             ...\n",
       "223  2020      8    21.36          21.30             NaN\n",
       "224  2020      9    21.60          20.41             NaN\n",
       "225  2020     10    19.67          19.61             NaN\n",
       "226  2020     11    14.77          17.53             NaN\n",
       "227  2020     12    13.46          14.13             NaN\n",
       "\n",
       "[228 rows x 5 columns]"
      ]
     },
     "execution_count": 3,
     "metadata": {},
     "output_type": "execute_result"
    }
   ],
   "source": [
    "mintemp"
   ]
  },
  {
   "cell_type": "code",
   "execution_count": 4,
   "metadata": {},
   "outputs": [
    {
     "name": "stdout",
     "output_type": "stream",
     "text": [
      "<class 'pandas.core.frame.DataFrame'>\n",
      "RangeIndex: 228 entries, 0 to 227\n",
      "Data columns (total 5 columns):\n",
      "Year              228 non-null int64\n",
      "Month             228 non-null int64\n",
      "MinPast           228 non-null float64\n",
      "Minpasttopast     228 non-null float64\n",
      "MinTemperature    216 non-null float64\n",
      "dtypes: float64(3), int64(2)\n",
      "memory usage: 9.0 KB\n"
     ]
    }
   ],
   "source": [
    "mintemp.info()"
   ]
  },
  {
   "cell_type": "code",
   "execution_count": 5,
   "metadata": {},
   "outputs": [
    {
     "data": {
      "text/html": [
       "<div>\n",
       "<style scoped>\n",
       "    .dataframe tbody tr th:only-of-type {\n",
       "        vertical-align: middle;\n",
       "    }\n",
       "\n",
       "    .dataframe tbody tr th {\n",
       "        vertical-align: top;\n",
       "    }\n",
       "\n",
       "    .dataframe thead th {\n",
       "        text-align: right;\n",
       "    }\n",
       "</style>\n",
       "<table border=\"1\" class=\"dataframe\">\n",
       "  <thead>\n",
       "    <tr style=\"text-align: right;\">\n",
       "      <th></th>\n",
       "      <th>Year</th>\n",
       "      <th>Month</th>\n",
       "      <th>MinPast</th>\n",
       "      <th>Minpasttopast</th>\n",
       "      <th>MinTemperature</th>\n",
       "    </tr>\n",
       "  </thead>\n",
       "  <tbody>\n",
       "    <tr>\n",
       "      <td>Year</td>\n",
       "      <td>1.000000</td>\n",
       "      <td>0.000000</td>\n",
       "      <td>0.010485</td>\n",
       "      <td>0.031440</td>\n",
       "      <td>0.003306</td>\n",
       "    </tr>\n",
       "    <tr>\n",
       "      <td>Month</td>\n",
       "      <td>0.000000</td>\n",
       "      <td>1.000000</td>\n",
       "      <td>-0.084588</td>\n",
       "      <td>-0.083956</td>\n",
       "      <td>-0.083392</td>\n",
       "    </tr>\n",
       "    <tr>\n",
       "      <td>MinPast</td>\n",
       "      <td>0.010485</td>\n",
       "      <td>-0.084588</td>\n",
       "      <td>1.000000</td>\n",
       "      <td>0.937049</td>\n",
       "      <td>0.934358</td>\n",
       "    </tr>\n",
       "    <tr>\n",
       "      <td>Minpasttopast</td>\n",
       "      <td>0.031440</td>\n",
       "      <td>-0.083956</td>\n",
       "      <td>0.937049</td>\n",
       "      <td>1.000000</td>\n",
       "      <td>0.939025</td>\n",
       "    </tr>\n",
       "    <tr>\n",
       "      <td>MinTemperature</td>\n",
       "      <td>0.003306</td>\n",
       "      <td>-0.083392</td>\n",
       "      <td>0.934358</td>\n",
       "      <td>0.939025</td>\n",
       "      <td>1.000000</td>\n",
       "    </tr>\n",
       "  </tbody>\n",
       "</table>\n",
       "</div>"
      ],
      "text/plain": [
       "                    Year     Month   MinPast  Minpasttopast  MinTemperature\n",
       "Year            1.000000  0.000000  0.010485       0.031440        0.003306\n",
       "Month           0.000000  1.000000 -0.084588      -0.083956       -0.083392\n",
       "MinPast         0.010485 -0.084588  1.000000       0.937049        0.934358\n",
       "Minpasttopast   0.031440 -0.083956  0.937049       1.000000        0.939025\n",
       "MinTemperature  0.003306 -0.083392  0.934358       0.939025        1.000000"
      ]
     },
     "execution_count": 5,
     "metadata": {},
     "output_type": "execute_result"
    }
   ],
   "source": [
    "#Creating correlation for precipitation\n",
    "#Creating the correlation matrix for the features\n",
    "corr_matrix=mintemp.corr()\n",
    "corr_matrix"
   ]
  },
  {
   "cell_type": "code",
   "execution_count": 6,
   "metadata": {},
   "outputs": [],
   "source": [
    "mask = np.zeros_like(corr_matrix, dtype=np.bool)\n",
    "mask[np.triu_indices_from(mask)]= True"
   ]
  },
  {
   "cell_type": "code",
   "execution_count": 7,
   "metadata": {},
   "outputs": [
    {
     "data": {
      "image/png": "[encoded data removed]",
      "text/plain": [
       "<Figure size 360x288 with 2 Axes>"
      ]
     },
     "metadata": {
      "needs_background": "light"
     },
     "output_type": "display_data"
    }
   ],
   "source": [
    "f, ax = plt.subplots(figsize=(5, 4)) \n",
    "heatmap = sns.heatmap(corr_matrix, mask = mask,square = True,linewidths = .5, cmap = 'coolwarm', cbar_kws = {'shrink': .4, 'ticks' : [-1, -.5, 0, 0.5, 1]},vmin = -1, vmax = 1,annot = True,annot_kws = {'size': 12})\n",
    "#add the column names as labels\n",
    "ax.set_yticklabels(corr_matrix.columns, rotation = 0)\n",
    "ax.set_xticklabels(corr_matrix.columns)\n",
    "sns.set_style({'xtick.bottom': True}, {'ytick.left': True})"
   ]
  },
  {
   "cell_type": "code",
   "execution_count": 8,
   "metadata": {},
   "outputs": [],
   "source": [
    "mintemp=mintemp.drop(['Month'],axis=1)"
   ]
  },
  {
   "cell_type": "code",
   "execution_count": 9,
   "metadata": {},
   "outputs": [
    {
     "data": {
      "text/plain": [
       "(228, 4)"
      ]
     },
     "execution_count": 9,
     "metadata": {},
     "output_type": "execute_result"
    }
   ],
   "source": [
    "mintemp.shape"
   ]
  },
  {
   "cell_type": "code",
   "execution_count": 10,
   "metadata": {},
   "outputs": [],
   "source": [
    "mintemp1=mintemp.iloc[:216,:].values"
   ]
  },
  {
   "cell_type": "code",
   "execution_count": 11,
   "metadata": {},
   "outputs": [
    {
     "data": {
      "text/plain": [
       "array([[2002.  ,   14.99,   13.9 ,   13.02],\n",
       "       [2002.  ,   15.43,   15.33,   17.66],\n",
       "       [2002.  ,   18.46,   17.39,   19.72],\n",
       "       [2002.  ,   23.48,   22.88,   23.49],\n",
       "       [2002.  ,   23.05,   23.24,   24.26],\n",
       "       [2002.  ,   22.33,   22.42,   23.13],\n",
       "       [2002.  ,   21.67,   21.25,   21.96],\n",
       "       [2002.  ,   21.32,   21.09,   21.23],\n",
       "       [2002.  ,   21.19,   20.88,   20.69],\n",
       "       [2002.  ,   18.95,   19.65,   19.43],\n",
       "       [2002.  ,   15.73,   15.9 ,   16.08],\n",
       "       [2002.  ,   13.27,   12.53,   14.67],\n",
       "       [2003.  ,   13.02,   14.99,   15.98],\n",
       "       [2003.  ,   17.66,   15.43,   17.58],\n",
       "       [2003.  ,   19.72,   18.46,   20.01],\n",
       "       [2003.  ,   23.49,   23.48,   23.26],\n",
       "       [2003.  ,   24.26,   23.05,   22.81],\n",
       "       [2003.  ,   23.13,   22.33,   23.05],\n",
       "       [2003.  ,   21.96,   21.67,   22.4 ],\n",
       "       [2003.  ,   21.23,   21.32,   21.64],\n",
       "       [2003.  ,   20.69,   21.19,   20.99],\n",
       "       [2003.  ,   19.43,   18.95,   19.55],\n",
       "       [2003.  ,   16.08,   15.73,   17.16],\n",
       "       [2003.  ,   14.67,   13.27,   14.24],\n",
       "       [2004.  ,   15.98,   13.02,   14.43],\n",
       "       [2004.  ,   17.58,   17.66,   15.86],\n",
       "       [2004.  ,   20.01,   19.72,   20.33],\n",
       "       [2004.  ,   23.26,   23.49,   22.28],\n",
       "       [2004.  ,   22.81,   24.26,   23.22],\n",
       "       [2004.  ,   23.05,   23.13,   22.39],\n",
       "       [2004.  ,   22.4 ,   21.96,   21.8 ],\n",
       "       [2004.  ,   21.64,   21.23,   21.18],\n",
       "       [2004.  ,   20.99,   20.69,   20.94],\n",
       "       [2004.  ,   19.55,   19.43,   18.4 ],\n",
       "       [2004.  ,   17.16,   16.08,   16.17],\n",
       "       [2004.  ,   14.24,   14.67,   12.54],\n",
       "       [2005.  ,   14.43,   15.98,   14.35],\n",
       "       [2005.  ,   15.86,   17.58,   16.45],\n",
       "       [2005.  ,   20.33,   20.01,   18.88],\n",
       "       [2005.  ,   22.28,   23.26,   22.41],\n",
       "       [2005.  ,   23.22,   22.81,   23.09],\n",
       "       [2005.  ,   22.39,   23.05,   23.57],\n",
       "       [2005.  ,   21.8 ,   22.4 ,   22.45],\n",
       "       [2005.  ,   21.18,   21.64,   21.37],\n",
       "       [2005.  ,   20.94,   20.99,   21.39],\n",
       "       [2005.  ,   18.4 ,   19.55,   18.65],\n",
       "       [2005.  ,   16.17,   17.16,   13.04],\n",
       "       [2005.  ,   12.54,   14.24,   12.21],\n",
       "       [2006.  ,   14.35,   14.43,   12.3 ],\n",
       "       [2006.  ,   16.45,   15.86,   15.42],\n",
       "       [2006.  ,   18.88,   20.33,   19.37],\n",
       "       [2006.  ,   22.41,   22.28,   22.32],\n",
       "       [2006.  ,   23.09,   23.22,   23.88],\n",
       "       [2006.  ,   23.57,   22.39,   22.4 ],\n",
       "       [2006.  ,   22.45,   21.8 ,   21.7 ],\n",
       "       [2006.  ,   21.37,   21.18,   21.03],\n",
       "       [2006.  ,   21.39,   20.94,   21.33],\n",
       "       [2006.  ,   18.65,   18.4 ,   19.32],\n",
       "       [2006.  ,   13.04,   16.17,   16.98],\n",
       "       [2006.  ,   12.21,   12.54,   12.87],\n",
       "       [2007.  ,   12.3 ,   14.35,   13.28],\n",
       "       [2007.  ,   15.42,   16.45,   16.13],\n",
       "       [2007.  ,   19.37,   18.88,   19.86],\n",
       "       [2007.  ,   22.32,   22.41,   23.53],\n",
       "       [2007.  ,   23.88,   23.09,   23.66],\n",
       "       [2007.  ,   22.4 ,   23.57,   23.76],\n",
       "       [2007.  ,   21.7 ,   22.45,   22.29],\n",
       "       [2007.  ,   21.03,   21.37,   21.69],\n",
       "       [2007.  ,   21.33,   21.39,   21.4 ],\n",
       "       [2007.  ,   19.32,   18.65,   17.81],\n",
       "       [2007.  ,   16.98,   13.04,   14.9 ],\n",
       "       [2007.  ,   12.87,   12.21,   14.74],\n",
       "       [2008.  ,   13.28,   12.3 ,   12.95],\n",
       "       [2008.  ,   16.13,   15.42,   15.25],\n",
       "       [2008.  ,   19.86,   19.37,   20.3 ],\n",
       "       [2008.  ,   23.53,   22.32,   22.35],\n",
       "       [2008.  ,   23.66,   23.88,   22.42],\n",
       "       [2008.  ,   23.76,   22.4 ,   22.8 ],\n",
       "       [2008.  ,   22.29,   21.7 ,   22.33],\n",
       "       [2008.  ,   21.69,   21.03,   21.48],\n",
       "       [2008.  ,   21.4 ,   21.33,   20.6 ],\n",
       "       [2008.  ,   17.81,   19.32,   18.19],\n",
       "       [2008.  ,   14.9 ,   16.98,   16.34],\n",
       "       [2008.  ,   14.74,   12.87,   14.56],\n",
       "       [2009.  ,   12.95,   13.28,   14.68],\n",
       "       [2009.  ,   15.25,   16.13,   16.89],\n",
       "       [2009.  ,   20.3 ,   19.86,   20.35],\n",
       "       [2009.  ,   22.35,   23.53,   23.2 ],\n",
       "       [2009.  ,   22.42,   23.66,   23.62],\n",
       "       [2009.  ,   22.8 ,   23.76,   22.9 ],\n",
       "       [2009.  ,   22.33,   22.29,   22.28],\n",
       "       [2009.  ,   21.48,   21.69,   21.75],\n",
       "       [2009.  ,   20.6 ,   21.4 ,   21.53],\n",
       "       [2009.  ,   18.19,   17.81,   19.12],\n",
       "       [2009.  ,   16.34,   14.9 ,   16.77],\n",
       "       [2009.  ,   14.56,   14.74,   14.38],\n",
       "       [2010.  ,   14.68,   12.95,   14.06],\n",
       "       [2010.  ,   16.89,   15.25,   17.32],\n",
       "       [2010.  ,   20.35,   20.3 ,   21.57],\n",
       "       [2010.  ,   23.2 ,   22.35,   23.79],\n",
       "       [2010.  ,   23.62,   22.42,   24.97],\n",
       "       [2010.  ,   22.9 ,   22.8 ,   23.2 ],\n",
       "       [2010.  ,   22.28,   22.33,   22.14],\n",
       "       [2010.  ,   21.75,   21.48,   21.66],\n",
       "       [2010.  ,   21.53,   20.6 ,   21.37],\n",
       "       [2010.  ,   19.12,   18.19,   19.74],\n",
       "       [2010.  ,   16.77,   16.34,   19.43],\n",
       "       [2010.  ,   14.38,   14.56,   13.15],\n",
       "       [2011.  ,   14.06,   14.68,   12.3 ],\n",
       "       [2011.  ,   17.32,   16.89,   15.68],\n",
       "       [2011.  ,   21.57,   20.35,   19.78],\n",
       "       [2011.  ,   23.79,   23.2 ,   22.47],\n",
       "       [2011.  ,   24.97,   23.62,   23.48],\n",
       "       [2011.  ,   23.2 ,   22.9 ,   22.75],\n",
       "       [2011.  ,   22.14,   22.28,   22.  ],\n",
       "       [2011.  ,   21.66,   21.75,   21.58],\n",
       "       [2011.  ,   21.37,   21.53,   20.7 ],\n",
       "       [2011.  ,   19.74,   19.12,   19.91],\n",
       "       [2011.  ,   19.43,   16.77,   15.57],\n",
       "       [2011.  ,   13.15,   14.38,   13.5 ],\n",
       "       [2012.  ,   12.3 ,   14.06,   13.47],\n",
       "       [2012.  ,   15.68,   17.32,   16.44],\n",
       "       [2012.  ,   19.78,   21.57,   17.62],\n",
       "       [2012.  ,   22.47,   23.79,   23.42],\n",
       "       [2012.  ,   23.48,   24.97,   22.93],\n",
       "       [2012.  ,   22.75,   23.2 ,   22.9 ],\n",
       "       [2012.  ,   22.  ,   22.14,   22.19],\n",
       "       [2012.  ,   21.58,   21.66,   21.78],\n",
       "       [2012.  ,   20.7 ,   21.37,   21.06],\n",
       "       [2012.  ,   19.91,   19.74,   19.34],\n",
       "       [2012.  ,   15.57,   19.43,   17.09],\n",
       "       [2012.  ,   13.5 ,   13.15,   15.41],\n",
       "       [2013.  ,   13.47,   12.3 ,   15.25],\n",
       "       [2013.  ,   16.44,   15.68,   18.04],\n",
       "       [2013.  ,   17.62,   19.78,   20.41],\n",
       "       [2013.  ,   23.42,   22.47,   21.88],\n",
       "       [2013.  ,   22.93,   23.48,   24.21],\n",
       "       [2013.  ,   22.9 ,   22.75,   22.73],\n",
       "       [2013.  ,   22.19,   22.  ,   22.01],\n",
       "       [2013.  ,   21.78,   21.58,   21.06],\n",
       "       [2013.  ,   21.06,   20.7 ,   21.17],\n",
       "       [2013.  ,   19.34,   19.91,   20.11],\n",
       "       [2013.  ,   17.09,   15.57,   16.17],\n",
       "       [2013.  ,   15.41,   13.5 ,   12.86],\n",
       "       [2014.  ,   15.25,   13.47,   15.42],\n",
       "       [2014.  ,   18.04,   16.44,   15.79],\n",
       "       [2014.  ,   20.41,   17.62,   19.48],\n",
       "       [2014.  ,   21.88,   23.42,   23.55],\n",
       "       [2014.  ,   24.21,   22.93,   24.62],\n",
       "       [2014.  ,   22.73,   22.9 ,   23.96],\n",
       "       [2014.  ,   22.01,   22.19,   22.72],\n",
       "       [2014.  ,   21.06,   21.78,   21.76],\n",
       "       [2014.  ,   21.17,   21.06,   20.72],\n",
       "       [2014.  ,   20.11,   19.34,   19.24],\n",
       "       [2014.  ,   16.17,   17.09,   15.87],\n",
       "       [2014.  ,   12.86,   15.41,   12.94],\n",
       "       [2015.  ,   15.42,   15.25,   13.07],\n",
       "       [2015.  ,   15.79,   18.04,   15.68],\n",
       "       [2015.  ,   19.48,   20.41,   19.77],\n",
       "       [2015.  ,   23.55,   21.88,   22.12],\n",
       "       [2015.  ,   24.62,   24.21,   23.57],\n",
       "       [2015.  ,   23.96,   22.73,   22.87],\n",
       "       [2015.  ,   22.72,   22.01,   22.28],\n",
       "       [2015.  ,   21.76,   21.06,   22.03],\n",
       "       [2015.  ,   20.72,   21.17,   21.37],\n",
       "       [2015.  ,   19.24,   20.11,   20.73],\n",
       "       [2015.  ,   15.87,   16.17,   18.14],\n",
       "       [2015.  ,   12.94,   12.86,   16.08],\n",
       "       [2016.  ,   13.07,   15.42,   14.27],\n",
       "       [2016.  ,   15.68,   15.79,   17.8 ],\n",
       "       [2016.  ,   19.77,   19.48,   21.26],\n",
       "       [2016.  ,   22.12,   23.55,   23.56],\n",
       "       [2016.  ,   23.57,   24.62,   24.47],\n",
       "       [2016.  ,   22.87,   23.96,   23.13],\n",
       "       [2016.  ,   22.28,   22.72,   22.  ],\n",
       "       [2016.  ,   22.03,   21.76,   21.24],\n",
       "       [2016.  ,   21.37,   20.72,   20.63],\n",
       "       [2016.  ,   20.73,   19.24,   17.6 ],\n",
       "       [2016.  ,   18.14,   15.87,   12.98],\n",
       "       [2016.  ,   16.08,   12.94,   12.82],\n",
       "       [2017.  ,   14.27,   13.07,   13.43],\n",
       "       [2017.  ,   17.8 ,   15.68,   16.26],\n",
       "       [2017.  ,   21.26,   19.77,   18.75],\n",
       "       [2017.  ,   23.56,   22.12,   21.43],\n",
       "       [2017.  ,   24.47,   23.57,   24.39],\n",
       "       [2017.  ,   23.13,   22.87,   23.06],\n",
       "       [2017.  ,   22.  ,   22.28,   22.17],\n",
       "       [2017.  ,   21.24,   22.03,   21.36],\n",
       "       [2017.  ,   20.63,   21.37,   21.6 ],\n",
       "       [2017.  ,   17.6 ,   20.73,   19.67],\n",
       "       [2017.  ,   12.98,   18.14,   14.77],\n",
       "       [2017.  ,   12.82,   16.08,   13.46],\n",
       "       [2018.  ,   13.43,   14.27,   12.84],\n",
       "       [2018.  ,   16.26,   17.8 ,   16.68],\n",
       "       [2018.  ,   18.75,   21.26,   20.58],\n",
       "       [2018.  ,   21.43,   23.56,   23.02],\n",
       "       [2018.  ,   24.39,   24.47,   24.14],\n",
       "       [2018.  ,   23.06,   23.13,   23.1 ],\n",
       "       [2018.  ,   22.17,   22.  ,   21.98],\n",
       "       [2018.  ,   21.36,   21.24,   21.3 ],\n",
       "       [2018.  ,   21.6 ,   20.63,   20.41],\n",
       "       [2018.  ,   19.67,   17.6 ,   19.61],\n",
       "       [2018.  ,   14.77,   12.98,   17.53],\n",
       "       [2018.  ,   13.46,   12.82,   14.13],\n",
       "       [2019.  ,   12.84,   13.43,   13.43],\n",
       "       [2019.  ,   16.68,   16.26,   16.26],\n",
       "       [2019.  ,   20.58,   18.75,   18.75],\n",
       "       [2019.  ,   23.02,   21.43,   21.43],\n",
       "       [2019.  ,   24.14,   24.39,   24.39],\n",
       "       [2019.  ,   23.1 ,   23.06,   23.06],\n",
       "       [2019.  ,   21.98,   22.17,   22.17],\n",
       "       [2019.  ,   21.3 ,   21.36,   21.36],\n",
       "       [2019.  ,   20.41,   21.6 ,   21.6 ],\n",
       "       [2019.  ,   19.61,   19.67,   19.67],\n",
       "       [2019.  ,   17.53,   14.77,   14.77],\n",
       "       [2019.  ,   14.13,   13.46,   13.46]])"
      ]
     },
     "execution_count": 11,
     "metadata": {},
     "output_type": "execute_result"
    }
   ],
   "source": [
    "mintemp1"
   ]
  },
  {
   "cell_type": "code",
   "execution_count": 12,
   "metadata": {},
   "outputs": [],
   "source": [
    "X=mintemp1[:,:-1]\n",
    "y=mintemp1[:,-1]"
   ]
  },
  {
   "cell_type": "code",
   "execution_count": 13,
   "metadata": {},
   "outputs": [
    {
     "data": {
      "text/plain": [
       "array([[2002.  ,   14.99,   13.9 ],\n",
       "       [2002.  ,   15.43,   15.33],\n",
       "       [2002.  ,   18.46,   17.39],\n",
       "       [2002.  ,   23.48,   22.88],\n",
       "       [2002.  ,   23.05,   23.24],\n",
       "       [2002.  ,   22.33,   22.42],\n",
       "       [2002.  ,   21.67,   21.25],\n",
       "       [2002.  ,   21.32,   21.09],\n",
       "       [2002.  ,   21.19,   20.88],\n",
       "       [2002.  ,   18.95,   19.65],\n",
       "       [2002.  ,   15.73,   15.9 ],\n",
       "       [2002.  ,   13.27,   12.53],\n",
       "       [2003.  ,   13.02,   14.99],\n",
       "       [2003.  ,   17.66,   15.43],\n",
       "       [2003.  ,   19.72,   18.46],\n",
       "       [2003.  ,   23.49,   23.48],\n",
       "       [2003.  ,   24.26,   23.05],\n",
       "       [2003.  ,   23.13,   22.33],\n",
       "       [2003.  ,   21.96,   21.67],\n",
       "       [2003.  ,   21.23,   21.32],\n",
       "       [2003.  ,   20.69,   21.19],\n",
       "       [2003.  ,   19.43,   18.95],\n",
       "       [2003.  ,   16.08,   15.73],\n",
       "       [2003.  ,   14.67,   13.27],\n",
       "       [2004.  ,   15.98,   13.02],\n",
       "       [2004.  ,   17.58,   17.66],\n",
       "       [2004.  ,   20.01,   19.72],\n",
       "       [2004.  ,   23.26,   23.49],\n",
       "       [2004.  ,   22.81,   24.26],\n",
       "       [2004.  ,   23.05,   23.13],\n",
       "       [2004.  ,   22.4 ,   21.96],\n",
       "       [2004.  ,   21.64,   21.23],\n",
       "       [2004.  ,   20.99,   20.69],\n",
       "       [2004.  ,   19.55,   19.43],\n",
       "       [2004.  ,   17.16,   16.08],\n",
       "       [2004.  ,   14.24,   14.67],\n",
       "       [2005.  ,   14.43,   15.98],\n",
       "       [2005.  ,   15.86,   17.58],\n",
       "       [2005.  ,   20.33,   20.01],\n",
       "       [2005.  ,   22.28,   23.26],\n",
       "       [2005.  ,   23.22,   22.81],\n",
       "       [2005.  ,   22.39,   23.05],\n",
       "       [2005.  ,   21.8 ,   22.4 ],\n",
       "       [2005.  ,   21.18,   21.64],\n",
       "       [2005.  ,   20.94,   20.99],\n",
       "       [2005.  ,   18.4 ,   19.55],\n",
       "       [2005.  ,   16.17,   17.16],\n",
       "       [2005.  ,   12.54,   14.24],\n",
       "       [2006.  ,   14.35,   14.43],\n",
       "       [2006.  ,   16.45,   15.86],\n",
       "       [2006.  ,   18.88,   20.33],\n",
       "       [2006.  ,   22.41,   22.28],\n",
       "       [2006.  ,   23.09,   23.22],\n",
       "       [2006.  ,   23.57,   22.39],\n",
       "       [2006.  ,   22.45,   21.8 ],\n",
       "       [2006.  ,   21.37,   21.18],\n",
       "       [2006.  ,   21.39,   20.94],\n",
       "       [2006.  ,   18.65,   18.4 ],\n",
       "       [2006.  ,   13.04,   16.17],\n",
       "       [2006.  ,   12.21,   12.54],\n",
       "       [2007.  ,   12.3 ,   14.35],\n",
       "       [2007.  ,   15.42,   16.45],\n",
       "       [2007.  ,   19.37,   18.88],\n",
       "       [2007.  ,   22.32,   22.41],\n",
       "       [2007.  ,   23.88,   23.09],\n",
       "       [2007.  ,   22.4 ,   23.57],\n",
       "       [2007.  ,   21.7 ,   22.45],\n",
       "       [2007.  ,   21.03,   21.37],\n",
       "       [2007.  ,   21.33,   21.39],\n",
       "       [2007.  ,   19.32,   18.65],\n",
       "       [2007.  ,   16.98,   13.04],\n",
       "       [2007.  ,   12.87,   12.21],\n",
       "       [2008.  ,   13.28,   12.3 ],\n",
       "       [2008.  ,   16.13,   15.42],\n",
       "       [2008.  ,   19.86,   19.37],\n",
       "       [2008.  ,   23.53,   22.32],\n",
       "       [2008.  ,   23.66,   23.88],\n",
       "       [2008.  ,   23.76,   22.4 ],\n",
       "       [2008.  ,   22.29,   21.7 ],\n",
       "       [2008.  ,   21.69,   21.03],\n",
       "       [2008.  ,   21.4 ,   21.33],\n",
       "       [2008.  ,   17.81,   19.32],\n",
       "       [2008.  ,   14.9 ,   16.98],\n",
       "       [2008.  ,   14.74,   12.87],\n",
       "       [2009.  ,   12.95,   13.28],\n",
       "       [2009.  ,   15.25,   16.13],\n",
       "       [2009.  ,   20.3 ,   19.86],\n",
       "       [2009.  ,   22.35,   23.53],\n",
       "       [2009.  ,   22.42,   23.66],\n",
       "       [2009.  ,   22.8 ,   23.76],\n",
       "       [2009.  ,   22.33,   22.29],\n",
       "       [2009.  ,   21.48,   21.69],\n",
       "       [2009.  ,   20.6 ,   21.4 ],\n",
       "       [2009.  ,   18.19,   17.81],\n",
       "       [2009.  ,   16.34,   14.9 ],\n",
       "       [2009.  ,   14.56,   14.74],\n",
       "       [2010.  ,   14.68,   12.95],\n",
       "       [2010.  ,   16.89,   15.25],\n",
       "       [2010.  ,   20.35,   20.3 ],\n",
       "       [2010.  ,   23.2 ,   22.35],\n",
       "       [2010.  ,   23.62,   22.42],\n",
       "       [2010.  ,   22.9 ,   22.8 ],\n",
       "       [2010.  ,   22.28,   22.33],\n",
       "       [2010.  ,   21.75,   21.48],\n",
       "       [2010.  ,   21.53,   20.6 ],\n",
       "       [2010.  ,   19.12,   18.19],\n",
       "       [2010.  ,   16.77,   16.34],\n",
       "       [2010.  ,   14.38,   14.56],\n",
       "       [2011.  ,   14.06,   14.68],\n",
       "       [2011.  ,   17.32,   16.89],\n",
       "       [2011.  ,   21.57,   20.35],\n",
       "       [2011.  ,   23.79,   23.2 ],\n",
       "       [2011.  ,   24.97,   23.62],\n",
       "       [2011.  ,   23.2 ,   22.9 ],\n",
       "       [2011.  ,   22.14,   22.28],\n",
       "       [2011.  ,   21.66,   21.75],\n",
       "       [2011.  ,   21.37,   21.53],\n",
       "       [2011.  ,   19.74,   19.12],\n",
       "       [2011.  ,   19.43,   16.77],\n",
       "       [2011.  ,   13.15,   14.38],\n",
       "       [2012.  ,   12.3 ,   14.06],\n",
       "       [2012.  ,   15.68,   17.32],\n",
       "       [2012.  ,   19.78,   21.57],\n",
       "       [2012.  ,   22.47,   23.79],\n",
       "       [2012.  ,   23.48,   24.97],\n",
       "       [2012.  ,   22.75,   23.2 ],\n",
       "       [2012.  ,   22.  ,   22.14],\n",
       "       [2012.  ,   21.58,   21.66],\n",
       "       [2012.  ,   20.7 ,   21.37],\n",
       "       [2012.  ,   19.91,   19.74],\n",
       "       [2012.  ,   15.57,   19.43],\n",
       "       [2012.  ,   13.5 ,   13.15],\n",
       "       [2013.  ,   13.47,   12.3 ],\n",
       "       [2013.  ,   16.44,   15.68],\n",
       "       [2013.  ,   17.62,   19.78],\n",
       "       [2013.  ,   23.42,   22.47],\n",
       "       [2013.  ,   22.93,   23.48],\n",
       "       [2013.  ,   22.9 ,   22.75],\n",
       "       [2013.  ,   22.19,   22.  ],\n",
       "       [2013.  ,   21.78,   21.58],\n",
       "       [2013.  ,   21.06,   20.7 ],\n",
       "       [2013.  ,   19.34,   19.91],\n",
       "       [2013.  ,   17.09,   15.57],\n",
       "       [2013.  ,   15.41,   13.5 ],\n",
       "       [2014.  ,   15.25,   13.47],\n",
       "       [2014.  ,   18.04,   16.44],\n",
       "       [2014.  ,   20.41,   17.62],\n",
       "       [2014.  ,   21.88,   23.42],\n",
       "       [2014.  ,   24.21,   22.93],\n",
       "       [2014.  ,   22.73,   22.9 ],\n",
       "       [2014.  ,   22.01,   22.19],\n",
       "       [2014.  ,   21.06,   21.78],\n",
       "       [2014.  ,   21.17,   21.06],\n",
       "       [2014.  ,   20.11,   19.34],\n",
       "       [2014.  ,   16.17,   17.09],\n",
       "       [2014.  ,   12.86,   15.41],\n",
       "       [2015.  ,   15.42,   15.25],\n",
       "       [2015.  ,   15.79,   18.04],\n",
       "       [2015.  ,   19.48,   20.41],\n",
       "       [2015.  ,   23.55,   21.88],\n",
       "       [2015.  ,   24.62,   24.21],\n",
       "       [2015.  ,   23.96,   22.73],\n",
       "       [2015.  ,   22.72,   22.01],\n",
       "       [2015.  ,   21.76,   21.06],\n",
       "       [2015.  ,   20.72,   21.17],\n",
       "       [2015.  ,   19.24,   20.11],\n",
       "       [2015.  ,   15.87,   16.17],\n",
       "       [2015.  ,   12.94,   12.86],\n",
       "       [2016.  ,   13.07,   15.42],\n",
       "       [2016.  ,   15.68,   15.79],\n",
       "       [2016.  ,   19.77,   19.48],\n",
       "       [2016.  ,   22.12,   23.55],\n",
       "       [2016.  ,   23.57,   24.62],\n",
       "       [2016.  ,   22.87,   23.96],\n",
       "       [2016.  ,   22.28,   22.72],\n",
       "       [2016.  ,   22.03,   21.76],\n",
       "       [2016.  ,   21.37,   20.72],\n",
       "       [2016.  ,   20.73,   19.24],\n",
       "       [2016.  ,   18.14,   15.87],\n",
       "       [2016.  ,   16.08,   12.94],\n",
       "       [2017.  ,   14.27,   13.07],\n",
       "       [2017.  ,   17.8 ,   15.68],\n",
       "       [2017.  ,   21.26,   19.77],\n",
       "       [2017.  ,   23.56,   22.12],\n",
       "       [2017.  ,   24.47,   23.57],\n",
       "       [2017.  ,   23.13,   22.87],\n",
       "       [2017.  ,   22.  ,   22.28],\n",
       "       [2017.  ,   21.24,   22.03],\n",
       "       [2017.  ,   20.63,   21.37],\n",
       "       [2017.  ,   17.6 ,   20.73],\n",
       "       [2017.  ,   12.98,   18.14],\n",
       "       [2017.  ,   12.82,   16.08],\n",
       "       [2018.  ,   13.43,   14.27],\n",
       "       [2018.  ,   16.26,   17.8 ],\n",
       "       [2018.  ,   18.75,   21.26],\n",
       "       [2018.  ,   21.43,   23.56],\n",
       "       [2018.  ,   24.39,   24.47],\n",
       "       [2018.  ,   23.06,   23.13],\n",
       "       [2018.  ,   22.17,   22.  ],\n",
       "       [2018.  ,   21.36,   21.24],\n",
       "       [2018.  ,   21.6 ,   20.63],\n",
       "       [2018.  ,   19.67,   17.6 ],\n",
       "       [2018.  ,   14.77,   12.98],\n",
       "       [2018.  ,   13.46,   12.82],\n",
       "       [2019.  ,   12.84,   13.43],\n",
       "       [2019.  ,   16.68,   16.26],\n",
       "       [2019.  ,   20.58,   18.75],\n",
       "       [2019.  ,   23.02,   21.43],\n",
       "       [2019.  ,   24.14,   24.39],\n",
       "       [2019.  ,   23.1 ,   23.06],\n",
       "       [2019.  ,   21.98,   22.17],\n",
       "       [2019.  ,   21.3 ,   21.36],\n",
       "       [2019.  ,   20.41,   21.6 ],\n",
       "       [2019.  ,   19.61,   19.67],\n",
       "       [2019.  ,   17.53,   14.77],\n",
       "       [2019.  ,   14.13,   13.46]])"
      ]
     },
     "execution_count": 13,
     "metadata": {},
     "output_type": "execute_result"
    }
   ],
   "source": [
    "X"
   ]
  },
  {
   "cell_type": "code",
   "execution_count": 14,
   "metadata": {},
   "outputs": [
    {
     "data": {
      "text/plain": [
       "array([13.02, 17.66, 19.72, 23.49, 24.26, 23.13, 21.96, 21.23, 20.69,\n",
       "       19.43, 16.08, 14.67, 15.98, 17.58, 20.01, 23.26, 22.81, 23.05,\n",
       "       22.4 , 21.64, 20.99, 19.55, 17.16, 14.24, 14.43, 15.86, 20.33,\n",
       "       22.28, 23.22, 22.39, 21.8 , 21.18, 20.94, 18.4 , 16.17, 12.54,\n",
       "       14.35, 16.45, 18.88, 22.41, 23.09, 23.57, 22.45, 21.37, 21.39,\n",
       "       18.65, 13.04, 12.21, 12.3 , 15.42, 19.37, 22.32, 23.88, 22.4 ,\n",
       "       21.7 , 21.03, 21.33, 19.32, 16.98, 12.87, 13.28, 16.13, 19.86,\n",
       "       23.53, 23.66, 23.76, 22.29, 21.69, 21.4 , 17.81, 14.9 , 14.74,\n",
       "       12.95, 15.25, 20.3 , 22.35, 22.42, 22.8 , 22.33, 21.48, 20.6 ,\n",
       "       18.19, 16.34, 14.56, 14.68, 16.89, 20.35, 23.2 , 23.62, 22.9 ,\n",
       "       22.28, 21.75, 21.53, 19.12, 16.77, 14.38, 14.06, 17.32, 21.57,\n",
       "       23.79, 24.97, 23.2 , 22.14, 21.66, 21.37, 19.74, 19.43, 13.15,\n",
       "       12.3 , 15.68, 19.78, 22.47, 23.48, 22.75, 22.  , 21.58, 20.7 ,\n",
       "       19.91, 15.57, 13.5 , 13.47, 16.44, 17.62, 23.42, 22.93, 22.9 ,\n",
       "       22.19, 21.78, 21.06, 19.34, 17.09, 15.41, 15.25, 18.04, 20.41,\n",
       "       21.88, 24.21, 22.73, 22.01, 21.06, 21.17, 20.11, 16.17, 12.86,\n",
       "       15.42, 15.79, 19.48, 23.55, 24.62, 23.96, 22.72, 21.76, 20.72,\n",
       "       19.24, 15.87, 12.94, 13.07, 15.68, 19.77, 22.12, 23.57, 22.87,\n",
       "       22.28, 22.03, 21.37, 20.73, 18.14, 16.08, 14.27, 17.8 , 21.26,\n",
       "       23.56, 24.47, 23.13, 22.  , 21.24, 20.63, 17.6 , 12.98, 12.82,\n",
       "       13.43, 16.26, 18.75, 21.43, 24.39, 23.06, 22.17, 21.36, 21.6 ,\n",
       "       19.67, 14.77, 13.46, 12.84, 16.68, 20.58, 23.02, 24.14, 23.1 ,\n",
       "       21.98, 21.3 , 20.41, 19.61, 17.53, 14.13, 13.43, 16.26, 18.75,\n",
       "       21.43, 24.39, 23.06, 22.17, 21.36, 21.6 , 19.67, 14.77, 13.46])"
      ]
     },
     "execution_count": 14,
     "metadata": {},
     "output_type": "execute_result"
    }
   ],
   "source": [
    "y"
   ]
  },
  {
   "cell_type": "code",
   "execution_count": 15,
   "metadata": {},
   "outputs": [
    {
     "data": {
      "text/plain": [
       "(216, 3)"
      ]
     },
     "execution_count": 15,
     "metadata": {},
     "output_type": "execute_result"
    }
   ],
   "source": [
    "X.shape"
   ]
  },
  {
   "cell_type": "code",
   "execution_count": 16,
   "metadata": {},
   "outputs": [
    {
     "data": {
      "text/plain": [
       "(216,)"
      ]
     },
     "execution_count": 16,
     "metadata": {},
     "output_type": "execute_result"
    }
   ],
   "source": [
    "y.shape"
   ]
  },
  {
   "cell_type": "code",
   "execution_count": 17,
   "metadata": {},
   "outputs": [],
   "source": [
    "#train test split\n",
    "from sklearn.model_selection import train_test_split\n",
    "X_train,X_test,y_train,y_test=train_test_split(X,y,test_size=0.1,random_state=101)"
   ]
  },
  {
   "cell_type": "code",
   "execution_count": 18,
   "metadata": {},
   "outputs": [],
   "source": [
    "X_train,y_train=np.array(X_train),np.array(y_train)"
   ]
  },
  {
   "cell_type": "markdown",
   "metadata": {},
   "source": [
    "# Linear Regressor"
   ]
  },
  {
   "cell_type": "code",
   "execution_count": 19,
   "metadata": {},
   "outputs": [],
   "source": [
    "from sklearn.linear_model import LinearRegression,Lasso,Ridge"
   ]
  },
  {
   "cell_type": "code",
   "execution_count": 20,
   "metadata": {},
   "outputs": [],
   "source": [
    "li=LinearRegression()"
   ]
  },
  {
   "cell_type": "code",
   "execution_count": 21,
   "metadata": {},
   "outputs": [
    {
     "data": {
      "text/plain": [
       "LinearRegression(copy_X=True, fit_intercept=True, n_jobs=None, normalize=False)"
      ]
     },
     "execution_count": 21,
     "metadata": {},
     "output_type": "execute_result"
    }
   ],
   "source": [
    "li.fit(X_train,y_train)"
   ]
  },
  {
   "cell_type": "code",
   "execution_count": 22,
   "metadata": {},
   "outputs": [
    {
     "data": {
      "text/plain": [
       "array([14.44575227, 22.06974897, 19.41257304, 13.98005591, 17.18963477,\n",
       "       18.07674102, 19.63460849, 21.2684096 , 21.98230471, 20.91027975,\n",
       "       19.65040659, 21.43664627, 19.26532983, 16.69727447, 23.09078491,\n",
       "       16.14482693, 15.45222178, 23.31705026, 21.5475298 , 22.99481979,\n",
       "       14.06405465, 22.96396789])"
      ]
     },
     "execution_count": 22,
     "metadata": {},
     "output_type": "execute_result"
    }
   ],
   "source": [
    "Lir_ypred= li.predict(X_test)\n",
    "Lir_ypred"
   ]
  },
  {
   "cell_type": "code",
   "execution_count": 23,
   "metadata": {},
   "outputs": [
    {
     "data": {
      "text/html": [
       "<div>\n",
       "<style scoped>\n",
       "    .dataframe tbody tr th:only-of-type {\n",
       "        vertical-align: middle;\n",
       "    }\n",
       "\n",
       "    .dataframe tbody tr th {\n",
       "        vertical-align: top;\n",
       "    }\n",
       "\n",
       "    .dataframe thead th {\n",
       "        text-align: right;\n",
       "    }\n",
       "</style>\n",
       "<table border=\"1\" class=\"dataframe\">\n",
       "  <thead>\n",
       "    <tr style=\"text-align: right;\">\n",
       "      <th></th>\n",
       "      <th>Actual</th>\n",
       "      <th>Predicted</th>\n",
       "    </tr>\n",
       "  </thead>\n",
       "  <tbody>\n",
       "    <tr>\n",
       "      <td>0</td>\n",
       "      <td>12.94</td>\n",
       "      <td>14.445752</td>\n",
       "    </tr>\n",
       "    <tr>\n",
       "      <td>1</td>\n",
       "      <td>22.29</td>\n",
       "      <td>22.069749</td>\n",
       "    </tr>\n",
       "    <tr>\n",
       "      <td>2</td>\n",
       "      <td>19.91</td>\n",
       "      <td>19.412573</td>\n",
       "    </tr>\n",
       "    <tr>\n",
       "      <td>3</td>\n",
       "      <td>14.06</td>\n",
       "      <td>13.980056</td>\n",
       "    </tr>\n",
       "    <tr>\n",
       "      <td>4</td>\n",
       "      <td>15.68</td>\n",
       "      <td>17.189635</td>\n",
       "    </tr>\n",
       "    <tr>\n",
       "      <td>5</td>\n",
       "      <td>19.12</td>\n",
       "      <td>18.076741</td>\n",
       "    </tr>\n",
       "    <tr>\n",
       "      <td>6</td>\n",
       "      <td>20.30</td>\n",
       "      <td>19.634608</td>\n",
       "    </tr>\n",
       "    <tr>\n",
       "      <td>7</td>\n",
       "      <td>21.03</td>\n",
       "      <td>21.268410</td>\n",
       "    </tr>\n",
       "    <tr>\n",
       "      <td>8</td>\n",
       "      <td>22.17</td>\n",
       "      <td>21.982305</td>\n",
       "    </tr>\n",
       "    <tr>\n",
       "      <td>9</td>\n",
       "      <td>21.60</td>\n",
       "      <td>20.910280</td>\n",
       "    </tr>\n",
       "    <tr>\n",
       "      <td>10</td>\n",
       "      <td>19.24</td>\n",
       "      <td>19.650407</td>\n",
       "    </tr>\n",
       "    <tr>\n",
       "      <td>11</td>\n",
       "      <td>21.18</td>\n",
       "      <td>21.436646</td>\n",
       "    </tr>\n",
       "    <tr>\n",
       "      <td>12</td>\n",
       "      <td>19.67</td>\n",
       "      <td>19.265330</td>\n",
       "    </tr>\n",
       "    <tr>\n",
       "      <td>13</td>\n",
       "      <td>16.44</td>\n",
       "      <td>16.697274</td>\n",
       "    </tr>\n",
       "    <tr>\n",
       "      <td>14</td>\n",
       "      <td>22.87</td>\n",
       "      <td>23.090785</td>\n",
       "    </tr>\n",
       "    <tr>\n",
       "      <td>15</td>\n",
       "      <td>18.04</td>\n",
       "      <td>16.144827</td>\n",
       "    </tr>\n",
       "    <tr>\n",
       "      <td>16</td>\n",
       "      <td>13.07</td>\n",
       "      <td>15.452222</td>\n",
       "    </tr>\n",
       "    <tr>\n",
       "      <td>17</td>\n",
       "      <td>24.62</td>\n",
       "      <td>23.317050</td>\n",
       "    </tr>\n",
       "    <tr>\n",
       "      <td>18</td>\n",
       "      <td>21.75</td>\n",
       "      <td>21.547530</td>\n",
       "    </tr>\n",
       "    <tr>\n",
       "      <td>19</td>\n",
       "      <td>23.62</td>\n",
       "      <td>22.994820</td>\n",
       "    </tr>\n",
       "    <tr>\n",
       "      <td>20</td>\n",
       "      <td>13.50</td>\n",
       "      <td>14.064055</td>\n",
       "    </tr>\n",
       "    <tr>\n",
       "      <td>21</td>\n",
       "      <td>23.76</td>\n",
       "      <td>22.963968</td>\n",
       "    </tr>\n",
       "  </tbody>\n",
       "</table>\n",
       "</div>"
      ],
      "text/plain": [
       "    Actual  Predicted\n",
       "0    12.94  14.445752\n",
       "1    22.29  22.069749\n",
       "2    19.91  19.412573\n",
       "3    14.06  13.980056\n",
       "4    15.68  17.189635\n",
       "5    19.12  18.076741\n",
       "6    20.30  19.634608\n",
       "7    21.03  21.268410\n",
       "8    22.17  21.982305\n",
       "9    21.60  20.910280\n",
       "10   19.24  19.650407\n",
       "11   21.18  21.436646\n",
       "12   19.67  19.265330\n",
       "13   16.44  16.697274\n",
       "14   22.87  23.090785\n",
       "15   18.04  16.144827\n",
       "16   13.07  15.452222\n",
       "17   24.62  23.317050\n",
       "18   21.75  21.547530\n",
       "19   23.62  22.994820\n",
       "20   13.50  14.064055\n",
       "21   23.76  22.963968"
      ]
     },
     "execution_count": 23,
     "metadata": {},
     "output_type": "execute_result"
    }
   ],
   "source": [
    "Linear=pd.DataFrame({'Actual':y_test,'Predicted':Lir_ypred})\n",
    "Linear"
   ]
  },
  {
   "cell_type": "code",
   "execution_count": 24,
   "metadata": {},
   "outputs": [],
   "source": [
    "from sklearn.metrics import mean_squared_error,r2_score"
   ]
  },
  {
   "cell_type": "code",
   "execution_count": 25,
   "metadata": {},
   "outputs": [
    {
     "name": "stdout",
     "output_type": "stream",
     "text": [
      "Mean squared Error: 0.9003883558585197\n",
      "Root Mean Squared Error: 0.948887957484191\n",
      "R2_Score: 0.9290379137815299\n"
     ]
    }
   ],
   "source": [
    "#print('Mean Absolute Error:',mean_absolute_error(y_test,Lir_ypred))\n",
    "print('Mean squared Error:',mean_squared_error(y_test,Lir_ypred))\n",
    "print('Root Mean Squared Error:',np.sqrt(mean_squared_error(y_test,Lir_ypred)))\n",
    "print('R2_Score:',r2_score(y_test,Lir_ypred))"
   ]
  },
  {
   "cell_type": "code",
   "execution_count": 26,
   "metadata": {},
   "outputs": [
    {
     "data": {
      "text/plain": [
       "0.9290379137815299"
      ]
     },
     "execution_count": 26,
     "metadata": {},
     "output_type": "execute_result"
    }
   ],
   "source": [
    "linear_r2_score=r2_score(y_test,Lir_ypred)\n",
    "linear_r2_score"
   ]
  },
  {
   "cell_type": "markdown",
   "metadata": {},
   "source": [
    "# Lasso Regressor"
   ]
  },
  {
   "cell_type": "code",
   "execution_count": 27,
   "metadata": {},
   "outputs": [
    {
     "data": {
      "text/plain": [
       "Lasso(alpha=0.0001, copy_X=True, fit_intercept=True, max_iter=1000,\n",
       "      normalize=False, positive=False, precompute=False, random_state=None,\n",
       "      selection='cyclic', tol=0.0001, warm_start=False)"
      ]
     },
     "execution_count": 27,
     "metadata": {},
     "output_type": "execute_result"
    }
   ],
   "source": [
    "#Lasso Regressor\n",
    "lass=Lasso(alpha=0.0001)\n",
    "lass.fit(X_train,y_train)"
   ]
  },
  {
   "cell_type": "code",
   "execution_count": 28,
   "metadata": {},
   "outputs": [],
   "source": [
    "Lass_ypred= lass.predict(X_test)"
   ]
  },
  {
   "cell_type": "code",
   "execution_count": 29,
   "metadata": {},
   "outputs": [
    {
     "name": "stdout",
     "output_type": "stream",
     "text": [
      "Mean squared Error: 0.900349852339539\n",
      "Root Mean Squared Error: 0.9488676685078584\n",
      "R2_Score: 0.9290409483499089\n"
     ]
    }
   ],
   "source": [
    "print('Mean squared Error:',mean_squared_error(y_test,Lass_ypred))\n",
    "print('Root Mean Squared Error:',np.sqrt(mean_squared_error(y_test,Lass_ypred)))\n",
    "print('R2_Score:',r2_score(y_test,Lass_ypred))"
   ]
  },
  {
   "cell_type": "code",
   "execution_count": 30,
   "metadata": {},
   "outputs": [
    {
     "data": {
      "text/plain": [
       "0.9290409483499089"
      ]
     },
     "execution_count": 30,
     "metadata": {},
     "output_type": "execute_result"
    }
   ],
   "source": [
    "lasso_r2_score=r2_score(y_test,Lass_ypred)\n",
    "lasso_r2_score"
   ]
  },
  {
   "cell_type": "markdown",
   "metadata": {},
   "source": [
    "# Ridge Regressor"
   ]
  },
  {
   "cell_type": "code",
   "execution_count": 31,
   "metadata": {},
   "outputs": [
    {
     "data": {
      "text/plain": [
       "Ridge(alpha=0.0001, copy_X=True, fit_intercept=True, max_iter=None,\n",
       "      normalize=False, random_state=None, solver='auto', tol=0.001)"
      ]
     },
     "execution_count": 31,
     "metadata": {},
     "output_type": "execute_result"
    }
   ],
   "source": [
    "#RIdge\n",
    "rid=Ridge(alpha=0.0001)\n",
    "rid.fit(X_train,y_train)"
   ]
  },
  {
   "cell_type": "code",
   "execution_count": 32,
   "metadata": {},
   "outputs": [],
   "source": [
    "rid_ypred= rid.predict(X_test)"
   ]
  },
  {
   "cell_type": "code",
   "execution_count": 33,
   "metadata": {},
   "outputs": [
    {
     "name": "stdout",
     "output_type": "stream",
     "text": [
      "Mean squared Error: 0.9003883976537039\n",
      "Root Mean Squared Error: 0.9488879795074359\n",
      "R2_Score: 0.9290379104875363\n"
     ]
    }
   ],
   "source": [
    "print('Mean squared Error:',mean_squared_error(y_test,rid_ypred))\n",
    "print('Root Mean Squared Error:',np.sqrt(mean_squared_error(y_test,rid_ypred)))\n",
    "print('R2_Score:',r2_score(y_test,rid_ypred))"
   ]
  },
  {
   "cell_type": "code",
   "execution_count": 34,
   "metadata": {},
   "outputs": [
    {
     "data": {
      "text/plain": [
       "0.9290379104875363"
      ]
     },
     "execution_count": 34,
     "metadata": {},
     "output_type": "execute_result"
    }
   ],
   "source": [
    "ridge_r2_score=r2_score(y_test,rid_ypred)\n",
    "ridge_r2_score"
   ]
  },
  {
   "cell_type": "markdown",
   "metadata": {},
   "source": [
    "# Decision Tree"
   ]
  },
  {
   "cell_type": "code",
   "execution_count": 35,
   "metadata": {},
   "outputs": [],
   "source": [
    "#Decision Tree Regressor\n",
    "from sklearn.tree import DecisionTreeRegressor\n",
    "dt=DecisionTreeRegressor()"
   ]
  },
  {
   "cell_type": "code",
   "execution_count": 36,
   "metadata": {},
   "outputs": [
    {
     "data": {
      "text/plain": [
       "DecisionTreeRegressor(criterion='mse', max_depth=None, max_features=None,\n",
       "                      max_leaf_nodes=None, min_impurity_decrease=0.0,\n",
       "                      min_impurity_split=None, min_samples_leaf=1,\n",
       "                      min_samples_split=2, min_weight_fraction_leaf=0.0,\n",
       "                      presort=False, random_state=None, splitter='best')"
      ]
     },
     "execution_count": 36,
     "metadata": {},
     "output_type": "execute_result"
    }
   ],
   "source": [
    "dt.fit(X_train,y_train)"
   ]
  },
  {
   "cell_type": "code",
   "execution_count": 37,
   "metadata": {},
   "outputs": [],
   "source": [
    "dt_ypred= dt.predict(X_test)"
   ]
  },
  {
   "cell_type": "code",
   "execution_count": 38,
   "metadata": {},
   "outputs": [
    {
     "name": "stdout",
     "output_type": "stream",
     "text": [
      "Mean squared Error: 3.612036363636365\n",
      "Root Mean Squared Error: 1.9005358096169525\n",
      "R2_Score: 0.7153254657361551\n"
     ]
    }
   ],
   "source": [
    "print('Mean squared Error:',mean_squared_error(y_test,dt_ypred))\n",
    "print('Root Mean Squared Error:',np.sqrt(mean_squared_error(y_test,dt_ypred)))\n",
    "print('R2_Score:',r2_score(y_test,dt_ypred))"
   ]
  },
  {
   "cell_type": "code",
   "execution_count": 39,
   "metadata": {},
   "outputs": [
    {
     "data": {
      "text/plain": [
       "0.7153254657361551"
      ]
     },
     "execution_count": 39,
     "metadata": {},
     "output_type": "execute_result"
    }
   ],
   "source": [
    "decisiontree_r2_score=r2_score(y_test,dt_ypred)\n",
    "decisiontree_r2_score"
   ]
  },
  {
   "cell_type": "markdown",
   "metadata": {},
   "source": [
    "# KNN Regressor"
   ]
  },
  {
   "cell_type": "code",
   "execution_count": 40,
   "metadata": {},
   "outputs": [
    {
     "data": {
      "text/plain": [
       "KNeighborsRegressor(algorithm='auto', leaf_size=30, metric='minkowski',\n",
       "                    metric_params=None, n_jobs=None, n_neighbors=10, p=2,\n",
       "                    weights='uniform')"
      ]
     },
     "execution_count": 40,
     "metadata": {},
     "output_type": "execute_result"
    }
   ],
   "source": [
    "from sklearn.neighbors import KNeighborsRegressor\n",
    "\n",
    "kn=KNeighborsRegressor(n_neighbors=10)\n",
    "kn.fit(X_train,y_train)"
   ]
  },
  {
   "cell_type": "code",
   "execution_count": 41,
   "metadata": {},
   "outputs": [],
   "source": [
    "kn1_pred=kn.predict(X_test)"
   ]
  },
  {
   "cell_type": "code",
   "execution_count": 42,
   "metadata": {},
   "outputs": [
    {
     "name": "stdout",
     "output_type": "stream",
     "text": [
      "Mean squared Error: 0.8847837272727282\n",
      "Root Mean Squared Error: 0.9406294314302143\n",
      "R2_Score: 0.9302677575394006\n"
     ]
    }
   ],
   "source": [
    "print('Mean squared Error:',mean_squared_error(y_test,kn1_pred))\n",
    "print('Root Mean Squared Error:',np.sqrt(mean_squared_error(y_test,kn1_pred)))\n",
    "print('R2_Score:',r2_score(y_test,kn1_pred))"
   ]
  },
  {
   "cell_type": "code",
   "execution_count": 43,
   "metadata": {},
   "outputs": [
    {
     "data": {
      "text/plain": [
       "0.9302677575394006"
      ]
     },
     "execution_count": 43,
     "metadata": {},
     "output_type": "execute_result"
    }
   ],
   "source": [
    "kneighbour_r2_score=r2_score(y_test,kn1_pred)\n",
    "kneighbour_r2_score"
   ]
  },
  {
   "cell_type": "markdown",
   "metadata": {},
   "source": [
    "# SVR rbf"
   ]
  },
  {
   "cell_type": "code",
   "execution_count": 44,
   "metadata": {},
   "outputs": [
    {
     "name": "stderr",
     "output_type": "stream",
     "text": [
      "C:\\ProgramData\\Anaconda3\\lib\\site-packages\\sklearn\\svm\\base.py:193: FutureWarning: The default value of gamma will change from 'auto' to 'scale' in version 0.22 to account better for unscaled features. Set gamma explicitly to 'auto' or 'scale' to avoid this warning.\n",
      "  \"avoid this warning.\", FutureWarning)\n"
     ]
    }
   ],
   "source": [
    "from sklearn.svm import SVR\n",
    "svr=SVR(kernel='rbf')\n",
    "svr.fit(X_train,y_train)\n",
    "svr_pred=svr.predict(X_test)"
   ]
  },
  {
   "cell_type": "code",
   "execution_count": 45,
   "metadata": {},
   "outputs": [
    {
     "name": "stdout",
     "output_type": "stream",
     "text": [
      "Mean squared Error: 4.657026843564693\n",
      "Root Mean Squared Error: 2.158014560554375\n",
      "R2_Score: 0.6329668878495629\n"
     ]
    }
   ],
   "source": [
    "print('Mean squared Error:',mean_squared_error(y_test,svr_pred))\n",
    "print('Root Mean Squared Error:',np.sqrt(mean_squared_error(y_test,svr_pred)))\n",
    "print('R2_Score:',r2_score(y_test,svr_pred))"
   ]
  },
  {
   "cell_type": "code",
   "execution_count": 46,
   "metadata": {},
   "outputs": [
    {
     "data": {
      "text/plain": [
       "0.6329668878495629"
      ]
     },
     "execution_count": 46,
     "metadata": {},
     "output_type": "execute_result"
    }
   ],
   "source": [
    "svr_r2_score=r2_score(y_test,svr_pred)\n",
    "svr_r2_score"
   ]
  },
  {
   "cell_type": "markdown",
   "metadata": {},
   "source": [
    "# Random Forest"
   ]
  },
  {
   "cell_type": "code",
   "execution_count": 47,
   "metadata": {},
   "outputs": [],
   "source": [
    "from sklearn.ensemble import RandomForestRegressor"
   ]
  },
  {
   "cell_type": "code",
   "execution_count": 48,
   "metadata": {},
   "outputs": [],
   "source": [
    "rf = RandomForestRegressor(n_estimators = 1000, random_state = 42)\n",
    "rf.fit(X_train, y_train);"
   ]
  },
  {
   "cell_type": "code",
   "execution_count": 49,
   "metadata": {},
   "outputs": [],
   "source": [
    "rf_pred=rf.predict(X_test)"
   ]
  },
  {
   "cell_type": "code",
   "execution_count": 50,
   "metadata": {},
   "outputs": [
    {
     "name": "stdout",
     "output_type": "stream",
     "text": [
      "Mean squared Error: 1.7166719283135798\n",
      "Root Mean Squared Error: 1.3102182750647235\n",
      "R2_Score: 0.8647043571885582\n"
     ]
    }
   ],
   "source": [
    "print('Mean squared Error:',mean_squared_error(y_test,rf_pred))\n",
    "print('Root Mean Squared Error:',np.sqrt(mean_squared_error(y_test,rf_pred)))\n",
    "print('R2_Score:',r2_score(y_test,rf_pred))"
   ]
  },
  {
   "cell_type": "code",
   "execution_count": 51,
   "metadata": {},
   "outputs": [
    {
     "data": {
      "text/plain": [
       "0.8647043571885582"
      ]
     },
     "execution_count": 51,
     "metadata": {},
     "output_type": "execute_result"
    }
   ],
   "source": [
    "randomforest_r2_score=r2_score(y_test,rf_pred)\n",
    "randomforest_r2_score"
   ]
  },
  {
   "cell_type": "markdown",
   "metadata": {},
   "source": [
    "# Bayes Regressor"
   ]
  },
  {
   "cell_type": "code",
   "execution_count": 52,
   "metadata": {},
   "outputs": [
    {
     "data": {
      "text/plain": [
       "BayesianRidge(alpha_1=1e-06, alpha_2=1e-06, compute_score=False, copy_X=True,\n",
       "              fit_intercept=True, lambda_1=1e-06, lambda_2=1e-06, n_iter=300,\n",
       "              normalize=False, tol=0.001, verbose=False)"
      ]
     },
     "execution_count": 52,
     "metadata": {},
     "output_type": "execute_result"
    }
   ],
   "source": [
    "from sklearn.linear_model import BayesianRidge\n",
    "br=BayesianRidge()\n",
    "br.fit(X_train,y_train)"
   ]
  },
  {
   "cell_type": "code",
   "execution_count": 53,
   "metadata": {},
   "outputs": [],
   "source": [
    "br_pred=br.predict(X_test)"
   ]
  },
  {
   "cell_type": "code",
   "execution_count": 54,
   "metadata": {},
   "outputs": [
    {
     "name": "stdout",
     "output_type": "stream",
     "text": [
      "Mean squared Error: 0.9036571500003827\n",
      "Root Mean Squared Error: 0.9506088312236441\n",
      "R2_Score: 0.9287802911121383\n"
     ]
    }
   ],
   "source": [
    "print('Mean squared Error:',mean_squared_error(y_test,br_pred))\n",
    "print('Root Mean Squared Error:',np.sqrt(mean_squared_error(y_test,br_pred)))\n",
    "print('R2_Score:',r2_score(y_test,br_pred))"
   ]
  },
  {
   "cell_type": "code",
   "execution_count": 55,
   "metadata": {},
   "outputs": [
    {
     "data": {
      "text/plain": [
       "0.9287802911121383"
      ]
     },
     "execution_count": 55,
     "metadata": {},
     "output_type": "execute_result"
    }
   ],
   "source": [
    "bayes_r2_score=r2_score(y_test,br_pred)\n",
    "bayes_r2_score"
   ]
  },
  {
   "cell_type": "code",
   "execution_count": 56,
   "metadata": {},
   "outputs": [],
   "source": [
    "Regressors=['Linear','Lasso','Ridge','DecisionTree','KNeighbour','SVR','RandomForest','Bayesian']\n",
    "R2_Score=[linear_r2_score,lasso_r2_score,ridge_r2_score,decisiontree_r2_score,kneighbour_r2_score,svr_r2_score,randomforest_r2_score,bayes_r2_score]"
   ]
  },
  {
   "cell_type": "code",
   "execution_count": 57,
   "metadata": {},
   "outputs": [
    {
     "name": "stderr",
     "output_type": "stream",
     "text": [
      "No handles with labels found to put in legend.\n"
     ]
    },
    {
     "data": {
      "image/png": "[encoded data removed]",
      "text/plain": [
       "<Figure size 1080x288 with 1 Axes>"
      ]
     },
     "metadata": {
      "needs_background": "light"
     },
     "output_type": "display_data"
    }
   ],
   "source": [
    "plt.figure(figsize=(15,4))\n",
    "plt.plot(Regressors,R2_Score, color = 'Red')\n",
    "\n",
    "plt.title('Comparision between different Regressors',fontsize=15)\n",
    "plt.xlabel('Regressors',fontsize=15)\n",
    "plt.ylabel('Accuracy Values',fontsize=15)\n",
    "plt.legend()\n",
    "plt.show()\n"
   ]
  },
  {
   "cell_type": "markdown",
   "metadata": {},
   "source": [
    "# KNN with neighbour=10 is best for mintemperature prediction with accuracy of 93% followed by Lasso with 92.04% "
   ]
  },
  {
   "cell_type": "code",
   "execution_count": 58,
   "metadata": {},
   "outputs": [],
   "source": [
    "mintemp2020=pd.read_csv(\"C:/Users/Abhishek Wagh/Desktop/MTech_Project/Sugarcane/Phase1/csv/MinTemperature/mintemp2020pred.csv\")"
   ]
  },
  {
   "cell_type": "code",
   "execution_count": 59,
   "metadata": {},
   "outputs": [],
   "source": [
    "mintemp2020.drop(['MinTemperature','Month'],axis=1,inplace=True)"
   ]
  },
  {
   "cell_type": "code",
   "execution_count": 60,
   "metadata": {},
   "outputs": [],
   "source": [
    "mintemp2020=mintemp2020.iloc[:,:].values"
   ]
  },
  {
   "cell_type": "code",
   "execution_count": 61,
   "metadata": {},
   "outputs": [
    {
     "data": {
      "text/plain": [
       "array([[2020.  ,   13.43,   12.84],\n",
       "       [2020.  ,   16.26,   16.68],\n",
       "       [2020.  ,   18.75,   20.58],\n",
       "       [2020.  ,   21.43,   23.02],\n",
       "       [2020.  ,   24.39,   24.14],\n",
       "       [2020.  ,   23.06,   23.1 ],\n",
       "       [2020.  ,   22.17,   21.98],\n",
       "       [2020.  ,   21.36,   21.3 ],\n",
       "       [2020.  ,   21.6 ,   20.41],\n",
       "       [2020.  ,   19.67,   19.61],\n",
       "       [2020.  ,   14.77,   17.53],\n",
       "       [2020.  ,   13.46,   14.13]])"
      ]
     },
     "execution_count": 61,
     "metadata": {},
     "output_type": "execute_result"
    }
   ],
   "source": [
    "mintemp2020"
   ]
  },
  {
   "cell_type": "code",
   "execution_count": 62,
   "metadata": {},
   "outputs": [],
   "source": [
    "mintemp2020_pred=[]"
   ]
  },
  {
   "cell_type": "code",
   "execution_count": 63,
   "metadata": {},
   "outputs": [],
   "source": [
    "mintemp2020_pred=kn.predict(mintemp2020)"
   ]
  },
  {
   "cell_type": "code",
   "execution_count": 64,
   "metadata": {},
   "outputs": [
    {
     "data": {
      "text/plain": [
       "array([14.014, 15.819, 20.42 , 21.943, 23.074, 22.771, 21.943, 21.173,\n",
       "       20.742, 20.42 , 14.973, 14.358])"
      ]
     },
     "execution_count": 64,
     "metadata": {},
     "output_type": "execute_result"
    }
   ],
   "source": [
    "mintemp2020_pred"
   ]
  },
  {
   "cell_type": "code",
   "execution_count": 65,
   "metadata": {},
   "outputs": [
    {
     "data": {
      "text/html": [
       "<div>\n",
       "<style scoped>\n",
       "    .dataframe tbody tr th:only-of-type {\n",
       "        vertical-align: middle;\n",
       "    }\n",
       "\n",
       "    .dataframe tbody tr th {\n",
       "        vertical-align: top;\n",
       "    }\n",
       "\n",
       "    .dataframe thead th {\n",
       "        text-align: right;\n",
       "    }\n",
       "</style>\n",
       "<table border=\"1\" class=\"dataframe\">\n",
       "  <thead>\n",
       "    <tr style=\"text-align: right;\">\n",
       "      <th></th>\n",
       "      <th>0</th>\n",
       "    </tr>\n",
       "  </thead>\n",
       "  <tbody>\n",
       "    <tr>\n",
       "      <td>0</td>\n",
       "      <td>14.014</td>\n",
       "    </tr>\n",
       "    <tr>\n",
       "      <td>1</td>\n",
       "      <td>15.819</td>\n",
       "    </tr>\n",
       "    <tr>\n",
       "      <td>2</td>\n",
       "      <td>20.420</td>\n",
       "    </tr>\n",
       "    <tr>\n",
       "      <td>3</td>\n",
       "      <td>21.943</td>\n",
       "    </tr>\n",
       "    <tr>\n",
       "      <td>4</td>\n",
       "      <td>23.074</td>\n",
       "    </tr>\n",
       "    <tr>\n",
       "      <td>5</td>\n",
       "      <td>22.771</td>\n",
       "    </tr>\n",
       "    <tr>\n",
       "      <td>6</td>\n",
       "      <td>21.943</td>\n",
       "    </tr>\n",
       "    <tr>\n",
       "      <td>7</td>\n",
       "      <td>21.173</td>\n",
       "    </tr>\n",
       "    <tr>\n",
       "      <td>8</td>\n",
       "      <td>20.742</td>\n",
       "    </tr>\n",
       "    <tr>\n",
       "      <td>9</td>\n",
       "      <td>20.420</td>\n",
       "    </tr>\n",
       "    <tr>\n",
       "      <td>10</td>\n",
       "      <td>14.973</td>\n",
       "    </tr>\n",
       "    <tr>\n",
       "      <td>11</td>\n",
       "      <td>14.358</td>\n",
       "    </tr>\n",
       "  </tbody>\n",
       "</table>\n",
       "</div>"
      ],
      "text/plain": [
       "         0\n",
       "0   14.014\n",
       "1   15.819\n",
       "2   20.420\n",
       "3   21.943\n",
       "4   23.074\n",
       "5   22.771\n",
       "6   21.943\n",
       "7   21.173\n",
       "8   20.742\n",
       "9   20.420\n",
       "10  14.973\n",
       "11  14.358"
      ]
     },
     "execution_count": 65,
     "metadata": {},
     "output_type": "execute_result"
    }
   ],
   "source": [
    "mintemp_data=pd.DataFrame(data=mintemp2020_pred)\n",
    "mintemp_data"
   ]
  },
  {
   "cell_type": "code",
   "execution_count": 66,
   "metadata": {},
   "outputs": [],
   "source": [
    "mintemp_data.to_csv(r\"C:\\Users\\Abhishek Wagh\\Desktop\\MTech_Project\\Sugarcane\\Phase1\\csv\\MinTemperature\\2020mintemp.csv\")"
   ]
  },
  {
   "cell_type": "code",
   "execution_count": null,
   "metadata": {},
   "outputs": [],
   "source": []
  }
 ],
 "metadata": {
  "kernelspec": {
   "display_name": "Python 3",
   "language": "python",
   "name": "python3"
  },
  "language_info": {
   "codemirror_mode": {
    "name": "ipython",
    "version": 3
   },
   "file_extension": ".py",
   "mimetype": "text/x-python",
   "name": "python",
   "nbconvert_exporter": "python",
   "pygments_lexer": "ipython3",
   "version": "3.7.4"
  }
 },
 "nbformat": 4,
 "nbformat_minor": 2
}
